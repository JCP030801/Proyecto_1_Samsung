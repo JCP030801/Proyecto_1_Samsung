{
 "cells": [
  {
   "cell_type": "code",
   "execution_count": 41,
   "metadata": {},
   "outputs": [
    {
     "data": {
      "text/html": [
       "        <script type=\"text/javascript\">\n",
       "        window.PlotlyConfig = {MathJaxConfig: 'local'};\n",
       "        if (window.MathJax && window.MathJax.Hub && window.MathJax.Hub.Config) {window.MathJax.Hub.Config({SVG: {font: \"STIX-Web\"}});}\n",
       "        if (typeof require !== 'undefined') {\n",
       "        require.undef(\"plotly\");\n",
       "        requirejs.config({\n",
       "            paths: {\n",
       "                'plotly': ['https://cdn.plot.ly/plotly-2.30.0.min']\n",
       "            }\n",
       "        });\n",
       "        require(['plotly'], function(Plotly) {\n",
       "            window._Plotly = Plotly;\n",
       "        });\n",
       "        }\n",
       "        </script>\n",
       "        "
      ]
     },
     "metadata": {},
     "output_type": "display_data"
    }
   ],
   "source": [
    "import numpy as np\n",
    "import pandas as pd\n",
    "import matplotlib.pyplot as plt\n",
    "import plotly.offline as py\n",
    "py.init_notebook_mode(connected=True)\n",
    "import plotly.graph_objs as go\n",
    "import plotly.tools as tls\n",
    "import seaborn as sns\n",
    "import time\n",
    "import warnings\n",
    "warnings.filterwarnings('ignore')"
   ]
  },
  {
   "cell_type": "code",
   "execution_count": 42,
   "metadata": {},
   "outputs": [
    {
     "data": {
      "text/html": [
       "<div>\n",
       "<style scoped>\n",
       "    .dataframe tbody tr th:only-of-type {\n",
       "        vertical-align: middle;\n",
       "    }\n",
       "\n",
       "    .dataframe tbody tr th {\n",
       "        vertical-align: top;\n",
       "    }\n",
       "\n",
       "    .dataframe thead th {\n",
       "        text-align: right;\n",
       "    }\n",
       "</style>\n",
       "<table border=\"1\" class=\"dataframe\">\n",
       "  <thead>\n",
       "    <tr style=\"text-align: right;\">\n",
       "      <th></th>\n",
       "      <th>dt</th>\n",
       "      <th>LandAverageTemperature</th>\n",
       "      <th>LandAverageTemperatureUncertainty</th>\n",
       "      <th>LandMaxTemperature</th>\n",
       "      <th>LandMaxTemperatureUncertainty</th>\n",
       "      <th>LandMinTemperature</th>\n",
       "      <th>LandMinTemperatureUncertainty</th>\n",
       "      <th>LandAndOceanAverageTemperature</th>\n",
       "      <th>LandAndOceanAverageTemperatureUncertainty</th>\n",
       "    </tr>\n",
       "  </thead>\n",
       "  <tbody>\n",
       "    <tr>\n",
       "      <th>0</th>\n",
       "      <td>1750-01-01</td>\n",
       "      <td>3.034</td>\n",
       "      <td>3.574</td>\n",
       "      <td>NaN</td>\n",
       "      <td>NaN</td>\n",
       "      <td>NaN</td>\n",
       "      <td>NaN</td>\n",
       "      <td>NaN</td>\n",
       "      <td>NaN</td>\n",
       "    </tr>\n",
       "    <tr>\n",
       "      <th>1</th>\n",
       "      <td>1750-02-01</td>\n",
       "      <td>3.083</td>\n",
       "      <td>3.702</td>\n",
       "      <td>NaN</td>\n",
       "      <td>NaN</td>\n",
       "      <td>NaN</td>\n",
       "      <td>NaN</td>\n",
       "      <td>NaN</td>\n",
       "      <td>NaN</td>\n",
       "    </tr>\n",
       "    <tr>\n",
       "      <th>2</th>\n",
       "      <td>1750-03-01</td>\n",
       "      <td>5.626</td>\n",
       "      <td>3.076</td>\n",
       "      <td>NaN</td>\n",
       "      <td>NaN</td>\n",
       "      <td>NaN</td>\n",
       "      <td>NaN</td>\n",
       "      <td>NaN</td>\n",
       "      <td>NaN</td>\n",
       "    </tr>\n",
       "    <tr>\n",
       "      <th>3</th>\n",
       "      <td>1750-04-01</td>\n",
       "      <td>8.490</td>\n",
       "      <td>2.451</td>\n",
       "      <td>NaN</td>\n",
       "      <td>NaN</td>\n",
       "      <td>NaN</td>\n",
       "      <td>NaN</td>\n",
       "      <td>NaN</td>\n",
       "      <td>NaN</td>\n",
       "    </tr>\n",
       "    <tr>\n",
       "      <th>4</th>\n",
       "      <td>1750-05-01</td>\n",
       "      <td>11.573</td>\n",
       "      <td>2.072</td>\n",
       "      <td>NaN</td>\n",
       "      <td>NaN</td>\n",
       "      <td>NaN</td>\n",
       "      <td>NaN</td>\n",
       "      <td>NaN</td>\n",
       "      <td>NaN</td>\n",
       "    </tr>\n",
       "  </tbody>\n",
       "</table>\n",
       "</div>"
      ],
      "text/plain": [
       "           dt  LandAverageTemperature  LandAverageTemperatureUncertainty  \\\n",
       "0  1750-01-01                   3.034                              3.574   \n",
       "1  1750-02-01                   3.083                              3.702   \n",
       "2  1750-03-01                   5.626                              3.076   \n",
       "3  1750-04-01                   8.490                              2.451   \n",
       "4  1750-05-01                  11.573                              2.072   \n",
       "\n",
       "   LandMaxTemperature  LandMaxTemperatureUncertainty  LandMinTemperature  \\\n",
       "0                 NaN                            NaN                 NaN   \n",
       "1                 NaN                            NaN                 NaN   \n",
       "2                 NaN                            NaN                 NaN   \n",
       "3                 NaN                            NaN                 NaN   \n",
       "4                 NaN                            NaN                 NaN   \n",
       "\n",
       "   LandMinTemperatureUncertainty  LandAndOceanAverageTemperature  \\\n",
       "0                            NaN                             NaN   \n",
       "1                            NaN                             NaN   \n",
       "2                            NaN                             NaN   \n",
       "3                            NaN                             NaN   \n",
       "4                            NaN                             NaN   \n",
       "\n",
       "   LandAndOceanAverageTemperatureUncertainty  \n",
       "0                                        NaN  \n",
       "1                                        NaN  \n",
       "2                                        NaN  \n",
       "3                                        NaN  \n",
       "4                                        NaN  "
      ]
     },
     "execution_count": 42,
     "metadata": {},
     "output_type": "execute_result"
    }
   ],
   "source": [
    "# Creamos un DataFrame de un archivo csv\n",
    "global_temp = pd.read_csv('GlobalTemperatures.csv')\n",
    "\n",
    "#Mostramos los primeros 5 elementos del DataFrame para ver que contiene el archivo\n",
    "global_temp.head()"
   ]
  },
  {
   "cell_type": "code",
   "execution_count": 43,
   "metadata": {},
   "outputs": [
    {
     "data": {
      "text/html": [
       "<div>\n",
       "<style scoped>\n",
       "    .dataframe tbody tr th:only-of-type {\n",
       "        vertical-align: middle;\n",
       "    }\n",
       "\n",
       "    .dataframe tbody tr th {\n",
       "        vertical-align: top;\n",
       "    }\n",
       "\n",
       "    .dataframe thead th {\n",
       "        text-align: right;\n",
       "    }\n",
       "</style>\n",
       "<table border=\"1\" class=\"dataframe\">\n",
       "  <thead>\n",
       "    <tr style=\"text-align: right;\">\n",
       "      <th></th>\n",
       "      <th>LandAverageTemperature</th>\n",
       "      <th>LandAverageTemperatureUncertainty</th>\n",
       "      <th>LandMaxTemperature</th>\n",
       "      <th>LandMaxTemperatureUncertainty</th>\n",
       "      <th>LandMinTemperature</th>\n",
       "      <th>LandMinTemperatureUncertainty</th>\n",
       "      <th>LandAndOceanAverageTemperature</th>\n",
       "      <th>LandAndOceanAverageTemperatureUncertainty</th>\n",
       "    </tr>\n",
       "  </thead>\n",
       "  <tbody>\n",
       "    <tr>\n",
       "      <th>count</th>\n",
       "      <td>3180.000000</td>\n",
       "      <td>3180.000000</td>\n",
       "      <td>1992.000000</td>\n",
       "      <td>1992.000000</td>\n",
       "      <td>1992.000000</td>\n",
       "      <td>1992.000000</td>\n",
       "      <td>1992.000000</td>\n",
       "      <td>1992.000000</td>\n",
       "    </tr>\n",
       "    <tr>\n",
       "      <th>mean</th>\n",
       "      <td>8.374731</td>\n",
       "      <td>0.938468</td>\n",
       "      <td>14.350601</td>\n",
       "      <td>0.479782</td>\n",
       "      <td>2.743595</td>\n",
       "      <td>0.431849</td>\n",
       "      <td>15.212566</td>\n",
       "      <td>0.128532</td>\n",
       "    </tr>\n",
       "    <tr>\n",
       "      <th>std</th>\n",
       "      <td>4.381310</td>\n",
       "      <td>1.096440</td>\n",
       "      <td>4.309579</td>\n",
       "      <td>0.583203</td>\n",
       "      <td>4.155835</td>\n",
       "      <td>0.445838</td>\n",
       "      <td>1.274093</td>\n",
       "      <td>0.073587</td>\n",
       "    </tr>\n",
       "    <tr>\n",
       "      <th>min</th>\n",
       "      <td>-2.080000</td>\n",
       "      <td>0.034000</td>\n",
       "      <td>5.900000</td>\n",
       "      <td>0.044000</td>\n",
       "      <td>-5.407000</td>\n",
       "      <td>0.045000</td>\n",
       "      <td>12.475000</td>\n",
       "      <td>0.042000</td>\n",
       "    </tr>\n",
       "    <tr>\n",
       "      <th>25%</th>\n",
       "      <td>4.312000</td>\n",
       "      <td>0.186750</td>\n",
       "      <td>10.212000</td>\n",
       "      <td>0.142000</td>\n",
       "      <td>-1.334500</td>\n",
       "      <td>0.155000</td>\n",
       "      <td>14.047000</td>\n",
       "      <td>0.063000</td>\n",
       "    </tr>\n",
       "    <tr>\n",
       "      <th>50%</th>\n",
       "      <td>8.610500</td>\n",
       "      <td>0.392000</td>\n",
       "      <td>14.760000</td>\n",
       "      <td>0.252000</td>\n",
       "      <td>2.949500</td>\n",
       "      <td>0.279000</td>\n",
       "      <td>15.251000</td>\n",
       "      <td>0.122000</td>\n",
       "    </tr>\n",
       "    <tr>\n",
       "      <th>75%</th>\n",
       "      <td>12.548250</td>\n",
       "      <td>1.419250</td>\n",
       "      <td>18.451500</td>\n",
       "      <td>0.539000</td>\n",
       "      <td>6.778750</td>\n",
       "      <td>0.458250</td>\n",
       "      <td>16.396250</td>\n",
       "      <td>0.151000</td>\n",
       "    </tr>\n",
       "    <tr>\n",
       "      <th>max</th>\n",
       "      <td>19.021000</td>\n",
       "      <td>7.880000</td>\n",
       "      <td>21.320000</td>\n",
       "      <td>4.373000</td>\n",
       "      <td>9.715000</td>\n",
       "      <td>3.498000</td>\n",
       "      <td>17.611000</td>\n",
       "      <td>0.457000</td>\n",
       "    </tr>\n",
       "  </tbody>\n",
       "</table>\n",
       "</div>"
      ],
      "text/plain": [
       "       LandAverageTemperature  LandAverageTemperatureUncertainty  \\\n",
       "count             3180.000000                        3180.000000   \n",
       "mean                 8.374731                           0.938468   \n",
       "std                  4.381310                           1.096440   \n",
       "min                 -2.080000                           0.034000   \n",
       "25%                  4.312000                           0.186750   \n",
       "50%                  8.610500                           0.392000   \n",
       "75%                 12.548250                           1.419250   \n",
       "max                 19.021000                           7.880000   \n",
       "\n",
       "       LandMaxTemperature  LandMaxTemperatureUncertainty  LandMinTemperature  \\\n",
       "count         1992.000000                    1992.000000         1992.000000   \n",
       "mean            14.350601                       0.479782            2.743595   \n",
       "std              4.309579                       0.583203            4.155835   \n",
       "min              5.900000                       0.044000           -5.407000   \n",
       "25%             10.212000                       0.142000           -1.334500   \n",
       "50%             14.760000                       0.252000            2.949500   \n",
       "75%             18.451500                       0.539000            6.778750   \n",
       "max             21.320000                       4.373000            9.715000   \n",
       "\n",
       "       LandMinTemperatureUncertainty  LandAndOceanAverageTemperature  \\\n",
       "count                    1992.000000                     1992.000000   \n",
       "mean                        0.431849                       15.212566   \n",
       "std                         0.445838                        1.274093   \n",
       "min                         0.045000                       12.475000   \n",
       "25%                         0.155000                       14.047000   \n",
       "50%                         0.279000                       15.251000   \n",
       "75%                         0.458250                       16.396250   \n",
       "max                         3.498000                       17.611000   \n",
       "\n",
       "       LandAndOceanAverageTemperatureUncertainty  \n",
       "count                                1992.000000  \n",
       "mean                                    0.128532  \n",
       "std                                     0.073587  \n",
       "min                                     0.042000  \n",
       "25%                                     0.063000  \n",
       "50%                                     0.122000  \n",
       "75%                                     0.151000  \n",
       "max                                     0.457000  "
      ]
     },
     "execution_count": 43,
     "metadata": {},
     "output_type": "execute_result"
    }
   ],
   "source": [
    "# Aplicamos describe() para ver a detalle todo en el DataFrame\n",
    "global_temp.describe()"
   ]
  },
  {
   "cell_type": "code",
   "execution_count": 44,
   "metadata": {},
   "outputs": [
    {
     "name": "stdout",
     "output_type": "stream",
     "text": [
      "<class 'pandas.core.frame.DataFrame'>\n",
      "RangeIndex: 3192 entries, 0 to 3191\n",
      "Data columns (total 9 columns):\n",
      " #   Column                                     Non-Null Count  Dtype  \n",
      "---  ------                                     --------------  -----  \n",
      " 0   dt                                         3192 non-null   object \n",
      " 1   LandAverageTemperature                     3180 non-null   float64\n",
      " 2   LandAverageTemperatureUncertainty          3180 non-null   float64\n",
      " 3   LandMaxTemperature                         1992 non-null   float64\n",
      " 4   LandMaxTemperatureUncertainty              1992 non-null   float64\n",
      " 5   LandMinTemperature                         1992 non-null   float64\n",
      " 6   LandMinTemperatureUncertainty              1992 non-null   float64\n",
      " 7   LandAndOceanAverageTemperature             1992 non-null   float64\n",
      " 8   LandAndOceanAverageTemperatureUncertainty  1992 non-null   float64\n",
      "dtypes: float64(8), object(1)\n",
      "memory usage: 224.6+ KB\n"
     ]
    }
   ],
   "source": [
    "# Aplicamos info() para verificar el tipo de variables y si tenemos valores faltantes\n",
    "global_temp.info()"
   ]
  },
  {
   "cell_type": "markdown",
   "metadata": {},
   "source": [
    "### ***Limpieza de datos***\n",
    "\n",
    "Realizaremos un proceso de limpieza teniendo en cuenta las situaciones mas comunes:\n",
    "\n",
    "    1. Datos faltantes en algunas celdas\n",
    "    2. Registros (filas) repetidos\n",
    "    3. Valores extremos (outliers) en el caso de las variables numericas.\n",
    "    4. Errores tipograficos\n"
   ]
  },
  {
   "cell_type": "markdown",
   "metadata": {},
   "source": [
    "1. Datos faltantes en algunas celdas"
   ]
  },
  {
   "cell_type": "code",
   "execution_count": 45,
   "metadata": {},
   "outputs": [
    {
     "name": "stdout",
     "output_type": "stream",
     "text": [
      "<class 'pandas.core.frame.DataFrame'>\n",
      "RangeIndex: 3192 entries, 0 to 3191\n",
      "Data columns (total 3 columns):\n",
      " #   Column                             Non-Null Count  Dtype  \n",
      "---  ------                             --------------  -----  \n",
      " 0   dt                                 3192 non-null   object \n",
      " 1   LandAverageTemperature             3180 non-null   float64\n",
      " 2   LandAverageTemperatureUncertainty  3180 non-null   float64\n",
      "dtypes: float64(2), object(1)\n",
      "memory usage: 74.9+ KB\n"
     ]
    }
   ],
   "source": [
    "# En este caso, solo nos interesa los valos de dt, de la Temperatura promedio Terreste (LandAverageTemperature ) \n",
    "# y los valores de la incertidumbre de la Temperatura promedio Terrestre (LandAverageTemperatureUncertainty)\n",
    "\n",
    "remove_columns= [\n",
    "       'LandMaxTemperature', 'LandMaxTemperatureUncertainty',\n",
    "       'LandMinTemperature', 'LandMinTemperatureUncertainty',\n",
    "       'LandAndOceanAverageTemperature',\n",
    "       'LandAndOceanAverageTemperatureUncertainty']\n",
    "#Eliminamos las columnas que no tienen datos relevantes para nosotros\n",
    "global_temp = global_temp.drop(remove_columns,axis=1)\n",
    "# Verificamos los cambios\n",
    "global_temp.info()"
   ]
  },
  {
   "cell_type": "code",
   "execution_count": 46,
   "metadata": {},
   "outputs": [
    {
     "name": "stdout",
     "output_type": "stream",
     "text": [
      "<class 'pandas.core.frame.DataFrame'>\n",
      "Index: 3180 entries, 0 to 3191\n",
      "Data columns (total 3 columns):\n",
      " #   Column                             Non-Null Count  Dtype  \n",
      "---  ------                             --------------  -----  \n",
      " 0   Date                               3180 non-null   object \n",
      " 1   LandAverageTemperature             3180 non-null   float64\n",
      " 2   LandAverageTemperatureUncertainty  3180 non-null   float64\n",
      "dtypes: float64(2), object(1)\n",
      "memory usage: 99.4+ KB\n"
     ]
    }
   ],
   "source": [
    "# Eliminamos todos los registros con datos nulos ya que contamos con informacion suficiente\n",
    "global_temp.dropna(inplace=True)\n",
    "# Cambiamos el nombre de la columna dt por Date\n",
    "global_temp= global_temp.rename(columns={'dt': 'Date'})\n",
    "# Verificamos que tenemos la misma cantidad de datos no-null en todas las columnas\n",
    "global_temp.info()"
   ]
  },
  {
   "cell_type": "markdown",
   "metadata": {},
   "source": [
    "2. Registros (filas) repetidos"
   ]
  },
  {
   "cell_type": "code",
   "execution_count": 47,
   "metadata": {},
   "outputs": [
    {
     "name": "stdout",
     "output_type": "stream",
     "text": [
      "<class 'pandas.core.frame.DataFrame'>\n",
      "Index: 3180 entries, 0 to 3191\n",
      "Data columns (total 3 columns):\n",
      " #   Column                             Non-Null Count  Dtype  \n",
      "---  ------                             --------------  -----  \n",
      " 0   Date                               3180 non-null   object \n",
      " 1   LandAverageTemperature             3180 non-null   float64\n",
      " 2   LandAverageTemperatureUncertainty  3180 non-null   float64\n",
      "dtypes: float64(2), object(1)\n",
      "memory usage: 99.4+ KB\n"
     ]
    }
   ],
   "source": [
    "# Eliminamos todos los registros repetidos\n",
    "global_temp.drop_duplicates(inplace=True)\n",
    "# Verificamos que tenemos la misma cantidad de datos no-null en todas las columnas\n",
    "global_temp.info()"
   ]
  },
  {
   "cell_type": "markdown",
   "metadata": {},
   "source": [
    "3. Valores extremos (outliers) en el caso de las variables numericas."
   ]
  },
  {
   "cell_type": "code",
   "execution_count": 48,
   "metadata": {},
   "outputs": [
    {
     "data": {
      "image/png": "[encoded data removed]",
      "text/plain": [
       "<Figure size 800x800 with 2 Axes>"
      ]
     },
     "metadata": {},
     "output_type": "display_data"
    }
   ],
   "source": [
    "cols_num = ['LandAverageTemperature', 'LandAverageTemperatureUncertainty']\n",
    "\n",
    "fig, ax = plt.subplots(nrows=2, ncols=1,figsize = (8,8))\n",
    "fig.subplots_adjust(hspace=0.5)\n",
    "\n",
    "for i,col in enumerate(cols_num):\n",
    "    sns.boxplot(x=col, data=global_temp, ax=ax[i])\n",
    "    ax[i].set_title(col)"
   ]
  },
  {
   "cell_type": "markdown",
   "metadata": {},
   "source": [
    "**Observacion:** Comprobamos que no tenemos Outliers, a pesar de que en LandAverageTemperatureUncertainty tiene un valor de casi 8 grados,\n",
    "no es un valor que esta lejos de la realidad asi que es posible."
   ]
  },
  {
   "cell_type": "markdown",
   "metadata": {},
   "source": [
    "4. Errores tipograficos"
   ]
  },
  {
   "cell_type": "markdown",
   "metadata": {},
   "source": [
    "**Observacion:** Comprobamos que no tenemos datos tipo string, asi que no necesitamos de este analisis"
   ]
  },
  {
   "cell_type": "code",
   "execution_count": 51,
   "metadata": {},
   "outputs": [
    {
     "data": {
      "application/vnd.plotly.v1+json": {
       "config": {
        "linkText": "Export to plot.ly",
        "plotlyServerURL": "https://plot.ly",
        "showLink": false
       },
       "data": [
        {
         "line": {
          "color": "rgb(0, 255, 255)"
         },
         "mode": "lines",
         "name": "Uncertainty top",
         "type": "scatter",
         "x": [
          "1750",
          "1751",
          "1752",
          "1753",
          "1754",
          "1755",
          "1756",
          "1757",
          "1758",
          "1759",
          "1760",
          "1761",
          "1762",
          "1763",
          "1764",
          "1765",
          "1766",
          "1767",
          "1768",
          "1769",
          "1770",
          "1771",
          "1772",
          "1773",
          "1774",
          "1775",
          "1776",
          "1777",
          "1778",
          "1779",
          "1780",
          "1781",
          "1782",
          "1783",
          "1784",
          "1785",
          "1786",
          "1787",
          "1788",
          "1789",
          "1790",
          "1791",
          "1792",
          "1793",
          "1794",
          "1795",
          "1796",
          "1797",
          "1798",
          "1799",
          "1800",
          "1801",
          "1802",
          "1803",
          "1804",
          "1805",
          "1806",
          "1807",
          "1808",
          "1809",
          "1810",
          "1811",
          "1812",
          "1813",
          "1814",
          "1815",
          "1816",
          "1817",
          "1818",
          "1819",
          "1820",
          "1821",
          "1822",
          "1823",
          "1824",
          "1825",
          "1826",
          "1827",
          "1828",
          "1829",
          "1830",
          "1831",
          "1832",
          "1833",
          "1834",
          "1835",
          "1836",
          "1837",
          "1838",
          "1839",
          "1840",
          "1841",
          "1842",
          "1843",
          "1844",
          "1845",
          "1846",
          "1847",
          "1848",
          "1849",
          "1850",
          "1851",
          "1852",
          "1853",
          "1854",
          "1855",
          "1856",
          "1857",
          "1858",
          "1859",
          "1860",
          "1861",
          "1862",
          "1863",
          "1864",
          "1865",
          "1866",
          "1867",
          "1868",
          "1869",
          "1870",
          "1871",
          "1872",
          "1873",
          "1874",
          "1875",
          "1876",
          "1877",
          "1878",
          "1879",
          "1880",
          "1881",
          "1882",
          "1883",
          "1884",
          "1885",
          "1886",
          "1887",
          "1888",
          "1889",
          "1890",
          "1891",
          "1892",
          "1893",
          "1894",
          "1895",
          "1896",
          "1897",
          "1898",
          "1899",
          "1900",
          "1901",
          "1902",
          "1903",
          "1904",
          "1905",
          "1906",
          "1907",
          "1908",
          "1909",
          "1910",
          "1911",
          "1912",
          "1913",
          "1914",
          "1915",
          "1916",
          "1917",
          "1918",
          "1919",
          "1920",
          "1921",
          "1922",
          "1923",
          "1924",
          "1925",
          "1926",
          "1927",
          "1928",
          "1929",
          "1930",
          "1931",
          "1932",
          "1933",
          "1934",
          "1935",
          "1936",
          "1937",
          "1938",
          "1939",
          "1940",
          "1941",
          "1942",
          "1943",
          "1944",
          "1945",
          "1946",
          "1947",
          "1948",
          "1949",
          "1950",
          "1951",
          "1952",
          "1953",
          "1954",
          "1955",
          "1956",
          "1957",
          "1958",
          "1959",
          "1960",
          "1961",
          "1962",
          "1963",
          "1964",
          "1965",
          "1966",
          "1967",
          "1968",
          "1969",
          "1970",
          "1971",
          "1972",
          "1973",
          "1974",
          "1975",
          "1976",
          "1977",
          "1978",
          "1979",
          "1980",
          "1981",
          "1982",
          "1983",
          "1984",
          "1985",
          "1986",
          "1987",
          "1988",
          "1989",
          "1990",
          "1991",
          "1992",
          "1993",
          "1994",
          "1995",
          "1996",
          "1997",
          "1998",
          "1999",
          "2000",
          "2001",
          "2002",
          "2003",
          "2004",
          "2005",
          "2006",
          "2007",
          "2008",
          "2009",
          "2010",
          "2011",
          "2012",
          "2013",
          "2014",
          "2015"
         ],
         "y": [
          11.357181818181818,
          10.757285714285715,
          8.756833333333333,
          11.564083333333334,
          11.963583333333334,
          12.205916666666667,
          12.111916666666666,
          13.048000000000002,
          10.1065,
          11.664,
          10.274083333333333,
          11.917333333333332,
          12.130750000000003,
          10.648333333333332,
          11.175583333333334,
          10.679666666666666,
          11.2415,
          11.184166666666666,
          9.047333333333334,
          10.104666666666667,
          10.472583333333333,
          10.45775,
          10.657333333333334,
          10.58225,
          12.187333333333335,
          11.503666666666668,
          11.168166666666666,
          10.699083333333334,
          11.41475,
          11.489083333333333,
          12.017750000000001,
          10.606416666666666,
          10.451833333333333,
          10.17525,
          10.117666666666668,
          9.6025,
          10.783583333333333,
          10.393583333333334,
          11.004999999999999,
          10.202833333333333,
          9.754,
          10.017999999999999,
          9.789416666666668,
          10.503583333333333,
          10.505,
          10.393666666666666,
          10.191666666666666,
          10.556250000000002,
          10.573583333333335,
          10.244166666666665,
          10.202916666666669,
          10.171333333333335,
          10.427166666666666,
          10.136166666666666,
          10.686666666666667,
          10.251666666666665,
          10.004166666666665,
          9.873666666666665,
          9.623666666666667,
          9.211833333333333,
          9.233666666666668,
          8.95525,
          9.181833333333334,
          9.44875,
          9.760250000000001,
          9.205833333333334,
          9.130416666666667,
          8.684000000000001,
          9.658000000000001,
          8.951083333333335,
          9.234999999999998,
          9.465916666666665,
          9.563583333333334,
          9.080916666666667,
          9.995000000000001,
          9.897166666666667,
          9.916166666666669,
          10.252333333333333,
          9.813749999999997,
          9.26158333333333,
          9.948166666666667,
          9.170666666666667,
          8.990583333333333,
          9.246500000000001,
          9.299000000000001,
          8.667833333333332,
          8.86525,
          8.666583333333334,
          8.677249999999999,
          8.811666666666666,
          8.787416666666667,
          8.640166666666666,
          8.92025,
          8.9235,
          8.572333333333333,
          8.732666666666667,
          9.6045,
          8.986666666666666,
          8.850833333333334,
          8.898,
          8.777083333333334,
          9.0605,
          9.018416666666667,
          8.876833333333334,
          9.036166666666666,
          8.997916666666665,
          8.756666666666666,
          8.509250000000002,
          8.8,
          8.926666666666668,
          8.586833333333333,
          8.499916666666667,
          8.247500000000002,
          8.859833333333333,
          8.660000000000002,
          8.84,
          8.898166666666667,
          9.071166666666667,
          8.79425,
          9.02775,
          8.7515,
          8.685333333333332,
          8.782916666666665,
          8.901583333333333,
          8.951416666666667,
          8.311083333333334,
          8.513583333333333,
          8.9955,
          9.254666666666667,
          8.629249999999999,
          8.533666666666665,
          8.69025,
          8.508833333333333,
          8.347583333333333,
          8.169916666666667,
          8.344666666666669,
          8.340499999999999,
          8.307,
          8.472916666666666,
          8.688833333333333,
          8.314666666666668,
          8.354666666666667,
          8.404666666666667,
          8.402,
          8.47825,
          8.446250000000001,
          8.52375,
          8.607166666666668,
          8.503666666666666,
          8.721083333333333,
          8.816333333333333,
          8.848166666666666,
          8.597166666666666,
          8.510166666666667,
          8.377333333333333,
          8.503916666666665,
          8.654,
          8.204333333333334,
          8.460833333333333,
          8.441,
          8.483083333333335,
          8.424833333333336,
          8.423833333333334,
          8.559999999999999,
          8.842416666666667,
          8.839333333333334,
          8.485666666666667,
          8.283999999999999,
          8.399083333333332,
          8.649000000000001,
          8.621416666666665,
          8.827833333333333,
          8.666583333333335,
          8.675249999999998,
          8.763666666666667,
          8.775166666666667,
          8.9715,
          8.770999999999999,
          8.880749999999999,
          8.494166666666665,
          8.873249999999999,
          8.957,
          8.954166666666667,
          8.580916666666667,
          8.868416666666668,
          8.751666666666665,
          8.797083333333333,
          8.938416666666665,
          9.104166666666668,
          8.997666666666667,
          8.995750000000001,
          8.9965,
          8.957916666666664,
          8.981666666666667,
          9.070166666666667,
          8.805166666666665,
          8.899333333333335,
          9.014166666666666,
          8.956333333333333,
          8.795,
          8.551583333333335,
          8.809833333333332,
          8.847000000000001,
          9.085833333333335,
          8.747833333333332,
          8.779833333333334,
          8.400416666666667,
          8.8905,
          8.878083333333334,
          8.839833333333331,
          8.67725,
          8.894666666666666,
          8.878833333333333,
          8.948333333333332,
          8.502166666666666,
          8.63625,
          8.691583333333334,
          8.78375,
          8.628,
          8.68025,
          8.776499999999999,
          8.697166666666668,
          8.594916666666666,
          9.049,
          8.572,
          8.841916666666668,
          8.44783333333333,
          8.934916666666666,
          8.796583333333333,
          8.819833333333333,
          9.087,
          9.253083333333333,
          8.721833333333333,
          9.122166666666665,
          8.794416666666669,
          8.751249999999999,
          8.918583333333334,
          9.079583333333334,
          9.281666666666666,
          9.010000000000002,
          9.320500000000001,
          9.2415,
          8.919916666666666,
          8.947916666666666,
          9.109666666666666,
          9.4235,
          9.123666666666667,
          9.291166666666665,
          9.596583333333333,
          9.364333333333333,
          9.284666666666668,
          9.502,
          9.642833333333334,
          9.61625,
          9.408,
          9.776083333333332,
          9.622499999999999,
          9.821666666666665,
          9.510666666666667,
          9.591166666666666,
          9.786499999999998,
          9.598,
          9.59075,
          9.704166666666666,
          9.660833333333333,
          9.923166666666669
         ]
        },
        {
         "fill": "tonexty",
         "line": {
          "color": "rgb(0, 255, 255)"
         },
         "mode": "lines",
         "name": "Uncertainty bot",
         "type": "scatter",
         "x": [
          "1750",
          "1751",
          "1752",
          "1753",
          "1754",
          "1755",
          "1756",
          "1757",
          "1758",
          "1759",
          "1760",
          "1761",
          "1762",
          "1763",
          "1764",
          "1765",
          "1766",
          "1767",
          "1768",
          "1769",
          "1770",
          "1771",
          "1772",
          "1773",
          "1774",
          "1775",
          "1776",
          "1777",
          "1778",
          "1779",
          "1780",
          "1781",
          "1782",
          "1783",
          "1784",
          "1785",
          "1786",
          "1787",
          "1788",
          "1789",
          "1790",
          "1791",
          "1792",
          "1793",
          "1794",
          "1795",
          "1796",
          "1797",
          "1798",
          "1799",
          "1800",
          "1801",
          "1802",
          "1803",
          "1804",
          "1805",
          "1806",
          "1807",
          "1808",
          "1809",
          "1810",
          "1811",
          "1812",
          "1813",
          "1814",
          "1815",
          "1816",
          "1817",
          "1818",
          "1819",
          "1820",
          "1821",
          "1822",
          "1823",
          "1824",
          "1825",
          "1826",
          "1827",
          "1828",
          "1829",
          "1830",
          "1831",
          "1832",
          "1833",
          "1834",
          "1835",
          "1836",
          "1837",
          "1838",
          "1839",
          "1840",
          "1841",
          "1842",
          "1843",
          "1844",
          "1845",
          "1846",
          "1847",
          "1848",
          "1849",
          "1850",
          "1851",
          "1852",
          "1853",
          "1854",
          "1855",
          "1856",
          "1857",
          "1858",
          "1859",
          "1860",
          "1861",
          "1862",
          "1863",
          "1864",
          "1865",
          "1866",
          "1867",
          "1868",
          "1869",
          "1870",
          "1871",
          "1872",
          "1873",
          "1874",
          "1875",
          "1876",
          "1877",
          "1878",
          "1879",
          "1880",
          "1881",
          "1882",
          "1883",
          "1884",
          "1885",
          "1886",
          "1887",
          "1888",
          "1889",
          "1890",
          "1891",
          "1892",
          "1893",
          "1894",
          "1895",
          "1896",
          "1897",
          "1898",
          "1899",
          "1900",
          "1901",
          "1902",
          "1903",
          "1904",
          "1905",
          "1906",
          "1907",
          "1908",
          "1909",
          "1910",
          "1911",
          "1912",
          "1913",
          "1914",
          "1915",
          "1916",
          "1917",
          "1918",
          "1919",
          "1920",
          "1921",
          "1922",
          "1923",
          "1924",
          "1925",
          "1926",
          "1927",
          "1928",
          "1929",
          "1930",
          "1931",
          "1932",
          "1933",
          "1934",
          "1935",
          "1936",
          "1937",
          "1938",
          "1939",
          "1940",
          "1941",
          "1942",
          "1943",
          "1944",
          "1945",
          "1946",
          "1947",
          "1948",
          "1949",
          "1950",
          "1951",
          "1952",
          "1953",
          "1954",
          "1955",
          "1956",
          "1957",
          "1958",
          "1959",
          "1960",
          "1961",
          "1962",
          "1963",
          "1964",
          "1965",
          "1966",
          "1967",
          "1968",
          "1969",
          "1970",
          "1971",
          "1972",
          "1973",
          "1974",
          "1975",
          "1976",
          "1977",
          "1978",
          "1979",
          "1980",
          "1981",
          "1982",
          "1983",
          "1984",
          "1985",
          "1986",
          "1987",
          "1988",
          "1989",
          "1990",
          "1991",
          "1992",
          "1993",
          "1994",
          "1995",
          "1996",
          "1997",
          "1998",
          "1999",
          "2000",
          "2001",
          "2002",
          "2003",
          "2004",
          "2005",
          "2006",
          "2007",
          "2008",
          "2009",
          "2010",
          "2011",
          "2012",
          "2013",
          "2014",
          "2015"
         ],
         "y": [
          6.081545454545456,
          5.194999999999999,
          2.8028333333333326,
          5.212083333333334,
          4.975083333333332,
          4.50525,
          5.587250000000001,
          4.9959999999999996,
          3.3806666666666665,
          4.306166666666666,
          4.096250000000001,
          5.627666666666666,
          5.082250000000002,
          4.345166666666666,
          5.625083333333334,
          5.824166666666664,
          5.569833333333333,
          5.258833333333335,
          4.5153333333333325,
          5.284500000000001,
          4.91125,
          5.248583333333334,
          5.729666666666667,
          5.860750000000001,
          5.357000000000003,
          6.862500000000001,
          5.439833333333334,
          5.813416666666669,
          5.669749999999999,
          6.477416666666667,
          6.848083333333333,
          5.598750000000001,
          5.350666666666667,
          5.186416666666666,
          5.606333333333334,
          5.1235,
          5.732749999999999,
          5.6700833333333325,
          5.889333333333333,
          6.4655,
          6.210666666666667,
          6.4505,
          6.388583333333334,
          5.954749999999999,
          6.5470000000000015,
          6.307,
          6.3503333333333325,
          6.464916666666667,
          6.766916666666668,
          6.767333333333332,
          6.765583333333335,
          7.008000000000001,
          6.729166666666666,
          6.869833333333333,
          7.003,
          6.873833333333333,
          6.863999999999998,
          6.689166666666665,
          5.63,
          4.941000000000001,
          4.611666666666667,
          4.76375,
          4.910666666666666,
          6.031083333333333,
          5.423250000000001,
          5.272833333333334,
          4.744583333333333,
          5.267333333333335,
          5.999833333333334,
          5.787250000000001,
          5.997499999999998,
          6.714249999999999,
          6.813083333333334,
          6.356416666666667,
          7.099333333333334,
          6.8815,
          6.7970000000000015,
          7.365166666666666,
          6.516916666666664,
          6.6220833333333315,
          7.085333333333334,
          6.107666666666667,
          5.909750000000001,
          6.779500000000001,
          6.994500000000001,
          6.117166666666666,
          6.526416666666667,
          6.0847500000000005,
          6.352583333333332,
          6.452833333333332,
          6.805083333333334,
          6.736166666666667,
          7.12525,
          7.423833333333334,
          6.7203333333333335,
          6.969666666666668,
          7.5009999999999994,
          7.185333333333333,
          7.108166666666667,
          7.070833333333334,
          7.024249999999999,
          7.296666666666665,
          7.181916666666666,
          7.206833333333333,
          7.384833333333333,
          7.223583333333331,
          7.235166666666666,
          7.007083333333334,
          7.400500000000001,
          7.577333333333334,
          7.334833333333332,
          7.193083333333335,
          6.869666666666668,
          7.363833333333333,
          7.307166666666668,
          7.515666666666667,
          7.686166666666667,
          7.801500000000001,
          7.701583333333334,
          7.836416666666667,
          7.651166666666666,
          7.544833333333333,
          7.604749999999999,
          7.800583333333334,
          7.915583333333334,
          7.408083333333334,
          7.646583333333332,
          8.083666666666666,
          8.404833333333334,
          7.702416666666665,
          7.703833333333332,
          7.851583333333333,
          7.7490000000000006,
          7.606249999999998,
          7.377416666666667,
          7.494666666666668,
          7.5684999999999985,
          7.522833333333333,
          7.708083333333334,
          7.949166666666666,
          7.628666666666667,
          7.684,
          7.727,
          7.711499999999999,
          7.84375,
          7.8477500000000004,
          7.906083333333332,
          7.979500000000002,
          7.852333333333332,
          8.071583333333333,
          8.186833333333333,
          8.235666666666665,
          8.011666666666667,
          7.9301666666666675,
          7.8045,
          7.946416666666665,
          8.104166666666668,
          7.69,
          7.911333333333334,
          7.915500000000001,
          7.9629166666666675,
          7.929166666666668,
          7.907000000000001,
          8.035499999999999,
          8.338583333333334,
          8.347,
          7.964833333333334,
          7.762666666666665,
          7.8625833333333315,
          8.1155,
          8.096083333333333,
          8.314166666666667,
          8.149416666666667,
          8.169083333333333,
          8.250000000000002,
          8.293666666666667,
          8.486166666666668,
          8.273166666666667,
          8.383583333333334,
          7.990666666666665,
          8.393916666666666,
          8.4815,
          8.456333333333335,
          8.095583333333334,
          8.388250000000003,
          8.279833333333332,
          8.310916666666667,
          8.45825,
          8.623166666666666,
          8.523,
          8.533583333333333,
          8.540833333333333,
          8.498916666666664,
          8.5285,
          8.619833333333334,
          8.3645,
          8.454500000000003,
          8.58,
          8.537166666666668,
          8.3785,
          8.178916666666668,
          8.4415,
          8.4295,
          8.661666666666667,
          8.3735,
          8.472666666666667,
          8.15875,
          8.5745,
          8.669416666666669,
          8.625499999999999,
          8.49025,
          8.700666666666667,
          8.613,
          8.763666666666667,
          8.317166666666667,
          8.418583333333334,
          8.507083333333334,
          8.616416666666668,
          8.404666666666667,
          8.509916666666667,
          8.625333333333334,
          8.501333333333335,
          8.404250000000001,
          8.8475,
          8.363,
          8.64775,
          8.246666666666664,
          8.765583333333332,
          8.588916666666664,
          8.647,
          8.873666666666665,
          9.078583333333334,
          8.5565,
          8.934166666666666,
          8.589250000000002,
          8.56475,
          8.748583333333332,
          8.909250000000002,
          9.121500000000001,
          8.834000000000003,
          9.147833333333333,
          9.117333333333333,
          8.753249999999998,
          8.78525,
          8.967833333333331,
          9.270666666666667,
          8.954166666666667,
          9.113999999999997,
          9.448749999999999,
          9.205833333333333,
          9.117666666666667,
          9.327166666666669,
          9.498,
          9.434916666666666,
          9.241166666666667,
          9.62575,
          9.442499999999999,
          9.642666666666667,
          9.352833333333335,
          9.419333333333334,
          9.619666666666665,
          9.434,
          9.423916666666667,
          9.508833333333332,
          9.4805,
          9.738833333333334
         ]
        },
        {
         "line": {
          "color": "rgb(199, 121, 093)"
         },
         "name": "Average Temperature",
         "type": "scatter",
         "x": [
          "1750",
          "1751",
          "1752",
          "1753",
          "1754",
          "1755",
          "1756",
          "1757",
          "1758",
          "1759",
          "1760",
          "1761",
          "1762",
          "1763",
          "1764",
          "1765",
          "1766",
          "1767",
          "1768",
          "1769",
          "1770",
          "1771",
          "1772",
          "1773",
          "1774",
          "1775",
          "1776",
          "1777",
          "1778",
          "1779",
          "1780",
          "1781",
          "1782",
          "1783",
          "1784",
          "1785",
          "1786",
          "1787",
          "1788",
          "1789",
          "1790",
          "1791",
          "1792",
          "1793",
          "1794",
          "1795",
          "1796",
          "1797",
          "1798",
          "1799",
          "1800",
          "1801",
          "1802",
          "1803",
          "1804",
          "1805",
          "1806",
          "1807",
          "1808",
          "1809",
          "1810",
          "1811",
          "1812",
          "1813",
          "1814",
          "1815",
          "1816",
          "1817",
          "1818",
          "1819",
          "1820",
          "1821",
          "1822",
          "1823",
          "1824",
          "1825",
          "1826",
          "1827",
          "1828",
          "1829",
          "1830",
          "1831",
          "1832",
          "1833",
          "1834",
          "1835",
          "1836",
          "1837",
          "1838",
          "1839",
          "1840",
          "1841",
          "1842",
          "1843",
          "1844",
          "1845",
          "1846",
          "1847",
          "1848",
          "1849",
          "1850",
          "1851",
          "1852",
          "1853",
          "1854",
          "1855",
          "1856",
          "1857",
          "1858",
          "1859",
          "1860",
          "1861",
          "1862",
          "1863",
          "1864",
          "1865",
          "1866",
          "1867",
          "1868",
          "1869",
          "1870",
          "1871",
          "1872",
          "1873",
          "1874",
          "1875",
          "1876",
          "1877",
          "1878",
          "1879",
          "1880",
          "1881",
          "1882",
          "1883",
          "1884",
          "1885",
          "1886",
          "1887",
          "1888",
          "1889",
          "1890",
          "1891",
          "1892",
          "1893",
          "1894",
          "1895",
          "1896",
          "1897",
          "1898",
          "1899",
          "1900",
          "1901",
          "1902",
          "1903",
          "1904",
          "1905",
          "1906",
          "1907",
          "1908",
          "1909",
          "1910",
          "1911",
          "1912",
          "1913",
          "1914",
          "1915",
          "1916",
          "1917",
          "1918",
          "1919",
          "1920",
          "1921",
          "1922",
          "1923",
          "1924",
          "1925",
          "1926",
          "1927",
          "1928",
          "1929",
          "1930",
          "1931",
          "1932",
          "1933",
          "1934",
          "1935",
          "1936",
          "1937",
          "1938",
          "1939",
          "1940",
          "1941",
          "1942",
          "1943",
          "1944",
          "1945",
          "1946",
          "1947",
          "1948",
          "1949",
          "1950",
          "1951",
          "1952",
          "1953",
          "1954",
          "1955",
          "1956",
          "1957",
          "1958",
          "1959",
          "1960",
          "1961",
          "1962",
          "1963",
          "1964",
          "1965",
          "1966",
          "1967",
          "1968",
          "1969",
          "1970",
          "1971",
          "1972",
          "1973",
          "1974",
          "1975",
          "1976",
          "1977",
          "1978",
          "1979",
          "1980",
          "1981",
          "1982",
          "1983",
          "1984",
          "1985",
          "1986",
          "1987",
          "1988",
          "1989",
          "1990",
          "1991",
          "1992",
          "1993",
          "1994",
          "1995",
          "1996",
          "1997",
          "1998",
          "1999",
          "2000",
          "2001",
          "2002",
          "2003",
          "2004",
          "2005",
          "2006",
          "2007",
          "2008",
          "2009",
          "2010",
          "2011",
          "2012",
          "2013",
          "2014",
          "2015"
         ],
         "y": [
          8.719363636363637,
          7.9761428571428565,
          5.7798333333333325,
          8.388083333333334,
          8.469333333333333,
          8.355583333333334,
          8.849583333333333,
          9.022,
          6.7435833333333335,
          7.985083333333333,
          7.185166666666667,
          8.772499999999999,
          8.606500000000002,
          7.496749999999999,
          8.400333333333334,
          8.251916666666665,
          8.405666666666667,
          8.2215,
          6.781333333333333,
          7.694583333333334,
          7.691916666666667,
          7.8531666666666675,
          8.1935,
          8.2215,
          8.772166666666669,
          9.183083333333334,
          8.304,
          8.256250000000001,
          8.54225,
          8.98325,
          9.432916666666667,
          8.102583333333333,
          7.90125,
          7.680833333333333,
          7.862000000000001,
          7.3629999999999995,
          8.258166666666666,
          8.031833333333333,
          8.447166666666666,
          8.334166666666667,
          7.982333333333333,
          8.23425,
          8.089,
          8.229166666666666,
          8.526000000000002,
          8.350333333333333,
          8.270999999999999,
          8.510583333333335,
          8.670250000000001,
          8.505749999999999,
          8.484250000000001,
          8.589666666666668,
          8.578166666666666,
          8.503,
          8.844833333333334,
          8.56275,
          8.434083333333332,
          8.281416666666665,
          7.626833333333333,
          7.076416666666667,
          6.922666666666667,
          6.8595,
          7.04625,
          7.739916666666667,
          7.591750000000001,
          7.239333333333334,
          6.9375,
          6.975666666666668,
          7.828916666666667,
          7.3691666666666675,
          7.616249999999998,
          8.090083333333332,
          8.188333333333334,
          7.7186666666666675,
          8.547166666666667,
          8.389333333333333,
          8.356583333333335,
          8.80875,
          8.165333333333331,
          7.9418333333333315,
          8.51675,
          7.639166666666667,
          7.450166666666667,
          8.013000000000002,
          8.14675,
          7.392499999999999,
          7.695833333333334,
          7.3756666666666675,
          7.514916666666665,
          7.632249999999998,
          7.796250000000001,
          7.688166666666667,
          8.02275,
          8.173666666666668,
          7.646333333333334,
          7.851166666666668,
          8.55275,
          8.086,
          7.979500000000001,
          7.984416666666667,
          7.900666666666666,
          8.178583333333332,
          8.100166666666667,
          8.041833333333333,
          8.2105,
          8.110749999999998,
          7.995916666666666,
          7.758166666666668,
          8.10025,
          8.252,
          7.9608333333333325,
          7.846500000000002,
          7.558583333333335,
          8.111833333333333,
          7.983583333333335,
          8.177833333333334,
          8.292166666666667,
          8.436333333333334,
          8.247916666666667,
          8.432083333333333,
          8.201333333333332,
          8.115083333333333,
          8.193833333333332,
          8.351083333333333,
          8.4335,
          7.859583333333334,
          8.080083333333333,
          8.539583333333333,
          8.82975,
          8.165833333333332,
          8.118749999999999,
          8.270916666666666,
          8.128916666666667,
          7.976916666666665,
          7.773666666666667,
          7.919666666666668,
          7.954499999999999,
          7.914916666666667,
          8.0905,
          8.318999999999999,
          7.971666666666667,
          8.019333333333334,
          8.065833333333334,
          8.05675,
          8.161,
          8.147,
          8.214916666666666,
          8.293333333333335,
          8.177999999999999,
          8.396333333333333,
          8.501583333333333,
          8.541916666666665,
          8.304416666666667,
          8.220166666666668,
          8.090916666666667,
          8.225166666666665,
          8.379083333333334,
          7.947166666666667,
          8.186083333333334,
          8.17825,
          8.223,
          8.177000000000001,
          8.165416666666667,
          8.297749999999999,
          8.5905,
          8.593166666666667,
          8.22525,
          8.023333333333332,
          8.130833333333332,
          8.38225,
          8.358749999999999,
          8.571,
          8.408000000000001,
          8.422166666666666,
          8.506833333333335,
          8.534416666666667,
          8.728833333333334,
          8.522083333333333,
          8.632166666666667,
          8.242416666666665,
          8.633583333333332,
          8.71925,
          8.705250000000001,
          8.33825,
          8.628333333333336,
          8.515749999999999,
          8.554,
          8.698333333333332,
          8.863666666666667,
          8.760333333333334,
          8.764666666666667,
          8.768666666666666,
          8.728416666666664,
          8.755083333333333,
          8.845,
          8.584833333333332,
          8.676916666666669,
          8.797083333333333,
          8.74675,
          8.58675,
          8.365250000000001,
          8.625666666666666,
          8.638250000000001,
          8.873750000000001,
          8.560666666666666,
          8.62625,
          8.279583333333333,
          8.7325,
          8.773750000000001,
          8.732666666666665,
          8.58375,
          8.797666666666666,
          8.745916666666666,
          8.856,
          8.409666666666666,
          8.527416666666667,
          8.599333333333334,
          8.700083333333334,
          8.516333333333334,
          8.595083333333333,
          8.700916666666666,
          8.599250000000001,
          8.499583333333334,
          8.94825,
          8.4675,
          8.744833333333334,
          8.347249999999997,
          8.850249999999999,
          8.692749999999998,
          8.733416666666667,
          8.980333333333332,
          9.165833333333333,
          8.639166666666666,
          9.028166666666666,
          8.691833333333335,
          8.658,
          8.833583333333333,
          8.994416666666668,
          9.201583333333334,
          8.922000000000002,
          9.234166666666667,
          9.179416666666667,
          8.836583333333332,
          8.866583333333333,
          9.038749999999999,
          9.347083333333334,
          9.038916666666667,
          9.202583333333331,
          9.522666666666666,
          9.285083333333333,
          9.201166666666667,
          9.414583333333335,
          9.570416666666667,
          9.525583333333334,
          9.324583333333333,
          9.700916666666666,
          9.532499999999999,
          9.732166666666666,
          9.431750000000001,
          9.50525,
          9.703083333333332,
          9.516,
          9.507333333333333,
          9.606499999999999,
          9.570666666666666,
          9.831000000000001
         ]
        }
       ],
       "layout": {
        "showlegend": false,
        "template": {
         "data": {
          "bar": [
           {
            "error_x": {
             "color": "#2a3f5f"
            },
            "error_y": {
             "color": "#2a3f5f"
            },
            "marker": {
             "line": {
              "color": "#E5ECF6",
              "width": 0.5
             },
             "pattern": {
              "fillmode": "overlay",
              "size": 10,
              "solidity": 0.2
             }
            },
            "type": "bar"
           }
          ],
          "barpolar": [
           {
            "marker": {
             "line": {
              "color": "#E5ECF6",
              "width": 0.5
             },
             "pattern": {
              "fillmode": "overlay",
              "size": 10,
              "solidity": 0.2
             }
            },
            "type": "barpolar"
           }
          ],
          "carpet": [
           {
            "aaxis": {
             "endlinecolor": "#2a3f5f",
             "gridcolor": "white",
             "linecolor": "white",
             "minorgridcolor": "white",
             "startlinecolor": "#2a3f5f"
            },
            "baxis": {
             "endlinecolor": "#2a3f5f",
             "gridcolor": "white",
             "linecolor": "white",
             "minorgridcolor": "white",
             "startlinecolor": "#2a3f5f"
            },
            "type": "carpet"
           }
          ],
          "choropleth": [
           {
            "colorbar": {
             "outlinewidth": 0,
             "ticks": ""
            },
            "type": "choropleth"
           }
          ],
          "contour": [
           {
            "colorbar": {
             "outlinewidth": 0,
             "ticks": ""
            },
            "colorscale": [
             [
              0,
              "#0d0887"
             ],
             [
              0.1111111111111111,
              "#46039f"
             ],
             [
              0.2222222222222222,
              "#7201a8"
             ],
             [
              0.3333333333333333,
              "#9c179e"
             ],
             [
              0.4444444444444444,
              "#bd3786"
             ],
             [
              0.5555555555555556,
              "#d8576b"
             ],
             [
              0.6666666666666666,
              "#ed7953"
             ],
             [
              0.7777777777777778,
              "#fb9f3a"
             ],
             [
              0.8888888888888888,
              "#fdca26"
             ],
             [
              1,
              "#f0f921"
             ]
            ],
            "type": "contour"
           }
          ],
          "contourcarpet": [
           {
            "colorbar": {
             "outlinewidth": 0,
             "ticks": ""
            },
            "type": "contourcarpet"
           }
          ],
          "heatmap": [
           {
            "colorbar": {
             "outlinewidth": 0,
             "ticks": ""
            },
            "colorscale": [
             [
              0,
              "#0d0887"
             ],
             [
              0.1111111111111111,
              "#46039f"
             ],
             [
              0.2222222222222222,
              "#7201a8"
             ],
             [
              0.3333333333333333,
              "#9c179e"
             ],
             [
              0.4444444444444444,
              "#bd3786"
             ],
             [
              0.5555555555555556,
              "#d8576b"
             ],
             [
              0.6666666666666666,
              "#ed7953"
             ],
             [
              0.7777777777777778,
              "#fb9f3a"
             ],
             [
              0.8888888888888888,
              "#fdca26"
             ],
             [
              1,
              "#f0f921"
             ]
            ],
            "type": "heatmap"
           }
          ],
          "heatmapgl": [
           {
            "colorbar": {
             "outlinewidth": 0,
             "ticks": ""
            },
            "colorscale": [
             [
              0,
              "#0d0887"
             ],
             [
              0.1111111111111111,
              "#46039f"
             ],
             [
              0.2222222222222222,
              "#7201a8"
             ],
             [
              0.3333333333333333,
              "#9c179e"
             ],
             [
              0.4444444444444444,
              "#bd3786"
             ],
             [
              0.5555555555555556,
              "#d8576b"
             ],
             [
              0.6666666666666666,
              "#ed7953"
             ],
             [
              0.7777777777777778,
              "#fb9f3a"
             ],
             [
              0.8888888888888888,
              "#fdca26"
             ],
             [
              1,
              "#f0f921"
             ]
            ],
            "type": "heatmapgl"
           }
          ],
          "histogram": [
           {
            "marker": {
             "pattern": {
              "fillmode": "overlay",
              "size": 10,
              "solidity": 0.2
             }
            },
            "type": "histogram"
           }
          ],
          "histogram2d": [
           {
            "colorbar": {
             "outlinewidth": 0,
             "ticks": ""
            },
            "colorscale": [
             [
              0,
              "#0d0887"
             ],
             [
              0.1111111111111111,
              "#46039f"
             ],
             [
              0.2222222222222222,
              "#7201a8"
             ],
             [
              0.3333333333333333,
              "#9c179e"
             ],
             [
              0.4444444444444444,
              "#bd3786"
             ],
             [
              0.5555555555555556,
              "#d8576b"
             ],
             [
              0.6666666666666666,
              "#ed7953"
             ],
             [
              0.7777777777777778,
              "#fb9f3a"
             ],
             [
              0.8888888888888888,
              "#fdca26"
             ],
             [
              1,
              "#f0f921"
             ]
            ],
            "type": "histogram2d"
           }
          ],
          "histogram2dcontour": [
           {
            "colorbar": {
             "outlinewidth": 0,
             "ticks": ""
            },
            "colorscale": [
             [
              0,
              "#0d0887"
             ],
             [
              0.1111111111111111,
              "#46039f"
             ],
             [
              0.2222222222222222,
              "#7201a8"
             ],
             [
              0.3333333333333333,
              "#9c179e"
             ],
             [
              0.4444444444444444,
              "#bd3786"
             ],
             [
              0.5555555555555556,
              "#d8576b"
             ],
             [
              0.6666666666666666,
              "#ed7953"
             ],
             [
              0.7777777777777778,
              "#fb9f3a"
             ],
             [
              0.8888888888888888,
              "#fdca26"
             ],
             [
              1,
              "#f0f921"
             ]
            ],
            "type": "histogram2dcontour"
           }
          ],
          "mesh3d": [
           {
            "colorbar": {
             "outlinewidth": 0,
             "ticks": ""
            },
            "type": "mesh3d"
           }
          ],
          "parcoords": [
           {
            "line": {
             "colorbar": {
              "outlinewidth": 0,
              "ticks": ""
             }
            },
            "type": "parcoords"
           }
          ],
          "pie": [
           {
            "automargin": true,
            "type": "pie"
           }
          ],
          "scatter": [
           {
            "fillpattern": {
             "fillmode": "overlay",
             "size": 10,
             "solidity": 0.2
            },
            "type": "scatter"
           }
          ],
          "scatter3d": [
           {
            "line": {
             "colorbar": {
              "outlinewidth": 0,
              "ticks": ""
             }
            },
            "marker": {
             "colorbar": {
              "outlinewidth": 0,
              "ticks": ""
             }
            },
            "type": "scatter3d"
           }
          ],
          "scattercarpet": [
           {
            "marker": {
             "colorbar": {
              "outlinewidth": 0,
              "ticks": ""
             }
            },
            "type": "scattercarpet"
           }
          ],
          "scattergeo": [
           {
            "marker": {
             "colorbar": {
              "outlinewidth": 0,
              "ticks": ""
             }
            },
            "type": "scattergeo"
           }
          ],
          "scattergl": [
           {
            "marker": {
             "colorbar": {
              "outlinewidth": 0,
              "ticks": ""
             }
            },
            "type": "scattergl"
           }
          ],
          "scattermapbox": [
           {
            "marker": {
             "colorbar": {
              "outlinewidth": 0,
              "ticks": ""
             }
            },
            "type": "scattermapbox"
           }
          ],
          "scatterpolar": [
           {
            "marker": {
             "colorbar": {
              "outlinewidth": 0,
              "ticks": ""
             }
            },
            "type": "scatterpolar"
           }
          ],
          "scatterpolargl": [
           {
            "marker": {
             "colorbar": {
              "outlinewidth": 0,
              "ticks": ""
             }
            },
            "type": "scatterpolargl"
           }
          ],
          "scatterternary": [
           {
            "marker": {
             "colorbar": {
              "outlinewidth": 0,
              "ticks": ""
             }
            },
            "type": "scatterternary"
           }
          ],
          "surface": [
           {
            "colorbar": {
             "outlinewidth": 0,
             "ticks": ""
            },
            "colorscale": [
             [
              0,
              "#0d0887"
             ],
             [
              0.1111111111111111,
              "#46039f"
             ],
             [
              0.2222222222222222,
              "#7201a8"
             ],
             [
              0.3333333333333333,
              "#9c179e"
             ],
             [
              0.4444444444444444,
              "#bd3786"
             ],
             [
              0.5555555555555556,
              "#d8576b"
             ],
             [
              0.6666666666666666,
              "#ed7953"
             ],
             [
              0.7777777777777778,
              "#fb9f3a"
             ],
             [
              0.8888888888888888,
              "#fdca26"
             ],
             [
              1,
              "#f0f921"
             ]
            ],
            "type": "surface"
           }
          ],
          "table": [
           {
            "cells": {
             "fill": {
              "color": "#EBF0F8"
             },
             "line": {
              "color": "white"
             }
            },
            "header": {
             "fill": {
              "color": "#C8D4E3"
             },
             "line": {
              "color": "white"
             }
            },
            "type": "table"
           }
          ]
         },
         "layout": {
          "annotationdefaults": {
           "arrowcolor": "#2a3f5f",
           "arrowhead": 0,
           "arrowwidth": 1
          },
          "autotypenumbers": "strict",
          "coloraxis": {
           "colorbar": {
            "outlinewidth": 0,
            "ticks": ""
           }
          },
          "colorscale": {
           "diverging": [
            [
             0,
             "#8e0152"
            ],
            [
             0.1,
             "#c51b7d"
            ],
            [
             0.2,
             "#de77ae"
            ],
            [
             0.3,
             "#f1b6da"
            ],
            [
             0.4,
             "#fde0ef"
            ],
            [
             0.5,
             "#f7f7f7"
            ],
            [
             0.6,
             "#e6f5d0"
            ],
            [
             0.7,
             "#b8e186"
            ],
            [
             0.8,
             "#7fbc41"
            ],
            [
             0.9,
             "#4d9221"
            ],
            [
             1,
             "#276419"
            ]
           ],
           "sequential": [
            [
             0,
             "#0d0887"
            ],
            [
             0.1111111111111111,
             "#46039f"
            ],
            [
             0.2222222222222222,
             "#7201a8"
            ],
            [
             0.3333333333333333,
             "#9c179e"
            ],
            [
             0.4444444444444444,
             "#bd3786"
            ],
            [
             0.5555555555555556,
             "#d8576b"
            ],
            [
             0.6666666666666666,
             "#ed7953"
            ],
            [
             0.7777777777777778,
             "#fb9f3a"
            ],
            [
             0.8888888888888888,
             "#fdca26"
            ],
            [
             1,
             "#f0f921"
            ]
           ],
           "sequentialminus": [
            [
             0,
             "#0d0887"
            ],
            [
             0.1111111111111111,
             "#46039f"
            ],
            [
             0.2222222222222222,
             "#7201a8"
            ],
            [
             0.3333333333333333,
             "#9c179e"
            ],
            [
             0.4444444444444444,
             "#bd3786"
            ],
            [
             0.5555555555555556,
             "#d8576b"
            ],
            [
             0.6666666666666666,
             "#ed7953"
            ],
            [
             0.7777777777777778,
             "#fb9f3a"
            ],
            [
             0.8888888888888888,
             "#fdca26"
            ],
            [
             1,
             "#f0f921"
            ]
           ]
          },
          "colorway": [
           "#636efa",
           "#EF553B",
           "#00cc96",
           "#ab63fa",
           "#FFA15A",
           "#19d3f3",
           "#FF6692",
           "#B6E880",
           "#FF97FF",
           "#FECB52"
          ],
          "font": {
           "color": "#2a3f5f"
          },
          "geo": {
           "bgcolor": "white",
           "lakecolor": "white",
           "landcolor": "#E5ECF6",
           "showlakes": true,
           "showland": true,
           "subunitcolor": "white"
          },
          "hoverlabel": {
           "align": "left"
          },
          "hovermode": "closest",
          "mapbox": {
           "style": "light"
          },
          "paper_bgcolor": "white",
          "plot_bgcolor": "#E5ECF6",
          "polar": {
           "angularaxis": {
            "gridcolor": "white",
            "linecolor": "white",
            "ticks": ""
           },
           "bgcolor": "#E5ECF6",
           "radialaxis": {
            "gridcolor": "white",
            "linecolor": "white",
            "ticks": ""
           }
          },
          "scene": {
           "xaxis": {
            "backgroundcolor": "#E5ECF6",
            "gridcolor": "white",
            "gridwidth": 2,
            "linecolor": "white",
            "showbackground": true,
            "ticks": "",
            "zerolinecolor": "white"
           },
           "yaxis": {
            "backgroundcolor": "#E5ECF6",
            "gridcolor": "white",
            "gridwidth": 2,
            "linecolor": "white",
            "showbackground": true,
            "ticks": "",
            "zerolinecolor": "white"
           },
           "zaxis": {
            "backgroundcolor": "#E5ECF6",
            "gridcolor": "white",
            "gridwidth": 2,
            "linecolor": "white",
            "showbackground": true,
            "ticks": "",
            "zerolinecolor": "white"
           }
          },
          "shapedefaults": {
           "line": {
            "color": "#2a3f5f"
           }
          },
          "ternary": {
           "aaxis": {
            "gridcolor": "white",
            "linecolor": "white",
            "ticks": ""
           },
           "baxis": {
            "gridcolor": "white",
            "linecolor": "white",
            "ticks": ""
           },
           "bgcolor": "#E5ECF6",
           "caxis": {
            "gridcolor": "white",
            "linecolor": "white",
            "ticks": ""
           }
          },
          "title": {
           "x": 0.05
          },
          "xaxis": {
           "automargin": true,
           "gridcolor": "white",
           "linecolor": "white",
           "ticks": "",
           "title": {
            "standoff": 15
           },
           "zerolinecolor": "white",
           "zerolinewidth": 2
          },
          "yaxis": {
           "automargin": true,
           "gridcolor": "white",
           "linecolor": "white",
           "ticks": "",
           "title": {
            "standoff": 15
           },
           "zerolinecolor": "white",
           "zerolinewidth": 2
          }
         }
        },
        "title": {
         "text": "Temperatura promedio en el mundo"
        },
        "xaxis": {
         "title": {
          "text": "Año"
         }
        },
        "yaxis": {
         "title": {
          "text": "Temperatura promedio, °C"
         }
        }
       }
      },
      "text/html": [
       "<div>                            <div id=\"6462845d-2032-4e48-a0b5-b11811f3a036\" class=\"plotly-graph-div\" style=\"height:525px; width:100%;\"></div>            <script type=\"text/javascript\">                require([\"plotly\"], function(Plotly) {                    window.PLOTLYENV=window.PLOTLYENV || {};                                    if (document.getElementById(\"6462845d-2032-4e48-a0b5-b11811f3a036\")) {                    Plotly.newPlot(                        \"6462845d-2032-4e48-a0b5-b11811f3a036\",                        [{\"line\":{\"color\":\"rgb(0, 255, 255)\"},\"mode\":\"lines\",\"name\":\"Uncertainty top\",\"x\":[\"1750\",\"1751\",\"1752\",\"1753\",\"1754\",\"1755\",\"1756\",\"1757\",\"1758\",\"1759\",\"1760\",\"1761\",\"1762\",\"1763\",\"1764\",\"1765\",\"1766\",\"1767\",\"1768\",\"1769\",\"1770\",\"1771\",\"1772\",\"1773\",\"1774\",\"1775\",\"1776\",\"1777\",\"1778\",\"1779\",\"1780\",\"1781\",\"1782\",\"1783\",\"1784\",\"1785\",\"1786\",\"1787\",\"1788\",\"1789\",\"1790\",\"1791\",\"1792\",\"1793\",\"1794\",\"1795\",\"1796\",\"1797\",\"1798\",\"1799\",\"1800\",\"1801\",\"1802\",\"1803\",\"1804\",\"1805\",\"1806\",\"1807\",\"1808\",\"1809\",\"1810\",\"1811\",\"1812\",\"1813\",\"1814\",\"1815\",\"1816\",\"1817\",\"1818\",\"1819\",\"1820\",\"1821\",\"1822\",\"1823\",\"1824\",\"1825\",\"1826\",\"1827\",\"1828\",\"1829\",\"1830\",\"1831\",\"1832\",\"1833\",\"1834\",\"1835\",\"1836\",\"1837\",\"1838\",\"1839\",\"1840\",\"1841\",\"1842\",\"1843\",\"1844\",\"1845\",\"1846\",\"1847\",\"1848\",\"1849\",\"1850\",\"1851\",\"1852\",\"1853\",\"1854\",\"1855\",\"1856\",\"1857\",\"1858\",\"1859\",\"1860\",\"1861\",\"1862\",\"1863\",\"1864\",\"1865\",\"1866\",\"1867\",\"1868\",\"1869\",\"1870\",\"1871\",\"1872\",\"1873\",\"1874\",\"1875\",\"1876\",\"1877\",\"1878\",\"1879\",\"1880\",\"1881\",\"1882\",\"1883\",\"1884\",\"1885\",\"1886\",\"1887\",\"1888\",\"1889\",\"1890\",\"1891\",\"1892\",\"1893\",\"1894\",\"1895\",\"1896\",\"1897\",\"1898\",\"1899\",\"1900\",\"1901\",\"1902\",\"1903\",\"1904\",\"1905\",\"1906\",\"1907\",\"1908\",\"1909\",\"1910\",\"1911\",\"1912\",\"1913\",\"1914\",\"1915\",\"1916\",\"1917\",\"1918\",\"1919\",\"1920\",\"1921\",\"1922\",\"1923\",\"1924\",\"1925\",\"1926\",\"1927\",\"1928\",\"1929\",\"1930\",\"1931\",\"1932\",\"1933\",\"1934\",\"1935\",\"1936\",\"1937\",\"1938\",\"1939\",\"1940\",\"1941\",\"1942\",\"1943\",\"1944\",\"1945\",\"1946\",\"1947\",\"1948\",\"1949\",\"1950\",\"1951\",\"1952\",\"1953\",\"1954\",\"1955\",\"1956\",\"1957\",\"1958\",\"1959\",\"1960\",\"1961\",\"1962\",\"1963\",\"1964\",\"1965\",\"1966\",\"1967\",\"1968\",\"1969\",\"1970\",\"1971\",\"1972\",\"1973\",\"1974\",\"1975\",\"1976\",\"1977\",\"1978\",\"1979\",\"1980\",\"1981\",\"1982\",\"1983\",\"1984\",\"1985\",\"1986\",\"1987\",\"1988\",\"1989\",\"1990\",\"1991\",\"1992\",\"1993\",\"1994\",\"1995\",\"1996\",\"1997\",\"1998\",\"1999\",\"2000\",\"2001\",\"2002\",\"2003\",\"2004\",\"2005\",\"2006\",\"2007\",\"2008\",\"2009\",\"2010\",\"2011\",\"2012\",\"2013\",\"2014\",\"2015\"],\"y\":[11.357181818181818,10.757285714285715,8.756833333333333,11.564083333333334,11.963583333333334,12.205916666666667,12.111916666666666,13.048000000000002,10.1065,11.664,10.274083333333333,11.917333333333332,12.130750000000003,10.648333333333332,11.175583333333334,10.679666666666666,11.2415,11.184166666666666,9.047333333333334,10.104666666666667,10.472583333333333,10.45775,10.657333333333334,10.58225,12.187333333333335,11.503666666666668,11.168166666666666,10.699083333333334,11.41475,11.489083333333333,12.017750000000001,10.606416666666666,10.451833333333333,10.17525,10.117666666666668,9.6025,10.783583333333333,10.393583333333334,11.004999999999999,10.202833333333333,9.754,10.017999999999999,9.789416666666668,10.503583333333333,10.505,10.393666666666666,10.191666666666666,10.556250000000002,10.573583333333335,10.244166666666665,10.202916666666669,10.171333333333335,10.427166666666666,10.136166666666666,10.686666666666667,10.251666666666665,10.004166666666665,9.873666666666665,9.623666666666667,9.211833333333333,9.233666666666668,8.95525,9.181833333333334,9.44875,9.760250000000001,9.205833333333334,9.130416666666667,8.684000000000001,9.658000000000001,8.951083333333335,9.234999999999998,9.465916666666665,9.563583333333334,9.080916666666667,9.995000000000001,9.897166666666667,9.916166666666669,10.252333333333333,9.813749999999997,9.26158333333333,9.948166666666667,9.170666666666667,8.990583333333333,9.246500000000001,9.299000000000001,8.667833333333332,8.86525,8.666583333333334,8.677249999999999,8.811666666666666,8.787416666666667,8.640166666666666,8.92025,8.9235,8.572333333333333,8.732666666666667,9.6045,8.986666666666666,8.850833333333334,8.898,8.777083333333334,9.0605,9.018416666666667,8.876833333333334,9.036166666666666,8.997916666666665,8.756666666666666,8.509250000000002,8.8,8.926666666666668,8.586833333333333,8.499916666666667,8.247500000000002,8.859833333333333,8.660000000000002,8.84,8.898166666666667,9.071166666666667,8.79425,9.02775,8.7515,8.685333333333332,8.782916666666665,8.901583333333333,8.951416666666667,8.311083333333334,8.513583333333333,8.9955,9.254666666666667,8.629249999999999,8.533666666666665,8.69025,8.508833333333333,8.347583333333333,8.169916666666667,8.344666666666669,8.340499999999999,8.307,8.472916666666666,8.688833333333333,8.314666666666668,8.354666666666667,8.404666666666667,8.402,8.47825,8.446250000000001,8.52375,8.607166666666668,8.503666666666666,8.721083333333333,8.816333333333333,8.848166666666666,8.597166666666666,8.510166666666667,8.377333333333333,8.503916666666665,8.654,8.204333333333334,8.460833333333333,8.441,8.483083333333335,8.424833333333336,8.423833333333334,8.559999999999999,8.842416666666667,8.839333333333334,8.485666666666667,8.283999999999999,8.399083333333332,8.649000000000001,8.621416666666665,8.827833333333333,8.666583333333335,8.675249999999998,8.763666666666667,8.775166666666667,8.9715,8.770999999999999,8.880749999999999,8.494166666666665,8.873249999999999,8.957,8.954166666666667,8.580916666666667,8.868416666666668,8.751666666666665,8.797083333333333,8.938416666666665,9.104166666666668,8.997666666666667,8.995750000000001,8.9965,8.957916666666664,8.981666666666667,9.070166666666667,8.805166666666665,8.899333333333335,9.014166666666666,8.956333333333333,8.795,8.551583333333335,8.809833333333332,8.847000000000001,9.085833333333335,8.747833333333332,8.779833333333334,8.400416666666667,8.8905,8.878083333333334,8.839833333333331,8.67725,8.894666666666666,8.878833333333333,8.948333333333332,8.502166666666666,8.63625,8.691583333333334,8.78375,8.628,8.68025,8.776499999999999,8.697166666666668,8.594916666666666,9.049,8.572,8.841916666666668,8.44783333333333,8.934916666666666,8.796583333333333,8.819833333333333,9.087,9.253083333333333,8.721833333333333,9.122166666666665,8.794416666666669,8.751249999999999,8.918583333333334,9.079583333333334,9.281666666666666,9.010000000000002,9.320500000000001,9.2415,8.919916666666666,8.947916666666666,9.109666666666666,9.4235,9.123666666666667,9.291166666666665,9.596583333333333,9.364333333333333,9.284666666666668,9.502,9.642833333333334,9.61625,9.408,9.776083333333332,9.622499999999999,9.821666666666665,9.510666666666667,9.591166666666666,9.786499999999998,9.598,9.59075,9.704166666666666,9.660833333333333,9.923166666666669],\"type\":\"scatter\"},{\"fill\":\"tonexty\",\"line\":{\"color\":\"rgb(0, 255, 255)\"},\"mode\":\"lines\",\"name\":\"Uncertainty bot\",\"x\":[\"1750\",\"1751\",\"1752\",\"1753\",\"1754\",\"1755\",\"1756\",\"1757\",\"1758\",\"1759\",\"1760\",\"1761\",\"1762\",\"1763\",\"1764\",\"1765\",\"1766\",\"1767\",\"1768\",\"1769\",\"1770\",\"1771\",\"1772\",\"1773\",\"1774\",\"1775\",\"1776\",\"1777\",\"1778\",\"1779\",\"1780\",\"1781\",\"1782\",\"1783\",\"1784\",\"1785\",\"1786\",\"1787\",\"1788\",\"1789\",\"1790\",\"1791\",\"1792\",\"1793\",\"1794\",\"1795\",\"1796\",\"1797\",\"1798\",\"1799\",\"1800\",\"1801\",\"1802\",\"1803\",\"1804\",\"1805\",\"1806\",\"1807\",\"1808\",\"1809\",\"1810\",\"1811\",\"1812\",\"1813\",\"1814\",\"1815\",\"1816\",\"1817\",\"1818\",\"1819\",\"1820\",\"1821\",\"1822\",\"1823\",\"1824\",\"1825\",\"1826\",\"1827\",\"1828\",\"1829\",\"1830\",\"1831\",\"1832\",\"1833\",\"1834\",\"1835\",\"1836\",\"1837\",\"1838\",\"1839\",\"1840\",\"1841\",\"1842\",\"1843\",\"1844\",\"1845\",\"1846\",\"1847\",\"1848\",\"1849\",\"1850\",\"1851\",\"1852\",\"1853\",\"1854\",\"1855\",\"1856\",\"1857\",\"1858\",\"1859\",\"1860\",\"1861\",\"1862\",\"1863\",\"1864\",\"1865\",\"1866\",\"1867\",\"1868\",\"1869\",\"1870\",\"1871\",\"1872\",\"1873\",\"1874\",\"1875\",\"1876\",\"1877\",\"1878\",\"1879\",\"1880\",\"1881\",\"1882\",\"1883\",\"1884\",\"1885\",\"1886\",\"1887\",\"1888\",\"1889\",\"1890\",\"1891\",\"1892\",\"1893\",\"1894\",\"1895\",\"1896\",\"1897\",\"1898\",\"1899\",\"1900\",\"1901\",\"1902\",\"1903\",\"1904\",\"1905\",\"1906\",\"1907\",\"1908\",\"1909\",\"1910\",\"1911\",\"1912\",\"1913\",\"1914\",\"1915\",\"1916\",\"1917\",\"1918\",\"1919\",\"1920\",\"1921\",\"1922\",\"1923\",\"1924\",\"1925\",\"1926\",\"1927\",\"1928\",\"1929\",\"1930\",\"1931\",\"1932\",\"1933\",\"1934\",\"1935\",\"1936\",\"1937\",\"1938\",\"1939\",\"1940\",\"1941\",\"1942\",\"1943\",\"1944\",\"1945\",\"1946\",\"1947\",\"1948\",\"1949\",\"1950\",\"1951\",\"1952\",\"1953\",\"1954\",\"1955\",\"1956\",\"1957\",\"1958\",\"1959\",\"1960\",\"1961\",\"1962\",\"1963\",\"1964\",\"1965\",\"1966\",\"1967\",\"1968\",\"1969\",\"1970\",\"1971\",\"1972\",\"1973\",\"1974\",\"1975\",\"1976\",\"1977\",\"1978\",\"1979\",\"1980\",\"1981\",\"1982\",\"1983\",\"1984\",\"1985\",\"1986\",\"1987\",\"1988\",\"1989\",\"1990\",\"1991\",\"1992\",\"1993\",\"1994\",\"1995\",\"1996\",\"1997\",\"1998\",\"1999\",\"2000\",\"2001\",\"2002\",\"2003\",\"2004\",\"2005\",\"2006\",\"2007\",\"2008\",\"2009\",\"2010\",\"2011\",\"2012\",\"2013\",\"2014\",\"2015\"],\"y\":[6.081545454545456,5.194999999999999,2.8028333333333326,5.212083333333334,4.975083333333332,4.50525,5.587250000000001,4.9959999999999996,3.3806666666666665,4.306166666666666,4.096250000000001,5.627666666666666,5.082250000000002,4.345166666666666,5.625083333333334,5.824166666666664,5.569833333333333,5.258833333333335,4.5153333333333325,5.284500000000001,4.91125,5.248583333333334,5.729666666666667,5.860750000000001,5.357000000000003,6.862500000000001,5.439833333333334,5.813416666666669,5.669749999999999,6.477416666666667,6.848083333333333,5.598750000000001,5.350666666666667,5.186416666666666,5.606333333333334,5.1235,5.732749999999999,5.6700833333333325,5.889333333333333,6.4655,6.210666666666667,6.4505,6.388583333333334,5.954749999999999,6.5470000000000015,6.307,6.3503333333333325,6.464916666666667,6.766916666666668,6.767333333333332,6.765583333333335,7.008000000000001,6.729166666666666,6.869833333333333,7.003,6.873833333333333,6.863999999999998,6.689166666666665,5.63,4.941000000000001,4.611666666666667,4.76375,4.910666666666666,6.031083333333333,5.423250000000001,5.272833333333334,4.744583333333333,5.267333333333335,5.999833333333334,5.787250000000001,5.997499999999998,6.714249999999999,6.813083333333334,6.356416666666667,7.099333333333334,6.8815,6.7970000000000015,7.365166666666666,6.516916666666664,6.6220833333333315,7.085333333333334,6.107666666666667,5.909750000000001,6.779500000000001,6.994500000000001,6.117166666666666,6.526416666666667,6.0847500000000005,6.352583333333332,6.452833333333332,6.805083333333334,6.736166666666667,7.12525,7.423833333333334,6.7203333333333335,6.969666666666668,7.5009999999999994,7.185333333333333,7.108166666666667,7.070833333333334,7.024249999999999,7.296666666666665,7.181916666666666,7.206833333333333,7.384833333333333,7.223583333333331,7.235166666666666,7.007083333333334,7.400500000000001,7.577333333333334,7.334833333333332,7.193083333333335,6.869666666666668,7.363833333333333,7.307166666666668,7.515666666666667,7.686166666666667,7.801500000000001,7.701583333333334,7.836416666666667,7.651166666666666,7.544833333333333,7.604749999999999,7.800583333333334,7.915583333333334,7.408083333333334,7.646583333333332,8.083666666666666,8.404833333333334,7.702416666666665,7.703833333333332,7.851583333333333,7.7490000000000006,7.606249999999998,7.377416666666667,7.494666666666668,7.5684999999999985,7.522833333333333,7.708083333333334,7.949166666666666,7.628666666666667,7.684,7.727,7.711499999999999,7.84375,7.8477500000000004,7.906083333333332,7.979500000000002,7.852333333333332,8.071583333333333,8.186833333333333,8.235666666666665,8.011666666666667,7.9301666666666675,7.8045,7.946416666666665,8.104166666666668,7.69,7.911333333333334,7.915500000000001,7.9629166666666675,7.929166666666668,7.907000000000001,8.035499999999999,8.338583333333334,8.347,7.964833333333334,7.762666666666665,7.8625833333333315,8.1155,8.096083333333333,8.314166666666667,8.149416666666667,8.169083333333333,8.250000000000002,8.293666666666667,8.486166666666668,8.273166666666667,8.383583333333334,7.990666666666665,8.393916666666666,8.4815,8.456333333333335,8.095583333333334,8.388250000000003,8.279833333333332,8.310916666666667,8.45825,8.623166666666666,8.523,8.533583333333333,8.540833333333333,8.498916666666664,8.5285,8.619833333333334,8.3645,8.454500000000003,8.58,8.537166666666668,8.3785,8.178916666666668,8.4415,8.4295,8.661666666666667,8.3735,8.472666666666667,8.15875,8.5745,8.669416666666669,8.625499999999999,8.49025,8.700666666666667,8.613,8.763666666666667,8.317166666666667,8.418583333333334,8.507083333333334,8.616416666666668,8.404666666666667,8.509916666666667,8.625333333333334,8.501333333333335,8.404250000000001,8.8475,8.363,8.64775,8.246666666666664,8.765583333333332,8.588916666666664,8.647,8.873666666666665,9.078583333333334,8.5565,8.934166666666666,8.589250000000002,8.56475,8.748583333333332,8.909250000000002,9.121500000000001,8.834000000000003,9.147833333333333,9.117333333333333,8.753249999999998,8.78525,8.967833333333331,9.270666666666667,8.954166666666667,9.113999999999997,9.448749999999999,9.205833333333333,9.117666666666667,9.327166666666669,9.498,9.434916666666666,9.241166666666667,9.62575,9.442499999999999,9.642666666666667,9.352833333333335,9.419333333333334,9.619666666666665,9.434,9.423916666666667,9.508833333333332,9.4805,9.738833333333334],\"type\":\"scatter\"},{\"line\":{\"color\":\"rgb(199, 121, 093)\"},\"name\":\"Average Temperature\",\"x\":[\"1750\",\"1751\",\"1752\",\"1753\",\"1754\",\"1755\",\"1756\",\"1757\",\"1758\",\"1759\",\"1760\",\"1761\",\"1762\",\"1763\",\"1764\",\"1765\",\"1766\",\"1767\",\"1768\",\"1769\",\"1770\",\"1771\",\"1772\",\"1773\",\"1774\",\"1775\",\"1776\",\"1777\",\"1778\",\"1779\",\"1780\",\"1781\",\"1782\",\"1783\",\"1784\",\"1785\",\"1786\",\"1787\",\"1788\",\"1789\",\"1790\",\"1791\",\"1792\",\"1793\",\"1794\",\"1795\",\"1796\",\"1797\",\"1798\",\"1799\",\"1800\",\"1801\",\"1802\",\"1803\",\"1804\",\"1805\",\"1806\",\"1807\",\"1808\",\"1809\",\"1810\",\"1811\",\"1812\",\"1813\",\"1814\",\"1815\",\"1816\",\"1817\",\"1818\",\"1819\",\"1820\",\"1821\",\"1822\",\"1823\",\"1824\",\"1825\",\"1826\",\"1827\",\"1828\",\"1829\",\"1830\",\"1831\",\"1832\",\"1833\",\"1834\",\"1835\",\"1836\",\"1837\",\"1838\",\"1839\",\"1840\",\"1841\",\"1842\",\"1843\",\"1844\",\"1845\",\"1846\",\"1847\",\"1848\",\"1849\",\"1850\",\"1851\",\"1852\",\"1853\",\"1854\",\"1855\",\"1856\",\"1857\",\"1858\",\"1859\",\"1860\",\"1861\",\"1862\",\"1863\",\"1864\",\"1865\",\"1866\",\"1867\",\"1868\",\"1869\",\"1870\",\"1871\",\"1872\",\"1873\",\"1874\",\"1875\",\"1876\",\"1877\",\"1878\",\"1879\",\"1880\",\"1881\",\"1882\",\"1883\",\"1884\",\"1885\",\"1886\",\"1887\",\"1888\",\"1889\",\"1890\",\"1891\",\"1892\",\"1893\",\"1894\",\"1895\",\"1896\",\"1897\",\"1898\",\"1899\",\"1900\",\"1901\",\"1902\",\"1903\",\"1904\",\"1905\",\"1906\",\"1907\",\"1908\",\"1909\",\"1910\",\"1911\",\"1912\",\"1913\",\"1914\",\"1915\",\"1916\",\"1917\",\"1918\",\"1919\",\"1920\",\"1921\",\"1922\",\"1923\",\"1924\",\"1925\",\"1926\",\"1927\",\"1928\",\"1929\",\"1930\",\"1931\",\"1932\",\"1933\",\"1934\",\"1935\",\"1936\",\"1937\",\"1938\",\"1939\",\"1940\",\"1941\",\"1942\",\"1943\",\"1944\",\"1945\",\"1946\",\"1947\",\"1948\",\"1949\",\"1950\",\"1951\",\"1952\",\"1953\",\"1954\",\"1955\",\"1956\",\"1957\",\"1958\",\"1959\",\"1960\",\"1961\",\"1962\",\"1963\",\"1964\",\"1965\",\"1966\",\"1967\",\"1968\",\"1969\",\"1970\",\"1971\",\"1972\",\"1973\",\"1974\",\"1975\",\"1976\",\"1977\",\"1978\",\"1979\",\"1980\",\"1981\",\"1982\",\"1983\",\"1984\",\"1985\",\"1986\",\"1987\",\"1988\",\"1989\",\"1990\",\"1991\",\"1992\",\"1993\",\"1994\",\"1995\",\"1996\",\"1997\",\"1998\",\"1999\",\"2000\",\"2001\",\"2002\",\"2003\",\"2004\",\"2005\",\"2006\",\"2007\",\"2008\",\"2009\",\"2010\",\"2011\",\"2012\",\"2013\",\"2014\",\"2015\"],\"y\":[8.719363636363637,7.9761428571428565,5.7798333333333325,8.388083333333334,8.469333333333333,8.355583333333334,8.849583333333333,9.022,6.7435833333333335,7.985083333333333,7.185166666666667,8.772499999999999,8.606500000000002,7.496749999999999,8.400333333333334,8.251916666666665,8.405666666666667,8.2215,6.781333333333333,7.694583333333334,7.691916666666667,7.8531666666666675,8.1935,8.2215,8.772166666666669,9.183083333333334,8.304,8.256250000000001,8.54225,8.98325,9.432916666666667,8.102583333333333,7.90125,7.680833333333333,7.862000000000001,7.3629999999999995,8.258166666666666,8.031833333333333,8.447166666666666,8.334166666666667,7.982333333333333,8.23425,8.089,8.229166666666666,8.526000000000002,8.350333333333333,8.270999999999999,8.510583333333335,8.670250000000001,8.505749999999999,8.484250000000001,8.589666666666668,8.578166666666666,8.503,8.844833333333334,8.56275,8.434083333333332,8.281416666666665,7.626833333333333,7.076416666666667,6.922666666666667,6.8595,7.04625,7.739916666666667,7.591750000000001,7.239333333333334,6.9375,6.975666666666668,7.828916666666667,7.3691666666666675,7.616249999999998,8.090083333333332,8.188333333333334,7.7186666666666675,8.547166666666667,8.389333333333333,8.356583333333335,8.80875,8.165333333333331,7.9418333333333315,8.51675,7.639166666666667,7.450166666666667,8.013000000000002,8.14675,7.392499999999999,7.695833333333334,7.3756666666666675,7.514916666666665,7.632249999999998,7.796250000000001,7.688166666666667,8.02275,8.173666666666668,7.646333333333334,7.851166666666668,8.55275,8.086,7.979500000000001,7.984416666666667,7.900666666666666,8.178583333333332,8.100166666666667,8.041833333333333,8.2105,8.110749999999998,7.995916666666666,7.758166666666668,8.10025,8.252,7.9608333333333325,7.846500000000002,7.558583333333335,8.111833333333333,7.983583333333335,8.177833333333334,8.292166666666667,8.436333333333334,8.247916666666667,8.432083333333333,8.201333333333332,8.115083333333333,8.193833333333332,8.351083333333333,8.4335,7.859583333333334,8.080083333333333,8.539583333333333,8.82975,8.165833333333332,8.118749999999999,8.270916666666666,8.128916666666667,7.976916666666665,7.773666666666667,7.919666666666668,7.954499999999999,7.914916666666667,8.0905,8.318999999999999,7.971666666666667,8.019333333333334,8.065833333333334,8.05675,8.161,8.147,8.214916666666666,8.293333333333335,8.177999999999999,8.396333333333333,8.501583333333333,8.541916666666665,8.304416666666667,8.220166666666668,8.090916666666667,8.225166666666665,8.379083333333334,7.947166666666667,8.186083333333334,8.17825,8.223,8.177000000000001,8.165416666666667,8.297749999999999,8.5905,8.593166666666667,8.22525,8.023333333333332,8.130833333333332,8.38225,8.358749999999999,8.571,8.408000000000001,8.422166666666666,8.506833333333335,8.534416666666667,8.728833333333334,8.522083333333333,8.632166666666667,8.242416666666665,8.633583333333332,8.71925,8.705250000000001,8.33825,8.628333333333336,8.515749999999999,8.554,8.698333333333332,8.863666666666667,8.760333333333334,8.764666666666667,8.768666666666666,8.728416666666664,8.755083333333333,8.845,8.584833333333332,8.676916666666669,8.797083333333333,8.74675,8.58675,8.365250000000001,8.625666666666666,8.638250000000001,8.873750000000001,8.560666666666666,8.62625,8.279583333333333,8.7325,8.773750000000001,8.732666666666665,8.58375,8.797666666666666,8.745916666666666,8.856,8.409666666666666,8.527416666666667,8.599333333333334,8.700083333333334,8.516333333333334,8.595083333333333,8.700916666666666,8.599250000000001,8.499583333333334,8.94825,8.4675,8.744833333333334,8.347249999999997,8.850249999999999,8.692749999999998,8.733416666666667,8.980333333333332,9.165833333333333,8.639166666666666,9.028166666666666,8.691833333333335,8.658,8.833583333333333,8.994416666666668,9.201583333333334,8.922000000000002,9.234166666666667,9.179416666666667,8.836583333333332,8.866583333333333,9.038749999999999,9.347083333333334,9.038916666666667,9.202583333333331,9.522666666666666,9.285083333333333,9.201166666666667,9.414583333333335,9.570416666666667,9.525583333333334,9.324583333333333,9.700916666666666,9.532499999999999,9.732166666666666,9.431750000000001,9.50525,9.703083333333332,9.516,9.507333333333333,9.606499999999999,9.570666666666666,9.831000000000001],\"type\":\"scatter\"}],                        {\"showlegend\":false,\"template\":{\"data\":{\"barpolar\":[{\"marker\":{\"line\":{\"color\":\"#E5ECF6\",\"width\":0.5},\"pattern\":{\"fillmode\":\"overlay\",\"size\":10,\"solidity\":0.2}},\"type\":\"barpolar\"}],\"bar\":[{\"error_x\":{\"color\":\"#2a3f5f\"},\"error_y\":{\"color\":\"#2a3f5f\"},\"marker\":{\"line\":{\"color\":\"#E5ECF6\",\"width\":0.5},\"pattern\":{\"fillmode\":\"overlay\",\"size\":10,\"solidity\":0.2}},\"type\":\"bar\"}],\"carpet\":[{\"aaxis\":{\"endlinecolor\":\"#2a3f5f\",\"gridcolor\":\"white\",\"linecolor\":\"white\",\"minorgridcolor\":\"white\",\"startlinecolor\":\"#2a3f5f\"},\"baxis\":{\"endlinecolor\":\"#2a3f5f\",\"gridcolor\":\"white\",\"linecolor\":\"white\",\"minorgridcolor\":\"white\",\"startlinecolor\":\"#2a3f5f\"},\"type\":\"carpet\"}],\"choropleth\":[{\"colorbar\":{\"outlinewidth\":0,\"ticks\":\"\"},\"type\":\"choropleth\"}],\"contourcarpet\":[{\"colorbar\":{\"outlinewidth\":0,\"ticks\":\"\"},\"type\":\"contourcarpet\"}],\"contour\":[{\"colorbar\":{\"outlinewidth\":0,\"ticks\":\"\"},\"colorscale\":[[0.0,\"#0d0887\"],[0.1111111111111111,\"#46039f\"],[0.2222222222222222,\"#7201a8\"],[0.3333333333333333,\"#9c179e\"],[0.4444444444444444,\"#bd3786\"],[0.5555555555555556,\"#d8576b\"],[0.6666666666666666,\"#ed7953\"],[0.7777777777777778,\"#fb9f3a\"],[0.8888888888888888,\"#fdca26\"],[1.0,\"#f0f921\"]],\"type\":\"contour\"}],\"heatmapgl\":[{\"colorbar\":{\"outlinewidth\":0,\"ticks\":\"\"},\"colorscale\":[[0.0,\"#0d0887\"],[0.1111111111111111,\"#46039f\"],[0.2222222222222222,\"#7201a8\"],[0.3333333333333333,\"#9c179e\"],[0.4444444444444444,\"#bd3786\"],[0.5555555555555556,\"#d8576b\"],[0.6666666666666666,\"#ed7953\"],[0.7777777777777778,\"#fb9f3a\"],[0.8888888888888888,\"#fdca26\"],[1.0,\"#f0f921\"]],\"type\":\"heatmapgl\"}],\"heatmap\":[{\"colorbar\":{\"outlinewidth\":0,\"ticks\":\"\"},\"colorscale\":[[0.0,\"#0d0887\"],[0.1111111111111111,\"#46039f\"],[0.2222222222222222,\"#7201a8\"],[0.3333333333333333,\"#9c179e\"],[0.4444444444444444,\"#bd3786\"],[0.5555555555555556,\"#d8576b\"],[0.6666666666666666,\"#ed7953\"],[0.7777777777777778,\"#fb9f3a\"],[0.8888888888888888,\"#fdca26\"],[1.0,\"#f0f921\"]],\"type\":\"heatmap\"}],\"histogram2dcontour\":[{\"colorbar\":{\"outlinewidth\":0,\"ticks\":\"\"},\"colorscale\":[[0.0,\"#0d0887\"],[0.1111111111111111,\"#46039f\"],[0.2222222222222222,\"#7201a8\"],[0.3333333333333333,\"#9c179e\"],[0.4444444444444444,\"#bd3786\"],[0.5555555555555556,\"#d8576b\"],[0.6666666666666666,\"#ed7953\"],[0.7777777777777778,\"#fb9f3a\"],[0.8888888888888888,\"#fdca26\"],[1.0,\"#f0f921\"]],\"type\":\"histogram2dcontour\"}],\"histogram2d\":[{\"colorbar\":{\"outlinewidth\":0,\"ticks\":\"\"},\"colorscale\":[[0.0,\"#0d0887\"],[0.1111111111111111,\"#46039f\"],[0.2222222222222222,\"#7201a8\"],[0.3333333333333333,\"#9c179e\"],[0.4444444444444444,\"#bd3786\"],[0.5555555555555556,\"#d8576b\"],[0.6666666666666666,\"#ed7953\"],[0.7777777777777778,\"#fb9f3a\"],[0.8888888888888888,\"#fdca26\"],[1.0,\"#f0f921\"]],\"type\":\"histogram2d\"}],\"histogram\":[{\"marker\":{\"pattern\":{\"fillmode\":\"overlay\",\"size\":10,\"solidity\":0.2}},\"type\":\"histogram\"}],\"mesh3d\":[{\"colorbar\":{\"outlinewidth\":0,\"ticks\":\"\"},\"type\":\"mesh3d\"}],\"parcoords\":[{\"line\":{\"colorbar\":{\"outlinewidth\":0,\"ticks\":\"\"}},\"type\":\"parcoords\"}],\"pie\":[{\"automargin\":true,\"type\":\"pie\"}],\"scatter3d\":[{\"line\":{\"colorbar\":{\"outlinewidth\":0,\"ticks\":\"\"}},\"marker\":{\"colorbar\":{\"outlinewidth\":0,\"ticks\":\"\"}},\"type\":\"scatter3d\"}],\"scattercarpet\":[{\"marker\":{\"colorbar\":{\"outlinewidth\":0,\"ticks\":\"\"}},\"type\":\"scattercarpet\"}],\"scattergeo\":[{\"marker\":{\"colorbar\":{\"outlinewidth\":0,\"ticks\":\"\"}},\"type\":\"scattergeo\"}],\"scattergl\":[{\"marker\":{\"colorbar\":{\"outlinewidth\":0,\"ticks\":\"\"}},\"type\":\"scattergl\"}],\"scattermapbox\":[{\"marker\":{\"colorbar\":{\"outlinewidth\":0,\"ticks\":\"\"}},\"type\":\"scattermapbox\"}],\"scatterpolargl\":[{\"marker\":{\"colorbar\":{\"outlinewidth\":0,\"ticks\":\"\"}},\"type\":\"scatterpolargl\"}],\"scatterpolar\":[{\"marker\":{\"colorbar\":{\"outlinewidth\":0,\"ticks\":\"\"}},\"type\":\"scatterpolar\"}],\"scatter\":[{\"fillpattern\":{\"fillmode\":\"overlay\",\"size\":10,\"solidity\":0.2},\"type\":\"scatter\"}],\"scatterternary\":[{\"marker\":{\"colorbar\":{\"outlinewidth\":0,\"ticks\":\"\"}},\"type\":\"scatterternary\"}],\"surface\":[{\"colorbar\":{\"outlinewidth\":0,\"ticks\":\"\"},\"colorscale\":[[0.0,\"#0d0887\"],[0.1111111111111111,\"#46039f\"],[0.2222222222222222,\"#7201a8\"],[0.3333333333333333,\"#9c179e\"],[0.4444444444444444,\"#bd3786\"],[0.5555555555555556,\"#d8576b\"],[0.6666666666666666,\"#ed7953\"],[0.7777777777777778,\"#fb9f3a\"],[0.8888888888888888,\"#fdca26\"],[1.0,\"#f0f921\"]],\"type\":\"surface\"}],\"table\":[{\"cells\":{\"fill\":{\"color\":\"#EBF0F8\"},\"line\":{\"color\":\"white\"}},\"header\":{\"fill\":{\"color\":\"#C8D4E3\"},\"line\":{\"color\":\"white\"}},\"type\":\"table\"}]},\"layout\":{\"annotationdefaults\":{\"arrowcolor\":\"#2a3f5f\",\"arrowhead\":0,\"arrowwidth\":1},\"autotypenumbers\":\"strict\",\"coloraxis\":{\"colorbar\":{\"outlinewidth\":0,\"ticks\":\"\"}},\"colorscale\":{\"diverging\":[[0,\"#8e0152\"],[0.1,\"#c51b7d\"],[0.2,\"#de77ae\"],[0.3,\"#f1b6da\"],[0.4,\"#fde0ef\"],[0.5,\"#f7f7f7\"],[0.6,\"#e6f5d0\"],[0.7,\"#b8e186\"],[0.8,\"#7fbc41\"],[0.9,\"#4d9221\"],[1,\"#276419\"]],\"sequential\":[[0.0,\"#0d0887\"],[0.1111111111111111,\"#46039f\"],[0.2222222222222222,\"#7201a8\"],[0.3333333333333333,\"#9c179e\"],[0.4444444444444444,\"#bd3786\"],[0.5555555555555556,\"#d8576b\"],[0.6666666666666666,\"#ed7953\"],[0.7777777777777778,\"#fb9f3a\"],[0.8888888888888888,\"#fdca26\"],[1.0,\"#f0f921\"]],\"sequentialminus\":[[0.0,\"#0d0887\"],[0.1111111111111111,\"#46039f\"],[0.2222222222222222,\"#7201a8\"],[0.3333333333333333,\"#9c179e\"],[0.4444444444444444,\"#bd3786\"],[0.5555555555555556,\"#d8576b\"],[0.6666666666666666,\"#ed7953\"],[0.7777777777777778,\"#fb9f3a\"],[0.8888888888888888,\"#fdca26\"],[1.0,\"#f0f921\"]]},\"colorway\":[\"#636efa\",\"#EF553B\",\"#00cc96\",\"#ab63fa\",\"#FFA15A\",\"#19d3f3\",\"#FF6692\",\"#B6E880\",\"#FF97FF\",\"#FECB52\"],\"font\":{\"color\":\"#2a3f5f\"},\"geo\":{\"bgcolor\":\"white\",\"lakecolor\":\"white\",\"landcolor\":\"#E5ECF6\",\"showlakes\":true,\"showland\":true,\"subunitcolor\":\"white\"},\"hoverlabel\":{\"align\":\"left\"},\"hovermode\":\"closest\",\"mapbox\":{\"style\":\"light\"},\"paper_bgcolor\":\"white\",\"plot_bgcolor\":\"#E5ECF6\",\"polar\":{\"angularaxis\":{\"gridcolor\":\"white\",\"linecolor\":\"white\",\"ticks\":\"\"},\"bgcolor\":\"#E5ECF6\",\"radialaxis\":{\"gridcolor\":\"white\",\"linecolor\":\"white\",\"ticks\":\"\"}},\"scene\":{\"xaxis\":{\"backgroundcolor\":\"#E5ECF6\",\"gridcolor\":\"white\",\"gridwidth\":2,\"linecolor\":\"white\",\"showbackground\":true,\"ticks\":\"\",\"zerolinecolor\":\"white\"},\"yaxis\":{\"backgroundcolor\":\"#E5ECF6\",\"gridcolor\":\"white\",\"gridwidth\":2,\"linecolor\":\"white\",\"showbackground\":true,\"ticks\":\"\",\"zerolinecolor\":\"white\"},\"zaxis\":{\"backgroundcolor\":\"#E5ECF6\",\"gridcolor\":\"white\",\"gridwidth\":2,\"linecolor\":\"white\",\"showbackground\":true,\"ticks\":\"\",\"zerolinecolor\":\"white\"}},\"shapedefaults\":{\"line\":{\"color\":\"#2a3f5f\"}},\"ternary\":{\"aaxis\":{\"gridcolor\":\"white\",\"linecolor\":\"white\",\"ticks\":\"\"},\"baxis\":{\"gridcolor\":\"white\",\"linecolor\":\"white\",\"ticks\":\"\"},\"bgcolor\":\"#E5ECF6\",\"caxis\":{\"gridcolor\":\"white\",\"linecolor\":\"white\",\"ticks\":\"\"}},\"title\":{\"x\":0.05},\"xaxis\":{\"automargin\":true,\"gridcolor\":\"white\",\"linecolor\":\"white\",\"ticks\":\"\",\"title\":{\"standoff\":15},\"zerolinecolor\":\"white\",\"zerolinewidth\":2},\"yaxis\":{\"automargin\":true,\"gridcolor\":\"white\",\"linecolor\":\"white\",\"ticks\":\"\",\"title\":{\"standoff\":15},\"zerolinecolor\":\"white\",\"zerolinewidth\":2}}},\"title\":{\"text\":\"Temperatura promedio en el mundo\"},\"xaxis\":{\"title\":{\"text\":\"A\\u00f1o\"}},\"yaxis\":{\"title\":{\"text\":\"Temperatura promedio, \\u00b0C\"}}},                        {\"responsive\": true}                    ).then(function(){\n",
       "                            \n",
       "var gd = document.getElementById('6462845d-2032-4e48-a0b5-b11811f3a036');\n",
       "var x = new MutationObserver(function (mutations, observer) {{\n",
       "        var display = window.getComputedStyle(gd).display;\n",
       "        if (!display || display === 'none') {{\n",
       "            console.log([gd, 'removed!']);\n",
       "            Plotly.purge(gd);\n",
       "            observer.disconnect();\n",
       "        }}\n",
       "}});\n",
       "\n",
       "// Listen for the removal of the full notebook cells\n",
       "var notebookContainer = gd.closest('#notebook-container');\n",
       "if (notebookContainer) {{\n",
       "    x.observe(notebookContainer, {childList: true});\n",
       "}}\n",
       "\n",
       "// Listen for the clearing of the current output cell\n",
       "var outputEl = gd.closest('.output');\n",
       "if (outputEl) {{\n",
       "    x.observe(outputEl, {childList: true});\n",
       "}}\n",
       "\n",
       "                        })                };                });            </script>        </div>"
      ]
     },
     "metadata": {},
     "output_type": "display_data"
    }
   ],
   "source": [
    "# Creamos una lista de años unicos presentes en la columna 'Date' \n",
    "years = np.unique(global_temp['Date'].apply(lambda x: x[:4]))\n",
    "\n",
    "mean_temp_world = []\n",
    "mean_temp_world_uncertainty = []\n",
    "\n",
    "# Filtramos las filas del DataFrame donde los primeros cuatro caracteres de la columna 'Date' son iguales al año actual en la iteración.\n",
    "# Se calcula la media de la columna 'LandAverageTemperature' y 'LandAverageTemperatureUncertainty' para estas filas filtradas.\n",
    "for year in years:\n",
    "    mean_temp_world.append(global_temp[global_temp['Date'].apply(\n",
    "        lambda x: x[:4]) == year]['LandAverageTemperature'].mean())\n",
    "    mean_temp_world_uncertainty.append(global_temp[global_temp['Date'].apply(\n",
    "                lambda x: x[:4]) == year]['LandAverageTemperatureUncertainty'].mean())\n",
    "    \n",
    "# Creamos la traza que va por arriba de la temperatura promedio\n",
    "trace0 = go.Scatter(\n",
    "    x = years, \n",
    "    y = np.array(mean_temp_world) + np.array(mean_temp_world_uncertainty),\n",
    "    fill= None,\n",
    "    mode='lines',\n",
    "    name='Uncertainty top',\n",
    "    line=dict(\n",
    "        color='rgb(0, 255, 255)',\n",
    "    )\n",
    ")\n",
    "# Creamos la traza que va por debajo de la temperatura promedio\n",
    "trace1 = go.Scatter(\n",
    "    x = years, \n",
    "    y = np.array(mean_temp_world) - np.array(mean_temp_world_uncertainty),\n",
    "    fill='tonexty',\n",
    "    mode='lines',\n",
    "    name='Uncertainty bot',\n",
    "    line=dict(\n",
    "        color='rgb(0, 255, 255)',\n",
    "    )\n",
    ")\n",
    "# Creamos la traza de la temperatura promedio\n",
    "trace2 = go.Scatter(\n",
    "    x = years, \n",
    "    y = mean_temp_world,\n",
    "    name='Average Temperature',\n",
    "    line=dict(\n",
    "        color='rgb(199, 121, 093)',\n",
    "    )\n",
    ")\n",
    "\n",
    "data = [trace0, trace1, trace2]\n",
    "\n",
    "layout = go.Layout(\n",
    "    xaxis=dict(title='Año'),\n",
    "    yaxis=dict(title='Temperatura promedio, °C'),\n",
    "    title='Temperatura promedio en el mundo',\n",
    "    showlegend = False)\n",
    "\n",
    "fig = go.Figure(data=data, layout=layout)\n",
    "py.iplot(fig)"
   ]
  }
 ],
 "metadata": {
  "kernelspec": {
   "display_name": "Python 3",
   "language": "python",
   "name": "python3"
  },
  "language_info": {
   "codemirror_mode": {
    "name": "ipython",
    "version": 3
   },
   "file_extension": ".py",
   "mimetype": "text/x-python",
   "name": "python",
   "nbconvert_exporter": "python",
   "pygments_lexer": "ipython3",
   "version": "3.12.2"
  }
 },
 "nbformat": 4,
 "nbformat_minor": 2
}
