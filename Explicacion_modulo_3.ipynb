{
 "cells": [
  {
   "cell_type": "code",
   "execution_count": 92,
   "metadata": {},
   "outputs": [
    {
     "data": {
      "text/html": [
       "        <script type=\"text/javascript\">\n",
       "        window.PlotlyConfig = {MathJaxConfig: 'local'};\n",
       "        if (window.MathJax && window.MathJax.Hub && window.MathJax.Hub.Config) {window.MathJax.Hub.Config({SVG: {font: \"STIX-Web\"}});}\n",
       "        if (typeof require !== 'undefined') {\n",
       "        require.undef(\"plotly\");\n",
       "        requirejs.config({\n",
       "            paths: {\n",
       "                'plotly': ['https://cdn.plot.ly/plotly-2.30.0.min']\n",
       "            }\n",
       "        });\n",
       "        require(['plotly'], function(Plotly) {\n",
       "            window._Plotly = Plotly;\n",
       "        });\n",
       "        }\n",
       "        </script>\n",
       "        "
      ]
     },
     "metadata": {},
     "output_type": "display_data"
    }
   ],
   "source": [
    "# Importando todas las librerias del proyecto\n",
    "\n",
    "import numpy as np\n",
    "import pandas as pd\n",
    "import matplotlib.pyplot as plt\n",
    "import plotly.offline as py\n",
    "py.init_notebook_mode(connected=True)\n",
    "import plotly.graph_objs as go\n",
    "import plotly.tools as tls\n",
    "import seaborn as sns\n",
    "import time\n",
    "import warnings\n",
    "warnings.filterwarnings('ignore')"
   ]
  },
  {
   "cell_type": "code",
   "execution_count": 93,
   "metadata": {},
   "outputs": [
    {
     "data": {
      "text/html": [
       "<div>\n",
       "<style scoped>\n",
       "    .dataframe tbody tr th:only-of-type {\n",
       "        vertical-align: middle;\n",
       "    }\n",
       "\n",
       "    .dataframe tbody tr th {\n",
       "        vertical-align: top;\n",
       "    }\n",
       "\n",
       "    .dataframe thead th {\n",
       "        text-align: right;\n",
       "    }\n",
       "</style>\n",
       "<table border=\"1\" class=\"dataframe\">\n",
       "  <thead>\n",
       "    <tr style=\"text-align: right;\">\n",
       "      <th></th>\n",
       "      <th>Territorial emissions in MtCO₂</th>\n",
       "      <th>Unnamed: 1</th>\n",
       "      <th>Unnamed: 2</th>\n",
       "      <th>Unnamed: 3</th>\n",
       "      <th>Unnamed: 4</th>\n",
       "      <th>Unnamed: 5</th>\n",
       "      <th>Unnamed: 6</th>\n",
       "      <th>Unnamed: 7</th>\n",
       "      <th>Unnamed: 8</th>\n",
       "      <th>Unnamed: 9</th>\n",
       "      <th>...</th>\n",
       "      <th>Unnamed: 212</th>\n",
       "      <th>Unnamed: 213</th>\n",
       "      <th>Unnamed: 214</th>\n",
       "      <th>Unnamed: 215</th>\n",
       "      <th>Unnamed: 216</th>\n",
       "      <th>Unnamed: 217</th>\n",
       "      <th>Unnamed: 218</th>\n",
       "      <th>Unnamed: 219</th>\n",
       "      <th>Unnamed: 220</th>\n",
       "      <th>Unnamed: 221</th>\n",
       "    </tr>\n",
       "  </thead>\n",
       "  <tbody>\n",
       "    <tr>\n",
       "      <th>0</th>\n",
       "      <td>NaN</td>\n",
       "      <td>Afghanistan</td>\n",
       "      <td>Albania</td>\n",
       "      <td>Algeria</td>\n",
       "      <td>Andorra</td>\n",
       "      <td>Angola</td>\n",
       "      <td>Anguilla</td>\n",
       "      <td>Antigua and Barbuda</td>\n",
       "      <td>Argentina</td>\n",
       "      <td>Armenia</td>\n",
       "      <td>...</td>\n",
       "      <td>Uruguay</td>\n",
       "      <td>Uzbekistan</td>\n",
       "      <td>Vanuatu</td>\n",
       "      <td>Venezuela</td>\n",
       "      <td>Vietnam</td>\n",
       "      <td>Wallis and Futuna Islands</td>\n",
       "      <td>Western Sahara</td>\n",
       "      <td>Yemen</td>\n",
       "      <td>Zambia</td>\n",
       "      <td>Zimbabwe</td>\n",
       "    </tr>\n",
       "    <tr>\n",
       "      <th>1</th>\n",
       "      <td>1960</td>\n",
       "      <td>0.41388</td>\n",
       "      <td>2.0222</td>\n",
       "      <td>6.1512</td>\n",
       "      <td>NaN</td>\n",
       "      <td>0.54895</td>\n",
       "      <td>NaN</td>\n",
       "      <td>0.03664</td>\n",
       "      <td>48.7645</td>\n",
       "      <td>3.1539</td>\n",
       "      <td>...</td>\n",
       "      <td>4.3145</td>\n",
       "      <td>36.4939</td>\n",
       "      <td>0</td>\n",
       "      <td>57.0168</td>\n",
       "      <td>7.4839</td>\n",
       "      <td>NaN</td>\n",
       "      <td>NaN</td>\n",
       "      <td>3.631</td>\n",
       "      <td>4.3553</td>\n",
       "      <td>5.9431</td>\n",
       "    </tr>\n",
       "    <tr>\n",
       "      <th>2</th>\n",
       "      <td>1961</td>\n",
       "      <td>0.4908</td>\n",
       "      <td>2.2785</td>\n",
       "      <td>6.0559</td>\n",
       "      <td>NaN</td>\n",
       "      <td>0.45371</td>\n",
       "      <td>NaN</td>\n",
       "      <td>0.047632</td>\n",
       "      <td>51.1267</td>\n",
       "      <td>3.2562</td>\n",
       "      <td>...</td>\n",
       "      <td>4.1168</td>\n",
       "      <td>37.763</td>\n",
       "      <td>0</td>\n",
       "      <td>51.8798</td>\n",
       "      <td>7.9783</td>\n",
       "      <td>NaN</td>\n",
       "      <td>NaN</td>\n",
       "      <td>2.6637</td>\n",
       "      <td>3.709</td>\n",
       "      <td>5.0613</td>\n",
       "    </tr>\n",
       "    <tr>\n",
       "      <th>3</th>\n",
       "      <td>1962</td>\n",
       "      <td>0.68859</td>\n",
       "      <td>2.4617</td>\n",
       "      <td>5.661</td>\n",
       "      <td>NaN</td>\n",
       "      <td>1.1791</td>\n",
       "      <td>NaN</td>\n",
       "      <td>0.10259</td>\n",
       "      <td>53.6401</td>\n",
       "      <td>3.4226</td>\n",
       "      <td>...</td>\n",
       "      <td>4.0069</td>\n",
       "      <td>39.7706</td>\n",
       "      <td>0.040304</td>\n",
       "      <td>54.0561</td>\n",
       "      <td>9.3377</td>\n",
       "      <td>NaN</td>\n",
       "      <td>NaN</td>\n",
       "      <td>3.8838</td>\n",
       "      <td>3.5827</td>\n",
       "      <td>4.889</td>\n",
       "    </tr>\n",
       "    <tr>\n",
       "      <th>4</th>\n",
       "      <td>1963</td>\n",
       "      <td>0.70674</td>\n",
       "      <td>2.0806</td>\n",
       "      <td>5.4192</td>\n",
       "      <td>NaN</td>\n",
       "      <td>1.1497</td>\n",
       "      <td>NaN</td>\n",
       "      <td>0.084272</td>\n",
       "      <td>50.0327</td>\n",
       "      <td>3.6753</td>\n",
       "      <td>...</td>\n",
       "      <td>4.3148</td>\n",
       "      <td>42.8006</td>\n",
       "      <td>0.032976</td>\n",
       "      <td>56.1517</td>\n",
       "      <td>9.1104</td>\n",
       "      <td>NaN</td>\n",
       "      <td>NaN</td>\n",
       "      <td>2.9165</td>\n",
       "      <td>3.4445</td>\n",
       "      <td>4.7004</td>\n",
       "    </tr>\n",
       "    <tr>\n",
       "      <th>...</th>\n",
       "      <td>...</td>\n",
       "      <td>...</td>\n",
       "      <td>...</td>\n",
       "      <td>...</td>\n",
       "      <td>...</td>\n",
       "      <td>...</td>\n",
       "      <td>...</td>\n",
       "      <td>...</td>\n",
       "      <td>...</td>\n",
       "      <td>...</td>\n",
       "      <td>...</td>\n",
       "      <td>...</td>\n",
       "      <td>...</td>\n",
       "      <td>...</td>\n",
       "      <td>...</td>\n",
       "      <td>...</td>\n",
       "      <td>...</td>\n",
       "      <td>...</td>\n",
       "      <td>...</td>\n",
       "      <td>...</td>\n",
       "      <td>...</td>\n",
       "    </tr>\n",
       "    <tr>\n",
       "      <th>62</th>\n",
       "      <td>2021</td>\n",
       "      <td>12.2831</td>\n",
       "      <td>4.9037</td>\n",
       "      <td>180.2252</td>\n",
       "      <td>0.36305</td>\n",
       "      <td>17.5057</td>\n",
       "      <td>0.1377</td>\n",
       "      <td>0.59669</td>\n",
       "      <td>189.7441</td>\n",
       "      <td>7.0641</td>\n",
       "      <td>...</td>\n",
       "      <td>8.1022</td>\n",
       "      <td>116.3879</td>\n",
       "      <td>0.21028</td>\n",
       "      <td>71.6132</td>\n",
       "      <td>352.553</td>\n",
       "      <td>0.026763</td>\n",
       "      <td>NaN</td>\n",
       "      <td>11.5879</td>\n",
       "      <td>8.6632</td>\n",
       "      <td>8.3962</td>\n",
       "    </tr>\n",
       "    <tr>\n",
       "      <th>63</th>\n",
       "      <td>2022</td>\n",
       "      <td>12.1479</td>\n",
       "      <td>4.9547</td>\n",
       "      <td>176.3451</td>\n",
       "      <td>0.36865</td>\n",
       "      <td>16.0703</td>\n",
       "      <td>0.13897</td>\n",
       "      <td>0.60219</td>\n",
       "      <td>192.8644</td>\n",
       "      <td>6.4078</td>\n",
       "      <td>...</td>\n",
       "      <td>7.8931</td>\n",
       "      <td>120.6102</td>\n",
       "      <td>0.20791</td>\n",
       "      <td>76.892</td>\n",
       "      <td>343.6066</td>\n",
       "      <td>0.026461</td>\n",
       "      <td>NaN</td>\n",
       "      <td>11.3563</td>\n",
       "      <td>8.9219</td>\n",
       "      <td>8.856</td>\n",
       "    </tr>\n",
       "    <tr>\n",
       "      <th>64</th>\n",
       "      <td>NaN</td>\n",
       "      <td>NaN</td>\n",
       "      <td>NaN</td>\n",
       "      <td>NaN</td>\n",
       "      <td>NaN</td>\n",
       "      <td>NaN</td>\n",
       "      <td>NaN</td>\n",
       "      <td>NaN</td>\n",
       "      <td>NaN</td>\n",
       "      <td>NaN</td>\n",
       "      <td>...</td>\n",
       "      <td>NaN</td>\n",
       "      <td>NaN</td>\n",
       "      <td>NaN</td>\n",
       "      <td>NaN</td>\n",
       "      <td>NaN</td>\n",
       "      <td>NaN</td>\n",
       "      <td>NaN</td>\n",
       "      <td>NaN</td>\n",
       "      <td>NaN</td>\n",
       "      <td>NaN</td>\n",
       "    </tr>\n",
       "    <tr>\n",
       "      <th>65</th>\n",
       "      <td>SOURCES</td>\n",
       "      <td>NaN</td>\n",
       "      <td>NaN</td>\n",
       "      <td>NaN</td>\n",
       "      <td>NaN</td>\n",
       "      <td>NaN</td>\n",
       "      <td>NaN</td>\n",
       "      <td>NaN</td>\n",
       "      <td>NaN</td>\n",
       "      <td>NaN</td>\n",
       "      <td>...</td>\n",
       "      <td>NaN</td>\n",
       "      <td>NaN</td>\n",
       "      <td>NaN</td>\n",
       "      <td>NaN</td>\n",
       "      <td>NaN</td>\n",
       "      <td>NaN</td>\n",
       "      <td>NaN</td>\n",
       "      <td>NaN</td>\n",
       "      <td>NaN</td>\n",
       "      <td>NaN</td>\n",
       "    </tr>\n",
       "    <tr>\n",
       "      <th>66</th>\n",
       "      <td>Territorial</td>\n",
       "      <td>&lt;b&gt;For sources and methods, see Andrew and Pet...</td>\n",
       "      <td>NaN</td>\n",
       "      <td>NaN</td>\n",
       "      <td>NaN</td>\n",
       "      <td>NaN</td>\n",
       "      <td>NaN</td>\n",
       "      <td>NaN</td>\n",
       "      <td>NaN</td>\n",
       "      <td>NaN</td>\n",
       "      <td>...</td>\n",
       "      <td>NaN</td>\n",
       "      <td>NaN</td>\n",
       "      <td>NaN</td>\n",
       "      <td>NaN</td>\n",
       "      <td>NaN</td>\n",
       "      <td>NaN</td>\n",
       "      <td>NaN</td>\n",
       "      <td>NaN</td>\n",
       "      <td>NaN</td>\n",
       "      <td>NaN</td>\n",
       "    </tr>\n",
       "  </tbody>\n",
       "</table>\n",
       "<p>67 rows × 222 columns</p>\n",
       "</div>"
      ],
      "text/plain": [
       "   Territorial emissions in MtCO₂  \\\n",
       "0                             NaN   \n",
       "1                            1960   \n",
       "2                            1961   \n",
       "3                            1962   \n",
       "4                            1963   \n",
       "..                            ...   \n",
       "62                           2021   \n",
       "63                           2022   \n",
       "64                            NaN   \n",
       "65                        SOURCES   \n",
       "66                    Territorial   \n",
       "\n",
       "                                           Unnamed: 1 Unnamed: 2 Unnamed: 3  \\\n",
       "0                                         Afghanistan    Albania    Algeria   \n",
       "1                                             0.41388     2.0222     6.1512   \n",
       "2                                              0.4908     2.2785     6.0559   \n",
       "3                                             0.68859     2.4617      5.661   \n",
       "4                                             0.70674     2.0806     5.4192   \n",
       "..                                                ...        ...        ...   \n",
       "62                                            12.2831     4.9037   180.2252   \n",
       "63                                            12.1479     4.9547   176.3451   \n",
       "64                                                NaN        NaN        NaN   \n",
       "65                                                NaN        NaN        NaN   \n",
       "66  <b>For sources and methods, see Andrew and Pet...        NaN        NaN   \n",
       "\n",
       "   Unnamed: 4 Unnamed: 5 Unnamed: 6           Unnamed: 7 Unnamed: 8  \\\n",
       "0     Andorra     Angola   Anguilla  Antigua and Barbuda  Argentina   \n",
       "1         NaN    0.54895        NaN              0.03664    48.7645   \n",
       "2         NaN    0.45371        NaN             0.047632    51.1267   \n",
       "3         NaN     1.1791        NaN              0.10259    53.6401   \n",
       "4         NaN     1.1497        NaN             0.084272    50.0327   \n",
       "..        ...        ...        ...                  ...        ...   \n",
       "62    0.36305    17.5057     0.1377              0.59669   189.7441   \n",
       "63    0.36865    16.0703    0.13897              0.60219   192.8644   \n",
       "64        NaN        NaN        NaN                  NaN        NaN   \n",
       "65        NaN        NaN        NaN                  NaN        NaN   \n",
       "66        NaN        NaN        NaN                  NaN        NaN   \n",
       "\n",
       "   Unnamed: 9  ... Unnamed: 212 Unnamed: 213 Unnamed: 214 Unnamed: 215  \\\n",
       "0     Armenia  ...      Uruguay   Uzbekistan      Vanuatu    Venezuela   \n",
       "1      3.1539  ...       4.3145      36.4939            0      57.0168   \n",
       "2      3.2562  ...       4.1168       37.763            0      51.8798   \n",
       "3      3.4226  ...       4.0069      39.7706     0.040304      54.0561   \n",
       "4      3.6753  ...       4.3148      42.8006     0.032976      56.1517   \n",
       "..        ...  ...          ...          ...          ...          ...   \n",
       "62     7.0641  ...       8.1022     116.3879      0.21028      71.6132   \n",
       "63     6.4078  ...       7.8931     120.6102      0.20791       76.892   \n",
       "64        NaN  ...          NaN          NaN          NaN          NaN   \n",
       "65        NaN  ...          NaN          NaN          NaN          NaN   \n",
       "66        NaN  ...          NaN          NaN          NaN          NaN   \n",
       "\n",
       "   Unnamed: 216               Unnamed: 217    Unnamed: 218 Unnamed: 219  \\\n",
       "0       Vietnam  Wallis and Futuna Islands  Western Sahara        Yemen   \n",
       "1        7.4839                        NaN             NaN        3.631   \n",
       "2        7.9783                        NaN             NaN       2.6637   \n",
       "3        9.3377                        NaN             NaN       3.8838   \n",
       "4        9.1104                        NaN             NaN       2.9165   \n",
       "..          ...                        ...             ...          ...   \n",
       "62      352.553                   0.026763             NaN      11.5879   \n",
       "63     343.6066                   0.026461             NaN      11.3563   \n",
       "64          NaN                        NaN             NaN          NaN   \n",
       "65          NaN                        NaN             NaN          NaN   \n",
       "66          NaN                        NaN             NaN          NaN   \n",
       "\n",
       "   Unnamed: 220 Unnamed: 221  \n",
       "0        Zambia     Zimbabwe  \n",
       "1        4.3553       5.9431  \n",
       "2         3.709       5.0613  \n",
       "3        3.5827        4.889  \n",
       "4        3.4445       4.7004  \n",
       "..          ...          ...  \n",
       "62       8.6632       8.3962  \n",
       "63       8.9219        8.856  \n",
       "64          NaN          NaN  \n",
       "65          NaN          NaN  \n",
       "66          NaN          NaN  \n",
       "\n",
       "[67 rows x 222 columns]"
      ]
     },
     "execution_count": 93,
     "metadata": {},
     "output_type": "execute_result"
    }
   ],
   "source": [
    "# Creamos un DataFrame de un archivo csv\n",
    "origen_co2 = pd.read_csv('export_emissions.csv')\n",
    "\n",
    "#Mostramos el DataFrame para ver que contiene el archivo\n",
    "origen_co2"
   ]
  },
  {
   "cell_type": "code",
   "execution_count": 94,
   "metadata": {},
   "outputs": [
    {
     "data": {
      "text/html": [
       "<div>\n",
       "<style scoped>\n",
       "    .dataframe tbody tr th:only-of-type {\n",
       "        vertical-align: middle;\n",
       "    }\n",
       "\n",
       "    .dataframe tbody tr th {\n",
       "        vertical-align: top;\n",
       "    }\n",
       "\n",
       "    .dataframe thead th {\n",
       "        text-align: right;\n",
       "    }\n",
       "</style>\n",
       "<table border=\"1\" class=\"dataframe\">\n",
       "  <thead>\n",
       "    <tr style=\"text-align: right;\">\n",
       "      <th></th>\n",
       "      <th>Territorial emissions in MtCO₂</th>\n",
       "      <th>Unnamed: 1</th>\n",
       "      <th>Unnamed: 2</th>\n",
       "      <th>Unnamed: 3</th>\n",
       "      <th>Unnamed: 4</th>\n",
       "      <th>Unnamed: 5</th>\n",
       "      <th>Unnamed: 6</th>\n",
       "      <th>Unnamed: 7</th>\n",
       "      <th>Unnamed: 8</th>\n",
       "      <th>Unnamed: 9</th>\n",
       "      <th>...</th>\n",
       "      <th>Unnamed: 212</th>\n",
       "      <th>Unnamed: 213</th>\n",
       "      <th>Unnamed: 214</th>\n",
       "      <th>Unnamed: 215</th>\n",
       "      <th>Unnamed: 216</th>\n",
       "      <th>Unnamed: 217</th>\n",
       "      <th>Unnamed: 218</th>\n",
       "      <th>Unnamed: 219</th>\n",
       "      <th>Unnamed: 220</th>\n",
       "      <th>Unnamed: 221</th>\n",
       "    </tr>\n",
       "  </thead>\n",
       "  <tbody>\n",
       "    <tr>\n",
       "      <th>count</th>\n",
       "      <td>65</td>\n",
       "      <td>65</td>\n",
       "      <td>64</td>\n",
       "      <td>64</td>\n",
       "      <td>34</td>\n",
       "      <td>64</td>\n",
       "      <td>34</td>\n",
       "      <td>64</td>\n",
       "      <td>64</td>\n",
       "      <td>64</td>\n",
       "      <td>...</td>\n",
       "      <td>64</td>\n",
       "      <td>64</td>\n",
       "      <td>64</td>\n",
       "      <td>64</td>\n",
       "      <td>64</td>\n",
       "      <td>34</td>\n",
       "      <td>1</td>\n",
       "      <td>64</td>\n",
       "      <td>64</td>\n",
       "      <td>64</td>\n",
       "    </tr>\n",
       "    <tr>\n",
       "      <th>unique</th>\n",
       "      <td>65</td>\n",
       "      <td>65</td>\n",
       "      <td>64</td>\n",
       "      <td>64</td>\n",
       "      <td>25</td>\n",
       "      <td>64</td>\n",
       "      <td>21</td>\n",
       "      <td>55</td>\n",
       "      <td>64</td>\n",
       "      <td>64</td>\n",
       "      <td>...</td>\n",
       "      <td>64</td>\n",
       "      <td>64</td>\n",
       "      <td>29</td>\n",
       "      <td>64</td>\n",
       "      <td>64</td>\n",
       "      <td>7</td>\n",
       "      <td>1</td>\n",
       "      <td>63</td>\n",
       "      <td>64</td>\n",
       "      <td>64</td>\n",
       "    </tr>\n",
       "    <tr>\n",
       "      <th>top</th>\n",
       "      <td>1960</td>\n",
       "      <td>Afghanistan</td>\n",
       "      <td>Albania</td>\n",
       "      <td>Algeria</td>\n",
       "      <td>0.4067</td>\n",
       "      <td>Angola</td>\n",
       "      <td>0.12458</td>\n",
       "      <td>0.24915</td>\n",
       "      <td>Argentina</td>\n",
       "      <td>Armenia</td>\n",
       "      <td>...</td>\n",
       "      <td>Uruguay</td>\n",
       "      <td>Uzbekistan</td>\n",
       "      <td>0.065952</td>\n",
       "      <td>Venezuela</td>\n",
       "      <td>Vietnam</td>\n",
       "      <td>0.025648</td>\n",
       "      <td>Western Sahara</td>\n",
       "      <td>3.631</td>\n",
       "      <td>Zambia</td>\n",
       "      <td>Zimbabwe</td>\n",
       "    </tr>\n",
       "    <tr>\n",
       "      <th>freq</th>\n",
       "      <td>1</td>\n",
       "      <td>1</td>\n",
       "      <td>1</td>\n",
       "      <td>1</td>\n",
       "      <td>4</td>\n",
       "      <td>1</td>\n",
       "      <td>4</td>\n",
       "      <td>4</td>\n",
       "      <td>1</td>\n",
       "      <td>1</td>\n",
       "      <td>...</td>\n",
       "      <td>1</td>\n",
       "      <td>1</td>\n",
       "      <td>7</td>\n",
       "      <td>1</td>\n",
       "      <td>1</td>\n",
       "      <td>13</td>\n",
       "      <td>1</td>\n",
       "      <td>2</td>\n",
       "      <td>1</td>\n",
       "      <td>1</td>\n",
       "    </tr>\n",
       "  </tbody>\n",
       "</table>\n",
       "<p>4 rows × 222 columns</p>\n",
       "</div>"
      ],
      "text/plain": [
       "       Territorial emissions in MtCO₂   Unnamed: 1 Unnamed: 2 Unnamed: 3  \\\n",
       "count                              65           65         64         64   \n",
       "unique                             65           65         64         64   \n",
       "top                              1960  Afghanistan    Albania    Algeria   \n",
       "freq                                1            1          1          1   \n",
       "\n",
       "       Unnamed: 4 Unnamed: 5 Unnamed: 6 Unnamed: 7 Unnamed: 8 Unnamed: 9  ...  \\\n",
       "count          34         64         34         64         64         64  ...   \n",
       "unique         25         64         21         55         64         64  ...   \n",
       "top        0.4067     Angola    0.12458    0.24915  Argentina    Armenia  ...   \n",
       "freq            4          1          4          4          1          1  ...   \n",
       "\n",
       "       Unnamed: 212 Unnamed: 213 Unnamed: 214 Unnamed: 215 Unnamed: 216  \\\n",
       "count            64           64           64           64           64   \n",
       "unique           64           64           29           64           64   \n",
       "top         Uruguay   Uzbekistan     0.065952    Venezuela      Vietnam   \n",
       "freq              1            1            7            1            1   \n",
       "\n",
       "       Unnamed: 217    Unnamed: 218 Unnamed: 219 Unnamed: 220 Unnamed: 221  \n",
       "count            34               1           64           64           64  \n",
       "unique            7               1           63           64           64  \n",
       "top        0.025648  Western Sahara        3.631       Zambia     Zimbabwe  \n",
       "freq             13               1            2            1            1  \n",
       "\n",
       "[4 rows x 222 columns]"
      ]
     },
     "execution_count": 94,
     "metadata": {},
     "output_type": "execute_result"
    }
   ],
   "source": [
    "# Aplicamos describe() para ver a detalle todo en el DataFrame\n",
    "origen_co2.describe()"
   ]
  },
  {
   "cell_type": "code",
   "execution_count": 95,
   "metadata": {},
   "outputs": [
    {
     "name": "stdout",
     "output_type": "stream",
     "text": [
      "<class 'pandas.core.frame.DataFrame'>\n",
      "RangeIndex: 67 entries, 0 to 66\n",
      "Columns: 222 entries, Territorial emissions in MtCO₂ to Unnamed: 221\n",
      "dtypes: object(222)\n",
      "memory usage: 116.3+ KB\n"
     ]
    }
   ],
   "source": [
    "origen_co2.info()"
   ]
  },
  {
   "cell_type": "code",
   "execution_count": 96,
   "metadata": {},
   "outputs": [
    {
     "data": {
      "text/html": [
       "<div>\n",
       "<style scoped>\n",
       "    .dataframe tbody tr th:only-of-type {\n",
       "        vertical-align: middle;\n",
       "    }\n",
       "\n",
       "    .dataframe tbody tr th {\n",
       "        vertical-align: top;\n",
       "    }\n",
       "\n",
       "    .dataframe thead th {\n",
       "        text-align: right;\n",
       "    }\n",
       "</style>\n",
       "<table border=\"1\" class=\"dataframe\">\n",
       "  <thead>\n",
       "    <tr style=\"text-align: right;\">\n",
       "      <th></th>\n",
       "      <th>Territorial emissions in MtCO₂</th>\n",
       "      <th>Unnamed: 1</th>\n",
       "      <th>Unnamed: 2</th>\n",
       "      <th>Unnamed: 3</th>\n",
       "      <th>Unnamed: 4</th>\n",
       "      <th>Unnamed: 5</th>\n",
       "      <th>Unnamed: 6</th>\n",
       "      <th>Unnamed: 7</th>\n",
       "      <th>Unnamed: 8</th>\n",
       "      <th>Unnamed: 9</th>\n",
       "      <th>...</th>\n",
       "      <th>Unnamed: 212</th>\n",
       "      <th>Unnamed: 213</th>\n",
       "      <th>Unnamed: 214</th>\n",
       "      <th>Unnamed: 215</th>\n",
       "      <th>Unnamed: 216</th>\n",
       "      <th>Unnamed: 217</th>\n",
       "      <th>Unnamed: 218</th>\n",
       "      <th>Unnamed: 219</th>\n",
       "      <th>Unnamed: 220</th>\n",
       "      <th>Unnamed: 221</th>\n",
       "    </tr>\n",
       "  </thead>\n",
       "  <tbody>\n",
       "    <tr>\n",
       "      <th>count</th>\n",
       "      <td>65</td>\n",
       "      <td>65</td>\n",
       "      <td>64</td>\n",
       "      <td>64</td>\n",
       "      <td>34</td>\n",
       "      <td>64</td>\n",
       "      <td>34</td>\n",
       "      <td>64</td>\n",
       "      <td>64</td>\n",
       "      <td>64</td>\n",
       "      <td>...</td>\n",
       "      <td>64</td>\n",
       "      <td>64</td>\n",
       "      <td>64</td>\n",
       "      <td>64</td>\n",
       "      <td>64</td>\n",
       "      <td>34</td>\n",
       "      <td>1</td>\n",
       "      <td>64</td>\n",
       "      <td>64</td>\n",
       "      <td>64</td>\n",
       "    </tr>\n",
       "    <tr>\n",
       "      <th>unique</th>\n",
       "      <td>65</td>\n",
       "      <td>65</td>\n",
       "      <td>64</td>\n",
       "      <td>64</td>\n",
       "      <td>25</td>\n",
       "      <td>64</td>\n",
       "      <td>21</td>\n",
       "      <td>55</td>\n",
       "      <td>64</td>\n",
       "      <td>64</td>\n",
       "      <td>...</td>\n",
       "      <td>64</td>\n",
       "      <td>64</td>\n",
       "      <td>29</td>\n",
       "      <td>64</td>\n",
       "      <td>64</td>\n",
       "      <td>7</td>\n",
       "      <td>1</td>\n",
       "      <td>63</td>\n",
       "      <td>64</td>\n",
       "      <td>64</td>\n",
       "    </tr>\n",
       "    <tr>\n",
       "      <th>top</th>\n",
       "      <td>1960</td>\n",
       "      <td>Afghanistan</td>\n",
       "      <td>Albania</td>\n",
       "      <td>Algeria</td>\n",
       "      <td>0.4067</td>\n",
       "      <td>Angola</td>\n",
       "      <td>0.12458</td>\n",
       "      <td>0.24915</td>\n",
       "      <td>Argentina</td>\n",
       "      <td>Armenia</td>\n",
       "      <td>...</td>\n",
       "      <td>Uruguay</td>\n",
       "      <td>Uzbekistan</td>\n",
       "      <td>0.065952</td>\n",
       "      <td>Venezuela</td>\n",
       "      <td>Vietnam</td>\n",
       "      <td>0.025648</td>\n",
       "      <td>Western Sahara</td>\n",
       "      <td>3.631</td>\n",
       "      <td>Zambia</td>\n",
       "      <td>Zimbabwe</td>\n",
       "    </tr>\n",
       "    <tr>\n",
       "      <th>freq</th>\n",
       "      <td>1</td>\n",
       "      <td>1</td>\n",
       "      <td>1</td>\n",
       "      <td>1</td>\n",
       "      <td>4</td>\n",
       "      <td>1</td>\n",
       "      <td>4</td>\n",
       "      <td>4</td>\n",
       "      <td>1</td>\n",
       "      <td>1</td>\n",
       "      <td>...</td>\n",
       "      <td>1</td>\n",
       "      <td>1</td>\n",
       "      <td>7</td>\n",
       "      <td>1</td>\n",
       "      <td>1</td>\n",
       "      <td>13</td>\n",
       "      <td>1</td>\n",
       "      <td>2</td>\n",
       "      <td>1</td>\n",
       "      <td>1</td>\n",
       "    </tr>\n",
       "  </tbody>\n",
       "</table>\n",
       "<p>4 rows × 222 columns</p>\n",
       "</div>"
      ],
      "text/plain": [
       "       Territorial emissions in MtCO₂   Unnamed: 1 Unnamed: 2 Unnamed: 3  \\\n",
       "count                              65           65         64         64   \n",
       "unique                             65           65         64         64   \n",
       "top                              1960  Afghanistan    Albania    Algeria   \n",
       "freq                                1            1          1          1   \n",
       "\n",
       "       Unnamed: 4 Unnamed: 5 Unnamed: 6 Unnamed: 7 Unnamed: 8 Unnamed: 9  ...  \\\n",
       "count          34         64         34         64         64         64  ...   \n",
       "unique         25         64         21         55         64         64  ...   \n",
       "top        0.4067     Angola    0.12458    0.24915  Argentina    Armenia  ...   \n",
       "freq            4          1          4          4          1          1  ...   \n",
       "\n",
       "       Unnamed: 212 Unnamed: 213 Unnamed: 214 Unnamed: 215 Unnamed: 216  \\\n",
       "count            64           64           64           64           64   \n",
       "unique           64           64           29           64           64   \n",
       "top         Uruguay   Uzbekistan     0.065952    Venezuela      Vietnam   \n",
       "freq              1            1            7            1            1   \n",
       "\n",
       "       Unnamed: 217    Unnamed: 218 Unnamed: 219 Unnamed: 220 Unnamed: 221  \n",
       "count            34               1           64           64           64  \n",
       "unique            7               1           63           64           64  \n",
       "top        0.025648  Western Sahara        3.631       Zambia     Zimbabwe  \n",
       "freq             13               1            2            1            1  \n",
       "\n",
       "[4 rows x 222 columns]"
      ]
     },
     "execution_count": 96,
     "metadata": {},
     "output_type": "execute_result"
    }
   ],
   "source": [
    "\n",
    "#origen_co2.columns = origen_co2.iloc[0]\n",
    "#origen_co2 = origen_co2.iloc[1:]\n",
    "# Elimina la primera fila (ya que ahora son los nombres de las columnas)\n",
    "\n",
    "origen_co2.describe()"
   ]
  },
  {
   "cell_type": "markdown",
   "metadata": {},
   "source": [
    "### ***Limpieza de datos***\n",
    "\n",
    "Realizaremos un proceso de limpieza teniendo en cuenta las situaciones mas comunes:\n",
    "\n",
    "    1. Datos faltantes en algunas celdas\n",
    "    2. Registros (filas) repetidos\n",
    "    3. Valores extremos (outliers) en el caso de las variables numericas.\n",
    "    4. Errores tipograficos"
   ]
  },
  {
   "cell_type": "markdown",
   "metadata": {},
   "source": [
    "1. Datos faltantes en algunas celdas"
   ]
  },
  {
   "cell_type": "code",
   "execution_count": 97,
   "metadata": {},
   "outputs": [
    {
     "data": {
      "text/html": [
       "<div>\n",
       "<style scoped>\n",
       "    .dataframe tbody tr th:only-of-type {\n",
       "        vertical-align: middle;\n",
       "    }\n",
       "\n",
       "    .dataframe tbody tr th {\n",
       "        vertical-align: top;\n",
       "    }\n",
       "\n",
       "    .dataframe thead th {\n",
       "        text-align: right;\n",
       "    }\n",
       "</style>\n",
       "<table border=\"1\" class=\"dataframe\">\n",
       "  <thead>\n",
       "    <tr style=\"text-align: right;\">\n",
       "      <th></th>\n",
       "      <th>Territorial emissions in MtCO₂</th>\n",
       "      <th>Unnamed: 1</th>\n",
       "      <th>Unnamed: 2</th>\n",
       "      <th>Unnamed: 3</th>\n",
       "      <th>Unnamed: 4</th>\n",
       "      <th>Unnamed: 5</th>\n",
       "      <th>Unnamed: 6</th>\n",
       "      <th>Unnamed: 7</th>\n",
       "      <th>Unnamed: 8</th>\n",
       "      <th>Unnamed: 9</th>\n",
       "      <th>...</th>\n",
       "      <th>Unnamed: 212</th>\n",
       "      <th>Unnamed: 213</th>\n",
       "      <th>Unnamed: 214</th>\n",
       "      <th>Unnamed: 215</th>\n",
       "      <th>Unnamed: 216</th>\n",
       "      <th>Unnamed: 217</th>\n",
       "      <th>Unnamed: 218</th>\n",
       "      <th>Unnamed: 219</th>\n",
       "      <th>Unnamed: 220</th>\n",
       "      <th>Unnamed: 221</th>\n",
       "    </tr>\n",
       "  </thead>\n",
       "  <tbody>\n",
       "    <tr>\n",
       "      <th>0</th>\n",
       "      <td>NaN</td>\n",
       "      <td>Afghanistan</td>\n",
       "      <td>Albania</td>\n",
       "      <td>Algeria</td>\n",
       "      <td>Andorra</td>\n",
       "      <td>Angola</td>\n",
       "      <td>Anguilla</td>\n",
       "      <td>Antigua and Barbuda</td>\n",
       "      <td>Argentina</td>\n",
       "      <td>Armenia</td>\n",
       "      <td>...</td>\n",
       "      <td>Uruguay</td>\n",
       "      <td>Uzbekistan</td>\n",
       "      <td>Vanuatu</td>\n",
       "      <td>Venezuela</td>\n",
       "      <td>Vietnam</td>\n",
       "      <td>Wallis and Futuna Islands</td>\n",
       "      <td>Western Sahara</td>\n",
       "      <td>Yemen</td>\n",
       "      <td>Zambia</td>\n",
       "      <td>Zimbabwe</td>\n",
       "    </tr>\n",
       "    <tr>\n",
       "      <th>1</th>\n",
       "      <td>1960</td>\n",
       "      <td>0.41388</td>\n",
       "      <td>2.0222</td>\n",
       "      <td>6.1512</td>\n",
       "      <td>NaN</td>\n",
       "      <td>0.54895</td>\n",
       "      <td>NaN</td>\n",
       "      <td>0.03664</td>\n",
       "      <td>48.7645</td>\n",
       "      <td>3.1539</td>\n",
       "      <td>...</td>\n",
       "      <td>4.3145</td>\n",
       "      <td>36.4939</td>\n",
       "      <td>0</td>\n",
       "      <td>57.0168</td>\n",
       "      <td>7.4839</td>\n",
       "      <td>NaN</td>\n",
       "      <td>NaN</td>\n",
       "      <td>3.631</td>\n",
       "      <td>4.3553</td>\n",
       "      <td>5.9431</td>\n",
       "    </tr>\n",
       "    <tr>\n",
       "      <th>2</th>\n",
       "      <td>1961</td>\n",
       "      <td>0.4908</td>\n",
       "      <td>2.2785</td>\n",
       "      <td>6.0559</td>\n",
       "      <td>NaN</td>\n",
       "      <td>0.45371</td>\n",
       "      <td>NaN</td>\n",
       "      <td>0.047632</td>\n",
       "      <td>51.1267</td>\n",
       "      <td>3.2562</td>\n",
       "      <td>...</td>\n",
       "      <td>4.1168</td>\n",
       "      <td>37.763</td>\n",
       "      <td>0</td>\n",
       "      <td>51.8798</td>\n",
       "      <td>7.9783</td>\n",
       "      <td>NaN</td>\n",
       "      <td>NaN</td>\n",
       "      <td>2.6637</td>\n",
       "      <td>3.709</td>\n",
       "      <td>5.0613</td>\n",
       "    </tr>\n",
       "    <tr>\n",
       "      <th>3</th>\n",
       "      <td>1962</td>\n",
       "      <td>0.68859</td>\n",
       "      <td>2.4617</td>\n",
       "      <td>5.661</td>\n",
       "      <td>NaN</td>\n",
       "      <td>1.1791</td>\n",
       "      <td>NaN</td>\n",
       "      <td>0.10259</td>\n",
       "      <td>53.6401</td>\n",
       "      <td>3.4226</td>\n",
       "      <td>...</td>\n",
       "      <td>4.0069</td>\n",
       "      <td>39.7706</td>\n",
       "      <td>0.040304</td>\n",
       "      <td>54.0561</td>\n",
       "      <td>9.3377</td>\n",
       "      <td>NaN</td>\n",
       "      <td>NaN</td>\n",
       "      <td>3.8838</td>\n",
       "      <td>3.5827</td>\n",
       "      <td>4.889</td>\n",
       "    </tr>\n",
       "    <tr>\n",
       "      <th>4</th>\n",
       "      <td>1963</td>\n",
       "      <td>0.70674</td>\n",
       "      <td>2.0806</td>\n",
       "      <td>5.4192</td>\n",
       "      <td>NaN</td>\n",
       "      <td>1.1497</td>\n",
       "      <td>NaN</td>\n",
       "      <td>0.084272</td>\n",
       "      <td>50.0327</td>\n",
       "      <td>3.6753</td>\n",
       "      <td>...</td>\n",
       "      <td>4.3148</td>\n",
       "      <td>42.8006</td>\n",
       "      <td>0.032976</td>\n",
       "      <td>56.1517</td>\n",
       "      <td>9.1104</td>\n",
       "      <td>NaN</td>\n",
       "      <td>NaN</td>\n",
       "      <td>2.9165</td>\n",
       "      <td>3.4445</td>\n",
       "      <td>4.7004</td>\n",
       "    </tr>\n",
       "    <tr>\n",
       "      <th>...</th>\n",
       "      <td>...</td>\n",
       "      <td>...</td>\n",
       "      <td>...</td>\n",
       "      <td>...</td>\n",
       "      <td>...</td>\n",
       "      <td>...</td>\n",
       "      <td>...</td>\n",
       "      <td>...</td>\n",
       "      <td>...</td>\n",
       "      <td>...</td>\n",
       "      <td>...</td>\n",
       "      <td>...</td>\n",
       "      <td>...</td>\n",
       "      <td>...</td>\n",
       "      <td>...</td>\n",
       "      <td>...</td>\n",
       "      <td>...</td>\n",
       "      <td>...</td>\n",
       "      <td>...</td>\n",
       "      <td>...</td>\n",
       "      <td>...</td>\n",
       "    </tr>\n",
       "    <tr>\n",
       "      <th>59</th>\n",
       "      <td>2018</td>\n",
       "      <td>10.818</td>\n",
       "      <td>4.895</td>\n",
       "      <td>171.276</td>\n",
       "      <td>0.49464</td>\n",
       "      <td>21.4345</td>\n",
       "      <td>0.1319</td>\n",
       "      <td>0.61555</td>\n",
       "      <td>180.5993</td>\n",
       "      <td>5.8258</td>\n",
       "      <td>...</td>\n",
       "      <td>6.571</td>\n",
       "      <td>102.2881</td>\n",
       "      <td>0.17954</td>\n",
       "      <td>100.7345</td>\n",
       "      <td>257.7223</td>\n",
       "      <td>0.025648</td>\n",
       "      <td>NaN</td>\n",
       "      <td>11.592</td>\n",
       "      <td>7.4194</td>\n",
       "      <td>10.7146</td>\n",
       "    </tr>\n",
       "    <tr>\n",
       "      <th>60</th>\n",
       "      <td>2019</td>\n",
       "      <td>11.0816</td>\n",
       "      <td>4.8269</td>\n",
       "      <td>178.5772</td>\n",
       "      <td>0.48365</td>\n",
       "      <td>19.2222</td>\n",
       "      <td>0.14656</td>\n",
       "      <td>0.6412</td>\n",
       "      <td>178.5116</td>\n",
       "      <td>6.2841</td>\n",
       "      <td>...</td>\n",
       "      <td>6.4899</td>\n",
       "      <td>108.4291</td>\n",
       "      <td>0.16488</td>\n",
       "      <td>87.6116</td>\n",
       "      <td>341.7888</td>\n",
       "      <td>0.025648</td>\n",
       "      <td>NaN</td>\n",
       "      <td>11.8372</td>\n",
       "      <td>7.7508</td>\n",
       "      <td>9.7754</td>\n",
       "    </tr>\n",
       "    <tr>\n",
       "      <th>61</th>\n",
       "      <td>2020</td>\n",
       "      <td>11.8881</td>\n",
       "      <td>5.0189</td>\n",
       "      <td>169.8928</td>\n",
       "      <td>0.37373</td>\n",
       "      <td>16.7648</td>\n",
       "      <td>0.1429</td>\n",
       "      <td>0.61922</td>\n",
       "      <td>166.8796</td>\n",
       "      <td>6.799</td>\n",
       "      <td>...</td>\n",
       "      <td>6.4772</td>\n",
       "      <td>109.632</td>\n",
       "      <td>0.20152</td>\n",
       "      <td>61.9562</td>\n",
       "      <td>363.3427</td>\n",
       "      <td>0.025648</td>\n",
       "      <td>NaN</td>\n",
       "      <td>10.884</td>\n",
       "      <td>8.1443</td>\n",
       "      <td>7.8496</td>\n",
       "    </tr>\n",
       "    <tr>\n",
       "      <th>62</th>\n",
       "      <td>2021</td>\n",
       "      <td>12.2831</td>\n",
       "      <td>4.9037</td>\n",
       "      <td>180.2252</td>\n",
       "      <td>0.36305</td>\n",
       "      <td>17.5057</td>\n",
       "      <td>0.1377</td>\n",
       "      <td>0.59669</td>\n",
       "      <td>189.7441</td>\n",
       "      <td>7.0641</td>\n",
       "      <td>...</td>\n",
       "      <td>8.1022</td>\n",
       "      <td>116.3879</td>\n",
       "      <td>0.21028</td>\n",
       "      <td>71.6132</td>\n",
       "      <td>352.553</td>\n",
       "      <td>0.026763</td>\n",
       "      <td>NaN</td>\n",
       "      <td>11.5879</td>\n",
       "      <td>8.6632</td>\n",
       "      <td>8.3962</td>\n",
       "    </tr>\n",
       "    <tr>\n",
       "      <th>63</th>\n",
       "      <td>2022</td>\n",
       "      <td>12.1479</td>\n",
       "      <td>4.9547</td>\n",
       "      <td>176.3451</td>\n",
       "      <td>0.36865</td>\n",
       "      <td>16.0703</td>\n",
       "      <td>0.13897</td>\n",
       "      <td>0.60219</td>\n",
       "      <td>192.8644</td>\n",
       "      <td>6.4078</td>\n",
       "      <td>...</td>\n",
       "      <td>7.8931</td>\n",
       "      <td>120.6102</td>\n",
       "      <td>0.20791</td>\n",
       "      <td>76.892</td>\n",
       "      <td>343.6066</td>\n",
       "      <td>0.026461</td>\n",
       "      <td>NaN</td>\n",
       "      <td>11.3563</td>\n",
       "      <td>8.9219</td>\n",
       "      <td>8.856</td>\n",
       "    </tr>\n",
       "  </tbody>\n",
       "</table>\n",
       "<p>64 rows × 222 columns</p>\n",
       "</div>"
      ],
      "text/plain": [
       "   Territorial emissions in MtCO₂   Unnamed: 1 Unnamed: 2 Unnamed: 3  \\\n",
       "0                             NaN  Afghanistan    Albania    Algeria   \n",
       "1                            1960      0.41388     2.0222     6.1512   \n",
       "2                            1961       0.4908     2.2785     6.0559   \n",
       "3                            1962      0.68859     2.4617      5.661   \n",
       "4                            1963      0.70674     2.0806     5.4192   \n",
       "..                            ...          ...        ...        ...   \n",
       "59                           2018       10.818      4.895    171.276   \n",
       "60                           2019      11.0816     4.8269   178.5772   \n",
       "61                           2020      11.8881     5.0189   169.8928   \n",
       "62                           2021      12.2831     4.9037   180.2252   \n",
       "63                           2022      12.1479     4.9547   176.3451   \n",
       "\n",
       "   Unnamed: 4 Unnamed: 5 Unnamed: 6           Unnamed: 7 Unnamed: 8  \\\n",
       "0     Andorra     Angola   Anguilla  Antigua and Barbuda  Argentina   \n",
       "1         NaN    0.54895        NaN              0.03664    48.7645   \n",
       "2         NaN    0.45371        NaN             0.047632    51.1267   \n",
       "3         NaN     1.1791        NaN              0.10259    53.6401   \n",
       "4         NaN     1.1497        NaN             0.084272    50.0327   \n",
       "..        ...        ...        ...                  ...        ...   \n",
       "59    0.49464    21.4345     0.1319              0.61555   180.5993   \n",
       "60    0.48365    19.2222    0.14656               0.6412   178.5116   \n",
       "61    0.37373    16.7648     0.1429              0.61922   166.8796   \n",
       "62    0.36305    17.5057     0.1377              0.59669   189.7441   \n",
       "63    0.36865    16.0703    0.13897              0.60219   192.8644   \n",
       "\n",
       "   Unnamed: 9  ... Unnamed: 212 Unnamed: 213 Unnamed: 214 Unnamed: 215  \\\n",
       "0     Armenia  ...      Uruguay   Uzbekistan      Vanuatu    Venezuela   \n",
       "1      3.1539  ...       4.3145      36.4939            0      57.0168   \n",
       "2      3.2562  ...       4.1168       37.763            0      51.8798   \n",
       "3      3.4226  ...       4.0069      39.7706     0.040304      54.0561   \n",
       "4      3.6753  ...       4.3148      42.8006     0.032976      56.1517   \n",
       "..        ...  ...          ...          ...          ...          ...   \n",
       "59     5.8258  ...        6.571     102.2881      0.17954     100.7345   \n",
       "60     6.2841  ...       6.4899     108.4291      0.16488      87.6116   \n",
       "61      6.799  ...       6.4772      109.632      0.20152      61.9562   \n",
       "62     7.0641  ...       8.1022     116.3879      0.21028      71.6132   \n",
       "63     6.4078  ...       7.8931     120.6102      0.20791       76.892   \n",
       "\n",
       "   Unnamed: 216               Unnamed: 217    Unnamed: 218 Unnamed: 219  \\\n",
       "0       Vietnam  Wallis and Futuna Islands  Western Sahara        Yemen   \n",
       "1        7.4839                        NaN             NaN        3.631   \n",
       "2        7.9783                        NaN             NaN       2.6637   \n",
       "3        9.3377                        NaN             NaN       3.8838   \n",
       "4        9.1104                        NaN             NaN       2.9165   \n",
       "..          ...                        ...             ...          ...   \n",
       "59     257.7223                   0.025648             NaN       11.592   \n",
       "60     341.7888                   0.025648             NaN      11.8372   \n",
       "61     363.3427                   0.025648             NaN       10.884   \n",
       "62      352.553                   0.026763             NaN      11.5879   \n",
       "63     343.6066                   0.026461             NaN      11.3563   \n",
       "\n",
       "   Unnamed: 220 Unnamed: 221  \n",
       "0        Zambia     Zimbabwe  \n",
       "1        4.3553       5.9431  \n",
       "2         3.709       5.0613  \n",
       "3        3.5827        4.889  \n",
       "4        3.4445       4.7004  \n",
       "..          ...          ...  \n",
       "59       7.4194      10.7146  \n",
       "60       7.7508       9.7754  \n",
       "61       8.1443       7.8496  \n",
       "62       8.6632       8.3962  \n",
       "63       8.9219        8.856  \n",
       "\n",
       "[64 rows x 222 columns]"
      ]
     },
     "execution_count": 97,
     "metadata": {},
     "output_type": "execute_result"
    }
   ],
   "source": [
    "# Los datos debajo del registro 64 no son necesarios para nuestro analisis, asi que lo eliminamos\n",
    "origen_co2 = origen_co2.iloc[0:64]\n",
    "\n",
    "#origen_co2 = origen_co2.drop(origen_co2.columns[0], axis=1)\n",
    "origen_co2"
   ]
  },
  {
   "cell_type": "code",
   "execution_count": 98,
   "metadata": {},
   "outputs": [
    {
     "data": {
      "text/html": [
       "<div>\n",
       "<style scoped>\n",
       "    .dataframe tbody tr th:only-of-type {\n",
       "        vertical-align: middle;\n",
       "    }\n",
       "\n",
       "    .dataframe tbody tr th {\n",
       "        vertical-align: top;\n",
       "    }\n",
       "\n",
       "    .dataframe thead th {\n",
       "        text-align: right;\n",
       "    }\n",
       "</style>\n",
       "<table border=\"1\" class=\"dataframe\">\n",
       "  <thead>\n",
       "    <tr style=\"text-align: right;\">\n",
       "      <th></th>\n",
       "      <th>Afghanistan</th>\n",
       "      <th>Albania</th>\n",
       "      <th>Algeria</th>\n",
       "      <th>Andorra</th>\n",
       "      <th>Angola</th>\n",
       "      <th>Anguilla</th>\n",
       "      <th>Antigua and Barbuda</th>\n",
       "      <th>Argentina</th>\n",
       "      <th>Armenia</th>\n",
       "      <th>Aruba</th>\n",
       "      <th>...</th>\n",
       "      <th>Uruguay</th>\n",
       "      <th>Uzbekistan</th>\n",
       "      <th>Vanuatu</th>\n",
       "      <th>Venezuela</th>\n",
       "      <th>Vietnam</th>\n",
       "      <th>Wallis and Futuna Islands</th>\n",
       "      <th>Western Sahara</th>\n",
       "      <th>Yemen</th>\n",
       "      <th>Zambia</th>\n",
       "      <th>Zimbabwe</th>\n",
       "    </tr>\n",
       "    <tr>\n",
       "      <th>Fecha</th>\n",
       "      <th></th>\n",
       "      <th></th>\n",
       "      <th></th>\n",
       "      <th></th>\n",
       "      <th></th>\n",
       "      <th></th>\n",
       "      <th></th>\n",
       "      <th></th>\n",
       "      <th></th>\n",
       "      <th></th>\n",
       "      <th></th>\n",
       "      <th></th>\n",
       "      <th></th>\n",
       "      <th></th>\n",
       "      <th></th>\n",
       "      <th></th>\n",
       "      <th></th>\n",
       "      <th></th>\n",
       "      <th></th>\n",
       "      <th></th>\n",
       "      <th></th>\n",
       "    </tr>\n",
       "  </thead>\n",
       "  <tbody>\n",
       "    <tr>\n",
       "      <th>1960</th>\n",
       "      <td>0.41388</td>\n",
       "      <td>2.0222</td>\n",
       "      <td>6.1512</td>\n",
       "      <td>NaN</td>\n",
       "      <td>0.54895</td>\n",
       "      <td>NaN</td>\n",
       "      <td>0.03664</td>\n",
       "      <td>48.7645</td>\n",
       "      <td>3.1539</td>\n",
       "      <td>0.61856</td>\n",
       "      <td>...</td>\n",
       "      <td>4.3145</td>\n",
       "      <td>36.4939</td>\n",
       "      <td>0</td>\n",
       "      <td>57.0168</td>\n",
       "      <td>7.4839</td>\n",
       "      <td>NaN</td>\n",
       "      <td>NaN</td>\n",
       "      <td>3.631</td>\n",
       "      <td>4.3553</td>\n",
       "      <td>5.9431</td>\n",
       "    </tr>\n",
       "    <tr>\n",
       "      <th>1961</th>\n",
       "      <td>0.4908</td>\n",
       "      <td>2.2785</td>\n",
       "      <td>6.0559</td>\n",
       "      <td>NaN</td>\n",
       "      <td>0.45371</td>\n",
       "      <td>NaN</td>\n",
       "      <td>0.047632</td>\n",
       "      <td>51.1267</td>\n",
       "      <td>3.2562</td>\n",
       "      <td>0.64555</td>\n",
       "      <td>...</td>\n",
       "      <td>4.1168</td>\n",
       "      <td>37.763</td>\n",
       "      <td>0</td>\n",
       "      <td>51.8798</td>\n",
       "      <td>7.9783</td>\n",
       "      <td>NaN</td>\n",
       "      <td>NaN</td>\n",
       "      <td>2.6637</td>\n",
       "      <td>3.709</td>\n",
       "      <td>5.0613</td>\n",
       "    </tr>\n",
       "    <tr>\n",
       "      <th>1962</th>\n",
       "      <td>0.68859</td>\n",
       "      <td>2.4617</td>\n",
       "      <td>5.661</td>\n",
       "      <td>NaN</td>\n",
       "      <td>1.1791</td>\n",
       "      <td>NaN</td>\n",
       "      <td>0.10259</td>\n",
       "      <td>53.6401</td>\n",
       "      <td>3.4226</td>\n",
       "      <td>0.70894</td>\n",
       "      <td>...</td>\n",
       "      <td>4.0069</td>\n",
       "      <td>39.7706</td>\n",
       "      <td>0.040304</td>\n",
       "      <td>54.0561</td>\n",
       "      <td>9.3377</td>\n",
       "      <td>NaN</td>\n",
       "      <td>NaN</td>\n",
       "      <td>3.8838</td>\n",
       "      <td>3.5827</td>\n",
       "      <td>4.889</td>\n",
       "    </tr>\n",
       "    <tr>\n",
       "      <th>1963</th>\n",
       "      <td>0.70674</td>\n",
       "      <td>2.0806</td>\n",
       "      <td>5.4192</td>\n",
       "      <td>NaN</td>\n",
       "      <td>1.1497</td>\n",
       "      <td>NaN</td>\n",
       "      <td>0.084272</td>\n",
       "      <td>50.0327</td>\n",
       "      <td>3.6753</td>\n",
       "      <td>0.67909</td>\n",
       "      <td>...</td>\n",
       "      <td>4.3148</td>\n",
       "      <td>42.8006</td>\n",
       "      <td>0.032976</td>\n",
       "      <td>56.1517</td>\n",
       "      <td>9.1104</td>\n",
       "      <td>NaN</td>\n",
       "      <td>NaN</td>\n",
       "      <td>2.9165</td>\n",
       "      <td>3.4445</td>\n",
       "      <td>4.7004</td>\n",
       "    </tr>\n",
       "    <tr>\n",
       "      <th>1964</th>\n",
       "      <td>0.83855</td>\n",
       "      <td>2.0147</td>\n",
       "      <td>5.643</td>\n",
       "      <td>NaN</td>\n",
       "      <td>1.2229</td>\n",
       "      <td>NaN</td>\n",
       "      <td>0.0916</td>\n",
       "      <td>55.67</td>\n",
       "      <td>3.9129</td>\n",
       "      <td>0.66028</td>\n",
       "      <td>...</td>\n",
       "      <td>4.5527</td>\n",
       "      <td>45.6612</td>\n",
       "      <td>0.062288</td>\n",
       "      <td>56.55</td>\n",
       "      <td>11.7878</td>\n",
       "      <td>NaN</td>\n",
       "      <td>NaN</td>\n",
       "      <td>3.631</td>\n",
       "      <td>3.275</td>\n",
       "      <td>4.4691</td>\n",
       "    </tr>\n",
       "    <tr>\n",
       "      <th>...</th>\n",
       "      <td>...</td>\n",
       "      <td>...</td>\n",
       "      <td>...</td>\n",
       "      <td>...</td>\n",
       "      <td>...</td>\n",
       "      <td>...</td>\n",
       "      <td>...</td>\n",
       "      <td>...</td>\n",
       "      <td>...</td>\n",
       "      <td>...</td>\n",
       "      <td>...</td>\n",
       "      <td>...</td>\n",
       "      <td>...</td>\n",
       "      <td>...</td>\n",
       "      <td>...</td>\n",
       "      <td>...</td>\n",
       "      <td>...</td>\n",
       "      <td>...</td>\n",
       "      <td>...</td>\n",
       "      <td>...</td>\n",
       "      <td>...</td>\n",
       "    </tr>\n",
       "    <tr>\n",
       "      <th>2018</th>\n",
       "      <td>10.818</td>\n",
       "      <td>4.895</td>\n",
       "      <td>171.276</td>\n",
       "      <td>0.49464</td>\n",
       "      <td>21.4345</td>\n",
       "      <td>0.1319</td>\n",
       "      <td>0.61555</td>\n",
       "      <td>180.5993</td>\n",
       "      <td>5.8258</td>\n",
       "      <td>0.87203</td>\n",
       "      <td>...</td>\n",
       "      <td>6.571</td>\n",
       "      <td>102.2881</td>\n",
       "      <td>0.17954</td>\n",
       "      <td>100.7345</td>\n",
       "      <td>257.7223</td>\n",
       "      <td>0.025648</td>\n",
       "      <td>NaN</td>\n",
       "      <td>11.592</td>\n",
       "      <td>7.4194</td>\n",
       "      <td>10.7146</td>\n",
       "    </tr>\n",
       "    <tr>\n",
       "      <th>2019</th>\n",
       "      <td>11.0816</td>\n",
       "      <td>4.8269</td>\n",
       "      <td>178.5772</td>\n",
       "      <td>0.48365</td>\n",
       "      <td>19.2222</td>\n",
       "      <td>0.14656</td>\n",
       "      <td>0.6412</td>\n",
       "      <td>178.5116</td>\n",
       "      <td>6.2841</td>\n",
       "      <td>0.89035</td>\n",
       "      <td>...</td>\n",
       "      <td>6.4899</td>\n",
       "      <td>108.4291</td>\n",
       "      <td>0.16488</td>\n",
       "      <td>87.6116</td>\n",
       "      <td>341.7888</td>\n",
       "      <td>0.025648</td>\n",
       "      <td>NaN</td>\n",
       "      <td>11.8372</td>\n",
       "      <td>7.7508</td>\n",
       "      <td>9.7754</td>\n",
       "    </tr>\n",
       "    <tr>\n",
       "      <th>2020</th>\n",
       "      <td>11.8881</td>\n",
       "      <td>5.0189</td>\n",
       "      <td>169.8928</td>\n",
       "      <td>0.37373</td>\n",
       "      <td>16.7648</td>\n",
       "      <td>0.1429</td>\n",
       "      <td>0.61922</td>\n",
       "      <td>166.8796</td>\n",
       "      <td>6.799</td>\n",
       "      <td>0.89035</td>\n",
       "      <td>...</td>\n",
       "      <td>6.4772</td>\n",
       "      <td>109.632</td>\n",
       "      <td>0.20152</td>\n",
       "      <td>61.9562</td>\n",
       "      <td>363.3427</td>\n",
       "      <td>0.025648</td>\n",
       "      <td>NaN</td>\n",
       "      <td>10.884</td>\n",
       "      <td>8.1443</td>\n",
       "      <td>7.8496</td>\n",
       "    </tr>\n",
       "    <tr>\n",
       "      <th>2021</th>\n",
       "      <td>12.2831</td>\n",
       "      <td>4.9037</td>\n",
       "      <td>180.2252</td>\n",
       "      <td>0.36305</td>\n",
       "      <td>17.5057</td>\n",
       "      <td>0.1377</td>\n",
       "      <td>0.59669</td>\n",
       "      <td>189.7441</td>\n",
       "      <td>7.0641</td>\n",
       "      <td>0.85797</td>\n",
       "      <td>...</td>\n",
       "      <td>8.1022</td>\n",
       "      <td>116.3879</td>\n",
       "      <td>0.21028</td>\n",
       "      <td>71.6132</td>\n",
       "      <td>352.553</td>\n",
       "      <td>0.026763</td>\n",
       "      <td>NaN</td>\n",
       "      <td>11.5879</td>\n",
       "      <td>8.6632</td>\n",
       "      <td>8.3962</td>\n",
       "    </tr>\n",
       "    <tr>\n",
       "      <th>2022</th>\n",
       "      <td>12.1479</td>\n",
       "      <td>4.9547</td>\n",
       "      <td>176.3451</td>\n",
       "      <td>0.36865</td>\n",
       "      <td>16.0703</td>\n",
       "      <td>0.13897</td>\n",
       "      <td>0.60219</td>\n",
       "      <td>192.8644</td>\n",
       "      <td>6.4078</td>\n",
       "      <td>0.86587</td>\n",
       "      <td>...</td>\n",
       "      <td>7.8931</td>\n",
       "      <td>120.6102</td>\n",
       "      <td>0.20791</td>\n",
       "      <td>76.892</td>\n",
       "      <td>343.6066</td>\n",
       "      <td>0.026461</td>\n",
       "      <td>NaN</td>\n",
       "      <td>11.3563</td>\n",
       "      <td>8.9219</td>\n",
       "      <td>8.856</td>\n",
       "    </tr>\n",
       "  </tbody>\n",
       "</table>\n",
       "<p>63 rows × 221 columns</p>\n",
       "</div>"
      ],
      "text/plain": [
       "0     Afghanistan Albania   Algeria  Andorra   Angola Anguilla  \\\n",
       "Fecha                                                            \n",
       "1960      0.41388  2.0222    6.1512      NaN  0.54895      NaN   \n",
       "1961       0.4908  2.2785    6.0559      NaN  0.45371      NaN   \n",
       "1962      0.68859  2.4617     5.661      NaN   1.1791      NaN   \n",
       "1963      0.70674  2.0806    5.4192      NaN   1.1497      NaN   \n",
       "1964      0.83855  2.0147     5.643      NaN   1.2229      NaN   \n",
       "...           ...     ...       ...      ...      ...      ...   \n",
       "2018       10.818   4.895   171.276  0.49464  21.4345   0.1319   \n",
       "2019      11.0816  4.8269  178.5772  0.48365  19.2222  0.14656   \n",
       "2020      11.8881  5.0189  169.8928  0.37373  16.7648   0.1429   \n",
       "2021      12.2831  4.9037  180.2252  0.36305  17.5057   0.1377   \n",
       "2022      12.1479  4.9547  176.3451  0.36865  16.0703  0.13897   \n",
       "\n",
       "0     Antigua and Barbuda Argentina Armenia    Aruba  ... Uruguay Uzbekistan  \\\n",
       "Fecha                                                 ...                      \n",
       "1960              0.03664   48.7645  3.1539  0.61856  ...  4.3145    36.4939   \n",
       "1961             0.047632   51.1267  3.2562  0.64555  ...  4.1168     37.763   \n",
       "1962              0.10259   53.6401  3.4226  0.70894  ...  4.0069    39.7706   \n",
       "1963             0.084272   50.0327  3.6753  0.67909  ...  4.3148    42.8006   \n",
       "1964               0.0916     55.67  3.9129  0.66028  ...  4.5527    45.6612   \n",
       "...                   ...       ...     ...      ...  ...     ...        ...   \n",
       "2018              0.61555  180.5993  5.8258  0.87203  ...   6.571   102.2881   \n",
       "2019               0.6412  178.5116  6.2841  0.89035  ...  6.4899   108.4291   \n",
       "2020              0.61922  166.8796   6.799  0.89035  ...  6.4772    109.632   \n",
       "2021              0.59669  189.7441  7.0641  0.85797  ...  8.1022   116.3879   \n",
       "2022              0.60219  192.8644  6.4078  0.86587  ...  7.8931   120.6102   \n",
       "\n",
       "0       Vanuatu Venezuela   Vietnam Wallis and Futuna Islands Western Sahara  \\\n",
       "Fecha                                                                          \n",
       "1960          0   57.0168    7.4839                       NaN            NaN   \n",
       "1961          0   51.8798    7.9783                       NaN            NaN   \n",
       "1962   0.040304   54.0561    9.3377                       NaN            NaN   \n",
       "1963   0.032976   56.1517    9.1104                       NaN            NaN   \n",
       "1964   0.062288     56.55   11.7878                       NaN            NaN   \n",
       "...         ...       ...       ...                       ...            ...   \n",
       "2018    0.17954  100.7345  257.7223                  0.025648            NaN   \n",
       "2019    0.16488   87.6116  341.7888                  0.025648            NaN   \n",
       "2020    0.20152   61.9562  363.3427                  0.025648            NaN   \n",
       "2021    0.21028   71.6132   352.553                  0.026763            NaN   \n",
       "2022    0.20791    76.892  343.6066                  0.026461            NaN   \n",
       "\n",
       "0        Yemen  Zambia Zimbabwe  \n",
       "Fecha                            \n",
       "1960     3.631  4.3553   5.9431  \n",
       "1961    2.6637   3.709   5.0613  \n",
       "1962    3.8838  3.5827    4.889  \n",
       "1963    2.9165  3.4445   4.7004  \n",
       "1964     3.631   3.275   4.4691  \n",
       "...        ...     ...      ...  \n",
       "2018    11.592  7.4194  10.7146  \n",
       "2019   11.8372  7.7508   9.7754  \n",
       "2020    10.884  8.1443   7.8496  \n",
       "2021   11.5879  8.6632   8.3962  \n",
       "2022   11.3563  8.9219    8.856  \n",
       "\n",
       "[63 rows x 221 columns]"
      ]
     },
     "execution_count": 98,
     "metadata": {},
     "output_type": "execute_result"
    }
   ],
   "source": [
    "# Cambiamos el nombre de la columna NaN por Fecha\n",
    "origen_co2.iloc[0][0]='Fecha'\n",
    "\n",
    "# Utiliza la primera fila como nuevos nombres de columnas\n",
    "origen_co2.columns = origen_co2.iloc[0]\n",
    "\n",
    "# Elimina la primera fila (ya que ahora son los nombres de las columnas)\n",
    "origen_co2 = origen_co2[1:]\n",
    "\n",
    "#\n",
    "origen_co2 = origen_co2.set_index('Fecha')\n",
    "origen_co2"
   ]
  },
  {
   "cell_type": "code",
   "execution_count": 99,
   "metadata": {},
   "outputs": [
    {
     "data": {
      "text/html": [
       "<div>\n",
       "<style scoped>\n",
       "    .dataframe tbody tr th:only-of-type {\n",
       "        vertical-align: middle;\n",
       "    }\n",
       "\n",
       "    .dataframe tbody tr th {\n",
       "        vertical-align: top;\n",
       "    }\n",
       "\n",
       "    .dataframe thead th {\n",
       "        text-align: right;\n",
       "    }\n",
       "</style>\n",
       "<table border=\"1\" class=\"dataframe\">\n",
       "  <thead>\n",
       "    <tr style=\"text-align: right;\">\n",
       "      <th></th>\n",
       "      <th>China</th>\n",
       "      <th>Italia</th>\n",
       "      <th>Japon</th>\n",
       "      <th>India</th>\n",
       "      <th>Indonesia</th>\n",
       "      <th>Iran</th>\n",
       "      <th>Mexico</th>\n",
       "      <th>Rusia</th>\n",
       "      <th>Arabia Saudita</th>\n",
       "      <th>Estados Unidos</th>\n",
       "    </tr>\n",
       "    <tr>\n",
       "      <th>Fecha</th>\n",
       "      <th></th>\n",
       "      <th></th>\n",
       "      <th></th>\n",
       "      <th></th>\n",
       "      <th></th>\n",
       "      <th></th>\n",
       "      <th></th>\n",
       "      <th></th>\n",
       "      <th></th>\n",
       "      <th></th>\n",
       "    </tr>\n",
       "  </thead>\n",
       "  <tbody>\n",
       "    <tr>\n",
       "      <th>1960</th>\n",
       "      <td>798.7999</td>\n",
       "      <td>109.2031</td>\n",
       "      <td>232.4996</td>\n",
       "      <td>111.3251</td>\n",
       "      <td>21.3852</td>\n",
       "      <td>37.3586</td>\n",
       "      <td>63.0523</td>\n",
       "      <td>884.5549</td>\n",
       "      <td>2.6744</td>\n",
       "      <td>2897.3153</td>\n",
       "    </tr>\n",
       "    <tr>\n",
       "      <th>1961</th>\n",
       "      <td>570.6302</td>\n",
       "      <td>124.3749</td>\n",
       "      <td>282.7869</td>\n",
       "      <td>120.4043</td>\n",
       "      <td>26.0016</td>\n",
       "      <td>36.5088</td>\n",
       "      <td>65.2399</td>\n",
       "      <td>912.2216</td>\n",
       "      <td>3.5683</td>\n",
       "      <td>2886.8727</td>\n",
       "    </tr>\n",
       "  </tbody>\n",
       "</table>\n",
       "</div>"
      ],
      "text/plain": [
       "          China    Italia     Japon     India  Indonesia     Iran   Mexico  \\\n",
       "Fecha                                                                        \n",
       "1960   798.7999  109.2031  232.4996  111.3251    21.3852  37.3586  63.0523   \n",
       "1961   570.6302  124.3749  282.7869  120.4043    26.0016  36.5088  65.2399   \n",
       "\n",
       "          Rusia  Arabia Saudita  Estados Unidos  \n",
       "Fecha                                            \n",
       "1960   884.5549          2.6744       2897.3153  \n",
       "1961   912.2216          3.5683       2886.8727  "
      ]
     },
     "execution_count": 99,
     "metadata": {},
     "output_type": "execute_result"
    }
   ],
   "source": [
    "# Primero convertimso todo nuestro DataFrame a float\n",
    "origen_co2 = origen_co2.astype(float)\n",
    "#Creamos una varible del total de CO2 que usaremos mas adelante\n",
    "TOTAL_CO2_2022 = origen_co2.iloc[62].sum()\n",
    "# Cambiamos el nombre a español para ciertos paises interesados\n",
    "origen_co2.rename(columns={'Italy': 'Italia','Japan':'Japon','Russian Federation':'Rusia', 'Saudi Arabia': \n",
    "                            'Arabia Saudita', 'United States of America': 'Estados Unidos'}, inplace=True)\n",
    "\n",
    "# Creamos una lista de los 10 paises que queremos que son los principales causantes del calentamiento\n",
    "top_10_paises = ['China','Italia','Japon', 'India', 'Indonesia','Iran','Mexico','Rusia', 'Arabia Saudita', 'Estados Unidos']\n",
    "\n",
    "# Hacemos un nuevo DataFrame con esta lista\n",
    "origen_co2=pd.DataFrame(data=origen_co2, columns=top_10_paises)\n",
    "\n",
    "origen_co2.head(2)"
   ]
  },
  {
   "cell_type": "code",
   "execution_count": 100,
   "metadata": {},
   "outputs": [
    {
     "name": "stdout",
     "output_type": "stream",
     "text": [
      "<class 'pandas.core.frame.DataFrame'>\n",
      "Index: 63 entries, 1960 to 2022\n",
      "Data columns (total 10 columns):\n",
      " #   Column          Non-Null Count  Dtype  \n",
      "---  ------          --------------  -----  \n",
      " 0   China           63 non-null     float64\n",
      " 1   Italia          63 non-null     float64\n",
      " 2   Japon           63 non-null     float64\n",
      " 3   India           63 non-null     float64\n",
      " 4   Indonesia       63 non-null     float64\n",
      " 5   Iran            63 non-null     float64\n",
      " 6   Mexico          63 non-null     float64\n",
      " 7   Rusia           63 non-null     float64\n",
      " 8   Arabia Saudita  63 non-null     float64\n",
      " 9   Estados Unidos  63 non-null     float64\n",
      "dtypes: float64(10)\n",
      "memory usage: 5.4+ KB\n"
     ]
    }
   ],
   "source": [
    "# Verificamos que no tenemos valores nulos\n",
    "origen_co2.info()"
   ]
  },
  {
   "cell_type": "markdown",
   "metadata": {},
   "source": [
    "2. Registros (filas) repetidos"
   ]
  },
  {
   "cell_type": "code",
   "execution_count": 101,
   "metadata": {},
   "outputs": [
    {
     "name": "stdout",
     "output_type": "stream",
     "text": [
      "<class 'pandas.core.frame.DataFrame'>\n",
      "Index: 63 entries, 1960 to 2022\n",
      "Data columns (total 10 columns):\n",
      " #   Column          Non-Null Count  Dtype  \n",
      "---  ------          --------------  -----  \n",
      " 0   China           63 non-null     float64\n",
      " 1   Italia          63 non-null     float64\n",
      " 2   Japon           63 non-null     float64\n",
      " 3   India           63 non-null     float64\n",
      " 4   Indonesia       63 non-null     float64\n",
      " 5   Iran            63 non-null     float64\n",
      " 6   Mexico          63 non-null     float64\n",
      " 7   Rusia           63 non-null     float64\n",
      " 8   Arabia Saudita  63 non-null     float64\n",
      " 9   Estados Unidos  63 non-null     float64\n",
      "dtypes: float64(10)\n",
      "memory usage: 7.5+ KB\n"
     ]
    }
   ],
   "source": [
    "# Eliminamos todos los registros repetidos\n",
    "origen_co2.drop_duplicates(inplace=True)\n",
    "# Verificamos que tenemos la misma cantidad de datos no-null en todas las columnas\n",
    "origen_co2.info()"
   ]
  },
  {
   "cell_type": "markdown",
   "metadata": {},
   "source": [
    "3. Valores extremos (outliers) en el caso de las variables numericas."
   ]
  },
  {
   "cell_type": "code",
   "execution_count": 104,
   "metadata": {},
   "outputs": [
    {
     "data": {
      "image/png": "[encoded data removed]",
      "text/plain": [
       "<Figure size 1500x3000 with 10 Axes>"
      ]
     },
     "metadata": {},
     "output_type": "display_data"
    }
   ],
   "source": [
    "fig, ax = plt.subplots(nrows=10, ncols=1,figsize = (15,30))\n",
    "fig.subplots_adjust(hspace=0.5)\n",
    "\n",
    "for i,col in enumerate(top_10_paises):\n",
    "    sns.boxplot(x=col, data=origen_co2, ax=ax[i])\n",
    "    #ax[i].set_title(col)"
   ]
  },
  {
   "cell_type": "markdown",
   "metadata": {},
   "source": [
    "**Observacion:** Comprobamos que no tenemos Outliers."
   ]
  },
  {
   "cell_type": "markdown",
   "metadata": {},
   "source": [
    "4. Errores tipograficos"
   ]
  },
  {
   "cell_type": "markdown",
   "metadata": {},
   "source": [
    "**Observacion:** Comprobamos que no tenemos datos tipo string, asi que no necesitamos de este analisis"
   ]
  },
  {
   "cell_type": "code",
   "execution_count": 160,
   "metadata": {},
   "outputs": [
    {
     "data": {
      "image/png": "[encoded data removed]",
      "text/plain": [
       "<Figure size 800x600 with 1 Axes>"
      ]
     },
     "metadata": {},
     "output_type": "display_data"
    }
   ],
   "source": [
    "# Creamos un diccionario en el que vamos a almacenar el porcentaje de CO2 en el top 10 de paises en el año 2022\n",
    "Porcentaje = {}\n",
    "\n",
    "for index, value in enumerate(origen_co2.iloc[62]):\n",
    "    Porcentaje[origen_co2.iloc[62].index[index]]= (value/TOTAL_CO2_2022)*100\n",
    "\n",
    "serie_datos= pd.Series(data=Porcentaje)\n",
    "serie_datos = serie_datos.sort_values(ascending=True)\n",
    "\n",
    "fig, ax = plt.subplots(figsize=(8,6))\n",
    "bars = ax.barh(serie_datos.index, serie_datos.values, color ='magenta')  \n",
    "ax.set_xlim(0, 100)\n",
    "\n",
    "# Agregar porcentajes de forma horizontal\n",
    "for bar in bars:\n",
    "    width = bar.get_width()\n",
    "    ax.text(width, bar.get_y() + bar.get_height() / 2, f'{width:.2f}%', va='center', ha='left')\n",
    "\n",
    "ax.set_xlabel('  ')\n",
    "ax.set_ylabel('    ')\n",
    "ax.set_title('Ranking mundial de los principales paises emisores\\nde gases de efecto invernadero en 2022', fontweight=560,  fontstyle='oblique')\n",
    "\n",
    "plt.show()"
   ]
  },
  {
   "cell_type": "code",
   "execution_count": 179,
   "metadata": {},
   "outputs": [
    {
     "data": {
      "application/vnd.plotly.v1+json": {
       "config": {
        "linkText": "Export to plot.ly",
        "plotlyServerURL": "https://plot.ly",
        "showLink": false
       },
       "data": [
        {
         "line": {
          "color": "rgb(0, 255, 255)"
         },
         "name": "China",
         "type": "scatter",
         "x": [
          "1960",
          "1961",
          "1962",
          "1963",
          "1964",
          "1965",
          "1966",
          "1967",
          "1968",
          "1969",
          "1970",
          "1971",
          "1972",
          "1973",
          "1974",
          "1975",
          "1976",
          "1977",
          "1978",
          "1979",
          "1980",
          "1981",
          "1982",
          "1983",
          "1984",
          "1985",
          "1986",
          "1987",
          "1988",
          "1989",
          "1990",
          "1991",
          "1992",
          "1993",
          "1994",
          "1995",
          "1996",
          "1997",
          "1998",
          "1999",
          "2000",
          "2001",
          "2002",
          "2003",
          "2004",
          "2005",
          "2006",
          "2007",
          "2008",
          "2009",
          "2010",
          "2011",
          "2012",
          "2013",
          "2014",
          "2015",
          "2016",
          "2017",
          "2018",
          "2019",
          "2020",
          "2021",
          "2022"
         ],
         "y": [
          798.7999,
          570.6302,
          459.6181,
          456.7794,
          460.6371,
          500.2864,
          549.4593,
          460.2259,
          495.5066,
          607.6834,
          807.9526,
          909.2097,
          968.6456,
          1008.2926,
          1028.0999,
          1183.215,
          1226.4213,
          1340.8311,
          1492.7778,
          1525.6611,
          1494.4959,
          1476.4879,
          1606.585,
          1694.2168,
          1844.828,
          1998.0829,
          2104.2134,
          2257.7385,
          2425.8936,
          2463.6544,
          2484.8548,
          2606.0962,
          2730.7876,
          2921.651,
          3103.7387,
          3361.6372,
          3508.8181,
          3515.5942,
          3364.5876,
          3557.2746,
          3649.2009,
          3728.5135,
          4103.0427,
          4841.1187,
          5217.3509,
          5882.1429,
          6494.3381,
          6983.5767,
          7501.4978,
          7891.0893,
          8620.6268,
          9532.4091,
          9779.3544,
          9956.3762,
          9998.674,
          9866.9514,
          9765.0295,
          10011.1517,
          10353.9345,
          10721.042,
          10914.0122,
          11336.2339,
          11396.7774
         ]
        },
        {
         "line": {
          "color": "rgb(255, 0, 255)"
         },
         "name": "India",
         "type": "scatter",
         "x": [
          "1960",
          "1961",
          "1962",
          "1963",
          "1964",
          "1965",
          "1966",
          "1967",
          "1968",
          "1969",
          "1970",
          "1971",
          "1972",
          "1973",
          "1974",
          "1975",
          "1976",
          "1977",
          "1978",
          "1979",
          "1980",
          "1981",
          "1982",
          "1983",
          "1984",
          "1985",
          "1986",
          "1987",
          "1988",
          "1989",
          "1990",
          "1991",
          "1992",
          "1993",
          "1994",
          "1995",
          "1996",
          "1997",
          "1998",
          "1999",
          "2000",
          "2001",
          "2002",
          "2003",
          "2004",
          "2005",
          "2006",
          "2007",
          "2008",
          "2009",
          "2010",
          "2011",
          "2012",
          "2013",
          "2014",
          "2015",
          "2016",
          "2017",
          "2018",
          "2019",
          "2020",
          "2021",
          "2022"
         ],
         "y": [
          111.3251,
          120.4043,
          132.5815,
          142.4441,
          139.4883,
          153.7019,
          159.3734,
          159.5558,
          174.0693,
          177.4134,
          181.7226,
          191.9637,
          203.036,
          209.095,
          215.8532,
          234.2091,
          244.7494,
          258.9617,
          263.1496,
          276.2847,
          291.7111,
          314.9662,
          325.38,
          352.1988,
          361.5594,
          397.5921,
          426.3094,
          455.3431,
          491.6922,
          540.651,
          577.996,
          615.365,
          655.447,
          677.2992,
          714.0637,
          760.4616,
          823.6206,
          858.0112,
          875.7723,
          950.4598,
          977.5264,
          990.9695,
          1021.6644,
          1059.1595,
          1125.0963,
          1185.6742,
          1292.4846,
          1392.506,
          1489.4375,
          1612.2163,
          1677.3372,
          1764.7124,
          1925.6997,
          1995.0981,
          2148.3437,
          2234.2195,
          2354.658,
          2426.6069,
          2593.0579,
          2612.888,
          2421.5523,
          2674.2219,
          2829.6442
         ]
        },
        {
         "line": {
          "color": "rgb(255, 255,0)"
         },
         "name": "Estados Unidos",
         "type": "scatter",
         "x": [
          "1960",
          "1961",
          "1962",
          "1963",
          "1964",
          "1965",
          "1966",
          "1967",
          "1968",
          "1969",
          "1970",
          "1971",
          "1972",
          "1973",
          "1974",
          "1975",
          "1976",
          "1977",
          "1978",
          "1979",
          "1980",
          "1981",
          "1982",
          "1983",
          "1984",
          "1985",
          "1986",
          "1987",
          "1988",
          "1989",
          "1990",
          "1991",
          "1992",
          "1993",
          "1994",
          "1995",
          "1996",
          "1997",
          "1998",
          "1999",
          "2000",
          "2001",
          "2002",
          "2003",
          "2004",
          "2005",
          "2006",
          "2007",
          "2008",
          "2009",
          "2010",
          "2011",
          "2012",
          "2013",
          "2014",
          "2015",
          "2016",
          "2017",
          "2018",
          "2019",
          "2020",
          "2021",
          "2022"
         ],
         "y": [
          2897.3153,
          2886.8727,
          2993.902,
          3126.4875,
          3264.3138,
          3399.5468,
          3571.4213,
          3705.461,
          3840.9196,
          4035.1453,
          4339.686,
          4365.4653,
          4573.0154,
          4785.103,
          4621.0998,
          4478.2749,
          4747.8174,
          4889.6653,
          4941.4227,
          5008.6418,
          4808.5564,
          4686.4202,
          4447.2979,
          4429.4231,
          4662.1745,
          4652.633,
          4663.4296,
          4825.7117,
          5050.5434,
          5132.2063,
          5120.9572,
          5062.9567,
          5174.2275,
          5272.8508,
          5364.2793,
          5425.2597,
          5612.9828,
          5688.1425,
          5733.2806,
          5803.9178,
          6010.1359,
          5907.7399,
          5946.3081,
          6010.1455,
          6112.6546,
          6132.1833,
          6052.6862,
          6130.1228,
          5915.1185,
          5480.7257,
          5679.7152,
          5546.1161,
          5344.086,
          5480.1565,
          5528.6811,
          5376.4731,
          5252.9322,
          5212.1623,
          5377.7974,
          5262.1451,
          4714.628,
          5032.2128,
          5057.3038
         ]
        }
       ],
       "layout": {
        "showlegend": true,
        "template": {
         "data": {
          "bar": [
           {
            "error_x": {
             "color": "#2a3f5f"
            },
            "error_y": {
             "color": "#2a3f5f"
            },
            "marker": {
             "line": {
              "color": "#E5ECF6",
              "width": 0.5
             },
             "pattern": {
              "fillmode": "overlay",
              "size": 10,
              "solidity": 0.2
             }
            },
            "type": "bar"
           }
          ],
          "barpolar": [
           {
            "marker": {
             "line": {
              "color": "#E5ECF6",
              "width": 0.5
             },
             "pattern": {
              "fillmode": "overlay",
              "size": 10,
              "solidity": 0.2
             }
            },
            "type": "barpolar"
           }
          ],
          "carpet": [
           {
            "aaxis": {
             "endlinecolor": "#2a3f5f",
             "gridcolor": "white",
             "linecolor": "white",
             "minorgridcolor": "white",
             "startlinecolor": "#2a3f5f"
            },
            "baxis": {
             "endlinecolor": "#2a3f5f",
             "gridcolor": "white",
             "linecolor": "white",
             "minorgridcolor": "white",
             "startlinecolor": "#2a3f5f"
            },
            "type": "carpet"
           }
          ],
          "choropleth": [
           {
            "colorbar": {
             "outlinewidth": 0,
             "ticks": ""
            },
            "type": "choropleth"
           }
          ],
          "contour": [
           {
            "colorbar": {
             "outlinewidth": 0,
             "ticks": ""
            },
            "colorscale": [
             [
              0,
              "#0d0887"
             ],
             [
              0.1111111111111111,
              "#46039f"
             ],
             [
              0.2222222222222222,
              "#7201a8"
             ],
             [
              0.3333333333333333,
              "#9c179e"
             ],
             [
              0.4444444444444444,
              "#bd3786"
             ],
             [
              0.5555555555555556,
              "#d8576b"
             ],
             [
              0.6666666666666666,
              "#ed7953"
             ],
             [
              0.7777777777777778,
              "#fb9f3a"
             ],
             [
              0.8888888888888888,
              "#fdca26"
             ],
             [
              1,
              "#f0f921"
             ]
            ],
            "type": "contour"
           }
          ],
          "contourcarpet": [
           {
            "colorbar": {
             "outlinewidth": 0,
             "ticks": ""
            },
            "type": "contourcarpet"
           }
          ],
          "heatmap": [
           {
            "colorbar": {
             "outlinewidth": 0,
             "ticks": ""
            },
            "colorscale": [
             [
              0,
              "#0d0887"
             ],
             [
              0.1111111111111111,
              "#46039f"
             ],
             [
              0.2222222222222222,
              "#7201a8"
             ],
             [
              0.3333333333333333,
              "#9c179e"
             ],
             [
              0.4444444444444444,
              "#bd3786"
             ],
             [
              0.5555555555555556,
              "#d8576b"
             ],
             [
              0.6666666666666666,
              "#ed7953"
             ],
             [
              0.7777777777777778,
              "#fb9f3a"
             ],
             [
              0.8888888888888888,
              "#fdca26"
             ],
             [
              1,
              "#f0f921"
             ]
            ],
            "type": "heatmap"
           }
          ],
          "heatmapgl": [
           {
            "colorbar": {
             "outlinewidth": 0,
             "ticks": ""
            },
            "colorscale": [
             [
              0,
              "#0d0887"
             ],
             [
              0.1111111111111111,
              "#46039f"
             ],
             [
              0.2222222222222222,
              "#7201a8"
             ],
             [
              0.3333333333333333,
              "#9c179e"
             ],
             [
              0.4444444444444444,
              "#bd3786"
             ],
             [
              0.5555555555555556,
              "#d8576b"
             ],
             [
              0.6666666666666666,
              "#ed7953"
             ],
             [
              0.7777777777777778,
              "#fb9f3a"
             ],
             [
              0.8888888888888888,
              "#fdca26"
             ],
             [
              1,
              "#f0f921"
             ]
            ],
            "type": "heatmapgl"
           }
          ],
          "histogram": [
           {
            "marker": {
             "pattern": {
              "fillmode": "overlay",
              "size": 10,
              "solidity": 0.2
             }
            },
            "type": "histogram"
           }
          ],
          "histogram2d": [
           {
            "colorbar": {
             "outlinewidth": 0,
             "ticks": ""
            },
            "colorscale": [
             [
              0,
              "#0d0887"
             ],
             [
              0.1111111111111111,
              "#46039f"
             ],
             [
              0.2222222222222222,
              "#7201a8"
             ],
             [
              0.3333333333333333,
              "#9c179e"
             ],
             [
              0.4444444444444444,
              "#bd3786"
             ],
             [
              0.5555555555555556,
              "#d8576b"
             ],
             [
              0.6666666666666666,
              "#ed7953"
             ],
             [
              0.7777777777777778,
              "#fb9f3a"
             ],
             [
              0.8888888888888888,
              "#fdca26"
             ],
             [
              1,
              "#f0f921"
             ]
            ],
            "type": "histogram2d"
           }
          ],
          "histogram2dcontour": [
           {
            "colorbar": {
             "outlinewidth": 0,
             "ticks": ""
            },
            "colorscale": [
             [
              0,
              "#0d0887"
             ],
             [
              0.1111111111111111,
              "#46039f"
             ],
             [
              0.2222222222222222,
              "#7201a8"
             ],
             [
              0.3333333333333333,
              "#9c179e"
             ],
             [
              0.4444444444444444,
              "#bd3786"
             ],
             [
              0.5555555555555556,
              "#d8576b"
             ],
             [
              0.6666666666666666,
              "#ed7953"
             ],
             [
              0.7777777777777778,
              "#fb9f3a"
             ],
             [
              0.8888888888888888,
              "#fdca26"
             ],
             [
              1,
              "#f0f921"
             ]
            ],
            "type": "histogram2dcontour"
           }
          ],
          "mesh3d": [
           {
            "colorbar": {
             "outlinewidth": 0,
             "ticks": ""
            },
            "type": "mesh3d"
           }
          ],
          "parcoords": [
           {
            "line": {
             "colorbar": {
              "outlinewidth": 0,
              "ticks": ""
             }
            },
            "type": "parcoords"
           }
          ],
          "pie": [
           {
            "automargin": true,
            "type": "pie"
           }
          ],
          "scatter": [
           {
            "fillpattern": {
             "fillmode": "overlay",
             "size": 10,
             "solidity": 0.2
            },
            "type": "scatter"
           }
          ],
          "scatter3d": [
           {
            "line": {
             "colorbar": {
              "outlinewidth": 0,
              "ticks": ""
             }
            },
            "marker": {
             "colorbar": {
              "outlinewidth": 0,
              "ticks": ""
             }
            },
            "type": "scatter3d"
           }
          ],
          "scattercarpet": [
           {
            "marker": {
             "colorbar": {
              "outlinewidth": 0,
              "ticks": ""
             }
            },
            "type": "scattercarpet"
           }
          ],
          "scattergeo": [
           {
            "marker": {
             "colorbar": {
              "outlinewidth": 0,
              "ticks": ""
             }
            },
            "type": "scattergeo"
           }
          ],
          "scattergl": [
           {
            "marker": {
             "colorbar": {
              "outlinewidth": 0,
              "ticks": ""
             }
            },
            "type": "scattergl"
           }
          ],
          "scattermapbox": [
           {
            "marker": {
             "colorbar": {
              "outlinewidth": 0,
              "ticks": ""
             }
            },
            "type": "scattermapbox"
           }
          ],
          "scatterpolar": [
           {
            "marker": {
             "colorbar": {
              "outlinewidth": 0,
              "ticks": ""
             }
            },
            "type": "scatterpolar"
           }
          ],
          "scatterpolargl": [
           {
            "marker": {
             "colorbar": {
              "outlinewidth": 0,
              "ticks": ""
             }
            },
            "type": "scatterpolargl"
           }
          ],
          "scatterternary": [
           {
            "marker": {
             "colorbar": {
              "outlinewidth": 0,
              "ticks": ""
             }
            },
            "type": "scatterternary"
           }
          ],
          "surface": [
           {
            "colorbar": {
             "outlinewidth": 0,
             "ticks": ""
            },
            "colorscale": [
             [
              0,
              "#0d0887"
             ],
             [
              0.1111111111111111,
              "#46039f"
             ],
             [
              0.2222222222222222,
              "#7201a8"
             ],
             [
              0.3333333333333333,
              "#9c179e"
             ],
             [
              0.4444444444444444,
              "#bd3786"
             ],
             [
              0.5555555555555556,
              "#d8576b"
             ],
             [
              0.6666666666666666,
              "#ed7953"
             ],
             [
              0.7777777777777778,
              "#fb9f3a"
             ],
             [
              0.8888888888888888,
              "#fdca26"
             ],
             [
              1,
              "#f0f921"
             ]
            ],
            "type": "surface"
           }
          ],
          "table": [
           {
            "cells": {
             "fill": {
              "color": "#EBF0F8"
             },
             "line": {
              "color": "white"
             }
            },
            "header": {
             "fill": {
              "color": "#C8D4E3"
             },
             "line": {
              "color": "white"
             }
            },
            "type": "table"
           }
          ]
         },
         "layout": {
          "annotationdefaults": {
           "arrowcolor": "#2a3f5f",
           "arrowhead": 0,
           "arrowwidth": 1
          },
          "autotypenumbers": "strict",
          "coloraxis": {
           "colorbar": {
            "outlinewidth": 0,
            "ticks": ""
           }
          },
          "colorscale": {
           "diverging": [
            [
             0,
             "#8e0152"
            ],
            [
             0.1,
             "#c51b7d"
            ],
            [
             0.2,
             "#de77ae"
            ],
            [
             0.3,
             "#f1b6da"
            ],
            [
             0.4,
             "#fde0ef"
            ],
            [
             0.5,
             "#f7f7f7"
            ],
            [
             0.6,
             "#e6f5d0"
            ],
            [
             0.7,
             "#b8e186"
            ],
            [
             0.8,
             "#7fbc41"
            ],
            [
             0.9,
             "#4d9221"
            ],
            [
             1,
             "#276419"
            ]
           ],
           "sequential": [
            [
             0,
             "#0d0887"
            ],
            [
             0.1111111111111111,
             "#46039f"
            ],
            [
             0.2222222222222222,
             "#7201a8"
            ],
            [
             0.3333333333333333,
             "#9c179e"
            ],
            [
             0.4444444444444444,
             "#bd3786"
            ],
            [
             0.5555555555555556,
             "#d8576b"
            ],
            [
             0.6666666666666666,
             "#ed7953"
            ],
            [
             0.7777777777777778,
             "#fb9f3a"
            ],
            [
             0.8888888888888888,
             "#fdca26"
            ],
            [
             1,
             "#f0f921"
            ]
           ],
           "sequentialminus": [
            [
             0,
             "#0d0887"
            ],
            [
             0.1111111111111111,
             "#46039f"
            ],
            [
             0.2222222222222222,
             "#7201a8"
            ],
            [
             0.3333333333333333,
             "#9c179e"
            ],
            [
             0.4444444444444444,
             "#bd3786"
            ],
            [
             0.5555555555555556,
             "#d8576b"
            ],
            [
             0.6666666666666666,
             "#ed7953"
            ],
            [
             0.7777777777777778,
             "#fb9f3a"
            ],
            [
             0.8888888888888888,
             "#fdca26"
            ],
            [
             1,
             "#f0f921"
            ]
           ]
          },
          "colorway": [
           "#636efa",
           "#EF553B",
           "#00cc96",
           "#ab63fa",
           "#FFA15A",
           "#19d3f3",
           "#FF6692",
           "#B6E880",
           "#FF97FF",
           "#FECB52"
          ],
          "font": {
           "color": "#2a3f5f"
          },
          "geo": {
           "bgcolor": "white",
           "lakecolor": "white",
           "landcolor": "#E5ECF6",
           "showlakes": true,
           "showland": true,
           "subunitcolor": "white"
          },
          "hoverlabel": {
           "align": "left"
          },
          "hovermode": "closest",
          "mapbox": {
           "style": "light"
          },
          "paper_bgcolor": "white",
          "plot_bgcolor": "#E5ECF6",
          "polar": {
           "angularaxis": {
            "gridcolor": "white",
            "linecolor": "white",
            "ticks": ""
           },
           "bgcolor": "#E5ECF6",
           "radialaxis": {
            "gridcolor": "white",
            "linecolor": "white",
            "ticks": ""
           }
          },
          "scene": {
           "xaxis": {
            "backgroundcolor": "#E5ECF6",
            "gridcolor": "white",
            "gridwidth": 2,
            "linecolor": "white",
            "showbackground": true,
            "ticks": "",
            "zerolinecolor": "white"
           },
           "yaxis": {
            "backgroundcolor": "#E5ECF6",
            "gridcolor": "white",
            "gridwidth": 2,
            "linecolor": "white",
            "showbackground": true,
            "ticks": "",
            "zerolinecolor": "white"
           },
           "zaxis": {
            "backgroundcolor": "#E5ECF6",
            "gridcolor": "white",
            "gridwidth": 2,
            "linecolor": "white",
            "showbackground": true,
            "ticks": "",
            "zerolinecolor": "white"
           }
          },
          "shapedefaults": {
           "line": {
            "color": "#2a3f5f"
           }
          },
          "ternary": {
           "aaxis": {
            "gridcolor": "white",
            "linecolor": "white",
            "ticks": ""
           },
           "baxis": {
            "gridcolor": "white",
            "linecolor": "white",
            "ticks": ""
           },
           "bgcolor": "#E5ECF6",
           "caxis": {
            "gridcolor": "white",
            "linecolor": "white",
            "ticks": ""
           }
          },
          "title": {
           "x": 0.05
          },
          "xaxis": {
           "automargin": true,
           "gridcolor": "white",
           "linecolor": "white",
           "ticks": "",
           "title": {
            "standoff": 15
           },
           "zerolinecolor": "white",
           "zerolinewidth": 2
          },
          "yaxis": {
           "automargin": true,
           "gridcolor": "white",
           "linecolor": "white",
           "ticks": "",
           "title": {
            "standoff": 15
           },
           "zerolinecolor": "white",
           "zerolinewidth": 2
          }
         }
        },
        "title": {
         "text": "CO2 producidos por China, India y Estados Unidos"
        },
        "xaxis": {
         "title": {
          "text": "Año"
         }
        },
        "yaxis": {
         "title": {
          "text": "Medicion en Toneladas de CO2"
         }
        }
       }
      },
      "text/html": [
       "<div>                            <div id=\"66bafd1b-9bd8-4e4b-9843-58e60c951f03\" class=\"plotly-graph-div\" style=\"height:525px; width:100%;\"></div>            <script type=\"text/javascript\">                require([\"plotly\"], function(Plotly) {                    window.PLOTLYENV=window.PLOTLYENV || {};                                    if (document.getElementById(\"66bafd1b-9bd8-4e4b-9843-58e60c951f03\")) {                    Plotly.newPlot(                        \"66bafd1b-9bd8-4e4b-9843-58e60c951f03\",                        [{\"line\":{\"color\":\"rgb(0, 255, 255)\"},\"name\":\"China\",\"x\":[\"1960\",\"1961\",\"1962\",\"1963\",\"1964\",\"1965\",\"1966\",\"1967\",\"1968\",\"1969\",\"1970\",\"1971\",\"1972\",\"1973\",\"1974\",\"1975\",\"1976\",\"1977\",\"1978\",\"1979\",\"1980\",\"1981\",\"1982\",\"1983\",\"1984\",\"1985\",\"1986\",\"1987\",\"1988\",\"1989\",\"1990\",\"1991\",\"1992\",\"1993\",\"1994\",\"1995\",\"1996\",\"1997\",\"1998\",\"1999\",\"2000\",\"2001\",\"2002\",\"2003\",\"2004\",\"2005\",\"2006\",\"2007\",\"2008\",\"2009\",\"2010\",\"2011\",\"2012\",\"2013\",\"2014\",\"2015\",\"2016\",\"2017\",\"2018\",\"2019\",\"2020\",\"2021\",\"2022\"],\"y\":[798.7999,570.6302,459.6181,456.7794,460.6371,500.2864,549.4593,460.2259,495.5066,607.6834,807.9526,909.2097,968.6456,1008.2926,1028.0999,1183.215,1226.4213,1340.8311,1492.7778,1525.6611,1494.4959,1476.4879,1606.585,1694.2168,1844.828,1998.0829,2104.2134,2257.7385,2425.8936,2463.6544,2484.8548,2606.0962,2730.7876,2921.651,3103.7387,3361.6372,3508.8181,3515.5942,3364.5876,3557.2746,3649.2009,3728.5135,4103.0427,4841.1187,5217.3509,5882.1429,6494.3381,6983.5767,7501.4978,7891.0893,8620.6268,9532.4091,9779.3544,9956.3762,9998.674,9866.9514,9765.0295,10011.1517,10353.9345,10721.042,10914.0122,11336.2339,11396.7774],\"type\":\"scatter\"},{\"line\":{\"color\":\"rgb(255, 0, 255)\"},\"name\":\"India\",\"x\":[\"1960\",\"1961\",\"1962\",\"1963\",\"1964\",\"1965\",\"1966\",\"1967\",\"1968\",\"1969\",\"1970\",\"1971\",\"1972\",\"1973\",\"1974\",\"1975\",\"1976\",\"1977\",\"1978\",\"1979\",\"1980\",\"1981\",\"1982\",\"1983\",\"1984\",\"1985\",\"1986\",\"1987\",\"1988\",\"1989\",\"1990\",\"1991\",\"1992\",\"1993\",\"1994\",\"1995\",\"1996\",\"1997\",\"1998\",\"1999\",\"2000\",\"2001\",\"2002\",\"2003\",\"2004\",\"2005\",\"2006\",\"2007\",\"2008\",\"2009\",\"2010\",\"2011\",\"2012\",\"2013\",\"2014\",\"2015\",\"2016\",\"2017\",\"2018\",\"2019\",\"2020\",\"2021\",\"2022\"],\"y\":[111.3251,120.4043,132.5815,142.4441,139.4883,153.7019,159.3734,159.5558,174.0693,177.4134,181.7226,191.9637,203.036,209.095,215.8532,234.2091,244.7494,258.9617,263.1496,276.2847,291.7111,314.9662,325.38,352.1988,361.5594,397.5921,426.3094,455.3431,491.6922,540.651,577.996,615.365,655.447,677.2992,714.0637,760.4616,823.6206,858.0112,875.7723,950.4598,977.5264,990.9695,1021.6644,1059.1595,1125.0963,1185.6742,1292.4846,1392.506,1489.4375,1612.2163,1677.3372,1764.7124,1925.6997,1995.0981,2148.3437,2234.2195,2354.658,2426.6069,2593.0579,2612.888,2421.5523,2674.2219,2829.6442],\"type\":\"scatter\"},{\"line\":{\"color\":\"rgb(255, 255,0)\"},\"name\":\"Estados Unidos\",\"x\":[\"1960\",\"1961\",\"1962\",\"1963\",\"1964\",\"1965\",\"1966\",\"1967\",\"1968\",\"1969\",\"1970\",\"1971\",\"1972\",\"1973\",\"1974\",\"1975\",\"1976\",\"1977\",\"1978\",\"1979\",\"1980\",\"1981\",\"1982\",\"1983\",\"1984\",\"1985\",\"1986\",\"1987\",\"1988\",\"1989\",\"1990\",\"1991\",\"1992\",\"1993\",\"1994\",\"1995\",\"1996\",\"1997\",\"1998\",\"1999\",\"2000\",\"2001\",\"2002\",\"2003\",\"2004\",\"2005\",\"2006\",\"2007\",\"2008\",\"2009\",\"2010\",\"2011\",\"2012\",\"2013\",\"2014\",\"2015\",\"2016\",\"2017\",\"2018\",\"2019\",\"2020\",\"2021\",\"2022\"],\"y\":[2897.3153,2886.8727,2993.902,3126.4875,3264.3138,3399.5468,3571.4213,3705.461,3840.9196,4035.1453,4339.686,4365.4653,4573.0154,4785.103,4621.0998,4478.2749,4747.8174,4889.6653,4941.4227,5008.6418,4808.5564,4686.4202,4447.2979,4429.4231,4662.1745,4652.633,4663.4296,4825.7117,5050.5434,5132.2063,5120.9572,5062.9567,5174.2275,5272.8508,5364.2793,5425.2597,5612.9828,5688.1425,5733.2806,5803.9178,6010.1359,5907.7399,5946.3081,6010.1455,6112.6546,6132.1833,6052.6862,6130.1228,5915.1185,5480.7257,5679.7152,5546.1161,5344.086,5480.1565,5528.6811,5376.4731,5252.9322,5212.1623,5377.7974,5262.1451,4714.628,5032.2128,5057.3038],\"type\":\"scatter\"}],                        {\"showlegend\":true,\"template\":{\"data\":{\"barpolar\":[{\"marker\":{\"line\":{\"color\":\"#E5ECF6\",\"width\":0.5},\"pattern\":{\"fillmode\":\"overlay\",\"size\":10,\"solidity\":0.2}},\"type\":\"barpolar\"}],\"bar\":[{\"error_x\":{\"color\":\"#2a3f5f\"},\"error_y\":{\"color\":\"#2a3f5f\"},\"marker\":{\"line\":{\"color\":\"#E5ECF6\",\"width\":0.5},\"pattern\":{\"fillmode\":\"overlay\",\"size\":10,\"solidity\":0.2}},\"type\":\"bar\"}],\"carpet\":[{\"aaxis\":{\"endlinecolor\":\"#2a3f5f\",\"gridcolor\":\"white\",\"linecolor\":\"white\",\"minorgridcolor\":\"white\",\"startlinecolor\":\"#2a3f5f\"},\"baxis\":{\"endlinecolor\":\"#2a3f5f\",\"gridcolor\":\"white\",\"linecolor\":\"white\",\"minorgridcolor\":\"white\",\"startlinecolor\":\"#2a3f5f\"},\"type\":\"carpet\"}],\"choropleth\":[{\"colorbar\":{\"outlinewidth\":0,\"ticks\":\"\"},\"type\":\"choropleth\"}],\"contourcarpet\":[{\"colorbar\":{\"outlinewidth\":0,\"ticks\":\"\"},\"type\":\"contourcarpet\"}],\"contour\":[{\"colorbar\":{\"outlinewidth\":0,\"ticks\":\"\"},\"colorscale\":[[0.0,\"#0d0887\"],[0.1111111111111111,\"#46039f\"],[0.2222222222222222,\"#7201a8\"],[0.3333333333333333,\"#9c179e\"],[0.4444444444444444,\"#bd3786\"],[0.5555555555555556,\"#d8576b\"],[0.6666666666666666,\"#ed7953\"],[0.7777777777777778,\"#fb9f3a\"],[0.8888888888888888,\"#fdca26\"],[1.0,\"#f0f921\"]],\"type\":\"contour\"}],\"heatmapgl\":[{\"colorbar\":{\"outlinewidth\":0,\"ticks\":\"\"},\"colorscale\":[[0.0,\"#0d0887\"],[0.1111111111111111,\"#46039f\"],[0.2222222222222222,\"#7201a8\"],[0.3333333333333333,\"#9c179e\"],[0.4444444444444444,\"#bd3786\"],[0.5555555555555556,\"#d8576b\"],[0.6666666666666666,\"#ed7953\"],[0.7777777777777778,\"#fb9f3a\"],[0.8888888888888888,\"#fdca26\"],[1.0,\"#f0f921\"]],\"type\":\"heatmapgl\"}],\"heatmap\":[{\"colorbar\":{\"outlinewidth\":0,\"ticks\":\"\"},\"colorscale\":[[0.0,\"#0d0887\"],[0.1111111111111111,\"#46039f\"],[0.2222222222222222,\"#7201a8\"],[0.3333333333333333,\"#9c179e\"],[0.4444444444444444,\"#bd3786\"],[0.5555555555555556,\"#d8576b\"],[0.6666666666666666,\"#ed7953\"],[0.7777777777777778,\"#fb9f3a\"],[0.8888888888888888,\"#fdca26\"],[1.0,\"#f0f921\"]],\"type\":\"heatmap\"}],\"histogram2dcontour\":[{\"colorbar\":{\"outlinewidth\":0,\"ticks\":\"\"},\"colorscale\":[[0.0,\"#0d0887\"],[0.1111111111111111,\"#46039f\"],[0.2222222222222222,\"#7201a8\"],[0.3333333333333333,\"#9c179e\"],[0.4444444444444444,\"#bd3786\"],[0.5555555555555556,\"#d8576b\"],[0.6666666666666666,\"#ed7953\"],[0.7777777777777778,\"#fb9f3a\"],[0.8888888888888888,\"#fdca26\"],[1.0,\"#f0f921\"]],\"type\":\"histogram2dcontour\"}],\"histogram2d\":[{\"colorbar\":{\"outlinewidth\":0,\"ticks\":\"\"},\"colorscale\":[[0.0,\"#0d0887\"],[0.1111111111111111,\"#46039f\"],[0.2222222222222222,\"#7201a8\"],[0.3333333333333333,\"#9c179e\"],[0.4444444444444444,\"#bd3786\"],[0.5555555555555556,\"#d8576b\"],[0.6666666666666666,\"#ed7953\"],[0.7777777777777778,\"#fb9f3a\"],[0.8888888888888888,\"#fdca26\"],[1.0,\"#f0f921\"]],\"type\":\"histogram2d\"}],\"histogram\":[{\"marker\":{\"pattern\":{\"fillmode\":\"overlay\",\"size\":10,\"solidity\":0.2}},\"type\":\"histogram\"}],\"mesh3d\":[{\"colorbar\":{\"outlinewidth\":0,\"ticks\":\"\"},\"type\":\"mesh3d\"}],\"parcoords\":[{\"line\":{\"colorbar\":{\"outlinewidth\":0,\"ticks\":\"\"}},\"type\":\"parcoords\"}],\"pie\":[{\"automargin\":true,\"type\":\"pie\"}],\"scatter3d\":[{\"line\":{\"colorbar\":{\"outlinewidth\":0,\"ticks\":\"\"}},\"marker\":{\"colorbar\":{\"outlinewidth\":0,\"ticks\":\"\"}},\"type\":\"scatter3d\"}],\"scattercarpet\":[{\"marker\":{\"colorbar\":{\"outlinewidth\":0,\"ticks\":\"\"}},\"type\":\"scattercarpet\"}],\"scattergeo\":[{\"marker\":{\"colorbar\":{\"outlinewidth\":0,\"ticks\":\"\"}},\"type\":\"scattergeo\"}],\"scattergl\":[{\"marker\":{\"colorbar\":{\"outlinewidth\":0,\"ticks\":\"\"}},\"type\":\"scattergl\"}],\"scattermapbox\":[{\"marker\":{\"colorbar\":{\"outlinewidth\":0,\"ticks\":\"\"}},\"type\":\"scattermapbox\"}],\"scatterpolargl\":[{\"marker\":{\"colorbar\":{\"outlinewidth\":0,\"ticks\":\"\"}},\"type\":\"scatterpolargl\"}],\"scatterpolar\":[{\"marker\":{\"colorbar\":{\"outlinewidth\":0,\"ticks\":\"\"}},\"type\":\"scatterpolar\"}],\"scatter\":[{\"fillpattern\":{\"fillmode\":\"overlay\",\"size\":10,\"solidity\":0.2},\"type\":\"scatter\"}],\"scatterternary\":[{\"marker\":{\"colorbar\":{\"outlinewidth\":0,\"ticks\":\"\"}},\"type\":\"scatterternary\"}],\"surface\":[{\"colorbar\":{\"outlinewidth\":0,\"ticks\":\"\"},\"colorscale\":[[0.0,\"#0d0887\"],[0.1111111111111111,\"#46039f\"],[0.2222222222222222,\"#7201a8\"],[0.3333333333333333,\"#9c179e\"],[0.4444444444444444,\"#bd3786\"],[0.5555555555555556,\"#d8576b\"],[0.6666666666666666,\"#ed7953\"],[0.7777777777777778,\"#fb9f3a\"],[0.8888888888888888,\"#fdca26\"],[1.0,\"#f0f921\"]],\"type\":\"surface\"}],\"table\":[{\"cells\":{\"fill\":{\"color\":\"#EBF0F8\"},\"line\":{\"color\":\"white\"}},\"header\":{\"fill\":{\"color\":\"#C8D4E3\"},\"line\":{\"color\":\"white\"}},\"type\":\"table\"}]},\"layout\":{\"annotationdefaults\":{\"arrowcolor\":\"#2a3f5f\",\"arrowhead\":0,\"arrowwidth\":1},\"autotypenumbers\":\"strict\",\"coloraxis\":{\"colorbar\":{\"outlinewidth\":0,\"ticks\":\"\"}},\"colorscale\":{\"diverging\":[[0,\"#8e0152\"],[0.1,\"#c51b7d\"],[0.2,\"#de77ae\"],[0.3,\"#f1b6da\"],[0.4,\"#fde0ef\"],[0.5,\"#f7f7f7\"],[0.6,\"#e6f5d0\"],[0.7,\"#b8e186\"],[0.8,\"#7fbc41\"],[0.9,\"#4d9221\"],[1,\"#276419\"]],\"sequential\":[[0.0,\"#0d0887\"],[0.1111111111111111,\"#46039f\"],[0.2222222222222222,\"#7201a8\"],[0.3333333333333333,\"#9c179e\"],[0.4444444444444444,\"#bd3786\"],[0.5555555555555556,\"#d8576b\"],[0.6666666666666666,\"#ed7953\"],[0.7777777777777778,\"#fb9f3a\"],[0.8888888888888888,\"#fdca26\"],[1.0,\"#f0f921\"]],\"sequentialminus\":[[0.0,\"#0d0887\"],[0.1111111111111111,\"#46039f\"],[0.2222222222222222,\"#7201a8\"],[0.3333333333333333,\"#9c179e\"],[0.4444444444444444,\"#bd3786\"],[0.5555555555555556,\"#d8576b\"],[0.6666666666666666,\"#ed7953\"],[0.7777777777777778,\"#fb9f3a\"],[0.8888888888888888,\"#fdca26\"],[1.0,\"#f0f921\"]]},\"colorway\":[\"#636efa\",\"#EF553B\",\"#00cc96\",\"#ab63fa\",\"#FFA15A\",\"#19d3f3\",\"#FF6692\",\"#B6E880\",\"#FF97FF\",\"#FECB52\"],\"font\":{\"color\":\"#2a3f5f\"},\"geo\":{\"bgcolor\":\"white\",\"lakecolor\":\"white\",\"landcolor\":\"#E5ECF6\",\"showlakes\":true,\"showland\":true,\"subunitcolor\":\"white\"},\"hoverlabel\":{\"align\":\"left\"},\"hovermode\":\"closest\",\"mapbox\":{\"style\":\"light\"},\"paper_bgcolor\":\"white\",\"plot_bgcolor\":\"#E5ECF6\",\"polar\":{\"angularaxis\":{\"gridcolor\":\"white\",\"linecolor\":\"white\",\"ticks\":\"\"},\"bgcolor\":\"#E5ECF6\",\"radialaxis\":{\"gridcolor\":\"white\",\"linecolor\":\"white\",\"ticks\":\"\"}},\"scene\":{\"xaxis\":{\"backgroundcolor\":\"#E5ECF6\",\"gridcolor\":\"white\",\"gridwidth\":2,\"linecolor\":\"white\",\"showbackground\":true,\"ticks\":\"\",\"zerolinecolor\":\"white\"},\"yaxis\":{\"backgroundcolor\":\"#E5ECF6\",\"gridcolor\":\"white\",\"gridwidth\":2,\"linecolor\":\"white\",\"showbackground\":true,\"ticks\":\"\",\"zerolinecolor\":\"white\"},\"zaxis\":{\"backgroundcolor\":\"#E5ECF6\",\"gridcolor\":\"white\",\"gridwidth\":2,\"linecolor\":\"white\",\"showbackground\":true,\"ticks\":\"\",\"zerolinecolor\":\"white\"}},\"shapedefaults\":{\"line\":{\"color\":\"#2a3f5f\"}},\"ternary\":{\"aaxis\":{\"gridcolor\":\"white\",\"linecolor\":\"white\",\"ticks\":\"\"},\"baxis\":{\"gridcolor\":\"white\",\"linecolor\":\"white\",\"ticks\":\"\"},\"bgcolor\":\"#E5ECF6\",\"caxis\":{\"gridcolor\":\"white\",\"linecolor\":\"white\",\"ticks\":\"\"}},\"title\":{\"x\":0.05},\"xaxis\":{\"automargin\":true,\"gridcolor\":\"white\",\"linecolor\":\"white\",\"ticks\":\"\",\"title\":{\"standoff\":15},\"zerolinecolor\":\"white\",\"zerolinewidth\":2},\"yaxis\":{\"automargin\":true,\"gridcolor\":\"white\",\"linecolor\":\"white\",\"ticks\":\"\",\"title\":{\"standoff\":15},\"zerolinecolor\":\"white\",\"zerolinewidth\":2}}},\"title\":{\"text\":\"CO2 producidos por China, India y Estados Unidos\"},\"xaxis\":{\"title\":{\"text\":\"A\\u00f1o\"}},\"yaxis\":{\"title\":{\"text\":\"Medicion en Toneladas de CO2\"}}},                        {\"responsive\": true}                    ).then(function(){\n",
       "                            \n",
       "var gd = document.getElementById('66bafd1b-9bd8-4e4b-9843-58e60c951f03');\n",
       "var x = new MutationObserver(function (mutations, observer) {{\n",
       "        var display = window.getComputedStyle(gd).display;\n",
       "        if (!display || display === 'none') {{\n",
       "            console.log([gd, 'removed!']);\n",
       "            Plotly.purge(gd);\n",
       "            observer.disconnect();\n",
       "        }}\n",
       "}});\n",
       "\n",
       "// Listen for the removal of the full notebook cells\n",
       "var notebookContainer = gd.closest('#notebook-container');\n",
       "if (notebookContainer) {{\n",
       "    x.observe(notebookContainer, {childList: true});\n",
       "}}\n",
       "\n",
       "// Listen for the clearing of the current output cell\n",
       "var outputEl = gd.closest('.output');\n",
       "if (outputEl) {{\n",
       "    x.observe(outputEl, {childList: true});\n",
       "}}\n",
       "\n",
       "                        })                };                });            </script>        </div>"
      ]
     },
     "metadata": {},
     "output_type": "display_data"
    }
   ],
   "source": [
    "years = np.unique(origen_co2.index)\n",
    "\n",
    "co2_china=[]\n",
    "co2_usa=[]\n",
    "co2_india=[]\n",
    "\n",
    "for year in years:\n",
    "    co2_china.append(origen_co2[origen_co2.index == year]['China'].mean())\n",
    "    co2_usa.append(origen_co2[origen_co2.index == year]['Estados Unidos'].mean())\n",
    "    co2_india.append(origen_co2[origen_co2.index == year]['India'].mean())\n",
    "    \n",
    "\n",
    "# Creamos la traza de china\n",
    "trace0 = go.Scatter(\n",
    "    x = years, \n",
    "    y = co2_china,\n",
    "    name='China',\n",
    "    line=dict(\n",
    "        color='rgb(0, 255, 255)',\n",
    "    )\n",
    ")\n",
    "# Creamos la traza de india\n",
    "trace1 = go.Scatter(\n",
    "    x = years, \n",
    "    y = co2_india,\n",
    "    name='India',\n",
    "    line=dict(\n",
    "        color='rgb(255, 0, 255)',\n",
    "    )\n",
    ")\n",
    "# Creamos la traza de Usa\n",
    "trace2 = go.Scatter(\n",
    "    x = years, \n",
    "    y = co2_usa,\n",
    "    name='Estados Unidos',\n",
    "    line=dict(\n",
    "        color='rgb(255, 255,0)',\n",
    "    )\n",
    ")\n",
    "\n",
    "data = [trace0, trace1, trace2]\n",
    "\n",
    "layout = go.Layout(\n",
    "    xaxis=dict(title='Año'),\n",
    "    yaxis=dict(title='Medicion en Toneladas de CO2'),\n",
    "    title='CO2 producidos por China, India y Estados Unidos', \n",
    "    showlegend = True)\n",
    "\n",
    "fig = go.Figure(data=data, layout=layout)\n",
    "py.iplot(fig)"
   ]
  }
 ],
 "metadata": {
  "kernelspec": {
   "display_name": "Python 3",
   "language": "python",
   "name": "python3"
  },
  "language_info": {
   "codemirror_mode": {
    "name": "ipython",
    "version": 3
   },
   "file_extension": ".py",
   "mimetype": "text/x-python",
   "name": "python",
   "nbconvert_exporter": "python",
   "pygments_lexer": "ipython3",
   "version": "3.12.2"
  }
 },
 "nbformat": 4,
 "nbformat_minor": 2
}
