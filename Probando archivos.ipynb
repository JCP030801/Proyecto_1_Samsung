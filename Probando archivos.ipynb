{
 "cells": [
  {
   "cell_type": "code",
   "execution_count": 3,
   "metadata": {},
   "outputs": [
    {
     "data": {
      "application/vnd.plotly.v1+json": {
       "config": {
        "linkText": "Export to plot.ly",
        "plotlyServerURL": "https://plot.ly",
        "showLink": false
       },
       "data": [
        {
         "colorbar": {
          "autotick": true,
          "tickprefix": "",
          "title": "Temperatura\nPromedio,\n°C"
         },
         "locationmode": "country names",
         "locations": [
          "Afghanistan",
          "Albania",
          "Algeria",
          "American Samoa",
          "Andorra",
          "Angola",
          "Anguilla",
          "Antigua And Barbuda",
          "Argentina",
          "Armenia",
          "Aruba",
          "Asia",
          "Australia",
          "Austria",
          "Azerbaijan",
          "Bahamas",
          "Bahrain",
          "Baker Island",
          "Bangladesh",
          "Barbados",
          "Belarus",
          "Belgium",
          "Belize",
          "Benin",
          "Bhutan",
          "Bolivia",
          "Bonaire, Saint Eustatius And Saba",
          "Bosnia And Herzegovina",
          "Botswana",
          "Brazil",
          "British Virgin Islands",
          "Bulgaria",
          "Burkina Faso",
          "Burma",
          "Burundi",
          "Cambodia",
          "Cameroon",
          "Canada",
          "Cape Verde",
          "Cayman Islands",
          "Central African Republic",
          "Chad",
          "Chile",
          "China",
          "Christmas Island",
          "Colombia",
          "Comoros",
          "Congo",
          "Congo (Democratic Republic Of The)",
          "Costa Rica",
          "Croatia",
          "Cuba",
          "Curaçao",
          "Cyprus",
          "Czech Republic",
          "Côte D'Ivoire",
          "Denmark",
          "Djibouti",
          "Dominica",
          "Dominican Republic",
          "Ecuador",
          "Egypt",
          "El Salvador",
          "Equatorial Guinea",
          "Eritrea",
          "Estonia",
          "Ethiopia",
          "Falkland Islands (Islas Malvinas)",
          "Faroe Islands",
          "Federated States Of Micronesia",
          "Fiji",
          "Finland",
          "France",
          "French Guiana",
          "French Polynesia",
          "French Southern And Antarctic Lands",
          "Gabon",
          "Gambia",
          "Gaza Strip",
          "Georgia",
          "Germany",
          "Ghana",
          "Greece",
          "Greenland",
          "Grenada",
          "Guadeloupe",
          "Guam",
          "Guatemala",
          "Guernsey",
          "Guinea",
          "Guinea Bissau",
          "Guyana",
          "Haiti",
          "Heard Island And Mcdonald Islands",
          "Honduras",
          "Hong Kong",
          "Hungary",
          "Iceland",
          "India",
          "Indonesia",
          "Iran",
          "Iraq",
          "Ireland",
          "Isle Of Man",
          "Israel",
          "Italy",
          "Jamaica",
          "Japan",
          "Jersey",
          "Jordan",
          "Kazakhstan",
          "Kenya",
          "Kingman Reef",
          "Kiribati",
          "Kuwait",
          "Kyrgyzstan",
          "Laos",
          "Latvia",
          "Lebanon",
          "Lesotho",
          "Liberia",
          "Libya",
          "Liechtenstein",
          "Lithuania",
          "Luxembourg",
          "Macau",
          "Macedonia",
          "Madagascar",
          "Malawi",
          "Malaysia",
          "Mali",
          "Malta",
          "Martinique",
          "Mauritania",
          "Mauritius",
          "Mayotte",
          "Mexico",
          "Moldova",
          "Monaco",
          "Mongolia",
          "Montenegro",
          "Montserrat",
          "Morocco",
          "Mozambique",
          "Namibia",
          "Nepal",
          "Netherlands",
          "New Caledonia",
          "New Zealand",
          "Nicaragua",
          "Niger",
          "Nigeria",
          "Niue",
          "North America",
          "North Korea",
          "Northern Mariana Islands",
          "Norway",
          "Oceania",
          "Oman",
          "Pakistan",
          "Palau",
          "Palestina",
          "Palmyra Atoll",
          "Panama",
          "Papua New Guinea",
          "Paraguay",
          "Peru",
          "Philippines",
          "Poland",
          "Portugal",
          "Puerto Rico",
          "Qatar",
          "Reunion",
          "Romania",
          "Russia",
          "Rwanda",
          "Saint Barthélemy",
          "Saint Kitts And Nevis",
          "Saint Lucia",
          "Saint Martin",
          "Saint Pierre And Miquelon",
          "Saint Vincent And The Grenadines",
          "Samoa",
          "San Marino",
          "Sao Tome And Principe",
          "Saudi Arabia",
          "Senegal",
          "Serbia",
          "Seychelles",
          "Sierra Leone",
          "Singapore",
          "Sint Maarten",
          "Slovakia",
          "Slovenia",
          "Solomon Islands",
          "Somalia",
          "South Africa",
          "South Georgia And The South Sandwich Isla",
          "South Korea",
          "Spain",
          "Sri Lanka",
          "Sudan",
          "Suriname",
          "Svalbard And Jan Mayen",
          "Swaziland",
          "Sweden",
          "Switzerland",
          "Syria",
          "Taiwan",
          "Tajikistan",
          "Tanzania",
          "Thailand",
          "Timor Leste",
          "Togo",
          "Tonga",
          "Trinidad And Tobago",
          "Tunisia",
          "Turkey",
          "Turkmenistan",
          "Turks And Caicas Islands",
          "Uganda",
          "Ukraine",
          "United Arab Emirates",
          "United Kingdom",
          "United States",
          "Uruguay",
          "Uzbekistan",
          "Venezuela",
          "Vietnam",
          "Virgin Islands",
          "Western Sahara",
          "Yemen",
          "Zambia",
          "Zimbabwe",
          "Åland"
         ],
         "marker": {
          "line": {
           "color": "rgb(0,0,0)",
           "width": 1
          }
         },
         "text": [
          "Afghanistan",
          "Albania",
          "Algeria",
          "American Samoa",
          "Andorra",
          "Angola",
          "Anguilla",
          "Antigua And Barbuda",
          "Argentina",
          "Armenia",
          "Aruba",
          "Asia",
          "Australia",
          "Austria",
          "Azerbaijan",
          "Bahamas",
          "Bahrain",
          "Baker Island",
          "Bangladesh",
          "Barbados",
          "Belarus",
          "Belgium",
          "Belize",
          "Benin",
          "Bhutan",
          "Bolivia",
          "Bonaire, Saint Eustatius And Saba",
          "Bosnia And Herzegovina",
          "Botswana",
          "Brazil",
          "British Virgin Islands",
          "Bulgaria",
          "Burkina Faso",
          "Burma",
          "Burundi",
          "Cambodia",
          "Cameroon",
          "Canada",
          "Cape Verde",
          "Cayman Islands",
          "Central African Republic",
          "Chad",
          "Chile",
          "China",
          "Christmas Island",
          "Colombia",
          "Comoros",
          "Congo",
          "Congo (Democratic Republic Of The)",
          "Costa Rica",
          "Croatia",
          "Cuba",
          "Curaçao",
          "Cyprus",
          "Czech Republic",
          "Côte D'Ivoire",
          "Denmark",
          "Djibouti",
          "Dominica",
          "Dominican Republic",
          "Ecuador",
          "Egypt",
          "El Salvador",
          "Equatorial Guinea",
          "Eritrea",
          "Estonia",
          "Ethiopia",
          "Falkland Islands (Islas Malvinas)",
          "Faroe Islands",
          "Federated States Of Micronesia",
          "Fiji",
          "Finland",
          "France",
          "French Guiana",
          "French Polynesia",
          "French Southern And Antarctic Lands",
          "Gabon",
          "Gambia",
          "Gaza Strip",
          "Georgia",
          "Germany",
          "Ghana",
          "Greece",
          "Greenland",
          "Grenada",
          "Guadeloupe",
          "Guam",
          "Guatemala",
          "Guernsey",
          "Guinea",
          "Guinea Bissau",
          "Guyana",
          "Haiti",
          "Heard Island And Mcdonald Islands",
          "Honduras",
          "Hong Kong",
          "Hungary",
          "Iceland",
          "India",
          "Indonesia",
          "Iran",
          "Iraq",
          "Ireland",
          "Isle Of Man",
          "Israel",
          "Italy",
          "Jamaica",
          "Japan",
          "Jersey",
          "Jordan",
          "Kazakhstan",
          "Kenya",
          "Kingman Reef",
          "Kiribati",
          "Kuwait",
          "Kyrgyzstan",
          "Laos",
          "Latvia",
          "Lebanon",
          "Lesotho",
          "Liberia",
          "Libya",
          "Liechtenstein",
          "Lithuania",
          "Luxembourg",
          "Macau",
          "Macedonia",
          "Madagascar",
          "Malawi",
          "Malaysia",
          "Mali",
          "Malta",
          "Martinique",
          "Mauritania",
          "Mauritius",
          "Mayotte",
          "Mexico",
          "Moldova",
          "Monaco",
          "Mongolia",
          "Montenegro",
          "Montserrat",
          "Morocco",
          "Mozambique",
          "Namibia",
          "Nepal",
          "Netherlands",
          "New Caledonia",
          "New Zealand",
          "Nicaragua",
          "Niger",
          "Nigeria",
          "Niue",
          "North America",
          "North Korea",
          "Northern Mariana Islands",
          "Norway",
          "Oceania",
          "Oman",
          "Pakistan",
          "Palau",
          "Palestina",
          "Palmyra Atoll",
          "Panama",
          "Papua New Guinea",
          "Paraguay",
          "Peru",
          "Philippines",
          "Poland",
          "Portugal",
          "Puerto Rico",
          "Qatar",
          "Reunion",
          "Romania",
          "Russia",
          "Rwanda",
          "Saint Barthélemy",
          "Saint Kitts And Nevis",
          "Saint Lucia",
          "Saint Martin",
          "Saint Pierre And Miquelon",
          "Saint Vincent And The Grenadines",
          "Samoa",
          "San Marino",
          "Sao Tome And Principe",
          "Saudi Arabia",
          "Senegal",
          "Serbia",
          "Seychelles",
          "Sierra Leone",
          "Singapore",
          "Sint Maarten",
          "Slovakia",
          "Slovenia",
          "Solomon Islands",
          "Somalia",
          "South Africa",
          "South Georgia And The South Sandwich Isla",
          "South Korea",
          "Spain",
          "Sri Lanka",
          "Sudan",
          "Suriname",
          "Svalbard And Jan Mayen",
          "Swaziland",
          "Sweden",
          "Switzerland",
          "Syria",
          "Taiwan",
          "Tajikistan",
          "Tanzania",
          "Thailand",
          "Timor Leste",
          "Togo",
          "Tonga",
          "Trinidad And Tobago",
          "Tunisia",
          "Turkey",
          "Turkmenistan",
          "Turks And Caicas Islands",
          "Uganda",
          "Ukraine",
          "United Arab Emirates",
          "United Kingdom",
          "United States",
          "Uruguay",
          "Uzbekistan",
          "Venezuela",
          "Vietnam",
          "Virgin Islands",
          "Western Sahara",
          "Yemen",
          "Zambia",
          "Zimbabwe",
          "Åland"
         ],
         "type": "choropleth",
         "z": [
          14.045007194244604,
          12.610645925457991,
          22.985111769059955,
          26.611965009208106,
          11.201553063802905,
          21.824549189814814,
          26.610491850431448,
          26.437924256951103,
          14.621194210526316,
          8.551647926634768,
          27.92039022051774,
          7.347892223161453,
          21.624696891191707,
          6.210731838281744,
          11.175936074918567,
          25.12822004008016,
          25.9308093346574,
          25.372350232798755,
          24.820242783708977,
          26.458547938638542,
          5.819288060644347,
          9.483378395451673,
          25.052099776286354,
          27.171999431818186,
          11.811878969957082,
          20.87723052631579,
          27.17329482262704,
          10.421283954516742,
          21.87929669156884,
          24.699255545286505,
          26.33652323909919,
          10.48296841440303,
          28.08350676041103,
          23.70619723953696,
          20.070990127758417,
          26.65685403576607,
          24.3525855907781,
          -5.216658945686901,
          24.185563568376068,
          26.72250415028397,
          25.280406916426514,
          27.120466282420754,
          9.383473684210525,
          6.612731031349386,
          25.78465407131453,
          24.716870967741936,
          25.702209302325578,
          24.462931988472622,
          23.77366493955095,
          25.61578443420379,
          11.342399873657612,
          25.40742638706859,
          27.353414669223397,
          18.787745686421605,
          7.62601926721415,
          25.948536060279874,
          7.832859444093494,
          28.8166025331725,
          26.110151486097795,
          25.54751121076233,
          21.869970347003157,
          22.620693031209917,
          24.906704545454545,
          24.921677809798272,
          26.802653110047846,
          4.8198057485786485,
          23.01235675997618,
          6.076773492667029,
          6.619001579279848,
          26.944357771260993,
          25.038671779141108,
          1.244742261528743,
          10.416045799115604,
          25.718151106833492,
          26.10709611829945,
          4.983111111111112,
          24.254725648414986,
          27.538551816239316,
          19.192636960985624,
          8.106881895881896,
          8.152496209728364,
          26.711013551665726,
          14.773012002526848,
          -18.58745804195804,
          26.741952061361456,
          26.32956088207095,
          26.996834337349398,
          23.111650494159928,
          10.928408717624762,
          25.452353098290597,
          26.76136664885088,
          25.93092011549567,
          26.295837740923357,
          2.5621149425287357,
          24.69554799459216,
          22.65989491362764,
          9.72242324699937,
          1.4050650663297535,
          23.873789473684212,
          25.684483767961684,
          17.607076451156207,
          21.775628879310347,
          9.419558433354391,
          9.365805432722679,
          19.62657730263158,
          12.737121920404297,
          26.096339563862927,
          11.951907335907336,
          10.928408717624762,
          19.346512587701195,
          5.202144758735441,
          24.102428231089934,
          27.133034438775514,
          26.736865347798343,
          25.098140232108317,
          3.2204981651376143,
          23.574696349065004,
          5.320545167403664,
          17.63161773078487,
          13.726681793913507,
          25.37773793103449,
          22.268253938484623,
          4.642939039797852,
          5.907991787744788,
          9.165196462413139,
          22.418374760076777,
          10.375550852811118,
          22.74904594441293,
          21.431086144578316,
          25.80544200779727,
          28.44197657082002,
          18.494875319693094,
          26.110151486097795,
          27.620255504352276,
          23.522653983353152,
          26.340961429381736,
          20.56755804195804,
          8.9317166771952,
          9.024701831964625,
          -0.8206709844559585,
          10.214629500947568,
          26.383128475551295,
          17.627497409326423,
          23.59619475878499,
          20.484495197438637,
          14.8073906122449,
          9.112799115603286,
          22.70010819496519,
          10.371239107883817,
          25.95750878003697,
          27.458972540045767,
          26.744708309122604,
          25.09487845303867,
          2.0283738920225622,
          6.748336832061068,
          26.996834337349398,
          0.09580385344283004,
          21.452989119170983,
          26.91686266589729,
          20.615513304305754,
          27.216379332477533,
          23.125663223140496,
          27.16345599489796,
          26.291620638085742,
          24.450801898734177,
          23.237967557251906,
          19.935974230044,
          26.44047248677249,
          7.460205938092228,
          14.688179987212276,
          25.451961667465262,
          26.784996015936255,
          23.30140309155767,
          8.76090176879343,
          -5.521881912681913,
          19.244422183507552,
          26.610491850431448,
          25.85218600191755,
          26.646838446788113,
          26.610491850431448,
          4.223059955113818,
          26.78944870565676,
          26.33186249232658,
          13.831422299431457,
          25.794386167146975,
          25.546407835258666,
          27.967374999999997,
          9.986563171193936,
          26.738423142370966,
          26.022571277159514,
          26.523102826510723,
          26.610491850431448,
          7.527216993051168,
          9.659700568540746,
          26.625036989795916,
          26.877085169743896,
          17.27098291510945,
          1.4010251017639077,
          11.849048745173745,
          13.61283417561592,
          26.947687001594897,
          27.09335942857143,
          26.17166313763234,
          -7.448027925531916,
          18.839807261078484,
          2.3863319646241314,
          6.992051484523057,
          17.917548596990645,
          21.937427536231883,
          4.016035217794254,
          22.34791097178683,
          25.986800979519145,
          25.966332718327187,
          26.87178275666478,
          23.236247852760737,
          26.11875119846596,
          19.97059047314578,
          11.63156730091614,
          14.781998181818182,
          26.662733508082134,
          23.032968713789106,
          7.653507264687303,
          27.693994700582934,
          8.655788060644348,
          8.60357252215955,
          17.149306774809162,
          12.278015938069217,
          25.025685522531163,
          23.688365504061153,
          26.33652323909919,
          22.31981782334385,
          26.25359672528805,
          21.282955621301774,
          21.117547246376812,
          5.291383449147189
         ]
        }
       ],
       "layout": {
        "geo": {
         "lataxis": {
          "gridcolor": "rgb(102, 102, 102)",
          "showgrid": true
         },
         "lonaxis": {
          "gridcolor": "rgb(102, 102, 102)",
          "showgrid": true
         },
         "oceancolor": "rgb(0,255,255)",
         "projection": {
          "rotation": {
           "lat": 10,
           "lon": 60
          },
          "type": "orthographic"
         },
         "showframe": false,
         "showocean": true
        },
        "title": "Temperatura promedio en todos los paises"
       }
      },
      "text/html": [
       "<div>                            <div id=\"697f1188-d8e4-4ce6-92b9-065c9d6836ec\" class=\"plotly-graph-div\" style=\"height:525px; width:100%;\"></div>            <script type=\"text/javascript\">                require([\"plotly\"], function(Plotly) {                    window.PLOTLYENV=window.PLOTLYENV || {};                                    if (document.getElementById(\"697f1188-d8e4-4ce6-92b9-065c9d6836ec\")) {                    Plotly.newPlot(                        \"697f1188-d8e4-4ce6-92b9-065c9d6836ec\",                        [{\"type\":\"choropleth\",\"locations\":[\"Afghanistan\",\"Albania\",\"Algeria\",\"American Samoa\",\"Andorra\",\"Angola\",\"Anguilla\",\"Antigua And Barbuda\",\"Argentina\",\"Armenia\",\"Aruba\",\"Asia\",\"Australia\",\"Austria\",\"Azerbaijan\",\"Bahamas\",\"Bahrain\",\"Baker Island\",\"Bangladesh\",\"Barbados\",\"Belarus\",\"Belgium\",\"Belize\",\"Benin\",\"Bhutan\",\"Bolivia\",\"Bonaire, Saint Eustatius And Saba\",\"Bosnia And Herzegovina\",\"Botswana\",\"Brazil\",\"British Virgin Islands\",\"Bulgaria\",\"Burkina Faso\",\"Burma\",\"Burundi\",\"Cambodia\",\"Cameroon\",\"Canada\",\"Cape Verde\",\"Cayman Islands\",\"Central African Republic\",\"Chad\",\"Chile\",\"China\",\"Christmas Island\",\"Colombia\",\"Comoros\",\"Congo\",\"Congo (Democratic Republic Of The)\",\"Costa Rica\",\"Croatia\",\"Cuba\",\"Cura\\u00e7ao\",\"Cyprus\",\"Czech Republic\",\"C\\u00f4te D'Ivoire\",\"Denmark\",\"Djibouti\",\"Dominica\",\"Dominican Republic\",\"Ecuador\",\"Egypt\",\"El Salvador\",\"Equatorial Guinea\",\"Eritrea\",\"Estonia\",\"Ethiopia\",\"Falkland Islands (Islas Malvinas)\",\"Faroe Islands\",\"Federated States Of Micronesia\",\"Fiji\",\"Finland\",\"France\",\"French Guiana\",\"French Polynesia\",\"French Southern And Antarctic Lands\",\"Gabon\",\"Gambia\",\"Gaza Strip\",\"Georgia\",\"Germany\",\"Ghana\",\"Greece\",\"Greenland\",\"Grenada\",\"Guadeloupe\",\"Guam\",\"Guatemala\",\"Guernsey\",\"Guinea\",\"Guinea Bissau\",\"Guyana\",\"Haiti\",\"Heard Island And Mcdonald Islands\",\"Honduras\",\"Hong Kong\",\"Hungary\",\"Iceland\",\"India\",\"Indonesia\",\"Iran\",\"Iraq\",\"Ireland\",\"Isle Of Man\",\"Israel\",\"Italy\",\"Jamaica\",\"Japan\",\"Jersey\",\"Jordan\",\"Kazakhstan\",\"Kenya\",\"Kingman Reef\",\"Kiribati\",\"Kuwait\",\"Kyrgyzstan\",\"Laos\",\"Latvia\",\"Lebanon\",\"Lesotho\",\"Liberia\",\"Libya\",\"Liechtenstein\",\"Lithuania\",\"Luxembourg\",\"Macau\",\"Macedonia\",\"Madagascar\",\"Malawi\",\"Malaysia\",\"Mali\",\"Malta\",\"Martinique\",\"Mauritania\",\"Mauritius\",\"Mayotte\",\"Mexico\",\"Moldova\",\"Monaco\",\"Mongolia\",\"Montenegro\",\"Montserrat\",\"Morocco\",\"Mozambique\",\"Namibia\",\"Nepal\",\"Netherlands\",\"New Caledonia\",\"New Zealand\",\"Nicaragua\",\"Niger\",\"Nigeria\",\"Niue\",\"North America\",\"North Korea\",\"Northern Mariana Islands\",\"Norway\",\"Oceania\",\"Oman\",\"Pakistan\",\"Palau\",\"Palestina\",\"Palmyra Atoll\",\"Panama\",\"Papua New Guinea\",\"Paraguay\",\"Peru\",\"Philippines\",\"Poland\",\"Portugal\",\"Puerto Rico\",\"Qatar\",\"Reunion\",\"Romania\",\"Russia\",\"Rwanda\",\"Saint Barth\\u00e9lemy\",\"Saint Kitts And Nevis\",\"Saint Lucia\",\"Saint Martin\",\"Saint Pierre And Miquelon\",\"Saint Vincent And The Grenadines\",\"Samoa\",\"San Marino\",\"Sao Tome And Principe\",\"Saudi Arabia\",\"Senegal\",\"Serbia\",\"Seychelles\",\"Sierra Leone\",\"Singapore\",\"Sint Maarten\",\"Slovakia\",\"Slovenia\",\"Solomon Islands\",\"Somalia\",\"South Africa\",\"South Georgia And The South Sandwich Isla\",\"South Korea\",\"Spain\",\"Sri Lanka\",\"Sudan\",\"Suriname\",\"Svalbard And Jan Mayen\",\"Swaziland\",\"Sweden\",\"Switzerland\",\"Syria\",\"Taiwan\",\"Tajikistan\",\"Tanzania\",\"Thailand\",\"Timor Leste\",\"Togo\",\"Tonga\",\"Trinidad And Tobago\",\"Tunisia\",\"Turkey\",\"Turkmenistan\",\"Turks And Caicas Islands\",\"Uganda\",\"Ukraine\",\"United Arab Emirates\",\"United Kingdom\",\"United States\",\"Uruguay\",\"Uzbekistan\",\"Venezuela\",\"Vietnam\",\"Virgin Islands\",\"Western Sahara\",\"Yemen\",\"Zambia\",\"Zimbabwe\",\"\\u00c5land\"],\"z\":[14.045007194244604,12.610645925457991,22.985111769059955,26.611965009208106,11.201553063802905,21.824549189814814,26.610491850431448,26.437924256951103,14.621194210526316,8.551647926634768,27.92039022051774,7.347892223161453,21.624696891191707,6.210731838281744,11.175936074918567,25.12822004008016,25.9308093346574,25.372350232798755,24.820242783708977,26.458547938638542,5.819288060644347,9.483378395451673,25.052099776286354,27.171999431818186,11.811878969957082,20.87723052631579,27.17329482262704,10.421283954516742,21.87929669156884,24.699255545286505,26.33652323909919,10.48296841440303,28.08350676041103,23.70619723953696,20.070990127758417,26.65685403576607,24.3525855907781,-5.216658945686901,24.185563568376068,26.72250415028397,25.280406916426514,27.120466282420754,9.383473684210525,6.612731031349386,25.78465407131453,24.716870967741936,25.702209302325578,24.462931988472622,23.77366493955095,25.61578443420379,11.342399873657612,25.40742638706859,27.353414669223397,18.787745686421605,7.62601926721415,25.948536060279874,7.832859444093494,28.8166025331725,26.110151486097795,25.54751121076233,21.869970347003157,22.620693031209917,24.906704545454545,24.921677809798272,26.802653110047846,4.8198057485786485,23.01235675997618,6.076773492667029,6.619001579279848,26.944357771260993,25.038671779141108,1.244742261528743,10.416045799115604,25.718151106833492,26.10709611829945,4.983111111111112,24.254725648414986,27.538551816239316,19.192636960985624,8.106881895881896,8.152496209728364,26.711013551665726,14.773012002526848,-18.58745804195804,26.741952061361456,26.32956088207095,26.996834337349398,23.111650494159928,10.928408717624762,25.452353098290597,26.76136664885088,25.93092011549567,26.295837740923357,2.5621149425287357,24.69554799459216,22.65989491362764,9.72242324699937,1.4050650663297535,23.873789473684212,25.684483767961684,17.607076451156207,21.775628879310347,9.419558433354391,9.365805432722679,19.62657730263158,12.737121920404297,26.096339563862927,11.951907335907336,10.928408717624762,19.346512587701195,5.202144758735441,24.102428231089934,27.133034438775514,26.736865347798343,25.098140232108317,3.2204981651376143,23.574696349065004,5.320545167403664,17.63161773078487,13.726681793913507,25.37773793103449,22.268253938484623,4.642939039797852,5.907991787744788,9.165196462413139,22.418374760076777,10.375550852811118,22.74904594441293,21.431086144578316,25.80544200779727,28.44197657082002,18.494875319693094,26.110151486097795,27.620255504352276,23.522653983353152,26.340961429381736,20.56755804195804,8.9317166771952,9.024701831964625,-0.8206709844559585,10.214629500947568,26.383128475551295,17.627497409326423,23.59619475878499,20.484495197438637,14.8073906122449,9.112799115603286,22.70010819496519,10.371239107883817,25.95750878003697,27.458972540045767,26.744708309122604,25.09487845303867,2.0283738920225622,6.748336832061068,26.996834337349398,0.09580385344283004,21.452989119170983,26.91686266589729,20.615513304305754,27.216379332477533,23.125663223140496,27.16345599489796,26.291620638085742,24.450801898734177,23.237967557251906,19.935974230044,26.44047248677249,7.460205938092228,14.688179987212276,25.451961667465262,26.784996015936255,23.30140309155767,8.76090176879343,-5.521881912681913,19.244422183507552,26.610491850431448,25.85218600191755,26.646838446788113,26.610491850431448,4.223059955113818,26.78944870565676,26.33186249232658,13.831422299431457,25.794386167146975,25.546407835258666,27.967374999999997,9.986563171193936,26.738423142370966,26.022571277159514,26.523102826510723,26.610491850431448,7.527216993051168,9.659700568540746,26.625036989795916,26.877085169743896,17.27098291510945,1.4010251017639077,11.849048745173745,13.61283417561592,26.947687001594897,27.09335942857143,26.17166313763234,-7.448027925531916,18.839807261078484,2.3863319646241314,6.992051484523057,17.917548596990645,21.937427536231883,4.016035217794254,22.34791097178683,25.986800979519145,25.966332718327187,26.87178275666478,23.236247852760737,26.11875119846596,19.97059047314578,11.63156730091614,14.781998181818182,26.662733508082134,23.032968713789106,7.653507264687303,27.693994700582934,8.655788060644348,8.60357252215955,17.149306774809162,12.278015938069217,25.025685522531163,23.688365504061153,26.33652323909919,22.31981782334385,26.25359672528805,21.282955621301774,21.117547246376812,5.291383449147189],\"locationmode\":\"country names\",\"text\":[\"Afghanistan\",\"Albania\",\"Algeria\",\"American Samoa\",\"Andorra\",\"Angola\",\"Anguilla\",\"Antigua And Barbuda\",\"Argentina\",\"Armenia\",\"Aruba\",\"Asia\",\"Australia\",\"Austria\",\"Azerbaijan\",\"Bahamas\",\"Bahrain\",\"Baker Island\",\"Bangladesh\",\"Barbados\",\"Belarus\",\"Belgium\",\"Belize\",\"Benin\",\"Bhutan\",\"Bolivia\",\"Bonaire, Saint Eustatius And Saba\",\"Bosnia And Herzegovina\",\"Botswana\",\"Brazil\",\"British Virgin Islands\",\"Bulgaria\",\"Burkina Faso\",\"Burma\",\"Burundi\",\"Cambodia\",\"Cameroon\",\"Canada\",\"Cape Verde\",\"Cayman Islands\",\"Central African Republic\",\"Chad\",\"Chile\",\"China\",\"Christmas Island\",\"Colombia\",\"Comoros\",\"Congo\",\"Congo (Democratic Republic Of The)\",\"Costa Rica\",\"Croatia\",\"Cuba\",\"Cura\\u00e7ao\",\"Cyprus\",\"Czech Republic\",\"C\\u00f4te D'Ivoire\",\"Denmark\",\"Djibouti\",\"Dominica\",\"Dominican Republic\",\"Ecuador\",\"Egypt\",\"El Salvador\",\"Equatorial Guinea\",\"Eritrea\",\"Estonia\",\"Ethiopia\",\"Falkland Islands (Islas Malvinas)\",\"Faroe Islands\",\"Federated States Of Micronesia\",\"Fiji\",\"Finland\",\"France\",\"French Guiana\",\"French Polynesia\",\"French Southern And Antarctic Lands\",\"Gabon\",\"Gambia\",\"Gaza Strip\",\"Georgia\",\"Germany\",\"Ghana\",\"Greece\",\"Greenland\",\"Grenada\",\"Guadeloupe\",\"Guam\",\"Guatemala\",\"Guernsey\",\"Guinea\",\"Guinea Bissau\",\"Guyana\",\"Haiti\",\"Heard Island And Mcdonald Islands\",\"Honduras\",\"Hong Kong\",\"Hungary\",\"Iceland\",\"India\",\"Indonesia\",\"Iran\",\"Iraq\",\"Ireland\",\"Isle Of Man\",\"Israel\",\"Italy\",\"Jamaica\",\"Japan\",\"Jersey\",\"Jordan\",\"Kazakhstan\",\"Kenya\",\"Kingman Reef\",\"Kiribati\",\"Kuwait\",\"Kyrgyzstan\",\"Laos\",\"Latvia\",\"Lebanon\",\"Lesotho\",\"Liberia\",\"Libya\",\"Liechtenstein\",\"Lithuania\",\"Luxembourg\",\"Macau\",\"Macedonia\",\"Madagascar\",\"Malawi\",\"Malaysia\",\"Mali\",\"Malta\",\"Martinique\",\"Mauritania\",\"Mauritius\",\"Mayotte\",\"Mexico\",\"Moldova\",\"Monaco\",\"Mongolia\",\"Montenegro\",\"Montserrat\",\"Morocco\",\"Mozambique\",\"Namibia\",\"Nepal\",\"Netherlands\",\"New Caledonia\",\"New Zealand\",\"Nicaragua\",\"Niger\",\"Nigeria\",\"Niue\",\"North America\",\"North Korea\",\"Northern Mariana Islands\",\"Norway\",\"Oceania\",\"Oman\",\"Pakistan\",\"Palau\",\"Palestina\",\"Palmyra Atoll\",\"Panama\",\"Papua New Guinea\",\"Paraguay\",\"Peru\",\"Philippines\",\"Poland\",\"Portugal\",\"Puerto Rico\",\"Qatar\",\"Reunion\",\"Romania\",\"Russia\",\"Rwanda\",\"Saint Barth\\u00e9lemy\",\"Saint Kitts And Nevis\",\"Saint Lucia\",\"Saint Martin\",\"Saint Pierre And Miquelon\",\"Saint Vincent And The Grenadines\",\"Samoa\",\"San Marino\",\"Sao Tome And Principe\",\"Saudi Arabia\",\"Senegal\",\"Serbia\",\"Seychelles\",\"Sierra Leone\",\"Singapore\",\"Sint Maarten\",\"Slovakia\",\"Slovenia\",\"Solomon Islands\",\"Somalia\",\"South Africa\",\"South Georgia And The South Sandwich Isla\",\"South Korea\",\"Spain\",\"Sri Lanka\",\"Sudan\",\"Suriname\",\"Svalbard And Jan Mayen\",\"Swaziland\",\"Sweden\",\"Switzerland\",\"Syria\",\"Taiwan\",\"Tajikistan\",\"Tanzania\",\"Thailand\",\"Timor Leste\",\"Togo\",\"Tonga\",\"Trinidad And Tobago\",\"Tunisia\",\"Turkey\",\"Turkmenistan\",\"Turks And Caicas Islands\",\"Uganda\",\"Ukraine\",\"United Arab Emirates\",\"United Kingdom\",\"United States\",\"Uruguay\",\"Uzbekistan\",\"Venezuela\",\"Vietnam\",\"Virgin Islands\",\"Western Sahara\",\"Yemen\",\"Zambia\",\"Zimbabwe\",\"\\u00c5land\"],\"marker\":{\"line\":{\"color\":\"rgb(0,0,0)\",\"width\":1}},\"colorbar\":{\"autotick\":true,\"tickprefix\":\"\",\"title\":\"Temperatura\\nPromedio,\\n\\u00b0C\"}}],                        {\"title\":\"Temperatura promedio en todos los paises\",\"geo\":{\"showframe\":false,\"showocean\":true,\"oceancolor\":\"rgb(0,255,255)\",\"projection\":{\"type\":\"orthographic\",\"rotation\":{\"lon\":60,\"lat\":10}},\"lonaxis\":{\"showgrid\":true,\"gridcolor\":\"rgb(102, 102, 102)\"},\"lataxis\":{\"showgrid\":true,\"gridcolor\":\"rgb(102, 102, 102)\"}}},                        {\"responsive\": true}                    ).then(function(){\n",
       "                            \n",
       "var gd = document.getElementById('697f1188-d8e4-4ce6-92b9-065c9d6836ec');\n",
       "var x = new MutationObserver(function (mutations, observer) {{\n",
       "        var display = window.getComputedStyle(gd).display;\n",
       "        if (!display || display === 'none') {{\n",
       "            console.log([gd, 'removed!']);\n",
       "            Plotly.purge(gd);\n",
       "            observer.disconnect();\n",
       "        }}\n",
       "}});\n",
       "\n",
       "// Listen for the removal of the full notebook cells\n",
       "var notebookContainer = gd.closest('#notebook-container');\n",
       "if (notebookContainer) {{\n",
       "    x.observe(notebookContainer, {childList: true});\n",
       "}}\n",
       "\n",
       "// Listen for the clearing of the current output cell\n",
       "var outputEl = gd.closest('.output');\n",
       "if (outputEl) {{\n",
       "    x.observe(outputEl, {childList: true});\n",
       "}}\n",
       "\n",
       "                        })                };                });            </script>        </div>"
      ]
     },
     "metadata": {},
     "output_type": "display_data"
    }
   ],
   "source": [
    "from Modulo_1 import generar_mapa_global\n",
    "generar_mapa_global()"
   ]
  },
  {
   "cell_type": "code",
   "execution_count": 4,
   "metadata": {},
   "outputs": [
    {
     "data": {
      "application/vnd.plotly.v1+json": {
       "config": {
        "linkText": "Export to plot.ly",
        "plotlyServerURL": "https://plot.ly",
        "showLink": false
       },
       "data": [
        {
         "line": {
          "color": "rgb(0, 255, 255)"
         },
         "mode": "lines",
         "name": "Russia",
         "type": "scatter",
         "x": [
          "1850",
          "1851",
          "1852",
          "1853",
          "1854",
          "1855",
          "1856",
          "1857",
          "1858",
          "1859",
          "1860",
          "1861",
          "1862",
          "1863",
          "1864",
          "1865",
          "1866",
          "1867",
          "1868",
          "1869",
          "1870",
          "1871",
          "1872",
          "1873",
          "1874",
          "1875",
          "1876",
          "1877",
          "1878",
          "1879",
          "1880",
          "1881",
          "1882",
          "1883",
          "1884",
          "1885",
          "1886",
          "1887",
          "1888",
          "1889",
          "1890",
          "1891",
          "1892",
          "1893",
          "1894",
          "1895",
          "1896",
          "1897",
          "1898",
          "1899",
          "1900",
          "1901",
          "1902",
          "1903",
          "1904",
          "1905",
          "1906",
          "1907",
          "1908",
          "1909",
          "1910",
          "1911",
          "1912",
          "1913",
          "1914",
          "1915",
          "1916",
          "1917",
          "1918",
          "1919",
          "1920",
          "1921",
          "1922",
          "1923",
          "1924",
          "1925",
          "1926",
          "1927",
          "1928",
          "1929",
          "1930",
          "1931",
          "1932",
          "1933",
          "1934",
          "1935",
          "1936",
          "1937",
          "1938",
          "1939",
          "1940",
          "1941",
          "1942",
          "1943",
          "1944",
          "1945",
          "1946",
          "1947",
          "1948",
          "1949",
          "1950",
          "1951",
          "1952",
          "1953",
          "1954",
          "1955",
          "1956",
          "1957",
          "1958",
          "1959",
          "1960",
          "1961",
          "1962",
          "1963",
          "1964",
          "1965",
          "1966",
          "1967",
          "1968",
          "1969",
          "1970",
          "1971",
          "1972",
          "1973",
          "1974",
          "1975",
          "1976",
          "1977",
          "1978",
          "1979",
          "1980",
          "1981",
          "1982",
          "1983",
          "1984",
          "1985",
          "1986",
          "1987",
          "1988",
          "1989",
          "1990",
          "1991",
          "1992",
          "1993",
          "1994",
          "1995",
          "1996",
          "1997",
          "1998",
          "1999",
          "2000",
          "2001",
          "2002",
          "2003",
          "2004",
          "2005",
          "2006",
          "2007",
          "2008",
          "2009",
          "2010",
          "2011",
          "2012",
          "2013"
         ],
         "y": [
          -6.426500000000001,
          -5.669583333333333,
          -6.039666666666668,
          -6.276,
          -5.4902500000000005,
          -5.556916666666669,
          -6.088750000000001,
          -6.487166666666667,
          -5.592833333333334,
          -5.2285,
          -6.619,
          -6.295333333333335,
          -6.931416666666666,
          -5.2991666666666655,
          -6.007583333333334,
          -5.917083333333333,
          -5.319749999999999,
          -5.543000000000002,
          -5.757916666666667,
          -5.331916666666666,
          -6.422833333333333,
          -6.263333333333333,
          -6.4214166666666666,
          -5.687916666666666,
          -4.888916666666667,
          -6.085416666666667,
          -6.0015833333333335,
          -5.602999999999999,
          -5.238083333333334,
          -5.84475,
          -5.737166666666667,
          -6.0352500000000004,
          -5.762249999999999,
          -5.847083333333334,
          -6.181666666666668,
          -6.683916666666666,
          -6.129250000000002,
          -5.886916666666668,
          -6.412666666666667,
          -6.1031666666666675,
          -6.256750000000001,
          -6.183666666666666,
          -6.3624166666666655,
          -5.554833333333334,
          -5.366166666666668,
          -6.280666666666666,
          -5.6868333333333325,
          -5.554916666666667,
          -5.950666666666667,
          -5.375750000000001,
          -5.874333333333333,
          -5.460083333333333,
          -7.002750000000002,
          -5.352583333333333,
          -5.418500000000001,
          -5.687083333333335,
          -5.10175,
          -6.041416666666667,
          -6.122583333333335,
          -5.865083333333334,
          -5.776583333333332,
          -5.830333333333335,
          -6.864416666666666,
          -5.726416666666668,
          -5.374166666666667,
          -6.3629999999999995,
          -6.19,
          -5.528416666666668,
          -5.747916666666666,
          -6.186000000000001,
          -5.155,
          -4.90425,
          -5.697833333333333,
          -5.521166666666667,
          -5.275416666666667,
          -5.128916666666665,
          -5.3745,
          -5.656916666666667,
          -5.7722500000000005,
          -6.400083333333334,
          -5.53075,
          -5.76275,
          -4.758249999999999,
          -6.2521666666666675,
          -4.643,
          -5.214333333333333,
          -5.030083333333334,
          -5.1489166666666675,
          -4.552666666666666,
          -4.716833333333334,
          -5.628416666666666,
          -6.476666666666667,
          -5.604666666666667,
          -4.114500000000001,
          -4.434,
          -5.394416666666667,
          -5.855,
          -5.368083333333334,
          -4.337583333333334,
          -4.9277500000000005,
          -5.608916666666668,
          -5.055916666666667,
          -6.175250000000001,
          -4.779416666666666,
          -5.317333333333334,
          -5.626666666666668,
          -5.81375,
          -5.358250000000001,
          -6.154083333333333,
          -4.838916666666665,
          -5.936,
          -4.960333333333334,
          -4.416250000000001,
          -5.008166666666667,
          -5.785833333333333,
          -5.907416666666667,
          -6.309583333333333,
          -4.36325,
          -5.5895833333333345,
          -6.766083333333334,
          -5.5225833333333325,
          -4.971166666666668,
          -5.702000000000001,
          -4.833583333333334,
          -5.67175,
          -4.1410833333333334,
          -5.927,
          -5.513000000000001,
          -5.255916666666668,
          -5.904333333333333,
          -5.420749999999999,
          -4.166166666666666,
          -5.097583333333334,
          -3.951833333333333,
          -5.294250000000001,
          -5.5211666666666686,
          -4.8922500000000015,
          -6.274,
          -4.330416666666667,
          -4.073249999999999,
          -4.022916666666667,
          -4.236999999999999,
          -4.90325,
          -4.62175,
          -4.898416666666668,
          -3.130166666666666,
          -4.810333333333332,
          -4.296500000000001,
          -5.281083333333334,
          -4.82975,
          -4.545666666666667,
          -4.490666666666667,
          -4.122916666666666,
          -3.8328333333333333,
          -4.4935833333333335,
          -3.4980833333333337,
          -4.763000000000001,
          -2.975083333333334,
          -3.3054166666666664,
          -4.6085,
          -4.520583333333334,
          -3.401583333333333,
          -3.90175,
          -2.2631250000000014
         ]
        },
        {
         "line": {
          "color": "rgb(255, 0, 255)"
         },
         "mode": "lines",
         "name": "United States",
         "type": "scatter",
         "x": [
          "1850",
          "1851",
          "1852",
          "1853",
          "1854",
          "1855",
          "1856",
          "1857",
          "1858",
          "1859",
          "1860",
          "1861",
          "1862",
          "1863",
          "1864",
          "1865",
          "1866",
          "1867",
          "1868",
          "1869",
          "1870",
          "1871",
          "1872",
          "1873",
          "1874",
          "1875",
          "1876",
          "1877",
          "1878",
          "1879",
          "1880",
          "1881",
          "1882",
          "1883",
          "1884",
          "1885",
          "1886",
          "1887",
          "1888",
          "1889",
          "1890",
          "1891",
          "1892",
          "1893",
          "1894",
          "1895",
          "1896",
          "1897",
          "1898",
          "1899",
          "1900",
          "1901",
          "1902",
          "1903",
          "1904",
          "1905",
          "1906",
          "1907",
          "1908",
          "1909",
          "1910",
          "1911",
          "1912",
          "1913",
          "1914",
          "1915",
          "1916",
          "1917",
          "1918",
          "1919",
          "1920",
          "1921",
          "1922",
          "1923",
          "1924",
          "1925",
          "1926",
          "1927",
          "1928",
          "1929",
          "1930",
          "1931",
          "1932",
          "1933",
          "1934",
          "1935",
          "1936",
          "1937",
          "1938",
          "1939",
          "1940",
          "1941",
          "1942",
          "1943",
          "1944",
          "1945",
          "1946",
          "1947",
          "1948",
          "1949",
          "1950",
          "1951",
          "1952",
          "1953",
          "1954",
          "1955",
          "1956",
          "1957",
          "1958",
          "1959",
          "1960",
          "1961",
          "1962",
          "1963",
          "1964",
          "1965",
          "1966",
          "1967",
          "1968",
          "1969",
          "1970",
          "1971",
          "1972",
          "1973",
          "1974",
          "1975",
          "1976",
          "1977",
          "1978",
          "1979",
          "1980",
          "1981",
          "1982",
          "1983",
          "1984",
          "1985",
          "1986",
          "1987",
          "1988",
          "1989",
          "1990",
          "1991",
          "1992",
          "1993",
          "1994",
          "1995",
          "1996",
          "1997",
          "1998",
          "1999",
          "2000",
          "2001",
          "2002",
          "2003",
          "2004",
          "2005",
          "2006",
          "2007",
          "2008",
          "2009",
          "2010",
          "2011",
          "2012",
          "2013"
         ],
         "y": [
          8.248333333333333,
          8.6575,
          8.183083333333332,
          8.459916666666667,
          8.821250000000001,
          8.459416666666668,
          7.94325,
          8.140333333333334,
          8.412833333333333,
          8.016833333333334,
          8.580916666666669,
          8.6505,
          8.214,
          8.446250000000001,
          8.381083333333335,
          8.495666666666667,
          8.334333333333333,
          8.509000000000002,
          8.207416666666667,
          8.31125,
          8.829500000000001,
          8.706750000000001,
          8.000749999999998,
          8.063083333333331,
          8.768000000000002,
          7.849666666666668,
          8.099000000000002,
          8.696583333333335,
          9.017166666666666,
          8.683250000000001,
          8.110333333333335,
          8.643500000000001,
          8.369916666666667,
          7.942249999999999,
          7.957999999999998,
          8.158416666666666,
          8.181833333333334,
          8.143583333333332,
          8.172833333333335,
          8.798083333333333,
          8.559166666666666,
          8.316749999999999,
          8.177999999999999,
          8.170999999999998,
          8.46675,
          7.847333333333334,
          8.483583333333334,
          8.473166666666666,
          8.427916666666667,
          8.166833333333331,
          9.021583333333334,
          8.494916666666667,
          8.453999999999999,
          7.977249999999999,
          8.200666666666665,
          8.402333333333335,
          8.560083333333333,
          8.394000000000002,
          8.755583333333332,
          8.221833333333334,
          8.757916666666667,
          8.737916666666667,
          8.140916666666667,
          8.552166666666666,
          8.876499999999998,
          8.648249999999999,
          8.180083333333334,
          7.669499999999999,
          8.501249999999999,
          8.537999999999998,
          8.1845,
          9.595666666666666,
          8.768166666666668,
          8.760333333333335,
          8.052333333333335,
          9.016416666666665,
          9.14025,
          8.719333333333331,
          8.876,
          8.4395,
          8.737666666666666,
          9.560750000000002,
          8.5395,
          9.030583333333334,
          9.826583333333334,
          8.742500000000001,
          8.92225,
          8.730749999999999,
          9.471833333333334,
          9.3075,
          9.097166666666668,
          9.266083333333333,
          8.919333333333332,
          9.003499999999999,
          8.898166666666667,
          8.671249999999999,
          9.179583333333332,
          8.836083333333333,
          8.481666666666666,
          8.888083333333332,
          8.656416666666667,
          8.416583333333334,
          8.979416666666667,
          9.530416666666667,
          9.410583333333332,
          8.517166666666666,
          8.699916666666665,
          9.126333333333333,
          8.97016666666667,
          8.825333333333333,
          8.692250000000001,
          8.642,
          8.9565,
          9.079999999999998,
          8.491666666666667,
          8.647666666666668,
          8.483,
          8.902000000000001,
          8.553249999999998,
          8.770833333333334,
          8.673,
          8.442499999999999,
          8.428083333333335,
          8.934666666666667,
          8.815916666666666,
          8.431,
          8.65125,
          9.269833333333333,
          8.751416666666666,
          8.571583333333331,
          9.1355,
          9.721499999999999,
          8.539499999999999,
          8.912333333333333,
          8.811166666666667,
          8.587000000000002,
          9.5595,
          9.628166666666667,
          9.275333333333332,
          8.873083333333332,
          9.521583333333334,
          9.493666666666666,
          9.056333333333333,
          8.86725,
          9.270333333333335,
          9.331,
          8.754333333333333,
          9.172916666666667,
          10.141166666666667,
          9.567,
          9.649750000000001,
          9.785583333333333,
          9.816166666666666,
          9.75508333333333,
          9.6675,
          9.892666666666669,
          9.9745,
          9.837499999999999,
          8.951416666666667,
          9.137083333333335,
          9.505583333333334,
          9.549916666666666,
          10.261083333333334,
          11.297111111111112
         ]
        },
        {
         "line": {
          "color": "rgb(0, 0, 0)"
         },
         "mode": "lines",
         "name": "Dominican Republic",
         "type": "scatter",
         "x": [
          "1850",
          "1851",
          "1852",
          "1853",
          "1854",
          "1855",
          "1856",
          "1857",
          "1858",
          "1859",
          "1860",
          "1861",
          "1862",
          "1863",
          "1864",
          "1865",
          "1866",
          "1867",
          "1868",
          "1869",
          "1870",
          "1871",
          "1872",
          "1873",
          "1874",
          "1875",
          "1876",
          "1877",
          "1878",
          "1879",
          "1880",
          "1881",
          "1882",
          "1883",
          "1884",
          "1885",
          "1886",
          "1887",
          "1888",
          "1889",
          "1890",
          "1891",
          "1892",
          "1893",
          "1894",
          "1895",
          "1896",
          "1897",
          "1898",
          "1899",
          "1900",
          "1901",
          "1902",
          "1903",
          "1904",
          "1905",
          "1906",
          "1907",
          "1908",
          "1909",
          "1910",
          "1911",
          "1912",
          "1913",
          "1914",
          "1915",
          "1916",
          "1917",
          "1918",
          "1919",
          "1920",
          "1921",
          "1922",
          "1923",
          "1924",
          "1925",
          "1926",
          "1927",
          "1928",
          "1929",
          "1930",
          "1931",
          "1932",
          "1933",
          "1934",
          "1935",
          "1936",
          "1937",
          "1938",
          "1939",
          "1940",
          "1941",
          "1942",
          "1943",
          "1944",
          "1945",
          "1946",
          "1947",
          "1948",
          "1949",
          "1950",
          "1951",
          "1952",
          "1953",
          "1954",
          "1955",
          "1956",
          "1957",
          "1958",
          "1959",
          "1960",
          "1961",
          "1962",
          "1963",
          "1964",
          "1965",
          "1966",
          "1967",
          "1968",
          "1969",
          "1970",
          "1971",
          "1972",
          "1973",
          "1974",
          "1975",
          "1976",
          "1977",
          "1978",
          "1979",
          "1980",
          "1981",
          "1982",
          "1983",
          "1984",
          "1985",
          "1986",
          "1987",
          "1988",
          "1989",
          "1990",
          "1991",
          "1992",
          "1993",
          "1994",
          "1995",
          "1996",
          "1997",
          "1998",
          "1999",
          "2000",
          "2001",
          "2002",
          "2003",
          "2004",
          "2005",
          "2006",
          "2007",
          "2008",
          "2009",
          "2010",
          "2011",
          "2012",
          "2013"
         ],
         "y": [
          25.25016666666667,
          25.272583333333333,
          24.8985,
          25.22683333333333,
          25.17708333333334,
          25.395833333333332,
          25.74908333333333,
          24.730583333333332,
          24.730833333333337,
          24.920833333333334,
          24.934,
          25.21558333333333,
          25.137,
          25.239333333333335,
          25.017250000000004,
          25.322666666666667,
          24.94416666666667,
          25.15025,
          25.365000000000006,
          25.61125,
          25.198333333333334,
          25.31441666666667,
          25.376916666666663,
          25.014750000000003,
          25.114500000000003,
          25.160583333333335,
          25.386166666666668,
          25.77191666666666,
          25.998,
          25.366,
          25.234916666666667,
          25.07841666666667,
          24.943249999999995,
          25.1155,
          24.887249999999998,
          25.259500000000003,
          24.898583333333335,
          24.817666666666668,
          25.16725,
          25.339666666666663,
          25.0605,
          25.232083333333335,
          25.027333333333335,
          24.945333333333334,
          24.986833333333333,
          25.263666666666666,
          25.443416666666668,
          25.682250000000007,
          25.37575,
          25.362666666666666,
          25.760083333333338,
          25.554750000000002,
          25.35175,
          25.48,
          25.011000000000006,
          25.56391666666666,
          25.373000000000005,
          25.169583333333332,
          25.307333333333336,
          25.131833333333333,
          24.99441666666667,
          25.3195,
          25.49191666666667,
          25.012250000000005,
          25.483583333333332,
          25.7595,
          25.112333333333336,
          24.83391666666667,
          25.063083333333328,
          25.58475,
          25.50233333333333,
          25.201916666666666,
          25.08616666666667,
          25.30875,
          25.648166666666665,
          25.36675,
          25.863666666666663,
          25.64458333333333,
          25.654833333333332,
          25.46175,
          25.592666666666663,
          25.78725,
          25.66508333333334,
          25.505,
          25.378583333333335,
          25.298083333333334,
          25.676416666666668,
          25.712499999999995,
          25.454583333333336,
          25.492166666666666,
          25.94333333333333,
          26.09183333333333,
          26.017833333333332,
          25.600083333333334,
          25.542333333333332,
          25.366083333333336,
          25.541833333333333,
          25.955750000000005,
          26.031000000000002,
          25.585083333333333,
          25.238333333333333,
          25.500083333333333,
          25.92075,
          25.965333333333334,
          25.57316666666667,
          25.305833333333336,
          25.45425,
          25.861416666666667,
          26.01341666666666,
          26.0675,
          26.08375,
          25.749416666666665,
          25.740333333333336,
          25.82816666666667,
          25.808333333333334,
          25.573583333333335,
          25.797249999999995,
          25.773,
          25.769333333333332,
          26.094916666666666,
          25.67833333333333,
          25.424000000000003,
          25.648083333333336,
          25.905,
          25.424999999999997,
          25.603499999999997,
          25.490499999999997,
          26.029083333333332,
          25.958,
          25.767750000000003,
          26.36616666666667,
          26.102249999999998,
          25.963749999999994,
          26.25616666666667,
          25.758166666666664,
          25.764999999999997,
          25.93208333333334,
          26.294916666666666,
          26.11525,
          25.900583333333334,
          26.171166666666664,
          26.053416666666664,
          25.941333333333333,
          25.916500000000003,
          26.28058333333334,
          26.35775,
          25.87075,
          26.697249999999997,
          26.676333333333332,
          26.172833333333333,
          25.880416666666665,
          26.340666666666667,
          26.581249999999997,
          26.62633333333333,
          26.35875,
          26.52116666666667,
          26.585666666666665,
          26.626,
          26.199249999999996,
          26.423083333333338,
          26.455583333333333,
          26.25075,
          26.340083333333336,
          26.290333333333333
         ]
        },
        {
         "line": {
          "color": "rgb(255, 0, 0)"
         },
         "mode": "lines",
         "name": "Canada",
         "type": "scatter",
         "x": [
          "1850",
          "1851",
          "1852",
          "1853",
          "1854",
          "1855",
          "1856",
          "1857",
          "1858",
          "1859",
          "1860",
          "1861",
          "1862",
          "1863",
          "1864",
          "1865",
          "1866",
          "1867",
          "1868",
          "1869",
          "1870",
          "1871",
          "1872",
          "1873",
          "1874",
          "1875",
          "1876",
          "1877",
          "1878",
          "1879",
          "1880",
          "1881",
          "1882",
          "1883",
          "1884",
          "1885",
          "1886",
          "1887",
          "1888",
          "1889",
          "1890",
          "1891",
          "1892",
          "1893",
          "1894",
          "1895",
          "1896",
          "1897",
          "1898",
          "1899",
          "1900",
          "1901",
          "1902",
          "1903",
          "1904",
          "1905",
          "1906",
          "1907",
          "1908",
          "1909",
          "1910",
          "1911",
          "1912",
          "1913",
          "1914",
          "1915",
          "1916",
          "1917",
          "1918",
          "1919",
          "1920",
          "1921",
          "1922",
          "1923",
          "1924",
          "1925",
          "1926",
          "1927",
          "1928",
          "1929",
          "1930",
          "1931",
          "1932",
          "1933",
          "1934",
          "1935",
          "1936",
          "1937",
          "1938",
          "1939",
          "1940",
          "1941",
          "1942",
          "1943",
          "1944",
          "1945",
          "1946",
          "1947",
          "1948",
          "1949",
          "1950",
          "1951",
          "1952",
          "1953",
          "1954",
          "1955",
          "1956",
          "1957",
          "1958",
          "1959",
          "1960",
          "1961",
          "1962",
          "1963",
          "1964",
          "1965",
          "1966",
          "1967",
          "1968",
          "1969",
          "1970",
          "1971",
          "1972",
          "1973",
          "1974",
          "1975",
          "1976",
          "1977",
          "1978",
          "1979",
          "1980",
          "1981",
          "1982",
          "1983",
          "1984",
          "1985",
          "1986",
          "1987",
          "1988",
          "1989",
          "1990",
          "1991",
          "1992",
          "1993",
          "1994",
          "1995",
          "1996",
          "1997",
          "1998",
          "1999",
          "2000",
          "2001",
          "2002",
          "2003",
          "2004",
          "2005",
          "2006",
          "2007",
          "2008",
          "2009",
          "2010",
          "2011",
          "2012",
          "2013"
         ],
         "y": [
          -5.53625,
          -5.3379166666666675,
          -5.358,
          -5.590916666666668,
          -5.545750000000001,
          -5.778083333333334,
          -5.46375,
          -5.6265833333333335,
          -5.746249999999999,
          -5.90575,
          -5.5,
          -5.791416666666667,
          -6.4155000000000015,
          -5.663166666666666,
          -5.450916666666667,
          -5.567749999999999,
          -5.9679166666666665,
          -5.723,
          -5.805000000000001,
          -5.267499999999999,
          -4.953666666666666,
          -5.559916666666667,
          -5.350583333333334,
          -5.60925,
          -5.3870000000000005,
          -6.742,
          -5.982583333333334,
          -4.232083333333333,
          -3.5845,
          -5.9084166666666675,
          -6.257416666666667,
          -5.477416666666667,
          -5.717416666666668,
          -6.40525,
          -6.6605,
          -5.717,
          -6.161999999999999,
          -6.894666666666667,
          -6.014499999999999,
          -4.999416666666666,
          -6.454750000000001,
          -5.629666666666666,
          -5.338083333333334,
          -6.273083333333333,
          -5.8012500000000005,
          -5.452583333333334,
          -6.017416666666667,
          -5.9479999999999995,
          -5.447333333333333,
          -6.1385,
          -5.01875,
          -5.05225,
          -5.170916666666667,
          -5.302583333333334,
          -5.905083333333333,
          -5.106416666666667,
          -5.049416666666666,
          -6.563083333333334,
          -5.241416666666667,
          -5.907833333333333,
          -5.078416666666667,
          -5.536833333333333,
          -5.233083333333334,
          -5.774666666666666,
          -5.7781666666666665,
          -4.173166666666666,
          -5.470166666666667,
          -6.369583333333332,
          -5.950749999999999,
          -5.369583333333334,
          -4.910583333333334,
          -4.750416666666666,
          -5.726,
          -5.276916666666666,
          -4.860166666666667,
          -5.264166666666665,
          -4.975083333333333,
          -5.359583333333333,
          -4.286416666666668,
          -5.461583333333333,
          -4.3615,
          -3.648916666666666,
          -5.172499999999999,
          -6.116166666666666,
          -5.207166666666666,
          -5.557250000000001,
          -5.971916666666668,
          -4.545833333333333,
          -4.025333333333332,
          -4.918166666666665,
          -3.97875,
          -4.4173333333333344,
          -4.302833333333333,
          -4.576083333333332,
          -3.850333333333333,
          -5.003666666666667,
          -5.049333333333332,
          -4.402916666666666,
          -4.888,
          -4.9485833333333344,
          -5.952916666666667,
          -5.393166666666666,
          -3.984666666666666,
          -3.957666666666667,
          -4.726166666666666,
          -4.944999999999999,
          -5.61775,
          -5.007916666666667,
          -4.262250000000001,
          -5.228,
          -4.406833333333333,
          -5.068166666666667,
          -4.873833333333333,
          -4.6120833333333335,
          -5.456999999999998,
          -5.516666666666668,
          -5.141333333333333,
          -5.2820833333333335,
          -4.6457500000000005,
          -4.5023333333333335,
          -5.103166666666666,
          -4.869583333333334,
          -6.802916666666667,
          -4.1795,
          -5.6410833333333334,
          -4.945666666666667,
          -4.790416666666666,
          -3.84075,
          -5.300499999999999,
          -5.00575,
          -4.416916666666666,
          -2.86725,
          -5.875166666666668,
          -4.75175,
          -4.63425,
          -4.901166666666666,
          -4.843916666666668,
          -3.3433333333333337,
          -4.125166666666666,
          -5.073333333333333,
          -5.021916666666666,
          -4.426666666666668,
          -4.928916666666666,
          -4.4014999999999995,
          -4.433666666666666,
          -4.314333333333334,
          -4.941166666666667,
          -4.2315,
          -2.5539166666666664,
          -3.1863333333333337,
          -4.025916666666666,
          -3.1000833333333326,
          -4.362833333333334,
          -3.8594999999999993,
          -4.9230833333333335,
          -3.3087499999999994,
          -2.4601666666666664,
          -4.0609166666666665,
          -4.29525,
          -4.135083333333334,
          -1.8879166666666665,
          -3.5570833333333334,
          -3.176833333333334,
          -1.640666666666667
         ]
        },
        {
         "line": {
          "color": "rgb(0, 255, 0)"
         },
         "mode": "lines",
         "name": "Bolivia",
         "type": "scatter",
         "x": [
          "1850",
          "1851",
          "1852",
          "1853",
          "1854",
          "1855",
          "1856",
          "1857",
          "1858",
          "1859",
          "1860",
          "1861",
          "1862",
          "1863",
          "1864",
          "1865",
          "1866",
          "1867",
          "1868",
          "1869",
          "1870",
          "1871",
          "1872",
          "1873",
          "1874",
          "1875",
          "1876",
          "1877",
          "1878",
          "1879",
          "1880",
          "1881",
          "1882",
          "1883",
          "1884",
          "1885",
          "1886",
          "1887",
          "1888",
          "1889",
          "1890",
          "1891",
          "1892",
          "1893",
          "1894",
          "1895",
          "1896",
          "1897",
          "1898",
          "1899",
          "1900",
          "1901",
          "1902",
          "1903",
          "1904",
          "1905",
          "1906",
          "1907",
          "1908",
          "1909",
          "1910",
          "1911",
          "1912",
          "1913",
          "1914",
          "1915",
          "1916",
          "1917",
          "1918",
          "1919",
          "1920",
          "1921",
          "1922",
          "1923",
          "1924",
          "1925",
          "1926",
          "1927",
          "1928",
          "1929",
          "1930",
          "1931",
          "1932",
          "1933",
          "1934",
          "1935",
          "1936",
          "1937",
          "1938",
          "1939",
          "1940",
          "1941",
          "1942",
          "1943",
          "1944",
          "1945",
          "1946",
          "1947",
          "1948",
          "1949",
          "1950",
          "1951",
          "1952",
          "1953",
          "1954",
          "1955",
          "1956",
          "1957",
          "1958",
          "1959",
          "1960",
          "1961",
          "1962",
          "1963",
          "1964",
          "1965",
          "1966",
          "1967",
          "1968",
          "1969",
          "1970",
          "1971",
          "1972",
          "1973",
          "1974",
          "1975",
          "1976",
          "1977",
          "1978",
          "1979",
          "1980",
          "1981",
          "1982",
          "1983",
          "1984",
          "1985",
          "1986",
          "1987",
          "1988",
          "1989",
          "1990",
          "1991",
          "1992",
          "1993",
          "1994",
          "1995",
          "1996",
          "1997",
          "1998",
          "1999",
          "2000",
          "2001",
          "2002",
          "2003",
          "2004",
          "2005",
          "2006",
          "2007",
          "2008",
          "2009",
          "2010",
          "2011",
          "2012",
          "2013"
         ],
         "y": [
          null,
          null,
          null,
          null,
          null,
          19.533375,
          19.93341666666667,
          19.865666666666666,
          20.098750000000003,
          20.793166666666668,
          20.578999999999997,
          20.204166666666666,
          20.14075,
          20.379250000000003,
          20.195166666666665,
          20.42625,
          20.494416666666666,
          20.548166666666663,
          20.588416666666667,
          20.617916666666666,
          20.427083333333332,
          20.410999999999998,
          20.388166666666667,
          21.078666666666667,
          20.232083333333332,
          19.889416666666666,
          20.57675,
          21.16591666666667,
          20.833583333333333,
          20.268416666666667,
          20.361250000000002,
          20.581416666666666,
          20.26666666666667,
          20.299666666666667,
          20.198666666666668,
          20.224416666666666,
          20.09566666666667,
          20.56233333333333,
          20.630666666666666,
          20.428500000000003,
          20.148666666666667,
          20.324166666666667,
          20.15866666666667,
          20.069750000000003,
          20.374666666666666,
          20.73858333333333,
          21.04641666666667,
          20.737333333333336,
          20.319416666666672,
          20.629166666666666,
          21.113249999999997,
          20.994083333333336,
          20.910833333333333,
          20.409499999999998,
          20.625500000000002,
          21.041083333333333,
          20.789333333333335,
          20.435749999999995,
          20.28225,
          20.43358333333333,
          20.4385,
          20.394416666666668,
          20.863083333333332,
          20.99925,
          21.224833333333336,
          21.62991666666667,
          20.602666666666668,
          19.860916666666668,
          20.461166666666667,
          21.035666666666668,
          20.52416666666667,
          20.48416666666667,
          20.489583333333336,
          20.459833333333336,
          20.717583333333334,
          20.91975,
          21.384666666666664,
          20.84175,
          21.048666666666666,
          20.82341666666667,
          21.13025,
          20.795666666666666,
          20.82125,
          20.804750000000002,
          20.716416666666664,
          20.995499999999996,
          21.363500000000002,
          21.328833333333332,
          20.97158333333333,
          21.009416666666667,
          21.378749999999997,
          21.35941666666667,
          20.79366666666667,
          20.67725,
          21.115083333333335,
          21.144166666666667,
          21.22225,
          20.745083333333337,
          20.994833333333336,
          20.777916666666666,
          20.845166666666668,
          20.93133333333333,
          20.8065,
          21.2775,
          20.912416666666665,
          20.765416666666667,
          20.275833333333335,
          20.851333333333333,
          21.033583333333333,
          21.109083333333334,
          20.5945,
          21.368,
          20.797333333333334,
          21.510916666666663,
          20.837083333333336,
          21.23275,
          21.206333333333333,
          21.45808333333333,
          21.131583333333335,
          21.754166666666666,
          21.51625,
          20.739666666666665,
          21.335500000000007,
          21.314083333333333,
          20.789416666666668,
          21.04225,
          20.828916666666668,
          21.246666666666666,
          21.284750000000003,
          21.039166666666667,
          21.034083333333335,
          20.978,
          21.300083333333333,
          21.571666666666662,
          21.291833333333333,
          21.483166666666666,
          21.482583333333327,
          21.87291666666667,
          21.46683333333333,
          21.156916666666667,
          21.326083333333333,
          21.75408333333333,
          21.205916666666667,
          21.52491666666667,
          21.984750000000002,
          21.73058333333334,
          21.05366666666667,
          21.611333333333334,
          21.46733333333334,
          21.031750000000002,
          21.077166666666667,
          21.234083333333334,
          21.60575,
          21.26275,
          21.571,
          21.371750000000002,
          21.470000000000002,
          21.12933333333333,
          21.189,
          21.378333333333334,
          21.446416666666664,
          21.55541666666667,
          21.607166666666668,
          20.640875
         ]
        },
        {
         "line": {
          "color": "rgb(0, 0, 255)"
         },
         "mode": "lines",
         "name": "China",
         "type": "scatter",
         "x": [
          "1850",
          "1851",
          "1852",
          "1853",
          "1854",
          "1855",
          "1856",
          "1857",
          "1858",
          "1859",
          "1860",
          "1861",
          "1862",
          "1863",
          "1864",
          "1865",
          "1866",
          "1867",
          "1868",
          "1869",
          "1870",
          "1871",
          "1872",
          "1873",
          "1874",
          "1875",
          "1876",
          "1877",
          "1878",
          "1879",
          "1880",
          "1881",
          "1882",
          "1883",
          "1884",
          "1885",
          "1886",
          "1887",
          "1888",
          "1889",
          "1890",
          "1891",
          "1892",
          "1893",
          "1894",
          "1895",
          "1896",
          "1897",
          "1898",
          "1899",
          "1900",
          "1901",
          "1902",
          "1903",
          "1904",
          "1905",
          "1906",
          "1907",
          "1908",
          "1909",
          "1910",
          "1911",
          "1912",
          "1913",
          "1914",
          "1915",
          "1916",
          "1917",
          "1918",
          "1919",
          "1920",
          "1921",
          "1922",
          "1923",
          "1924",
          "1925",
          "1926",
          "1927",
          "1928",
          "1929",
          "1930",
          "1931",
          "1932",
          "1933",
          "1934",
          "1935",
          "1936",
          "1937",
          "1938",
          "1939",
          "1940",
          "1941",
          "1942",
          "1943",
          "1944",
          "1945",
          "1946",
          "1947",
          "1948",
          "1949",
          "1950",
          "1951",
          "1952",
          "1953",
          "1954",
          "1955",
          "1956",
          "1957",
          "1958",
          "1959",
          "1960",
          "1961",
          "1962",
          "1963",
          "1964",
          "1965",
          "1966",
          "1967",
          "1968",
          "1969",
          "1970",
          "1971",
          "1972",
          "1973",
          "1974",
          "1975",
          "1976",
          "1977",
          "1978",
          "1979",
          "1980",
          "1981",
          "1982",
          "1983",
          "1984",
          "1985",
          "1986",
          "1987",
          "1988",
          "1989",
          "1990",
          "1991",
          "1992",
          "1993",
          "1994",
          "1995",
          "1996",
          "1997",
          "1998",
          "1999",
          "2000",
          "2001",
          "2002",
          "2003",
          "2004",
          "2005",
          "2006",
          "2007",
          "2008",
          "2009",
          "2010",
          "2011",
          "2012",
          "2013"
         ],
         "y": [
          5.907166666666668,
          5.782833333333333,
          5.857499999999999,
          5.997583333333334,
          6.473083333333334,
          6.515583333333333,
          6.095583333333334,
          5.959666666666667,
          6.414083333333334,
          6.535166666666669,
          5.609333333333332,
          5.865166666666667,
          5.448083333333333,
          6.444583333333333,
          5.801499999999998,
          6.244,
          6.410416666666666,
          6.759166666666666,
          6.415499999999999,
          6.465833333333332,
          6.159,
          6.371583333333334,
          6.286333333333334,
          6.588166666666667,
          6.645166666666667,
          6.505,
          6.347416666666667,
          6.181583333333332,
          6.414416666666667,
          6.667416666666667,
          6.383500000000001,
          6.352833333333333,
          6.39825,
          6.026916666666668,
          5.804833333333332,
          5.964499999999998,
          6.114749999999998,
          6.197166666666665,
          6.336416666666665,
          6.31175,
          6.464333333333333,
          6.359333333333335,
          6.060833333333334,
          6.108333333333332,
          6.578250000000001,
          6.035833333333333,
          6.386250000000001,
          6.228083333333333,
          6.562666666666666,
          6.603416666666667,
          6.444166666666667,
          6.537499999999999,
          6.744666666666666,
          6.1745833333333335,
          6.350833333333331,
          5.755499999999999,
          6.2218333333333335,
          6.308666666666667,
          6.286583333333335,
          6.381249999999999,
          6.071499999999998,
          6.297,
          6.076083333333332,
          6.138416666666665,
          6.818749999999999,
          6.49275,
          6.349833333333333,
          6.161416666666667,
          6.196833333333334,
          6.607000000000002,
          6.5903333333333345,
          6.500749999999999,
          6.6773333333333325,
          6.563666666666666,
          6.704249999999998,
          6.555666666666667,
          6.754083333333334,
          6.667749999999999,
          6.7746666666666675,
          6.424083333333333,
          6.468666666666667,
          6.377500000000001,
          6.905583333333333,
          6.6299166666666665,
          6.3628333333333345,
          6.636166666666668,
          6.111583333333335,
          6.511083333333332,
          6.871749999999999,
          7.026500000000001,
          6.961666666666665,
          7.3455,
          7.096,
          7.050916666666666,
          6.5305,
          6.838833333333333,
          7.354083333333334,
          6.773833333333333,
          7.1003333333333325,
          6.9755,
          6.641166666666666,
          6.869500000000002,
          6.640916666666667,
          7.022333333333335,
          6.371000000000001,
          6.701666666666665,
          6.299333333333333,
          6.387999999999999,
          7.033583333333333,
          7.039666666666666,
          6.890916666666666,
          7.050583333333333,
          6.703666666666667,
          7.052500000000001,
          6.746083333333334,
          6.799916666666667,
          6.962,
          6.402583333333333,
          6.727000000000001,
          6.455999999999999,
          6.568166666666666,
          6.84625,
          6.814416666666666,
          7.209583333333334,
          6.659416666666668,
          7.1009166666666665,
          6.471166666666668,
          6.851333333333333,
          7.048166666666667,
          7.074083333333333,
          6.9500833333333345,
          6.926416666666667,
          7.149749999999998,
          6.925083333333334,
          6.517916666666667,
          6.7402500000000005,
          6.870166666666669,
          7.249,
          7.220833333333332,
          7.23975,
          7.635999999999998,
          7.097166666666667,
          6.858416666666667,
          6.919416666666668,
          7.4959999999999996,
          7.2115833333333335,
          6.962666666666667,
          7.367333333333332,
          8.051833333333333,
          7.840250000000002,
          7.238083333333333,
          7.596416666666666,
          7.7956666666666665,
          7.521999999999999,
          7.71275,
          7.4135,
          7.948,
          8.12675,
          7.566083333333335,
          7.809500000000001,
          7.548416666666665,
          7.357083333333332,
          7.077083333333333,
          9.295000000000002
         ]
        }
       ],
       "layout": {
        "template": {
         "data": {
          "bar": [
           {
            "error_x": {
             "color": "#2a3f5f"
            },
            "error_y": {
             "color": "#2a3f5f"
            },
            "marker": {
             "line": {
              "color": "#E5ECF6",
              "width": 0.5
             },
             "pattern": {
              "fillmode": "overlay",
              "size": 10,
              "solidity": 0.2
             }
            },
            "type": "bar"
           }
          ],
          "barpolar": [
           {
            "marker": {
             "line": {
              "color": "#E5ECF6",
              "width": 0.5
             },
             "pattern": {
              "fillmode": "overlay",
              "size": 10,
              "solidity": 0.2
             }
            },
            "type": "barpolar"
           }
          ],
          "carpet": [
           {
            "aaxis": {
             "endlinecolor": "#2a3f5f",
             "gridcolor": "white",
             "linecolor": "white",
             "minorgridcolor": "white",
             "startlinecolor": "#2a3f5f"
            },
            "baxis": {
             "endlinecolor": "#2a3f5f",
             "gridcolor": "white",
             "linecolor": "white",
             "minorgridcolor": "white",
             "startlinecolor": "#2a3f5f"
            },
            "type": "carpet"
           }
          ],
          "choropleth": [
           {
            "colorbar": {
             "outlinewidth": 0,
             "ticks": ""
            },
            "type": "choropleth"
           }
          ],
          "contour": [
           {
            "colorbar": {
             "outlinewidth": 0,
             "ticks": ""
            },
            "colorscale": [
             [
              0,
              "#0d0887"
             ],
             [
              0.1111111111111111,
              "#46039f"
             ],
             [
              0.2222222222222222,
              "#7201a8"
             ],
             [
              0.3333333333333333,
              "#9c179e"
             ],
             [
              0.4444444444444444,
              "#bd3786"
             ],
             [
              0.5555555555555556,
              "#d8576b"
             ],
             [
              0.6666666666666666,
              "#ed7953"
             ],
             [
              0.7777777777777778,
              "#fb9f3a"
             ],
             [
              0.8888888888888888,
              "#fdca26"
             ],
             [
              1,
              "#f0f921"
             ]
            ],
            "type": "contour"
           }
          ],
          "contourcarpet": [
           {
            "colorbar": {
             "outlinewidth": 0,
             "ticks": ""
            },
            "type": "contourcarpet"
           }
          ],
          "heatmap": [
           {
            "colorbar": {
             "outlinewidth": 0,
             "ticks": ""
            },
            "colorscale": [
             [
              0,
              "#0d0887"
             ],
             [
              0.1111111111111111,
              "#46039f"
             ],
             [
              0.2222222222222222,
              "#7201a8"
             ],
             [
              0.3333333333333333,
              "#9c179e"
             ],
             [
              0.4444444444444444,
              "#bd3786"
             ],
             [
              0.5555555555555556,
              "#d8576b"
             ],
             [
              0.6666666666666666,
              "#ed7953"
             ],
             [
              0.7777777777777778,
              "#fb9f3a"
             ],
             [
              0.8888888888888888,
              "#fdca26"
             ],
             [
              1,
              "#f0f921"
             ]
            ],
            "type": "heatmap"
           }
          ],
          "heatmapgl": [
           {
            "colorbar": {
             "outlinewidth": 0,
             "ticks": ""
            },
            "colorscale": [
             [
              0,
              "#0d0887"
             ],
             [
              0.1111111111111111,
              "#46039f"
             ],
             [
              0.2222222222222222,
              "#7201a8"
             ],
             [
              0.3333333333333333,
              "#9c179e"
             ],
             [
              0.4444444444444444,
              "#bd3786"
             ],
             [
              0.5555555555555556,
              "#d8576b"
             ],
             [
              0.6666666666666666,
              "#ed7953"
             ],
             [
              0.7777777777777778,
              "#fb9f3a"
             ],
             [
              0.8888888888888888,
              "#fdca26"
             ],
             [
              1,
              "#f0f921"
             ]
            ],
            "type": "heatmapgl"
           }
          ],
          "histogram": [
           {
            "marker": {
             "pattern": {
              "fillmode": "overlay",
              "size": 10,
              "solidity": 0.2
             }
            },
            "type": "histogram"
           }
          ],
          "histogram2d": [
           {
            "colorbar": {
             "outlinewidth": 0,
             "ticks": ""
            },
            "colorscale": [
             [
              0,
              "#0d0887"
             ],
             [
              0.1111111111111111,
              "#46039f"
             ],
             [
              0.2222222222222222,
              "#7201a8"
             ],
             [
              0.3333333333333333,
              "#9c179e"
             ],
             [
              0.4444444444444444,
              "#bd3786"
             ],
             [
              0.5555555555555556,
              "#d8576b"
             ],
             [
              0.6666666666666666,
              "#ed7953"
             ],
             [
              0.7777777777777778,
              "#fb9f3a"
             ],
             [
              0.8888888888888888,
              "#fdca26"
             ],
             [
              1,
              "#f0f921"
             ]
            ],
            "type": "histogram2d"
           }
          ],
          "histogram2dcontour": [
           {
            "colorbar": {
             "outlinewidth": 0,
             "ticks": ""
            },
            "colorscale": [
             [
              0,
              "#0d0887"
             ],
             [
              0.1111111111111111,
              "#46039f"
             ],
             [
              0.2222222222222222,
              "#7201a8"
             ],
             [
              0.3333333333333333,
              "#9c179e"
             ],
             [
              0.4444444444444444,
              "#bd3786"
             ],
             [
              0.5555555555555556,
              "#d8576b"
             ],
             [
              0.6666666666666666,
              "#ed7953"
             ],
             [
              0.7777777777777778,
              "#fb9f3a"
             ],
             [
              0.8888888888888888,
              "#fdca26"
             ],
             [
              1,
              "#f0f921"
             ]
            ],
            "type": "histogram2dcontour"
           }
          ],
          "mesh3d": [
           {
            "colorbar": {
             "outlinewidth": 0,
             "ticks": ""
            },
            "type": "mesh3d"
           }
          ],
          "parcoords": [
           {
            "line": {
             "colorbar": {
              "outlinewidth": 0,
              "ticks": ""
             }
            },
            "type": "parcoords"
           }
          ],
          "pie": [
           {
            "automargin": true,
            "type": "pie"
           }
          ],
          "scatter": [
           {
            "fillpattern": {
             "fillmode": "overlay",
             "size": 10,
             "solidity": 0.2
            },
            "type": "scatter"
           }
          ],
          "scatter3d": [
           {
            "line": {
             "colorbar": {
              "outlinewidth": 0,
              "ticks": ""
             }
            },
            "marker": {
             "colorbar": {
              "outlinewidth": 0,
              "ticks": ""
             }
            },
            "type": "scatter3d"
           }
          ],
          "scattercarpet": [
           {
            "marker": {
             "colorbar": {
              "outlinewidth": 0,
              "ticks": ""
             }
            },
            "type": "scattercarpet"
           }
          ],
          "scattergeo": [
           {
            "marker": {
             "colorbar": {
              "outlinewidth": 0,
              "ticks": ""
             }
            },
            "type": "scattergeo"
           }
          ],
          "scattergl": [
           {
            "marker": {
             "colorbar": {
              "outlinewidth": 0,
              "ticks": ""
             }
            },
            "type": "scattergl"
           }
          ],
          "scattermapbox": [
           {
            "marker": {
             "colorbar": {
              "outlinewidth": 0,
              "ticks": ""
             }
            },
            "type": "scattermapbox"
           }
          ],
          "scatterpolar": [
           {
            "marker": {
             "colorbar": {
              "outlinewidth": 0,
              "ticks": ""
             }
            },
            "type": "scatterpolar"
           }
          ],
          "scatterpolargl": [
           {
            "marker": {
             "colorbar": {
              "outlinewidth": 0,
              "ticks": ""
             }
            },
            "type": "scatterpolargl"
           }
          ],
          "scatterternary": [
           {
            "marker": {
             "colorbar": {
              "outlinewidth": 0,
              "ticks": ""
             }
            },
            "type": "scatterternary"
           }
          ],
          "surface": [
           {
            "colorbar": {
             "outlinewidth": 0,
             "ticks": ""
            },
            "colorscale": [
             [
              0,
              "#0d0887"
             ],
             [
              0.1111111111111111,
              "#46039f"
             ],
             [
              0.2222222222222222,
              "#7201a8"
             ],
             [
              0.3333333333333333,
              "#9c179e"
             ],
             [
              0.4444444444444444,
              "#bd3786"
             ],
             [
              0.5555555555555556,
              "#d8576b"
             ],
             [
              0.6666666666666666,
              "#ed7953"
             ],
             [
              0.7777777777777778,
              "#fb9f3a"
             ],
             [
              0.8888888888888888,
              "#fdca26"
             ],
             [
              1,
              "#f0f921"
             ]
            ],
            "type": "surface"
           }
          ],
          "table": [
           {
            "cells": {
             "fill": {
              "color": "#EBF0F8"
             },
             "line": {
              "color": "white"
             }
            },
            "header": {
             "fill": {
              "color": "#C8D4E3"
             },
             "line": {
              "color": "white"
             }
            },
            "type": "table"
           }
          ]
         },
         "layout": {
          "annotationdefaults": {
           "arrowcolor": "#2a3f5f",
           "arrowhead": 0,
           "arrowwidth": 1
          },
          "autotypenumbers": "strict",
          "coloraxis": {
           "colorbar": {
            "outlinewidth": 0,
            "ticks": ""
           }
          },
          "colorscale": {
           "diverging": [
            [
             0,
             "#8e0152"
            ],
            [
             0.1,
             "#c51b7d"
            ],
            [
             0.2,
             "#de77ae"
            ],
            [
             0.3,
             "#f1b6da"
            ],
            [
             0.4,
             "#fde0ef"
            ],
            [
             0.5,
             "#f7f7f7"
            ],
            [
             0.6,
             "#e6f5d0"
            ],
            [
             0.7,
             "#b8e186"
            ],
            [
             0.8,
             "#7fbc41"
            ],
            [
             0.9,
             "#4d9221"
            ],
            [
             1,
             "#276419"
            ]
           ],
           "sequential": [
            [
             0,
             "#0d0887"
            ],
            [
             0.1111111111111111,
             "#46039f"
            ],
            [
             0.2222222222222222,
             "#7201a8"
            ],
            [
             0.3333333333333333,
             "#9c179e"
            ],
            [
             0.4444444444444444,
             "#bd3786"
            ],
            [
             0.5555555555555556,
             "#d8576b"
            ],
            [
             0.6666666666666666,
             "#ed7953"
            ],
            [
             0.7777777777777778,
             "#fb9f3a"
            ],
            [
             0.8888888888888888,
             "#fdca26"
            ],
            [
             1,
             "#f0f921"
            ]
           ],
           "sequentialminus": [
            [
             0,
             "#0d0887"
            ],
            [
             0.1111111111111111,
             "#46039f"
            ],
            [
             0.2222222222222222,
             "#7201a8"
            ],
            [
             0.3333333333333333,
             "#9c179e"
            ],
            [
             0.4444444444444444,
             "#bd3786"
            ],
            [
             0.5555555555555556,
             "#d8576b"
            ],
            [
             0.6666666666666666,
             "#ed7953"
            ],
            [
             0.7777777777777778,
             "#fb9f3a"
            ],
            [
             0.8888888888888888,
             "#fdca26"
            ],
            [
             1,
             "#f0f921"
            ]
           ]
          },
          "colorway": [
           "#636efa",
           "#EF553B",
           "#00cc96",
           "#ab63fa",
           "#FFA15A",
           "#19d3f3",
           "#FF6692",
           "#B6E880",
           "#FF97FF",
           "#FECB52"
          ],
          "font": {
           "color": "#2a3f5f"
          },
          "geo": {
           "bgcolor": "white",
           "lakecolor": "white",
           "landcolor": "#E5ECF6",
           "showlakes": true,
           "showland": true,
           "subunitcolor": "white"
          },
          "hoverlabel": {
           "align": "left"
          },
          "hovermode": "closest",
          "mapbox": {
           "style": "light"
          },
          "paper_bgcolor": "white",
          "plot_bgcolor": "#E5ECF6",
          "polar": {
           "angularaxis": {
            "gridcolor": "white",
            "linecolor": "white",
            "ticks": ""
           },
           "bgcolor": "#E5ECF6",
           "radialaxis": {
            "gridcolor": "white",
            "linecolor": "white",
            "ticks": ""
           }
          },
          "scene": {
           "xaxis": {
            "backgroundcolor": "#E5ECF6",
            "gridcolor": "white",
            "gridwidth": 2,
            "linecolor": "white",
            "showbackground": true,
            "ticks": "",
            "zerolinecolor": "white"
           },
           "yaxis": {
            "backgroundcolor": "#E5ECF6",
            "gridcolor": "white",
            "gridwidth": 2,
            "linecolor": "white",
            "showbackground": true,
            "ticks": "",
            "zerolinecolor": "white"
           },
           "zaxis": {
            "backgroundcolor": "#E5ECF6",
            "gridcolor": "white",
            "gridwidth": 2,
            "linecolor": "white",
            "showbackground": true,
            "ticks": "",
            "zerolinecolor": "white"
           }
          },
          "shapedefaults": {
           "line": {
            "color": "#2a3f5f"
           }
          },
          "ternary": {
           "aaxis": {
            "gridcolor": "white",
            "linecolor": "white",
            "ticks": ""
           },
           "baxis": {
            "gridcolor": "white",
            "linecolor": "white",
            "ticks": ""
           },
           "bgcolor": "#E5ECF6",
           "caxis": {
            "gridcolor": "white",
            "linecolor": "white",
            "ticks": ""
           }
          },
          "title": {
           "x": 0.05
          },
          "xaxis": {
           "automargin": true,
           "gridcolor": "white",
           "linecolor": "white",
           "ticks": "",
           "title": {
            "standoff": 15
           },
           "zerolinecolor": "white",
           "zerolinewidth": 2
          },
          "yaxis": {
           "automargin": true,
           "gridcolor": "white",
           "linecolor": "white",
           "ticks": "",
           "title": {
            "standoff": 15
           },
           "zerolinecolor": "white",
           "zerolinewidth": 2
          }
         }
        },
        "title": {
         "text": "Temperatura promedio de algunos paises en especifico"
        },
        "xaxis": {
         "title": {
          "text": "Año"
         }
        },
        "yaxis": {
         "title": {
          "text": "Temperatura promedio, °C"
         }
        }
       }
      },
      "text/html": [
       "<div>                            <div id=\"4070f65b-0c58-4954-a1f2-1880267cba0d\" class=\"plotly-graph-div\" style=\"height:525px; width:100%;\"></div>            <script type=\"text/javascript\">                require([\"plotly\"], function(Plotly) {                    window.PLOTLYENV=window.PLOTLYENV || {};                                    if (document.getElementById(\"4070f65b-0c58-4954-a1f2-1880267cba0d\")) {                    Plotly.newPlot(                        \"4070f65b-0c58-4954-a1f2-1880267cba0d\",                        [{\"line\":{\"color\":\"rgb(0, 255, 255)\"},\"mode\":\"lines\",\"name\":\"Russia\",\"x\":[\"1850\",\"1851\",\"1852\",\"1853\",\"1854\",\"1855\",\"1856\",\"1857\",\"1858\",\"1859\",\"1860\",\"1861\",\"1862\",\"1863\",\"1864\",\"1865\",\"1866\",\"1867\",\"1868\",\"1869\",\"1870\",\"1871\",\"1872\",\"1873\",\"1874\",\"1875\",\"1876\",\"1877\",\"1878\",\"1879\",\"1880\",\"1881\",\"1882\",\"1883\",\"1884\",\"1885\",\"1886\",\"1887\",\"1888\",\"1889\",\"1890\",\"1891\",\"1892\",\"1893\",\"1894\",\"1895\",\"1896\",\"1897\",\"1898\",\"1899\",\"1900\",\"1901\",\"1902\",\"1903\",\"1904\",\"1905\",\"1906\",\"1907\",\"1908\",\"1909\",\"1910\",\"1911\",\"1912\",\"1913\",\"1914\",\"1915\",\"1916\",\"1917\",\"1918\",\"1919\",\"1920\",\"1921\",\"1922\",\"1923\",\"1924\",\"1925\",\"1926\",\"1927\",\"1928\",\"1929\",\"1930\",\"1931\",\"1932\",\"1933\",\"1934\",\"1935\",\"1936\",\"1937\",\"1938\",\"1939\",\"1940\",\"1941\",\"1942\",\"1943\",\"1944\",\"1945\",\"1946\",\"1947\",\"1948\",\"1949\",\"1950\",\"1951\",\"1952\",\"1953\",\"1954\",\"1955\",\"1956\",\"1957\",\"1958\",\"1959\",\"1960\",\"1961\",\"1962\",\"1963\",\"1964\",\"1965\",\"1966\",\"1967\",\"1968\",\"1969\",\"1970\",\"1971\",\"1972\",\"1973\",\"1974\",\"1975\",\"1976\",\"1977\",\"1978\",\"1979\",\"1980\",\"1981\",\"1982\",\"1983\",\"1984\",\"1985\",\"1986\",\"1987\",\"1988\",\"1989\",\"1990\",\"1991\",\"1992\",\"1993\",\"1994\",\"1995\",\"1996\",\"1997\",\"1998\",\"1999\",\"2000\",\"2001\",\"2002\",\"2003\",\"2004\",\"2005\",\"2006\",\"2007\",\"2008\",\"2009\",\"2010\",\"2011\",\"2012\",\"2013\"],\"y\":[-6.426500000000001,-5.669583333333333,-6.039666666666668,-6.276,-5.4902500000000005,-5.556916666666669,-6.088750000000001,-6.487166666666667,-5.592833333333334,-5.2285,-6.619,-6.295333333333335,-6.931416666666666,-5.2991666666666655,-6.007583333333334,-5.917083333333333,-5.319749999999999,-5.543000000000002,-5.757916666666667,-5.331916666666666,-6.422833333333333,-6.263333333333333,-6.4214166666666666,-5.687916666666666,-4.888916666666667,-6.085416666666667,-6.0015833333333335,-5.602999999999999,-5.238083333333334,-5.84475,-5.737166666666667,-6.0352500000000004,-5.762249999999999,-5.847083333333334,-6.181666666666668,-6.683916666666666,-6.129250000000002,-5.886916666666668,-6.412666666666667,-6.1031666666666675,-6.256750000000001,-6.183666666666666,-6.3624166666666655,-5.554833333333334,-5.366166666666668,-6.280666666666666,-5.6868333333333325,-5.554916666666667,-5.950666666666667,-5.375750000000001,-5.874333333333333,-5.460083333333333,-7.002750000000002,-5.352583333333333,-5.418500000000001,-5.687083333333335,-5.10175,-6.041416666666667,-6.122583333333335,-5.865083333333334,-5.776583333333332,-5.830333333333335,-6.864416666666666,-5.726416666666668,-5.374166666666667,-6.3629999999999995,-6.19,-5.528416666666668,-5.747916666666666,-6.186000000000001,-5.155,-4.90425,-5.697833333333333,-5.521166666666667,-5.275416666666667,-5.128916666666665,-5.3745,-5.656916666666667,-5.7722500000000005,-6.400083333333334,-5.53075,-5.76275,-4.758249999999999,-6.2521666666666675,-4.643,-5.214333333333333,-5.030083333333334,-5.1489166666666675,-4.552666666666666,-4.716833333333334,-5.628416666666666,-6.476666666666667,-5.604666666666667,-4.114500000000001,-4.434,-5.394416666666667,-5.855,-5.368083333333334,-4.337583333333334,-4.9277500000000005,-5.608916666666668,-5.055916666666667,-6.175250000000001,-4.779416666666666,-5.317333333333334,-5.626666666666668,-5.81375,-5.358250000000001,-6.154083333333333,-4.838916666666665,-5.936,-4.960333333333334,-4.416250000000001,-5.008166666666667,-5.785833333333333,-5.907416666666667,-6.309583333333333,-4.36325,-5.5895833333333345,-6.766083333333334,-5.5225833333333325,-4.971166666666668,-5.702000000000001,-4.833583333333334,-5.67175,-4.1410833333333334,-5.927,-5.513000000000001,-5.255916666666668,-5.904333333333333,-5.420749999999999,-4.166166666666666,-5.097583333333334,-3.951833333333333,-5.294250000000001,-5.5211666666666686,-4.8922500000000015,-6.274,-4.330416666666667,-4.073249999999999,-4.022916666666667,-4.236999999999999,-4.90325,-4.62175,-4.898416666666668,-3.130166666666666,-4.810333333333332,-4.296500000000001,-5.281083333333334,-4.82975,-4.545666666666667,-4.490666666666667,-4.122916666666666,-3.8328333333333333,-4.4935833333333335,-3.4980833333333337,-4.763000000000001,-2.975083333333334,-3.3054166666666664,-4.6085,-4.520583333333334,-3.401583333333333,-3.90175,-2.2631250000000014],\"type\":\"scatter\"},{\"line\":{\"color\":\"rgb(255, 0, 255)\"},\"mode\":\"lines\",\"name\":\"United States\",\"x\":[\"1850\",\"1851\",\"1852\",\"1853\",\"1854\",\"1855\",\"1856\",\"1857\",\"1858\",\"1859\",\"1860\",\"1861\",\"1862\",\"1863\",\"1864\",\"1865\",\"1866\",\"1867\",\"1868\",\"1869\",\"1870\",\"1871\",\"1872\",\"1873\",\"1874\",\"1875\",\"1876\",\"1877\",\"1878\",\"1879\",\"1880\",\"1881\",\"1882\",\"1883\",\"1884\",\"1885\",\"1886\",\"1887\",\"1888\",\"1889\",\"1890\",\"1891\",\"1892\",\"1893\",\"1894\",\"1895\",\"1896\",\"1897\",\"1898\",\"1899\",\"1900\",\"1901\",\"1902\",\"1903\",\"1904\",\"1905\",\"1906\",\"1907\",\"1908\",\"1909\",\"1910\",\"1911\",\"1912\",\"1913\",\"1914\",\"1915\",\"1916\",\"1917\",\"1918\",\"1919\",\"1920\",\"1921\",\"1922\",\"1923\",\"1924\",\"1925\",\"1926\",\"1927\",\"1928\",\"1929\",\"1930\",\"1931\",\"1932\",\"1933\",\"1934\",\"1935\",\"1936\",\"1937\",\"1938\",\"1939\",\"1940\",\"1941\",\"1942\",\"1943\",\"1944\",\"1945\",\"1946\",\"1947\",\"1948\",\"1949\",\"1950\",\"1951\",\"1952\",\"1953\",\"1954\",\"1955\",\"1956\",\"1957\",\"1958\",\"1959\",\"1960\",\"1961\",\"1962\",\"1963\",\"1964\",\"1965\",\"1966\",\"1967\",\"1968\",\"1969\",\"1970\",\"1971\",\"1972\",\"1973\",\"1974\",\"1975\",\"1976\",\"1977\",\"1978\",\"1979\",\"1980\",\"1981\",\"1982\",\"1983\",\"1984\",\"1985\",\"1986\",\"1987\",\"1988\",\"1989\",\"1990\",\"1991\",\"1992\",\"1993\",\"1994\",\"1995\",\"1996\",\"1997\",\"1998\",\"1999\",\"2000\",\"2001\",\"2002\",\"2003\",\"2004\",\"2005\",\"2006\",\"2007\",\"2008\",\"2009\",\"2010\",\"2011\",\"2012\",\"2013\"],\"y\":[8.248333333333333,8.6575,8.183083333333332,8.459916666666667,8.821250000000001,8.459416666666668,7.94325,8.140333333333334,8.412833333333333,8.016833333333334,8.580916666666669,8.6505,8.214,8.446250000000001,8.381083333333335,8.495666666666667,8.334333333333333,8.509000000000002,8.207416666666667,8.31125,8.829500000000001,8.706750000000001,8.000749999999998,8.063083333333331,8.768000000000002,7.849666666666668,8.099000000000002,8.696583333333335,9.017166666666666,8.683250000000001,8.110333333333335,8.643500000000001,8.369916666666667,7.942249999999999,7.957999999999998,8.158416666666666,8.181833333333334,8.143583333333332,8.172833333333335,8.798083333333333,8.559166666666666,8.316749999999999,8.177999999999999,8.170999999999998,8.46675,7.847333333333334,8.483583333333334,8.473166666666666,8.427916666666667,8.166833333333331,9.021583333333334,8.494916666666667,8.453999999999999,7.977249999999999,8.200666666666665,8.402333333333335,8.560083333333333,8.394000000000002,8.755583333333332,8.221833333333334,8.757916666666667,8.737916666666667,8.140916666666667,8.552166666666666,8.876499999999998,8.648249999999999,8.180083333333334,7.669499999999999,8.501249999999999,8.537999999999998,8.1845,9.595666666666666,8.768166666666668,8.760333333333335,8.052333333333335,9.016416666666665,9.14025,8.719333333333331,8.876,8.4395,8.737666666666666,9.560750000000002,8.5395,9.030583333333334,9.826583333333334,8.742500000000001,8.92225,8.730749999999999,9.471833333333334,9.3075,9.097166666666668,9.266083333333333,8.919333333333332,9.003499999999999,8.898166666666667,8.671249999999999,9.179583333333332,8.836083333333333,8.481666666666666,8.888083333333332,8.656416666666667,8.416583333333334,8.979416666666667,9.530416666666667,9.410583333333332,8.517166666666666,8.699916666666665,9.126333333333333,8.97016666666667,8.825333333333333,8.692250000000001,8.642,8.9565,9.079999999999998,8.491666666666667,8.647666666666668,8.483,8.902000000000001,8.553249999999998,8.770833333333334,8.673,8.442499999999999,8.428083333333335,8.934666666666667,8.815916666666666,8.431,8.65125,9.269833333333333,8.751416666666666,8.571583333333331,9.1355,9.721499999999999,8.539499999999999,8.912333333333333,8.811166666666667,8.587000000000002,9.5595,9.628166666666667,9.275333333333332,8.873083333333332,9.521583333333334,9.493666666666666,9.056333333333333,8.86725,9.270333333333335,9.331,8.754333333333333,9.172916666666667,10.141166666666667,9.567,9.649750000000001,9.785583333333333,9.816166666666666,9.75508333333333,9.6675,9.892666666666669,9.9745,9.837499999999999,8.951416666666667,9.137083333333335,9.505583333333334,9.549916666666666,10.261083333333334,11.297111111111112],\"type\":\"scatter\"},{\"line\":{\"color\":\"rgb(0, 0, 0)\"},\"mode\":\"lines\",\"name\":\"Dominican Republic\",\"x\":[\"1850\",\"1851\",\"1852\",\"1853\",\"1854\",\"1855\",\"1856\",\"1857\",\"1858\",\"1859\",\"1860\",\"1861\",\"1862\",\"1863\",\"1864\",\"1865\",\"1866\",\"1867\",\"1868\",\"1869\",\"1870\",\"1871\",\"1872\",\"1873\",\"1874\",\"1875\",\"1876\",\"1877\",\"1878\",\"1879\",\"1880\",\"1881\",\"1882\",\"1883\",\"1884\",\"1885\",\"1886\",\"1887\",\"1888\",\"1889\",\"1890\",\"1891\",\"1892\",\"1893\",\"1894\",\"1895\",\"1896\",\"1897\",\"1898\",\"1899\",\"1900\",\"1901\",\"1902\",\"1903\",\"1904\",\"1905\",\"1906\",\"1907\",\"1908\",\"1909\",\"1910\",\"1911\",\"1912\",\"1913\",\"1914\",\"1915\",\"1916\",\"1917\",\"1918\",\"1919\",\"1920\",\"1921\",\"1922\",\"1923\",\"1924\",\"1925\",\"1926\",\"1927\",\"1928\",\"1929\",\"1930\",\"1931\",\"1932\",\"1933\",\"1934\",\"1935\",\"1936\",\"1937\",\"1938\",\"1939\",\"1940\",\"1941\",\"1942\",\"1943\",\"1944\",\"1945\",\"1946\",\"1947\",\"1948\",\"1949\",\"1950\",\"1951\",\"1952\",\"1953\",\"1954\",\"1955\",\"1956\",\"1957\",\"1958\",\"1959\",\"1960\",\"1961\",\"1962\",\"1963\",\"1964\",\"1965\",\"1966\",\"1967\",\"1968\",\"1969\",\"1970\",\"1971\",\"1972\",\"1973\",\"1974\",\"1975\",\"1976\",\"1977\",\"1978\",\"1979\",\"1980\",\"1981\",\"1982\",\"1983\",\"1984\",\"1985\",\"1986\",\"1987\",\"1988\",\"1989\",\"1990\",\"1991\",\"1992\",\"1993\",\"1994\",\"1995\",\"1996\",\"1997\",\"1998\",\"1999\",\"2000\",\"2001\",\"2002\",\"2003\",\"2004\",\"2005\",\"2006\",\"2007\",\"2008\",\"2009\",\"2010\",\"2011\",\"2012\",\"2013\"],\"y\":[25.25016666666667,25.272583333333333,24.8985,25.22683333333333,25.17708333333334,25.395833333333332,25.74908333333333,24.730583333333332,24.730833333333337,24.920833333333334,24.934,25.21558333333333,25.137,25.239333333333335,25.017250000000004,25.322666666666667,24.94416666666667,25.15025,25.365000000000006,25.61125,25.198333333333334,25.31441666666667,25.376916666666663,25.014750000000003,25.114500000000003,25.160583333333335,25.386166666666668,25.77191666666666,25.998,25.366,25.234916666666667,25.07841666666667,24.943249999999995,25.1155,24.887249999999998,25.259500000000003,24.898583333333335,24.817666666666668,25.16725,25.339666666666663,25.0605,25.232083333333335,25.027333333333335,24.945333333333334,24.986833333333333,25.263666666666666,25.443416666666668,25.682250000000007,25.37575,25.362666666666666,25.760083333333338,25.554750000000002,25.35175,25.48,25.011000000000006,25.56391666666666,25.373000000000005,25.169583333333332,25.307333333333336,25.131833333333333,24.99441666666667,25.3195,25.49191666666667,25.012250000000005,25.483583333333332,25.7595,25.112333333333336,24.83391666666667,25.063083333333328,25.58475,25.50233333333333,25.201916666666666,25.08616666666667,25.30875,25.648166666666665,25.36675,25.863666666666663,25.64458333333333,25.654833333333332,25.46175,25.592666666666663,25.78725,25.66508333333334,25.505,25.378583333333335,25.298083333333334,25.676416666666668,25.712499999999995,25.454583333333336,25.492166666666666,25.94333333333333,26.09183333333333,26.017833333333332,25.600083333333334,25.542333333333332,25.366083333333336,25.541833333333333,25.955750000000005,26.031000000000002,25.585083333333333,25.238333333333333,25.500083333333333,25.92075,25.965333333333334,25.57316666666667,25.305833333333336,25.45425,25.861416666666667,26.01341666666666,26.0675,26.08375,25.749416666666665,25.740333333333336,25.82816666666667,25.808333333333334,25.573583333333335,25.797249999999995,25.773,25.769333333333332,26.094916666666666,25.67833333333333,25.424000000000003,25.648083333333336,25.905,25.424999999999997,25.603499999999997,25.490499999999997,26.029083333333332,25.958,25.767750000000003,26.36616666666667,26.102249999999998,25.963749999999994,26.25616666666667,25.758166666666664,25.764999999999997,25.93208333333334,26.294916666666666,26.11525,25.900583333333334,26.171166666666664,26.053416666666664,25.941333333333333,25.916500000000003,26.28058333333334,26.35775,25.87075,26.697249999999997,26.676333333333332,26.172833333333333,25.880416666666665,26.340666666666667,26.581249999999997,26.62633333333333,26.35875,26.52116666666667,26.585666666666665,26.626,26.199249999999996,26.423083333333338,26.455583333333333,26.25075,26.340083333333336,26.290333333333333],\"type\":\"scatter\"},{\"line\":{\"color\":\"rgb(255, 0, 0)\"},\"mode\":\"lines\",\"name\":\"Canada\",\"x\":[\"1850\",\"1851\",\"1852\",\"1853\",\"1854\",\"1855\",\"1856\",\"1857\",\"1858\",\"1859\",\"1860\",\"1861\",\"1862\",\"1863\",\"1864\",\"1865\",\"1866\",\"1867\",\"1868\",\"1869\",\"1870\",\"1871\",\"1872\",\"1873\",\"1874\",\"1875\",\"1876\",\"1877\",\"1878\",\"1879\",\"1880\",\"1881\",\"1882\",\"1883\",\"1884\",\"1885\",\"1886\",\"1887\",\"1888\",\"1889\",\"1890\",\"1891\",\"1892\",\"1893\",\"1894\",\"1895\",\"1896\",\"1897\",\"1898\",\"1899\",\"1900\",\"1901\",\"1902\",\"1903\",\"1904\",\"1905\",\"1906\",\"1907\",\"1908\",\"1909\",\"1910\",\"1911\",\"1912\",\"1913\",\"1914\",\"1915\",\"1916\",\"1917\",\"1918\",\"1919\",\"1920\",\"1921\",\"1922\",\"1923\",\"1924\",\"1925\",\"1926\",\"1927\",\"1928\",\"1929\",\"1930\",\"1931\",\"1932\",\"1933\",\"1934\",\"1935\",\"1936\",\"1937\",\"1938\",\"1939\",\"1940\",\"1941\",\"1942\",\"1943\",\"1944\",\"1945\",\"1946\",\"1947\",\"1948\",\"1949\",\"1950\",\"1951\",\"1952\",\"1953\",\"1954\",\"1955\",\"1956\",\"1957\",\"1958\",\"1959\",\"1960\",\"1961\",\"1962\",\"1963\",\"1964\",\"1965\",\"1966\",\"1967\",\"1968\",\"1969\",\"1970\",\"1971\",\"1972\",\"1973\",\"1974\",\"1975\",\"1976\",\"1977\",\"1978\",\"1979\",\"1980\",\"1981\",\"1982\",\"1983\",\"1984\",\"1985\",\"1986\",\"1987\",\"1988\",\"1989\",\"1990\",\"1991\",\"1992\",\"1993\",\"1994\",\"1995\",\"1996\",\"1997\",\"1998\",\"1999\",\"2000\",\"2001\",\"2002\",\"2003\",\"2004\",\"2005\",\"2006\",\"2007\",\"2008\",\"2009\",\"2010\",\"2011\",\"2012\",\"2013\"],\"y\":[-5.53625,-5.3379166666666675,-5.358,-5.590916666666668,-5.545750000000001,-5.778083333333334,-5.46375,-5.6265833333333335,-5.746249999999999,-5.90575,-5.5,-5.791416666666667,-6.4155000000000015,-5.663166666666666,-5.450916666666667,-5.567749999999999,-5.9679166666666665,-5.723,-5.805000000000001,-5.267499999999999,-4.953666666666666,-5.559916666666667,-5.350583333333334,-5.60925,-5.3870000000000005,-6.742,-5.982583333333334,-4.232083333333333,-3.5845,-5.9084166666666675,-6.257416666666667,-5.477416666666667,-5.717416666666668,-6.40525,-6.6605,-5.717,-6.161999999999999,-6.894666666666667,-6.014499999999999,-4.999416666666666,-6.454750000000001,-5.629666666666666,-5.338083333333334,-6.273083333333333,-5.8012500000000005,-5.452583333333334,-6.017416666666667,-5.9479999999999995,-5.447333333333333,-6.1385,-5.01875,-5.05225,-5.170916666666667,-5.302583333333334,-5.905083333333333,-5.106416666666667,-5.049416666666666,-6.563083333333334,-5.241416666666667,-5.907833333333333,-5.078416666666667,-5.536833333333333,-5.233083333333334,-5.774666666666666,-5.7781666666666665,-4.173166666666666,-5.470166666666667,-6.369583333333332,-5.950749999999999,-5.369583333333334,-4.910583333333334,-4.750416666666666,-5.726,-5.276916666666666,-4.860166666666667,-5.264166666666665,-4.975083333333333,-5.359583333333333,-4.286416666666668,-5.461583333333333,-4.3615,-3.648916666666666,-5.172499999999999,-6.116166666666666,-5.207166666666666,-5.557250000000001,-5.971916666666668,-4.545833333333333,-4.025333333333332,-4.918166666666665,-3.97875,-4.4173333333333344,-4.302833333333333,-4.576083333333332,-3.850333333333333,-5.003666666666667,-5.049333333333332,-4.402916666666666,-4.888,-4.9485833333333344,-5.952916666666667,-5.393166666666666,-3.984666666666666,-3.957666666666667,-4.726166666666666,-4.944999999999999,-5.61775,-5.007916666666667,-4.262250000000001,-5.228,-4.406833333333333,-5.068166666666667,-4.873833333333333,-4.6120833333333335,-5.456999999999998,-5.516666666666668,-5.141333333333333,-5.2820833333333335,-4.6457500000000005,-4.5023333333333335,-5.103166666666666,-4.869583333333334,-6.802916666666667,-4.1795,-5.6410833333333334,-4.945666666666667,-4.790416666666666,-3.84075,-5.300499999999999,-5.00575,-4.416916666666666,-2.86725,-5.875166666666668,-4.75175,-4.63425,-4.901166666666666,-4.843916666666668,-3.3433333333333337,-4.125166666666666,-5.073333333333333,-5.021916666666666,-4.426666666666668,-4.928916666666666,-4.4014999999999995,-4.433666666666666,-4.314333333333334,-4.941166666666667,-4.2315,-2.5539166666666664,-3.1863333333333337,-4.025916666666666,-3.1000833333333326,-4.362833333333334,-3.8594999999999993,-4.9230833333333335,-3.3087499999999994,-2.4601666666666664,-4.0609166666666665,-4.29525,-4.135083333333334,-1.8879166666666665,-3.5570833333333334,-3.176833333333334,-1.640666666666667],\"type\":\"scatter\"},{\"line\":{\"color\":\"rgb(0, 255, 0)\"},\"mode\":\"lines\",\"name\":\"Bolivia\",\"x\":[\"1850\",\"1851\",\"1852\",\"1853\",\"1854\",\"1855\",\"1856\",\"1857\",\"1858\",\"1859\",\"1860\",\"1861\",\"1862\",\"1863\",\"1864\",\"1865\",\"1866\",\"1867\",\"1868\",\"1869\",\"1870\",\"1871\",\"1872\",\"1873\",\"1874\",\"1875\",\"1876\",\"1877\",\"1878\",\"1879\",\"1880\",\"1881\",\"1882\",\"1883\",\"1884\",\"1885\",\"1886\",\"1887\",\"1888\",\"1889\",\"1890\",\"1891\",\"1892\",\"1893\",\"1894\",\"1895\",\"1896\",\"1897\",\"1898\",\"1899\",\"1900\",\"1901\",\"1902\",\"1903\",\"1904\",\"1905\",\"1906\",\"1907\",\"1908\",\"1909\",\"1910\",\"1911\",\"1912\",\"1913\",\"1914\",\"1915\",\"1916\",\"1917\",\"1918\",\"1919\",\"1920\",\"1921\",\"1922\",\"1923\",\"1924\",\"1925\",\"1926\",\"1927\",\"1928\",\"1929\",\"1930\",\"1931\",\"1932\",\"1933\",\"1934\",\"1935\",\"1936\",\"1937\",\"1938\",\"1939\",\"1940\",\"1941\",\"1942\",\"1943\",\"1944\",\"1945\",\"1946\",\"1947\",\"1948\",\"1949\",\"1950\",\"1951\",\"1952\",\"1953\",\"1954\",\"1955\",\"1956\",\"1957\",\"1958\",\"1959\",\"1960\",\"1961\",\"1962\",\"1963\",\"1964\",\"1965\",\"1966\",\"1967\",\"1968\",\"1969\",\"1970\",\"1971\",\"1972\",\"1973\",\"1974\",\"1975\",\"1976\",\"1977\",\"1978\",\"1979\",\"1980\",\"1981\",\"1982\",\"1983\",\"1984\",\"1985\",\"1986\",\"1987\",\"1988\",\"1989\",\"1990\",\"1991\",\"1992\",\"1993\",\"1994\",\"1995\",\"1996\",\"1997\",\"1998\",\"1999\",\"2000\",\"2001\",\"2002\",\"2003\",\"2004\",\"2005\",\"2006\",\"2007\",\"2008\",\"2009\",\"2010\",\"2011\",\"2012\",\"2013\"],\"y\":[null,null,null,null,null,19.533375,19.93341666666667,19.865666666666666,20.098750000000003,20.793166666666668,20.578999999999997,20.204166666666666,20.14075,20.379250000000003,20.195166666666665,20.42625,20.494416666666666,20.548166666666663,20.588416666666667,20.617916666666666,20.427083333333332,20.410999999999998,20.388166666666667,21.078666666666667,20.232083333333332,19.889416666666666,20.57675,21.16591666666667,20.833583333333333,20.268416666666667,20.361250000000002,20.581416666666666,20.26666666666667,20.299666666666667,20.198666666666668,20.224416666666666,20.09566666666667,20.56233333333333,20.630666666666666,20.428500000000003,20.148666666666667,20.324166666666667,20.15866666666667,20.069750000000003,20.374666666666666,20.73858333333333,21.04641666666667,20.737333333333336,20.319416666666672,20.629166666666666,21.113249999999997,20.994083333333336,20.910833333333333,20.409499999999998,20.625500000000002,21.041083333333333,20.789333333333335,20.435749999999995,20.28225,20.43358333333333,20.4385,20.394416666666668,20.863083333333332,20.99925,21.224833333333336,21.62991666666667,20.602666666666668,19.860916666666668,20.461166666666667,21.035666666666668,20.52416666666667,20.48416666666667,20.489583333333336,20.459833333333336,20.717583333333334,20.91975,21.384666666666664,20.84175,21.048666666666666,20.82341666666667,21.13025,20.795666666666666,20.82125,20.804750000000002,20.716416666666664,20.995499999999996,21.363500000000002,21.328833333333332,20.97158333333333,21.009416666666667,21.378749999999997,21.35941666666667,20.79366666666667,20.67725,21.115083333333335,21.144166666666667,21.22225,20.745083333333337,20.994833333333336,20.777916666666666,20.845166666666668,20.93133333333333,20.8065,21.2775,20.912416666666665,20.765416666666667,20.275833333333335,20.851333333333333,21.033583333333333,21.109083333333334,20.5945,21.368,20.797333333333334,21.510916666666663,20.837083333333336,21.23275,21.206333333333333,21.45808333333333,21.131583333333335,21.754166666666666,21.51625,20.739666666666665,21.335500000000007,21.314083333333333,20.789416666666668,21.04225,20.828916666666668,21.246666666666666,21.284750000000003,21.039166666666667,21.034083333333335,20.978,21.300083333333333,21.571666666666662,21.291833333333333,21.483166666666666,21.482583333333327,21.87291666666667,21.46683333333333,21.156916666666667,21.326083333333333,21.75408333333333,21.205916666666667,21.52491666666667,21.984750000000002,21.73058333333334,21.05366666666667,21.611333333333334,21.46733333333334,21.031750000000002,21.077166666666667,21.234083333333334,21.60575,21.26275,21.571,21.371750000000002,21.470000000000002,21.12933333333333,21.189,21.378333333333334,21.446416666666664,21.55541666666667,21.607166666666668,20.640875],\"type\":\"scatter\"},{\"line\":{\"color\":\"rgb(0, 0, 255)\"},\"mode\":\"lines\",\"name\":\"China\",\"x\":[\"1850\",\"1851\",\"1852\",\"1853\",\"1854\",\"1855\",\"1856\",\"1857\",\"1858\",\"1859\",\"1860\",\"1861\",\"1862\",\"1863\",\"1864\",\"1865\",\"1866\",\"1867\",\"1868\",\"1869\",\"1870\",\"1871\",\"1872\",\"1873\",\"1874\",\"1875\",\"1876\",\"1877\",\"1878\",\"1879\",\"1880\",\"1881\",\"1882\",\"1883\",\"1884\",\"1885\",\"1886\",\"1887\",\"1888\",\"1889\",\"1890\",\"1891\",\"1892\",\"1893\",\"1894\",\"1895\",\"1896\",\"1897\",\"1898\",\"1899\",\"1900\",\"1901\",\"1902\",\"1903\",\"1904\",\"1905\",\"1906\",\"1907\",\"1908\",\"1909\",\"1910\",\"1911\",\"1912\",\"1913\",\"1914\",\"1915\",\"1916\",\"1917\",\"1918\",\"1919\",\"1920\",\"1921\",\"1922\",\"1923\",\"1924\",\"1925\",\"1926\",\"1927\",\"1928\",\"1929\",\"1930\",\"1931\",\"1932\",\"1933\",\"1934\",\"1935\",\"1936\",\"1937\",\"1938\",\"1939\",\"1940\",\"1941\",\"1942\",\"1943\",\"1944\",\"1945\",\"1946\",\"1947\",\"1948\",\"1949\",\"1950\",\"1951\",\"1952\",\"1953\",\"1954\",\"1955\",\"1956\",\"1957\",\"1958\",\"1959\",\"1960\",\"1961\",\"1962\",\"1963\",\"1964\",\"1965\",\"1966\",\"1967\",\"1968\",\"1969\",\"1970\",\"1971\",\"1972\",\"1973\",\"1974\",\"1975\",\"1976\",\"1977\",\"1978\",\"1979\",\"1980\",\"1981\",\"1982\",\"1983\",\"1984\",\"1985\",\"1986\",\"1987\",\"1988\",\"1989\",\"1990\",\"1991\",\"1992\",\"1993\",\"1994\",\"1995\",\"1996\",\"1997\",\"1998\",\"1999\",\"2000\",\"2001\",\"2002\",\"2003\",\"2004\",\"2005\",\"2006\",\"2007\",\"2008\",\"2009\",\"2010\",\"2011\",\"2012\",\"2013\"],\"y\":[5.907166666666668,5.782833333333333,5.857499999999999,5.997583333333334,6.473083333333334,6.515583333333333,6.095583333333334,5.959666666666667,6.414083333333334,6.535166666666669,5.609333333333332,5.865166666666667,5.448083333333333,6.444583333333333,5.801499999999998,6.244,6.410416666666666,6.759166666666666,6.415499999999999,6.465833333333332,6.159,6.371583333333334,6.286333333333334,6.588166666666667,6.645166666666667,6.505,6.347416666666667,6.181583333333332,6.414416666666667,6.667416666666667,6.383500000000001,6.352833333333333,6.39825,6.026916666666668,5.804833333333332,5.964499999999998,6.114749999999998,6.197166666666665,6.336416666666665,6.31175,6.464333333333333,6.359333333333335,6.060833333333334,6.108333333333332,6.578250000000001,6.035833333333333,6.386250000000001,6.228083333333333,6.562666666666666,6.603416666666667,6.444166666666667,6.537499999999999,6.744666666666666,6.1745833333333335,6.350833333333331,5.755499999999999,6.2218333333333335,6.308666666666667,6.286583333333335,6.381249999999999,6.071499999999998,6.297,6.076083333333332,6.138416666666665,6.818749999999999,6.49275,6.349833333333333,6.161416666666667,6.196833333333334,6.607000000000002,6.5903333333333345,6.500749999999999,6.6773333333333325,6.563666666666666,6.704249999999998,6.555666666666667,6.754083333333334,6.667749999999999,6.7746666666666675,6.424083333333333,6.468666666666667,6.377500000000001,6.905583333333333,6.6299166666666665,6.3628333333333345,6.636166666666668,6.111583333333335,6.511083333333332,6.871749999999999,7.026500000000001,6.961666666666665,7.3455,7.096,7.050916666666666,6.5305,6.838833333333333,7.354083333333334,6.773833333333333,7.1003333333333325,6.9755,6.641166666666666,6.869500000000002,6.640916666666667,7.022333333333335,6.371000000000001,6.701666666666665,6.299333333333333,6.387999999999999,7.033583333333333,7.039666666666666,6.890916666666666,7.050583333333333,6.703666666666667,7.052500000000001,6.746083333333334,6.799916666666667,6.962,6.402583333333333,6.727000000000001,6.455999999999999,6.568166666666666,6.84625,6.814416666666666,7.209583333333334,6.659416666666668,7.1009166666666665,6.471166666666668,6.851333333333333,7.048166666666667,7.074083333333333,6.9500833333333345,6.926416666666667,7.149749999999998,6.925083333333334,6.517916666666667,6.7402500000000005,6.870166666666669,7.249,7.220833333333332,7.23975,7.635999999999998,7.097166666666667,6.858416666666667,6.919416666666668,7.4959999999999996,7.2115833333333335,6.962666666666667,7.367333333333332,8.051833333333333,7.840250000000002,7.238083333333333,7.596416666666666,7.7956666666666665,7.521999999999999,7.71275,7.4135,7.948,8.12675,7.566083333333335,7.809500000000001,7.548416666666665,7.357083333333332,7.077083333333333,9.295000000000002],\"type\":\"scatter\"}],                        {\"template\":{\"data\":{\"barpolar\":[{\"marker\":{\"line\":{\"color\":\"#E5ECF6\",\"width\":0.5},\"pattern\":{\"fillmode\":\"overlay\",\"size\":10,\"solidity\":0.2}},\"type\":\"barpolar\"}],\"bar\":[{\"error_x\":{\"color\":\"#2a3f5f\"},\"error_y\":{\"color\":\"#2a3f5f\"},\"marker\":{\"line\":{\"color\":\"#E5ECF6\",\"width\":0.5},\"pattern\":{\"fillmode\":\"overlay\",\"size\":10,\"solidity\":0.2}},\"type\":\"bar\"}],\"carpet\":[{\"aaxis\":{\"endlinecolor\":\"#2a3f5f\",\"gridcolor\":\"white\",\"linecolor\":\"white\",\"minorgridcolor\":\"white\",\"startlinecolor\":\"#2a3f5f\"},\"baxis\":{\"endlinecolor\":\"#2a3f5f\",\"gridcolor\":\"white\",\"linecolor\":\"white\",\"minorgridcolor\":\"white\",\"startlinecolor\":\"#2a3f5f\"},\"type\":\"carpet\"}],\"choropleth\":[{\"colorbar\":{\"outlinewidth\":0,\"ticks\":\"\"},\"type\":\"choropleth\"}],\"contourcarpet\":[{\"colorbar\":{\"outlinewidth\":0,\"ticks\":\"\"},\"type\":\"contourcarpet\"}],\"contour\":[{\"colorbar\":{\"outlinewidth\":0,\"ticks\":\"\"},\"colorscale\":[[0.0,\"#0d0887\"],[0.1111111111111111,\"#46039f\"],[0.2222222222222222,\"#7201a8\"],[0.3333333333333333,\"#9c179e\"],[0.4444444444444444,\"#bd3786\"],[0.5555555555555556,\"#d8576b\"],[0.6666666666666666,\"#ed7953\"],[0.7777777777777778,\"#fb9f3a\"],[0.8888888888888888,\"#fdca26\"],[1.0,\"#f0f921\"]],\"type\":\"contour\"}],\"heatmapgl\":[{\"colorbar\":{\"outlinewidth\":0,\"ticks\":\"\"},\"colorscale\":[[0.0,\"#0d0887\"],[0.1111111111111111,\"#46039f\"],[0.2222222222222222,\"#7201a8\"],[0.3333333333333333,\"#9c179e\"],[0.4444444444444444,\"#bd3786\"],[0.5555555555555556,\"#d8576b\"],[0.6666666666666666,\"#ed7953\"],[0.7777777777777778,\"#fb9f3a\"],[0.8888888888888888,\"#fdca26\"],[1.0,\"#f0f921\"]],\"type\":\"heatmapgl\"}],\"heatmap\":[{\"colorbar\":{\"outlinewidth\":0,\"ticks\":\"\"},\"colorscale\":[[0.0,\"#0d0887\"],[0.1111111111111111,\"#46039f\"],[0.2222222222222222,\"#7201a8\"],[0.3333333333333333,\"#9c179e\"],[0.4444444444444444,\"#bd3786\"],[0.5555555555555556,\"#d8576b\"],[0.6666666666666666,\"#ed7953\"],[0.7777777777777778,\"#fb9f3a\"],[0.8888888888888888,\"#fdca26\"],[1.0,\"#f0f921\"]],\"type\":\"heatmap\"}],\"histogram2dcontour\":[{\"colorbar\":{\"outlinewidth\":0,\"ticks\":\"\"},\"colorscale\":[[0.0,\"#0d0887\"],[0.1111111111111111,\"#46039f\"],[0.2222222222222222,\"#7201a8\"],[0.3333333333333333,\"#9c179e\"],[0.4444444444444444,\"#bd3786\"],[0.5555555555555556,\"#d8576b\"],[0.6666666666666666,\"#ed7953\"],[0.7777777777777778,\"#fb9f3a\"],[0.8888888888888888,\"#fdca26\"],[1.0,\"#f0f921\"]],\"type\":\"histogram2dcontour\"}],\"histogram2d\":[{\"colorbar\":{\"outlinewidth\":0,\"ticks\":\"\"},\"colorscale\":[[0.0,\"#0d0887\"],[0.1111111111111111,\"#46039f\"],[0.2222222222222222,\"#7201a8\"],[0.3333333333333333,\"#9c179e\"],[0.4444444444444444,\"#bd3786\"],[0.5555555555555556,\"#d8576b\"],[0.6666666666666666,\"#ed7953\"],[0.7777777777777778,\"#fb9f3a\"],[0.8888888888888888,\"#fdca26\"],[1.0,\"#f0f921\"]],\"type\":\"histogram2d\"}],\"histogram\":[{\"marker\":{\"pattern\":{\"fillmode\":\"overlay\",\"size\":10,\"solidity\":0.2}},\"type\":\"histogram\"}],\"mesh3d\":[{\"colorbar\":{\"outlinewidth\":0,\"ticks\":\"\"},\"type\":\"mesh3d\"}],\"parcoords\":[{\"line\":{\"colorbar\":{\"outlinewidth\":0,\"ticks\":\"\"}},\"type\":\"parcoords\"}],\"pie\":[{\"automargin\":true,\"type\":\"pie\"}],\"scatter3d\":[{\"line\":{\"colorbar\":{\"outlinewidth\":0,\"ticks\":\"\"}},\"marker\":{\"colorbar\":{\"outlinewidth\":0,\"ticks\":\"\"}},\"type\":\"scatter3d\"}],\"scattercarpet\":[{\"marker\":{\"colorbar\":{\"outlinewidth\":0,\"ticks\":\"\"}},\"type\":\"scattercarpet\"}],\"scattergeo\":[{\"marker\":{\"colorbar\":{\"outlinewidth\":0,\"ticks\":\"\"}},\"type\":\"scattergeo\"}],\"scattergl\":[{\"marker\":{\"colorbar\":{\"outlinewidth\":0,\"ticks\":\"\"}},\"type\":\"scattergl\"}],\"scattermapbox\":[{\"marker\":{\"colorbar\":{\"outlinewidth\":0,\"ticks\":\"\"}},\"type\":\"scattermapbox\"}],\"scatterpolargl\":[{\"marker\":{\"colorbar\":{\"outlinewidth\":0,\"ticks\":\"\"}},\"type\":\"scatterpolargl\"}],\"scatterpolar\":[{\"marker\":{\"colorbar\":{\"outlinewidth\":0,\"ticks\":\"\"}},\"type\":\"scatterpolar\"}],\"scatter\":[{\"fillpattern\":{\"fillmode\":\"overlay\",\"size\":10,\"solidity\":0.2},\"type\":\"scatter\"}],\"scatterternary\":[{\"marker\":{\"colorbar\":{\"outlinewidth\":0,\"ticks\":\"\"}},\"type\":\"scatterternary\"}],\"surface\":[{\"colorbar\":{\"outlinewidth\":0,\"ticks\":\"\"},\"colorscale\":[[0.0,\"#0d0887\"],[0.1111111111111111,\"#46039f\"],[0.2222222222222222,\"#7201a8\"],[0.3333333333333333,\"#9c179e\"],[0.4444444444444444,\"#bd3786\"],[0.5555555555555556,\"#d8576b\"],[0.6666666666666666,\"#ed7953\"],[0.7777777777777778,\"#fb9f3a\"],[0.8888888888888888,\"#fdca26\"],[1.0,\"#f0f921\"]],\"type\":\"surface\"}],\"table\":[{\"cells\":{\"fill\":{\"color\":\"#EBF0F8\"},\"line\":{\"color\":\"white\"}},\"header\":{\"fill\":{\"color\":\"#C8D4E3\"},\"line\":{\"color\":\"white\"}},\"type\":\"table\"}]},\"layout\":{\"annotationdefaults\":{\"arrowcolor\":\"#2a3f5f\",\"arrowhead\":0,\"arrowwidth\":1},\"autotypenumbers\":\"strict\",\"coloraxis\":{\"colorbar\":{\"outlinewidth\":0,\"ticks\":\"\"}},\"colorscale\":{\"diverging\":[[0,\"#8e0152\"],[0.1,\"#c51b7d\"],[0.2,\"#de77ae\"],[0.3,\"#f1b6da\"],[0.4,\"#fde0ef\"],[0.5,\"#f7f7f7\"],[0.6,\"#e6f5d0\"],[0.7,\"#b8e186\"],[0.8,\"#7fbc41\"],[0.9,\"#4d9221\"],[1,\"#276419\"]],\"sequential\":[[0.0,\"#0d0887\"],[0.1111111111111111,\"#46039f\"],[0.2222222222222222,\"#7201a8\"],[0.3333333333333333,\"#9c179e\"],[0.4444444444444444,\"#bd3786\"],[0.5555555555555556,\"#d8576b\"],[0.6666666666666666,\"#ed7953\"],[0.7777777777777778,\"#fb9f3a\"],[0.8888888888888888,\"#fdca26\"],[1.0,\"#f0f921\"]],\"sequentialminus\":[[0.0,\"#0d0887\"],[0.1111111111111111,\"#46039f\"],[0.2222222222222222,\"#7201a8\"],[0.3333333333333333,\"#9c179e\"],[0.4444444444444444,\"#bd3786\"],[0.5555555555555556,\"#d8576b\"],[0.6666666666666666,\"#ed7953\"],[0.7777777777777778,\"#fb9f3a\"],[0.8888888888888888,\"#fdca26\"],[1.0,\"#f0f921\"]]},\"colorway\":[\"#636efa\",\"#EF553B\",\"#00cc96\",\"#ab63fa\",\"#FFA15A\",\"#19d3f3\",\"#FF6692\",\"#B6E880\",\"#FF97FF\",\"#FECB52\"],\"font\":{\"color\":\"#2a3f5f\"},\"geo\":{\"bgcolor\":\"white\",\"lakecolor\":\"white\",\"landcolor\":\"#E5ECF6\",\"showlakes\":true,\"showland\":true,\"subunitcolor\":\"white\"},\"hoverlabel\":{\"align\":\"left\"},\"hovermode\":\"closest\",\"mapbox\":{\"style\":\"light\"},\"paper_bgcolor\":\"white\",\"plot_bgcolor\":\"#E5ECF6\",\"polar\":{\"angularaxis\":{\"gridcolor\":\"white\",\"linecolor\":\"white\",\"ticks\":\"\"},\"bgcolor\":\"#E5ECF6\",\"radialaxis\":{\"gridcolor\":\"white\",\"linecolor\":\"white\",\"ticks\":\"\"}},\"scene\":{\"xaxis\":{\"backgroundcolor\":\"#E5ECF6\",\"gridcolor\":\"white\",\"gridwidth\":2,\"linecolor\":\"white\",\"showbackground\":true,\"ticks\":\"\",\"zerolinecolor\":\"white\"},\"yaxis\":{\"backgroundcolor\":\"#E5ECF6\",\"gridcolor\":\"white\",\"gridwidth\":2,\"linecolor\":\"white\",\"showbackground\":true,\"ticks\":\"\",\"zerolinecolor\":\"white\"},\"zaxis\":{\"backgroundcolor\":\"#E5ECF6\",\"gridcolor\":\"white\",\"gridwidth\":2,\"linecolor\":\"white\",\"showbackground\":true,\"ticks\":\"\",\"zerolinecolor\":\"white\"}},\"shapedefaults\":{\"line\":{\"color\":\"#2a3f5f\"}},\"ternary\":{\"aaxis\":{\"gridcolor\":\"white\",\"linecolor\":\"white\",\"ticks\":\"\"},\"baxis\":{\"gridcolor\":\"white\",\"linecolor\":\"white\",\"ticks\":\"\"},\"bgcolor\":\"#E5ECF6\",\"caxis\":{\"gridcolor\":\"white\",\"linecolor\":\"white\",\"ticks\":\"\"}},\"title\":{\"x\":0.05},\"xaxis\":{\"automargin\":true,\"gridcolor\":\"white\",\"linecolor\":\"white\",\"ticks\":\"\",\"title\":{\"standoff\":15},\"zerolinecolor\":\"white\",\"zerolinewidth\":2},\"yaxis\":{\"automargin\":true,\"gridcolor\":\"white\",\"linecolor\":\"white\",\"ticks\":\"\",\"title\":{\"standoff\":15},\"zerolinecolor\":\"white\",\"zerolinewidth\":2}}},\"title\":{\"text\":\"Temperatura promedio de algunos paises en especifico\"},\"xaxis\":{\"title\":{\"text\":\"A\\u00f1o\"}},\"yaxis\":{\"title\":{\"text\":\"Temperatura promedio, \\u00b0C\"}}},                        {\"responsive\": true}                    ).then(function(){\n",
       "                            \n",
       "var gd = document.getElementById('4070f65b-0c58-4954-a1f2-1880267cba0d');\n",
       "var x = new MutationObserver(function (mutations, observer) {{\n",
       "        var display = window.getComputedStyle(gd).display;\n",
       "        if (!display || display === 'none') {{\n",
       "            console.log([gd, 'removed!']);\n",
       "            Plotly.purge(gd);\n",
       "            observer.disconnect();\n",
       "        }}\n",
       "}});\n",
       "\n",
       "// Listen for the removal of the full notebook cells\n",
       "var notebookContainer = gd.closest('#notebook-container');\n",
       "if (notebookContainer) {{\n",
       "    x.observe(notebookContainer, {childList: true});\n",
       "}}\n",
       "\n",
       "// Listen for the clearing of the current output cell\n",
       "var outputEl = gd.closest('.output');\n",
       "if (outputEl) {{\n",
       "    x.observe(outputEl, {childList: true});\n",
       "}}\n",
       "\n",
       "                        })                };                });            </script>        </div>"
      ]
     },
     "metadata": {},
     "output_type": "display_data"
    }
   ],
   "source": [
    "from Modulo_1 import generar_temp_promedio\n",
    "generar_temp_promedio()"
   ]
  },
  {
   "cell_type": "code",
   "execution_count": 1,
   "metadata": {},
   "outputs": [
    {
     "data": {
      "application/vnd.plotly.v1+json": {
       "config": {
        "linkText": "Export to plot.ly",
        "plotlyServerURL": "https://plot.ly",
        "showLink": false
       },
       "data": [
        {
         "line": {
          "color": "rgb(0, 255, 255)"
         },
         "mode": "lines",
         "name": "Uncertainty top",
         "type": "scatter",
         "x": [
          "1750",
          "1751",
          "1752",
          "1753",
          "1754",
          "1755",
          "1756",
          "1757",
          "1758",
          "1759",
          "1760",
          "1761",
          "1762",
          "1763",
          "1764",
          "1765",
          "1766",
          "1767",
          "1768",
          "1769",
          "1770",
          "1771",
          "1772",
          "1773",
          "1774",
          "1775",
          "1776",
          "1777",
          "1778",
          "1779",
          "1780",
          "1781",
          "1782",
          "1783",
          "1784",
          "1785",
          "1786",
          "1787",
          "1788",
          "1789",
          "1790",
          "1791",
          "1792",
          "1793",
          "1794",
          "1795",
          "1796",
          "1797",
          "1798",
          "1799",
          "1800",
          "1801",
          "1802",
          "1803",
          "1804",
          "1805",
          "1806",
          "1807",
          "1808",
          "1809",
          "1810",
          "1811",
          "1812",
          "1813",
          "1814",
          "1815",
          "1816",
          "1817",
          "1818",
          "1819",
          "1820",
          "1821",
          "1822",
          "1823",
          "1824",
          "1825",
          "1826",
          "1827",
          "1828",
          "1829",
          "1830",
          "1831",
          "1832",
          "1833",
          "1834",
          "1835",
          "1836",
          "1837",
          "1838",
          "1839",
          "1840",
          "1841",
          "1842",
          "1843",
          "1844",
          "1845",
          "1846",
          "1847",
          "1848",
          "1849",
          "1850",
          "1851",
          "1852",
          "1853",
          "1854",
          "1855",
          "1856",
          "1857",
          "1858",
          "1859",
          "1860",
          "1861",
          "1862",
          "1863",
          "1864",
          "1865",
          "1866",
          "1867",
          "1868",
          "1869",
          "1870",
          "1871",
          "1872",
          "1873",
          "1874",
          "1875",
          "1876",
          "1877",
          "1878",
          "1879",
          "1880",
          "1881",
          "1882",
          "1883",
          "1884",
          "1885",
          "1886",
          "1887",
          "1888",
          "1889",
          "1890",
          "1891",
          "1892",
          "1893",
          "1894",
          "1895",
          "1896",
          "1897",
          "1898",
          "1899",
          "1900",
          "1901",
          "1902",
          "1903",
          "1904",
          "1905",
          "1906",
          "1907",
          "1908",
          "1909",
          "1910",
          "1911",
          "1912",
          "1913",
          "1914",
          "1915",
          "1916",
          "1917",
          "1918",
          "1919",
          "1920",
          "1921",
          "1922",
          "1923",
          "1924",
          "1925",
          "1926",
          "1927",
          "1928",
          "1929",
          "1930",
          "1931",
          "1932",
          "1933",
          "1934",
          "1935",
          "1936",
          "1937",
          "1938",
          "1939",
          "1940",
          "1941",
          "1942",
          "1943",
          "1944",
          "1945",
          "1946",
          "1947",
          "1948",
          "1949",
          "1950",
          "1951",
          "1952",
          "1953",
          "1954",
          "1955",
          "1956",
          "1957",
          "1958",
          "1959",
          "1960",
          "1961",
          "1962",
          "1963",
          "1964",
          "1965",
          "1966",
          "1967",
          "1968",
          "1969",
          "1970",
          "1971",
          "1972",
          "1973",
          "1974",
          "1975",
          "1976",
          "1977",
          "1978",
          "1979",
          "1980",
          "1981",
          "1982",
          "1983",
          "1984",
          "1985",
          "1986",
          "1987",
          "1988",
          "1989",
          "1990",
          "1991",
          "1992",
          "1993",
          "1994",
          "1995",
          "1996",
          "1997",
          "1998",
          "1999",
          "2000",
          "2001",
          "2002",
          "2003",
          "2004",
          "2005",
          "2006",
          "2007",
          "2008",
          "2009",
          "2010",
          "2011",
          "2012",
          "2013",
          "2014",
          "2015"
         ],
         "y": [
          11.357181818181818,
          10.757285714285715,
          8.756833333333333,
          11.564083333333334,
          11.963583333333334,
          12.205916666666667,
          12.111916666666666,
          13.048000000000002,
          10.1065,
          11.664,
          10.274083333333333,
          11.917333333333332,
          12.130750000000003,
          10.648333333333332,
          11.175583333333334,
          10.679666666666666,
          11.2415,
          11.184166666666666,
          9.047333333333334,
          10.104666666666667,
          10.472583333333333,
          10.45775,
          10.657333333333334,
          10.58225,
          12.187333333333335,
          11.503666666666668,
          11.168166666666666,
          10.699083333333334,
          11.41475,
          11.489083333333333,
          12.017750000000001,
          10.606416666666666,
          10.451833333333333,
          10.17525,
          10.117666666666668,
          9.6025,
          10.783583333333333,
          10.393583333333334,
          11.004999999999999,
          10.202833333333333,
          9.754,
          10.017999999999999,
          9.789416666666668,
          10.503583333333333,
          10.505,
          10.393666666666666,
          10.191666666666666,
          10.556250000000002,
          10.573583333333335,
          10.244166666666665,
          10.202916666666669,
          10.171333333333335,
          10.427166666666666,
          10.136166666666666,
          10.686666666666667,
          10.251666666666665,
          10.004166666666665,
          9.873666666666665,
          9.623666666666667,
          9.211833333333333,
          9.233666666666668,
          8.95525,
          9.181833333333334,
          9.44875,
          9.760250000000001,
          9.205833333333334,
          9.130416666666667,
          8.684000000000001,
          9.658000000000001,
          8.951083333333335,
          9.234999999999998,
          9.465916666666665,
          9.563583333333334,
          9.080916666666667,
          9.995000000000001,
          9.897166666666667,
          9.916166666666669,
          10.252333333333333,
          9.813749999999997,
          9.26158333333333,
          9.948166666666667,
          9.170666666666667,
          8.990583333333333,
          9.246500000000001,
          9.299000000000001,
          8.667833333333332,
          8.86525,
          8.666583333333334,
          8.677249999999999,
          8.811666666666666,
          8.787416666666667,
          8.640166666666666,
          8.92025,
          8.9235,
          8.572333333333333,
          8.732666666666667,
          9.6045,
          8.986666666666666,
          8.850833333333334,
          8.898,
          8.777083333333334,
          9.0605,
          9.018416666666667,
          8.876833333333334,
          9.036166666666666,
          8.997916666666665,
          8.756666666666666,
          8.509250000000002,
          8.8,
          8.926666666666668,
          8.586833333333333,
          8.499916666666667,
          8.247500000000002,
          8.859833333333333,
          8.660000000000002,
          8.84,
          8.898166666666667,
          9.071166666666667,
          8.79425,
          9.02775,
          8.7515,
          8.685333333333332,
          8.782916666666665,
          8.901583333333333,
          8.951416666666667,
          8.311083333333334,
          8.513583333333333,
          8.9955,
          9.254666666666667,
          8.629249999999999,
          8.533666666666665,
          8.69025,
          8.508833333333333,
          8.347583333333333,
          8.169916666666667,
          8.344666666666669,
          8.340499999999999,
          8.307,
          8.472916666666666,
          8.688833333333333,
          8.314666666666668,
          8.354666666666667,
          8.404666666666667,
          8.402,
          8.47825,
          8.446250000000001,
          8.52375,
          8.607166666666668,
          8.503666666666666,
          8.721083333333333,
          8.816333333333333,
          8.848166666666666,
          8.597166666666666,
          8.510166666666667,
          8.377333333333333,
          8.503916666666665,
          8.654,
          8.204333333333334,
          8.460833333333333,
          8.441,
          8.483083333333335,
          8.424833333333336,
          8.423833333333334,
          8.559999999999999,
          8.842416666666667,
          8.839333333333334,
          8.485666666666667,
          8.283999999999999,
          8.399083333333332,
          8.649000000000001,
          8.621416666666665,
          8.827833333333333,
          8.666583333333335,
          8.675249999999998,
          8.763666666666667,
          8.775166666666667,
          8.9715,
          8.770999999999999,
          8.880749999999999,
          8.494166666666665,
          8.873249999999999,
          8.957,
          8.954166666666667,
          8.580916666666667,
          8.868416666666668,
          8.751666666666665,
          8.797083333333333,
          8.938416666666665,
          9.104166666666668,
          8.997666666666667,
          8.995750000000001,
          8.9965,
          8.957916666666664,
          8.981666666666667,
          9.070166666666667,
          8.805166666666665,
          8.899333333333335,
          9.014166666666666,
          8.956333333333333,
          8.795,
          8.551583333333335,
          8.809833333333332,
          8.847000000000001,
          9.085833333333335,
          8.747833333333332,
          8.779833333333334,
          8.400416666666667,
          8.8905,
          8.878083333333334,
          8.839833333333331,
          8.67725,
          8.894666666666666,
          8.878833333333333,
          8.948333333333332,
          8.502166666666666,
          8.63625,
          8.691583333333334,
          8.78375,
          8.628,
          8.68025,
          8.776499999999999,
          8.697166666666668,
          8.594916666666666,
          9.049,
          8.572,
          8.841916666666668,
          8.44783333333333,
          8.934916666666666,
          8.796583333333333,
          8.819833333333333,
          9.087,
          9.253083333333333,
          8.721833333333333,
          9.122166666666665,
          8.794416666666669,
          8.751249999999999,
          8.918583333333334,
          9.079583333333334,
          9.281666666666666,
          9.010000000000002,
          9.320500000000001,
          9.2415,
          8.919916666666666,
          8.947916666666666,
          9.109666666666666,
          9.4235,
          9.123666666666667,
          9.291166666666665,
          9.596583333333333,
          9.364333333333333,
          9.284666666666668,
          9.502,
          9.642833333333334,
          9.61625,
          9.408,
          9.776083333333332,
          9.622499999999999,
          9.821666666666665,
          9.510666666666667,
          9.591166666666666,
          9.786499999999998,
          9.598,
          9.59075,
          9.704166666666666,
          9.660833333333333,
          9.923166666666669
         ]
        },
        {
         "fill": "tonexty",
         "line": {
          "color": "rgb(0, 255, 255)"
         },
         "mode": "lines",
         "name": "Uncertainty bot",
         "type": "scatter",
         "x": [
          "1750",
          "1751",
          "1752",
          "1753",
          "1754",
          "1755",
          "1756",
          "1757",
          "1758",
          "1759",
          "1760",
          "1761",
          "1762",
          "1763",
          "1764",
          "1765",
          "1766",
          "1767",
          "1768",
          "1769",
          "1770",
          "1771",
          "1772",
          "1773",
          "1774",
          "1775",
          "1776",
          "1777",
          "1778",
          "1779",
          "1780",
          "1781",
          "1782",
          "1783",
          "1784",
          "1785",
          "1786",
          "1787",
          "1788",
          "1789",
          "1790",
          "1791",
          "1792",
          "1793",
          "1794",
          "1795",
          "1796",
          "1797",
          "1798",
          "1799",
          "1800",
          "1801",
          "1802",
          "1803",
          "1804",
          "1805",
          "1806",
          "1807",
          "1808",
          "1809",
          "1810",
          "1811",
          "1812",
          "1813",
          "1814",
          "1815",
          "1816",
          "1817",
          "1818",
          "1819",
          "1820",
          "1821",
          "1822",
          "1823",
          "1824",
          "1825",
          "1826",
          "1827",
          "1828",
          "1829",
          "1830",
          "1831",
          "1832",
          "1833",
          "1834",
          "1835",
          "1836",
          "1837",
          "1838",
          "1839",
          "1840",
          "1841",
          "1842",
          "1843",
          "1844",
          "1845",
          "1846",
          "1847",
          "1848",
          "1849",
          "1850",
          "1851",
          "1852",
          "1853",
          "1854",
          "1855",
          "1856",
          "1857",
          "1858",
          "1859",
          "1860",
          "1861",
          "1862",
          "1863",
          "1864",
          "1865",
          "1866",
          "1867",
          "1868",
          "1869",
          "1870",
          "1871",
          "1872",
          "1873",
          "1874",
          "1875",
          "1876",
          "1877",
          "1878",
          "1879",
          "1880",
          "1881",
          "1882",
          "1883",
          "1884",
          "1885",
          "1886",
          "1887",
          "1888",
          "1889",
          "1890",
          "1891",
          "1892",
          "1893",
          "1894",
          "1895",
          "1896",
          "1897",
          "1898",
          "1899",
          "1900",
          "1901",
          "1902",
          "1903",
          "1904",
          "1905",
          "1906",
          "1907",
          "1908",
          "1909",
          "1910",
          "1911",
          "1912",
          "1913",
          "1914",
          "1915",
          "1916",
          "1917",
          "1918",
          "1919",
          "1920",
          "1921",
          "1922",
          "1923",
          "1924",
          "1925",
          "1926",
          "1927",
          "1928",
          "1929",
          "1930",
          "1931",
          "1932",
          "1933",
          "1934",
          "1935",
          "1936",
          "1937",
          "1938",
          "1939",
          "1940",
          "1941",
          "1942",
          "1943",
          "1944",
          "1945",
          "1946",
          "1947",
          "1948",
          "1949",
          "1950",
          "1951",
          "1952",
          "1953",
          "1954",
          "1955",
          "1956",
          "1957",
          "1958",
          "1959",
          "1960",
          "1961",
          "1962",
          "1963",
          "1964",
          "1965",
          "1966",
          "1967",
          "1968",
          "1969",
          "1970",
          "1971",
          "1972",
          "1973",
          "1974",
          "1975",
          "1976",
          "1977",
          "1978",
          "1979",
          "1980",
          "1981",
          "1982",
          "1983",
          "1984",
          "1985",
          "1986",
          "1987",
          "1988",
          "1989",
          "1990",
          "1991",
          "1992",
          "1993",
          "1994",
          "1995",
          "1996",
          "1997",
          "1998",
          "1999",
          "2000",
          "2001",
          "2002",
          "2003",
          "2004",
          "2005",
          "2006",
          "2007",
          "2008",
          "2009",
          "2010",
          "2011",
          "2012",
          "2013",
          "2014",
          "2015"
         ],
         "y": [
          6.081545454545456,
          5.194999999999999,
          2.8028333333333326,
          5.212083333333334,
          4.975083333333332,
          4.50525,
          5.587250000000001,
          4.9959999999999996,
          3.3806666666666665,
          4.306166666666666,
          4.096250000000001,
          5.627666666666666,
          5.082250000000002,
          4.345166666666666,
          5.625083333333334,
          5.824166666666664,
          5.569833333333333,
          5.258833333333335,
          4.5153333333333325,
          5.284500000000001,
          4.91125,
          5.248583333333334,
          5.729666666666667,
          5.860750000000001,
          5.357000000000003,
          6.862500000000001,
          5.439833333333334,
          5.813416666666669,
          5.669749999999999,
          6.477416666666667,
          6.848083333333333,
          5.598750000000001,
          5.350666666666667,
          5.186416666666666,
          5.606333333333334,
          5.1235,
          5.732749999999999,
          5.6700833333333325,
          5.889333333333333,
          6.4655,
          6.210666666666667,
          6.4505,
          6.388583333333334,
          5.954749999999999,
          6.5470000000000015,
          6.307,
          6.3503333333333325,
          6.464916666666667,
          6.766916666666668,
          6.767333333333332,
          6.765583333333335,
          7.008000000000001,
          6.729166666666666,
          6.869833333333333,
          7.003,
          6.873833333333333,
          6.863999999999998,
          6.689166666666665,
          5.63,
          4.941000000000001,
          4.611666666666667,
          4.76375,
          4.910666666666666,
          6.031083333333333,
          5.423250000000001,
          5.272833333333334,
          4.744583333333333,
          5.267333333333335,
          5.999833333333334,
          5.787250000000001,
          5.997499999999998,
          6.714249999999999,
          6.813083333333334,
          6.356416666666667,
          7.099333333333334,
          6.8815,
          6.7970000000000015,
          7.365166666666666,
          6.516916666666664,
          6.6220833333333315,
          7.085333333333334,
          6.107666666666667,
          5.909750000000001,
          6.779500000000001,
          6.994500000000001,
          6.117166666666666,
          6.526416666666667,
          6.0847500000000005,
          6.352583333333332,
          6.452833333333332,
          6.805083333333334,
          6.736166666666667,
          7.12525,
          7.423833333333334,
          6.7203333333333335,
          6.969666666666668,
          7.5009999999999994,
          7.185333333333333,
          7.108166666666667,
          7.070833333333334,
          7.024249999999999,
          7.296666666666665,
          7.181916666666666,
          7.206833333333333,
          7.384833333333333,
          7.223583333333331,
          7.235166666666666,
          7.007083333333334,
          7.400500000000001,
          7.577333333333334,
          7.334833333333332,
          7.193083333333335,
          6.869666666666668,
          7.363833333333333,
          7.307166666666668,
          7.515666666666667,
          7.686166666666667,
          7.801500000000001,
          7.701583333333334,
          7.836416666666667,
          7.651166666666666,
          7.544833333333333,
          7.604749999999999,
          7.800583333333334,
          7.915583333333334,
          7.408083333333334,
          7.646583333333332,
          8.083666666666666,
          8.404833333333334,
          7.702416666666665,
          7.703833333333332,
          7.851583333333333,
          7.7490000000000006,
          7.606249999999998,
          7.377416666666667,
          7.494666666666668,
          7.5684999999999985,
          7.522833333333333,
          7.708083333333334,
          7.949166666666666,
          7.628666666666667,
          7.684,
          7.727,
          7.711499999999999,
          7.84375,
          7.8477500000000004,
          7.906083333333332,
          7.979500000000002,
          7.852333333333332,
          8.071583333333333,
          8.186833333333333,
          8.235666666666665,
          8.011666666666667,
          7.9301666666666675,
          7.8045,
          7.946416666666665,
          8.104166666666668,
          7.69,
          7.911333333333334,
          7.915500000000001,
          7.9629166666666675,
          7.929166666666668,
          7.907000000000001,
          8.035499999999999,
          8.338583333333334,
          8.347,
          7.964833333333334,
          7.762666666666665,
          7.8625833333333315,
          8.1155,
          8.096083333333333,
          8.314166666666667,
          8.149416666666667,
          8.169083333333333,
          8.250000000000002,
          8.293666666666667,
          8.486166666666668,
          8.273166666666667,
          8.383583333333334,
          7.990666666666665,
          8.393916666666666,
          8.4815,
          8.456333333333335,
          8.095583333333334,
          8.388250000000003,
          8.279833333333332,
          8.310916666666667,
          8.45825,
          8.623166666666666,
          8.523,
          8.533583333333333,
          8.540833333333333,
          8.498916666666664,
          8.5285,
          8.619833333333334,
          8.3645,
          8.454500000000003,
          8.58,
          8.537166666666668,
          8.3785,
          8.178916666666668,
          8.4415,
          8.4295,
          8.661666666666667,
          8.3735,
          8.472666666666667,
          8.15875,
          8.5745,
          8.669416666666669,
          8.625499999999999,
          8.49025,
          8.700666666666667,
          8.613,
          8.763666666666667,
          8.317166666666667,
          8.418583333333334,
          8.507083333333334,
          8.616416666666668,
          8.404666666666667,
          8.509916666666667,
          8.625333333333334,
          8.501333333333335,
          8.404250000000001,
          8.8475,
          8.363,
          8.64775,
          8.246666666666664,
          8.765583333333332,
          8.588916666666664,
          8.647,
          8.873666666666665,
          9.078583333333334,
          8.5565,
          8.934166666666666,
          8.589250000000002,
          8.56475,
          8.748583333333332,
          8.909250000000002,
          9.121500000000001,
          8.834000000000003,
          9.147833333333333,
          9.117333333333333,
          8.753249999999998,
          8.78525,
          8.967833333333331,
          9.270666666666667,
          8.954166666666667,
          9.113999999999997,
          9.448749999999999,
          9.205833333333333,
          9.117666666666667,
          9.327166666666669,
          9.498,
          9.434916666666666,
          9.241166666666667,
          9.62575,
          9.442499999999999,
          9.642666666666667,
          9.352833333333335,
          9.419333333333334,
          9.619666666666665,
          9.434,
          9.423916666666667,
          9.508833333333332,
          9.4805,
          9.738833333333334
         ]
        },
        {
         "line": {
          "color": "rgb(199, 121, 093)"
         },
         "name": "Average Temperature",
         "type": "scatter",
         "x": [
          "1750",
          "1751",
          "1752",
          "1753",
          "1754",
          "1755",
          "1756",
          "1757",
          "1758",
          "1759",
          "1760",
          "1761",
          "1762",
          "1763",
          "1764",
          "1765",
          "1766",
          "1767",
          "1768",
          "1769",
          "1770",
          "1771",
          "1772",
          "1773",
          "1774",
          "1775",
          "1776",
          "1777",
          "1778",
          "1779",
          "1780",
          "1781",
          "1782",
          "1783",
          "1784",
          "1785",
          "1786",
          "1787",
          "1788",
          "1789",
          "1790",
          "1791",
          "1792",
          "1793",
          "1794",
          "1795",
          "1796",
          "1797",
          "1798",
          "1799",
          "1800",
          "1801",
          "1802",
          "1803",
          "1804",
          "1805",
          "1806",
          "1807",
          "1808",
          "1809",
          "1810",
          "1811",
          "1812",
          "1813",
          "1814",
          "1815",
          "1816",
          "1817",
          "1818",
          "1819",
          "1820",
          "1821",
          "1822",
          "1823",
          "1824",
          "1825",
          "1826",
          "1827",
          "1828",
          "1829",
          "1830",
          "1831",
          "1832",
          "1833",
          "1834",
          "1835",
          "1836",
          "1837",
          "1838",
          "1839",
          "1840",
          "1841",
          "1842",
          "1843",
          "1844",
          "1845",
          "1846",
          "1847",
          "1848",
          "1849",
          "1850",
          "1851",
          "1852",
          "1853",
          "1854",
          "1855",
          "1856",
          "1857",
          "1858",
          "1859",
          "1860",
          "1861",
          "1862",
          "1863",
          "1864",
          "1865",
          "1866",
          "1867",
          "1868",
          "1869",
          "1870",
          "1871",
          "1872",
          "1873",
          "1874",
          "1875",
          "1876",
          "1877",
          "1878",
          "1879",
          "1880",
          "1881",
          "1882",
          "1883",
          "1884",
          "1885",
          "1886",
          "1887",
          "1888",
          "1889",
          "1890",
          "1891",
          "1892",
          "1893",
          "1894",
          "1895",
          "1896",
          "1897",
          "1898",
          "1899",
          "1900",
          "1901",
          "1902",
          "1903",
          "1904",
          "1905",
          "1906",
          "1907",
          "1908",
          "1909",
          "1910",
          "1911",
          "1912",
          "1913",
          "1914",
          "1915",
          "1916",
          "1917",
          "1918",
          "1919",
          "1920",
          "1921",
          "1922",
          "1923",
          "1924",
          "1925",
          "1926",
          "1927",
          "1928",
          "1929",
          "1930",
          "1931",
          "1932",
          "1933",
          "1934",
          "1935",
          "1936",
          "1937",
          "1938",
          "1939",
          "1940",
          "1941",
          "1942",
          "1943",
          "1944",
          "1945",
          "1946",
          "1947",
          "1948",
          "1949",
          "1950",
          "1951",
          "1952",
          "1953",
          "1954",
          "1955",
          "1956",
          "1957",
          "1958",
          "1959",
          "1960",
          "1961",
          "1962",
          "1963",
          "1964",
          "1965",
          "1966",
          "1967",
          "1968",
          "1969",
          "1970",
          "1971",
          "1972",
          "1973",
          "1974",
          "1975",
          "1976",
          "1977",
          "1978",
          "1979",
          "1980",
          "1981",
          "1982",
          "1983",
          "1984",
          "1985",
          "1986",
          "1987",
          "1988",
          "1989",
          "1990",
          "1991",
          "1992",
          "1993",
          "1994",
          "1995",
          "1996",
          "1997",
          "1998",
          "1999",
          "2000",
          "2001",
          "2002",
          "2003",
          "2004",
          "2005",
          "2006",
          "2007",
          "2008",
          "2009",
          "2010",
          "2011",
          "2012",
          "2013",
          "2014",
          "2015"
         ],
         "y": [
          8.719363636363637,
          7.9761428571428565,
          5.7798333333333325,
          8.388083333333334,
          8.469333333333333,
          8.355583333333334,
          8.849583333333333,
          9.022,
          6.7435833333333335,
          7.985083333333333,
          7.185166666666667,
          8.772499999999999,
          8.606500000000002,
          7.496749999999999,
          8.400333333333334,
          8.251916666666665,
          8.405666666666667,
          8.2215,
          6.781333333333333,
          7.694583333333334,
          7.691916666666667,
          7.8531666666666675,
          8.1935,
          8.2215,
          8.772166666666669,
          9.183083333333334,
          8.304,
          8.256250000000001,
          8.54225,
          8.98325,
          9.432916666666667,
          8.102583333333333,
          7.90125,
          7.680833333333333,
          7.862000000000001,
          7.3629999999999995,
          8.258166666666666,
          8.031833333333333,
          8.447166666666666,
          8.334166666666667,
          7.982333333333333,
          8.23425,
          8.089,
          8.229166666666666,
          8.526000000000002,
          8.350333333333333,
          8.270999999999999,
          8.510583333333335,
          8.670250000000001,
          8.505749999999999,
          8.484250000000001,
          8.589666666666668,
          8.578166666666666,
          8.503,
          8.844833333333334,
          8.56275,
          8.434083333333332,
          8.281416666666665,
          7.626833333333333,
          7.076416666666667,
          6.922666666666667,
          6.8595,
          7.04625,
          7.739916666666667,
          7.591750000000001,
          7.239333333333334,
          6.9375,
          6.975666666666668,
          7.828916666666667,
          7.3691666666666675,
          7.616249999999998,
          8.090083333333332,
          8.188333333333334,
          7.7186666666666675,
          8.547166666666667,
          8.389333333333333,
          8.356583333333335,
          8.80875,
          8.165333333333331,
          7.9418333333333315,
          8.51675,
          7.639166666666667,
          7.450166666666667,
          8.013000000000002,
          8.14675,
          7.392499999999999,
          7.695833333333334,
          7.3756666666666675,
          7.514916666666665,
          7.632249999999998,
          7.796250000000001,
          7.688166666666667,
          8.02275,
          8.173666666666668,
          7.646333333333334,
          7.851166666666668,
          8.55275,
          8.086,
          7.979500000000001,
          7.984416666666667,
          7.900666666666666,
          8.178583333333332,
          8.100166666666667,
          8.041833333333333,
          8.2105,
          8.110749999999998,
          7.995916666666666,
          7.758166666666668,
          8.10025,
          8.252,
          7.9608333333333325,
          7.846500000000002,
          7.558583333333335,
          8.111833333333333,
          7.983583333333335,
          8.177833333333334,
          8.292166666666667,
          8.436333333333334,
          8.247916666666667,
          8.432083333333333,
          8.201333333333332,
          8.115083333333333,
          8.193833333333332,
          8.351083333333333,
          8.4335,
          7.859583333333334,
          8.080083333333333,
          8.539583333333333,
          8.82975,
          8.165833333333332,
          8.118749999999999,
          8.270916666666666,
          8.128916666666667,
          7.976916666666665,
          7.773666666666667,
          7.919666666666668,
          7.954499999999999,
          7.914916666666667,
          8.0905,
          8.318999999999999,
          7.971666666666667,
          8.019333333333334,
          8.065833333333334,
          8.05675,
          8.161,
          8.147,
          8.214916666666666,
          8.293333333333335,
          8.177999999999999,
          8.396333333333333,
          8.501583333333333,
          8.541916666666665,
          8.304416666666667,
          8.220166666666668,
          8.090916666666667,
          8.225166666666665,
          8.379083333333334,
          7.947166666666667,
          8.186083333333334,
          8.17825,
          8.223,
          8.177000000000001,
          8.165416666666667,
          8.297749999999999,
          8.5905,
          8.593166666666667,
          8.22525,
          8.023333333333332,
          8.130833333333332,
          8.38225,
          8.358749999999999,
          8.571,
          8.408000000000001,
          8.422166666666666,
          8.506833333333335,
          8.534416666666667,
          8.728833333333334,
          8.522083333333333,
          8.632166666666667,
          8.242416666666665,
          8.633583333333332,
          8.71925,
          8.705250000000001,
          8.33825,
          8.628333333333336,
          8.515749999999999,
          8.554,
          8.698333333333332,
          8.863666666666667,
          8.760333333333334,
          8.764666666666667,
          8.768666666666666,
          8.728416666666664,
          8.755083333333333,
          8.845,
          8.584833333333332,
          8.676916666666669,
          8.797083333333333,
          8.74675,
          8.58675,
          8.365250000000001,
          8.625666666666666,
          8.638250000000001,
          8.873750000000001,
          8.560666666666666,
          8.62625,
          8.279583333333333,
          8.7325,
          8.773750000000001,
          8.732666666666665,
          8.58375,
          8.797666666666666,
          8.745916666666666,
          8.856,
          8.409666666666666,
          8.527416666666667,
          8.599333333333334,
          8.700083333333334,
          8.516333333333334,
          8.595083333333333,
          8.700916666666666,
          8.599250000000001,
          8.499583333333334,
          8.94825,
          8.4675,
          8.744833333333334,
          8.347249999999997,
          8.850249999999999,
          8.692749999999998,
          8.733416666666667,
          8.980333333333332,
          9.165833333333333,
          8.639166666666666,
          9.028166666666666,
          8.691833333333335,
          8.658,
          8.833583333333333,
          8.994416666666668,
          9.201583333333334,
          8.922000000000002,
          9.234166666666667,
          9.179416666666667,
          8.836583333333332,
          8.866583333333333,
          9.038749999999999,
          9.347083333333334,
          9.038916666666667,
          9.202583333333331,
          9.522666666666666,
          9.285083333333333,
          9.201166666666667,
          9.414583333333335,
          9.570416666666667,
          9.525583333333334,
          9.324583333333333,
          9.700916666666666,
          9.532499999999999,
          9.732166666666666,
          9.431750000000001,
          9.50525,
          9.703083333333332,
          9.516,
          9.507333333333333,
          9.606499999999999,
          9.570666666666666,
          9.831000000000001
         ]
        }
       ],
       "layout": {
        "showlegend": false,
        "template": {
         "data": {
          "bar": [
           {
            "error_x": {
             "color": "#2a3f5f"
            },
            "error_y": {
             "color": "#2a3f5f"
            },
            "marker": {
             "line": {
              "color": "#E5ECF6",
              "width": 0.5
             },
             "pattern": {
              "fillmode": "overlay",
              "size": 10,
              "solidity": 0.2
             }
            },
            "type": "bar"
           }
          ],
          "barpolar": [
           {
            "marker": {
             "line": {
              "color": "#E5ECF6",
              "width": 0.5
             },
             "pattern": {
              "fillmode": "overlay",
              "size": 10,
              "solidity": 0.2
             }
            },
            "type": "barpolar"
           }
          ],
          "carpet": [
           {
            "aaxis": {
             "endlinecolor": "#2a3f5f",
             "gridcolor": "white",
             "linecolor": "white",
             "minorgridcolor": "white",
             "startlinecolor": "#2a3f5f"
            },
            "baxis": {
             "endlinecolor": "#2a3f5f",
             "gridcolor": "white",
             "linecolor": "white",
             "minorgridcolor": "white",
             "startlinecolor": "#2a3f5f"
            },
            "type": "carpet"
           }
          ],
          "choropleth": [
           {
            "colorbar": {
             "outlinewidth": 0,
             "ticks": ""
            },
            "type": "choropleth"
           }
          ],
          "contour": [
           {
            "colorbar": {
             "outlinewidth": 0,
             "ticks": ""
            },
            "colorscale": [
             [
              0,
              "#0d0887"
             ],
             [
              0.1111111111111111,
              "#46039f"
             ],
             [
              0.2222222222222222,
              "#7201a8"
             ],
             [
              0.3333333333333333,
              "#9c179e"
             ],
             [
              0.4444444444444444,
              "#bd3786"
             ],
             [
              0.5555555555555556,
              "#d8576b"
             ],
             [
              0.6666666666666666,
              "#ed7953"
             ],
             [
              0.7777777777777778,
              "#fb9f3a"
             ],
             [
              0.8888888888888888,
              "#fdca26"
             ],
             [
              1,
              "#f0f921"
             ]
            ],
            "type": "contour"
           }
          ],
          "contourcarpet": [
           {
            "colorbar": {
             "outlinewidth": 0,
             "ticks": ""
            },
            "type": "contourcarpet"
           }
          ],
          "heatmap": [
           {
            "colorbar": {
             "outlinewidth": 0,
             "ticks": ""
            },
            "colorscale": [
             [
              0,
              "#0d0887"
             ],
             [
              0.1111111111111111,
              "#46039f"
             ],
             [
              0.2222222222222222,
              "#7201a8"
             ],
             [
              0.3333333333333333,
              "#9c179e"
             ],
             [
              0.4444444444444444,
              "#bd3786"
             ],
             [
              0.5555555555555556,
              "#d8576b"
             ],
             [
              0.6666666666666666,
              "#ed7953"
             ],
             [
              0.7777777777777778,
              "#fb9f3a"
             ],
             [
              0.8888888888888888,
              "#fdca26"
             ],
             [
              1,
              "#f0f921"
             ]
            ],
            "type": "heatmap"
           }
          ],
          "heatmapgl": [
           {
            "colorbar": {
             "outlinewidth": 0,
             "ticks": ""
            },
            "colorscale": [
             [
              0,
              "#0d0887"
             ],
             [
              0.1111111111111111,
              "#46039f"
             ],
             [
              0.2222222222222222,
              "#7201a8"
             ],
             [
              0.3333333333333333,
              "#9c179e"
             ],
             [
              0.4444444444444444,
              "#bd3786"
             ],
             [
              0.5555555555555556,
              "#d8576b"
             ],
             [
              0.6666666666666666,
              "#ed7953"
             ],
             [
              0.7777777777777778,
              "#fb9f3a"
             ],
             [
              0.8888888888888888,
              "#fdca26"
             ],
             [
              1,
              "#f0f921"
             ]
            ],
            "type": "heatmapgl"
           }
          ],
          "histogram": [
           {
            "marker": {
             "pattern": {
              "fillmode": "overlay",
              "size": 10,
              "solidity": 0.2
             }
            },
            "type": "histogram"
           }
          ],
          "histogram2d": [
           {
            "colorbar": {
             "outlinewidth": 0,
             "ticks": ""
            },
            "colorscale": [
             [
              0,
              "#0d0887"
             ],
             [
              0.1111111111111111,
              "#46039f"
             ],
             [
              0.2222222222222222,
              "#7201a8"
             ],
             [
              0.3333333333333333,
              "#9c179e"
             ],
             [
              0.4444444444444444,
              "#bd3786"
             ],
             [
              0.5555555555555556,
              "#d8576b"
             ],
             [
              0.6666666666666666,
              "#ed7953"
             ],
             [
              0.7777777777777778,
              "#fb9f3a"
             ],
             [
              0.8888888888888888,
              "#fdca26"
             ],
             [
              1,
              "#f0f921"
             ]
            ],
            "type": "histogram2d"
           }
          ],
          "histogram2dcontour": [
           {
            "colorbar": {
             "outlinewidth": 0,
             "ticks": ""
            },
            "colorscale": [
             [
              0,
              "#0d0887"
             ],
             [
              0.1111111111111111,
              "#46039f"
             ],
             [
              0.2222222222222222,
              "#7201a8"
             ],
             [
              0.3333333333333333,
              "#9c179e"
             ],
             [
              0.4444444444444444,
              "#bd3786"
             ],
             [
              0.5555555555555556,
              "#d8576b"
             ],
             [
              0.6666666666666666,
              "#ed7953"
             ],
             [
              0.7777777777777778,
              "#fb9f3a"
             ],
             [
              0.8888888888888888,
              "#fdca26"
             ],
             [
              1,
              "#f0f921"
             ]
            ],
            "type": "histogram2dcontour"
           }
          ],
          "mesh3d": [
           {
            "colorbar": {
             "outlinewidth": 0,
             "ticks": ""
            },
            "type": "mesh3d"
           }
          ],
          "parcoords": [
           {
            "line": {
             "colorbar": {
              "outlinewidth": 0,
              "ticks": ""
             }
            },
            "type": "parcoords"
           }
          ],
          "pie": [
           {
            "automargin": true,
            "type": "pie"
           }
          ],
          "scatter": [
           {
            "fillpattern": {
             "fillmode": "overlay",
             "size": 10,
             "solidity": 0.2
            },
            "type": "scatter"
           }
          ],
          "scatter3d": [
           {
            "line": {
             "colorbar": {
              "outlinewidth": 0,
              "ticks": ""
             }
            },
            "marker": {
             "colorbar": {
              "outlinewidth": 0,
              "ticks": ""
             }
            },
            "type": "scatter3d"
           }
          ],
          "scattercarpet": [
           {
            "marker": {
             "colorbar": {
              "outlinewidth": 0,
              "ticks": ""
             }
            },
            "type": "scattercarpet"
           }
          ],
          "scattergeo": [
           {
            "marker": {
             "colorbar": {
              "outlinewidth": 0,
              "ticks": ""
             }
            },
            "type": "scattergeo"
           }
          ],
          "scattergl": [
           {
            "marker": {
             "colorbar": {
              "outlinewidth": 0,
              "ticks": ""
             }
            },
            "type": "scattergl"
           }
          ],
          "scattermapbox": [
           {
            "marker": {
             "colorbar": {
              "outlinewidth": 0,
              "ticks": ""
             }
            },
            "type": "scattermapbox"
           }
          ],
          "scatterpolar": [
           {
            "marker": {
             "colorbar": {
              "outlinewidth": 0,
              "ticks": ""
             }
            },
            "type": "scatterpolar"
           }
          ],
          "scatterpolargl": [
           {
            "marker": {
             "colorbar": {
              "outlinewidth": 0,
              "ticks": ""
             }
            },
            "type": "scatterpolargl"
           }
          ],
          "scatterternary": [
           {
            "marker": {
             "colorbar": {
              "outlinewidth": 0,
              "ticks": ""
             }
            },
            "type": "scatterternary"
           }
          ],
          "surface": [
           {
            "colorbar": {
             "outlinewidth": 0,
             "ticks": ""
            },
            "colorscale": [
             [
              0,
              "#0d0887"
             ],
             [
              0.1111111111111111,
              "#46039f"
             ],
             [
              0.2222222222222222,
              "#7201a8"
             ],
             [
              0.3333333333333333,
              "#9c179e"
             ],
             [
              0.4444444444444444,
              "#bd3786"
             ],
             [
              0.5555555555555556,
              "#d8576b"
             ],
             [
              0.6666666666666666,
              "#ed7953"
             ],
             [
              0.7777777777777778,
              "#fb9f3a"
             ],
             [
              0.8888888888888888,
              "#fdca26"
             ],
             [
              1,
              "#f0f921"
             ]
            ],
            "type": "surface"
           }
          ],
          "table": [
           {
            "cells": {
             "fill": {
              "color": "#EBF0F8"
             },
             "line": {
              "color": "white"
             }
            },
            "header": {
             "fill": {
              "color": "#C8D4E3"
             },
             "line": {
              "color": "white"
             }
            },
            "type": "table"
           }
          ]
         },
         "layout": {
          "annotationdefaults": {
           "arrowcolor": "#2a3f5f",
           "arrowhead": 0,
           "arrowwidth": 1
          },
          "autotypenumbers": "strict",
          "coloraxis": {
           "colorbar": {
            "outlinewidth": 0,
            "ticks": ""
           }
          },
          "colorscale": {
           "diverging": [
            [
             0,
             "#8e0152"
            ],
            [
             0.1,
             "#c51b7d"
            ],
            [
             0.2,
             "#de77ae"
            ],
            [
             0.3,
             "#f1b6da"
            ],
            [
             0.4,
             "#fde0ef"
            ],
            [
             0.5,
             "#f7f7f7"
            ],
            [
             0.6,
             "#e6f5d0"
            ],
            [
             0.7,
             "#b8e186"
            ],
            [
             0.8,
             "#7fbc41"
            ],
            [
             0.9,
             "#4d9221"
            ],
            [
             1,
             "#276419"
            ]
           ],
           "sequential": [
            [
             0,
             "#0d0887"
            ],
            [
             0.1111111111111111,
             "#46039f"
            ],
            [
             0.2222222222222222,
             "#7201a8"
            ],
            [
             0.3333333333333333,
             "#9c179e"
            ],
            [
             0.4444444444444444,
             "#bd3786"
            ],
            [
             0.5555555555555556,
             "#d8576b"
            ],
            [
             0.6666666666666666,
             "#ed7953"
            ],
            [
             0.7777777777777778,
             "#fb9f3a"
            ],
            [
             0.8888888888888888,
             "#fdca26"
            ],
            [
             1,
             "#f0f921"
            ]
           ],
           "sequentialminus": [
            [
             0,
             "#0d0887"
            ],
            [
             0.1111111111111111,
             "#46039f"
            ],
            [
             0.2222222222222222,
             "#7201a8"
            ],
            [
             0.3333333333333333,
             "#9c179e"
            ],
            [
             0.4444444444444444,
             "#bd3786"
            ],
            [
             0.5555555555555556,
             "#d8576b"
            ],
            [
             0.6666666666666666,
             "#ed7953"
            ],
            [
             0.7777777777777778,
             "#fb9f3a"
            ],
            [
             0.8888888888888888,
             "#fdca26"
            ],
            [
             1,
             "#f0f921"
            ]
           ]
          },
          "colorway": [
           "#636efa",
           "#EF553B",
           "#00cc96",
           "#ab63fa",
           "#FFA15A",
           "#19d3f3",
           "#FF6692",
           "#B6E880",
           "#FF97FF",
           "#FECB52"
          ],
          "font": {
           "color": "#2a3f5f"
          },
          "geo": {
           "bgcolor": "white",
           "lakecolor": "white",
           "landcolor": "#E5ECF6",
           "showlakes": true,
           "showland": true,
           "subunitcolor": "white"
          },
          "hoverlabel": {
           "align": "left"
          },
          "hovermode": "closest",
          "mapbox": {
           "style": "light"
          },
          "paper_bgcolor": "white",
          "plot_bgcolor": "#E5ECF6",
          "polar": {
           "angularaxis": {
            "gridcolor": "white",
            "linecolor": "white",
            "ticks": ""
           },
           "bgcolor": "#E5ECF6",
           "radialaxis": {
            "gridcolor": "white",
            "linecolor": "white",
            "ticks": ""
           }
          },
          "scene": {
           "xaxis": {
            "backgroundcolor": "#E5ECF6",
            "gridcolor": "white",
            "gridwidth": 2,
            "linecolor": "white",
            "showbackground": true,
            "ticks": "",
            "zerolinecolor": "white"
           },
           "yaxis": {
            "backgroundcolor": "#E5ECF6",
            "gridcolor": "white",
            "gridwidth": 2,
            "linecolor": "white",
            "showbackground": true,
            "ticks": "",
            "zerolinecolor": "white"
           },
           "zaxis": {
            "backgroundcolor": "#E5ECF6",
            "gridcolor": "white",
            "gridwidth": 2,
            "linecolor": "white",
            "showbackground": true,
            "ticks": "",
            "zerolinecolor": "white"
           }
          },
          "shapedefaults": {
           "line": {
            "color": "#2a3f5f"
           }
          },
          "ternary": {
           "aaxis": {
            "gridcolor": "white",
            "linecolor": "white",
            "ticks": ""
           },
           "baxis": {
            "gridcolor": "white",
            "linecolor": "white",
            "ticks": ""
           },
           "bgcolor": "#E5ECF6",
           "caxis": {
            "gridcolor": "white",
            "linecolor": "white",
            "ticks": ""
           }
          },
          "title": {
           "x": 0.05
          },
          "xaxis": {
           "automargin": true,
           "gridcolor": "white",
           "linecolor": "white",
           "ticks": "",
           "title": {
            "standoff": 15
           },
           "zerolinecolor": "white",
           "zerolinewidth": 2
          },
          "yaxis": {
           "automargin": true,
           "gridcolor": "white",
           "linecolor": "white",
           "ticks": "",
           "title": {
            "standoff": 15
           },
           "zerolinecolor": "white",
           "zerolinewidth": 2
          }
         }
        },
        "title": {
         "text": "Temperatura promedio en el mundo"
        },
        "xaxis": {
         "title": {
          "text": "Año"
         }
        },
        "yaxis": {
         "title": {
          "text": "Temperatura promedio, °C"
         }
        }
       }
      },
      "text/html": [
       "<div>                            <div id=\"df26c1f2-d441-4877-9394-0f94aa3f2775\" class=\"plotly-graph-div\" style=\"height:525px; width:100%;\"></div>            <script type=\"text/javascript\">                require([\"plotly\"], function(Plotly) {                    window.PLOTLYENV=window.PLOTLYENV || {};                                    if (document.getElementById(\"df26c1f2-d441-4877-9394-0f94aa3f2775\")) {                    Plotly.newPlot(                        \"df26c1f2-d441-4877-9394-0f94aa3f2775\",                        [{\"line\":{\"color\":\"rgb(0, 255, 255)\"},\"mode\":\"lines\",\"name\":\"Uncertainty top\",\"x\":[\"1750\",\"1751\",\"1752\",\"1753\",\"1754\",\"1755\",\"1756\",\"1757\",\"1758\",\"1759\",\"1760\",\"1761\",\"1762\",\"1763\",\"1764\",\"1765\",\"1766\",\"1767\",\"1768\",\"1769\",\"1770\",\"1771\",\"1772\",\"1773\",\"1774\",\"1775\",\"1776\",\"1777\",\"1778\",\"1779\",\"1780\",\"1781\",\"1782\",\"1783\",\"1784\",\"1785\",\"1786\",\"1787\",\"1788\",\"1789\",\"1790\",\"1791\",\"1792\",\"1793\",\"1794\",\"1795\",\"1796\",\"1797\",\"1798\",\"1799\",\"1800\",\"1801\",\"1802\",\"1803\",\"1804\",\"1805\",\"1806\",\"1807\",\"1808\",\"1809\",\"1810\",\"1811\",\"1812\",\"1813\",\"1814\",\"1815\",\"1816\",\"1817\",\"1818\",\"1819\",\"1820\",\"1821\",\"1822\",\"1823\",\"1824\",\"1825\",\"1826\",\"1827\",\"1828\",\"1829\",\"1830\",\"1831\",\"1832\",\"1833\",\"1834\",\"1835\",\"1836\",\"1837\",\"1838\",\"1839\",\"1840\",\"1841\",\"1842\",\"1843\",\"1844\",\"1845\",\"1846\",\"1847\",\"1848\",\"1849\",\"1850\",\"1851\",\"1852\",\"1853\",\"1854\",\"1855\",\"1856\",\"1857\",\"1858\",\"1859\",\"1860\",\"1861\",\"1862\",\"1863\",\"1864\",\"1865\",\"1866\",\"1867\",\"1868\",\"1869\",\"1870\",\"1871\",\"1872\",\"1873\",\"1874\",\"1875\",\"1876\",\"1877\",\"1878\",\"1879\",\"1880\",\"1881\",\"1882\",\"1883\",\"1884\",\"1885\",\"1886\",\"1887\",\"1888\",\"1889\",\"1890\",\"1891\",\"1892\",\"1893\",\"1894\",\"1895\",\"1896\",\"1897\",\"1898\",\"1899\",\"1900\",\"1901\",\"1902\",\"1903\",\"1904\",\"1905\",\"1906\",\"1907\",\"1908\",\"1909\",\"1910\",\"1911\",\"1912\",\"1913\",\"1914\",\"1915\",\"1916\",\"1917\",\"1918\",\"1919\",\"1920\",\"1921\",\"1922\",\"1923\",\"1924\",\"1925\",\"1926\",\"1927\",\"1928\",\"1929\",\"1930\",\"1931\",\"1932\",\"1933\",\"1934\",\"1935\",\"1936\",\"1937\",\"1938\",\"1939\",\"1940\",\"1941\",\"1942\",\"1943\",\"1944\",\"1945\",\"1946\",\"1947\",\"1948\",\"1949\",\"1950\",\"1951\",\"1952\",\"1953\",\"1954\",\"1955\",\"1956\",\"1957\",\"1958\",\"1959\",\"1960\",\"1961\",\"1962\",\"1963\",\"1964\",\"1965\",\"1966\",\"1967\",\"1968\",\"1969\",\"1970\",\"1971\",\"1972\",\"1973\",\"1974\",\"1975\",\"1976\",\"1977\",\"1978\",\"1979\",\"1980\",\"1981\",\"1982\",\"1983\",\"1984\",\"1985\",\"1986\",\"1987\",\"1988\",\"1989\",\"1990\",\"1991\",\"1992\",\"1993\",\"1994\",\"1995\",\"1996\",\"1997\",\"1998\",\"1999\",\"2000\",\"2001\",\"2002\",\"2003\",\"2004\",\"2005\",\"2006\",\"2007\",\"2008\",\"2009\",\"2010\",\"2011\",\"2012\",\"2013\",\"2014\",\"2015\"],\"y\":[11.357181818181818,10.757285714285715,8.756833333333333,11.564083333333334,11.963583333333334,12.205916666666667,12.111916666666666,13.048000000000002,10.1065,11.664,10.274083333333333,11.917333333333332,12.130750000000003,10.648333333333332,11.175583333333334,10.679666666666666,11.2415,11.184166666666666,9.047333333333334,10.104666666666667,10.472583333333333,10.45775,10.657333333333334,10.58225,12.187333333333335,11.503666666666668,11.168166666666666,10.699083333333334,11.41475,11.489083333333333,12.017750000000001,10.606416666666666,10.451833333333333,10.17525,10.117666666666668,9.6025,10.783583333333333,10.393583333333334,11.004999999999999,10.202833333333333,9.754,10.017999999999999,9.789416666666668,10.503583333333333,10.505,10.393666666666666,10.191666666666666,10.556250000000002,10.573583333333335,10.244166666666665,10.202916666666669,10.171333333333335,10.427166666666666,10.136166666666666,10.686666666666667,10.251666666666665,10.004166666666665,9.873666666666665,9.623666666666667,9.211833333333333,9.233666666666668,8.95525,9.181833333333334,9.44875,9.760250000000001,9.205833333333334,9.130416666666667,8.684000000000001,9.658000000000001,8.951083333333335,9.234999999999998,9.465916666666665,9.563583333333334,9.080916666666667,9.995000000000001,9.897166666666667,9.916166666666669,10.252333333333333,9.813749999999997,9.26158333333333,9.948166666666667,9.170666666666667,8.990583333333333,9.246500000000001,9.299000000000001,8.667833333333332,8.86525,8.666583333333334,8.677249999999999,8.811666666666666,8.787416666666667,8.640166666666666,8.92025,8.9235,8.572333333333333,8.732666666666667,9.6045,8.986666666666666,8.850833333333334,8.898,8.777083333333334,9.0605,9.018416666666667,8.876833333333334,9.036166666666666,8.997916666666665,8.756666666666666,8.509250000000002,8.8,8.926666666666668,8.586833333333333,8.499916666666667,8.247500000000002,8.859833333333333,8.660000000000002,8.84,8.898166666666667,9.071166666666667,8.79425,9.02775,8.7515,8.685333333333332,8.782916666666665,8.901583333333333,8.951416666666667,8.311083333333334,8.513583333333333,8.9955,9.254666666666667,8.629249999999999,8.533666666666665,8.69025,8.508833333333333,8.347583333333333,8.169916666666667,8.344666666666669,8.340499999999999,8.307,8.472916666666666,8.688833333333333,8.314666666666668,8.354666666666667,8.404666666666667,8.402,8.47825,8.446250000000001,8.52375,8.607166666666668,8.503666666666666,8.721083333333333,8.816333333333333,8.848166666666666,8.597166666666666,8.510166666666667,8.377333333333333,8.503916666666665,8.654,8.204333333333334,8.460833333333333,8.441,8.483083333333335,8.424833333333336,8.423833333333334,8.559999999999999,8.842416666666667,8.839333333333334,8.485666666666667,8.283999999999999,8.399083333333332,8.649000000000001,8.621416666666665,8.827833333333333,8.666583333333335,8.675249999999998,8.763666666666667,8.775166666666667,8.9715,8.770999999999999,8.880749999999999,8.494166666666665,8.873249999999999,8.957,8.954166666666667,8.580916666666667,8.868416666666668,8.751666666666665,8.797083333333333,8.938416666666665,9.104166666666668,8.997666666666667,8.995750000000001,8.9965,8.957916666666664,8.981666666666667,9.070166666666667,8.805166666666665,8.899333333333335,9.014166666666666,8.956333333333333,8.795,8.551583333333335,8.809833333333332,8.847000000000001,9.085833333333335,8.747833333333332,8.779833333333334,8.400416666666667,8.8905,8.878083333333334,8.839833333333331,8.67725,8.894666666666666,8.878833333333333,8.948333333333332,8.502166666666666,8.63625,8.691583333333334,8.78375,8.628,8.68025,8.776499999999999,8.697166666666668,8.594916666666666,9.049,8.572,8.841916666666668,8.44783333333333,8.934916666666666,8.796583333333333,8.819833333333333,9.087,9.253083333333333,8.721833333333333,9.122166666666665,8.794416666666669,8.751249999999999,8.918583333333334,9.079583333333334,9.281666666666666,9.010000000000002,9.320500000000001,9.2415,8.919916666666666,8.947916666666666,9.109666666666666,9.4235,9.123666666666667,9.291166666666665,9.596583333333333,9.364333333333333,9.284666666666668,9.502,9.642833333333334,9.61625,9.408,9.776083333333332,9.622499999999999,9.821666666666665,9.510666666666667,9.591166666666666,9.786499999999998,9.598,9.59075,9.704166666666666,9.660833333333333,9.923166666666669],\"type\":\"scatter\"},{\"fill\":\"tonexty\",\"line\":{\"color\":\"rgb(0, 255, 255)\"},\"mode\":\"lines\",\"name\":\"Uncertainty bot\",\"x\":[\"1750\",\"1751\",\"1752\",\"1753\",\"1754\",\"1755\",\"1756\",\"1757\",\"1758\",\"1759\",\"1760\",\"1761\",\"1762\",\"1763\",\"1764\",\"1765\",\"1766\",\"1767\",\"1768\",\"1769\",\"1770\",\"1771\",\"1772\",\"1773\",\"1774\",\"1775\",\"1776\",\"1777\",\"1778\",\"1779\",\"1780\",\"1781\",\"1782\",\"1783\",\"1784\",\"1785\",\"1786\",\"1787\",\"1788\",\"1789\",\"1790\",\"1791\",\"1792\",\"1793\",\"1794\",\"1795\",\"1796\",\"1797\",\"1798\",\"1799\",\"1800\",\"1801\",\"1802\",\"1803\",\"1804\",\"1805\",\"1806\",\"1807\",\"1808\",\"1809\",\"1810\",\"1811\",\"1812\",\"1813\",\"1814\",\"1815\",\"1816\",\"1817\",\"1818\",\"1819\",\"1820\",\"1821\",\"1822\",\"1823\",\"1824\",\"1825\",\"1826\",\"1827\",\"1828\",\"1829\",\"1830\",\"1831\",\"1832\",\"1833\",\"1834\",\"1835\",\"1836\",\"1837\",\"1838\",\"1839\",\"1840\",\"1841\",\"1842\",\"1843\",\"1844\",\"1845\",\"1846\",\"1847\",\"1848\",\"1849\",\"1850\",\"1851\",\"1852\",\"1853\",\"1854\",\"1855\",\"1856\",\"1857\",\"1858\",\"1859\",\"1860\",\"1861\",\"1862\",\"1863\",\"1864\",\"1865\",\"1866\",\"1867\",\"1868\",\"1869\",\"1870\",\"1871\",\"1872\",\"1873\",\"1874\",\"1875\",\"1876\",\"1877\",\"1878\",\"1879\",\"1880\",\"1881\",\"1882\",\"1883\",\"1884\",\"1885\",\"1886\",\"1887\",\"1888\",\"1889\",\"1890\",\"1891\",\"1892\",\"1893\",\"1894\",\"1895\",\"1896\",\"1897\",\"1898\",\"1899\",\"1900\",\"1901\",\"1902\",\"1903\",\"1904\",\"1905\",\"1906\",\"1907\",\"1908\",\"1909\",\"1910\",\"1911\",\"1912\",\"1913\",\"1914\",\"1915\",\"1916\",\"1917\",\"1918\",\"1919\",\"1920\",\"1921\",\"1922\",\"1923\",\"1924\",\"1925\",\"1926\",\"1927\",\"1928\",\"1929\",\"1930\",\"1931\",\"1932\",\"1933\",\"1934\",\"1935\",\"1936\",\"1937\",\"1938\",\"1939\",\"1940\",\"1941\",\"1942\",\"1943\",\"1944\",\"1945\",\"1946\",\"1947\",\"1948\",\"1949\",\"1950\",\"1951\",\"1952\",\"1953\",\"1954\",\"1955\",\"1956\",\"1957\",\"1958\",\"1959\",\"1960\",\"1961\",\"1962\",\"1963\",\"1964\",\"1965\",\"1966\",\"1967\",\"1968\",\"1969\",\"1970\",\"1971\",\"1972\",\"1973\",\"1974\",\"1975\",\"1976\",\"1977\",\"1978\",\"1979\",\"1980\",\"1981\",\"1982\",\"1983\",\"1984\",\"1985\",\"1986\",\"1987\",\"1988\",\"1989\",\"1990\",\"1991\",\"1992\",\"1993\",\"1994\",\"1995\",\"1996\",\"1997\",\"1998\",\"1999\",\"2000\",\"2001\",\"2002\",\"2003\",\"2004\",\"2005\",\"2006\",\"2007\",\"2008\",\"2009\",\"2010\",\"2011\",\"2012\",\"2013\",\"2014\",\"2015\"],\"y\":[6.081545454545456,5.194999999999999,2.8028333333333326,5.212083333333334,4.975083333333332,4.50525,5.587250000000001,4.9959999999999996,3.3806666666666665,4.306166666666666,4.096250000000001,5.627666666666666,5.082250000000002,4.345166666666666,5.625083333333334,5.824166666666664,5.569833333333333,5.258833333333335,4.5153333333333325,5.284500000000001,4.91125,5.248583333333334,5.729666666666667,5.860750000000001,5.357000000000003,6.862500000000001,5.439833333333334,5.813416666666669,5.669749999999999,6.477416666666667,6.848083333333333,5.598750000000001,5.350666666666667,5.186416666666666,5.606333333333334,5.1235,5.732749999999999,5.6700833333333325,5.889333333333333,6.4655,6.210666666666667,6.4505,6.388583333333334,5.954749999999999,6.5470000000000015,6.307,6.3503333333333325,6.464916666666667,6.766916666666668,6.767333333333332,6.765583333333335,7.008000000000001,6.729166666666666,6.869833333333333,7.003,6.873833333333333,6.863999999999998,6.689166666666665,5.63,4.941000000000001,4.611666666666667,4.76375,4.910666666666666,6.031083333333333,5.423250000000001,5.272833333333334,4.744583333333333,5.267333333333335,5.999833333333334,5.787250000000001,5.997499999999998,6.714249999999999,6.813083333333334,6.356416666666667,7.099333333333334,6.8815,6.7970000000000015,7.365166666666666,6.516916666666664,6.6220833333333315,7.085333333333334,6.107666666666667,5.909750000000001,6.779500000000001,6.994500000000001,6.117166666666666,6.526416666666667,6.0847500000000005,6.352583333333332,6.452833333333332,6.805083333333334,6.736166666666667,7.12525,7.423833333333334,6.7203333333333335,6.969666666666668,7.5009999999999994,7.185333333333333,7.108166666666667,7.070833333333334,7.024249999999999,7.296666666666665,7.181916666666666,7.206833333333333,7.384833333333333,7.223583333333331,7.235166666666666,7.007083333333334,7.400500000000001,7.577333333333334,7.334833333333332,7.193083333333335,6.869666666666668,7.363833333333333,7.307166666666668,7.515666666666667,7.686166666666667,7.801500000000001,7.701583333333334,7.836416666666667,7.651166666666666,7.544833333333333,7.604749999999999,7.800583333333334,7.915583333333334,7.408083333333334,7.646583333333332,8.083666666666666,8.404833333333334,7.702416666666665,7.703833333333332,7.851583333333333,7.7490000000000006,7.606249999999998,7.377416666666667,7.494666666666668,7.5684999999999985,7.522833333333333,7.708083333333334,7.949166666666666,7.628666666666667,7.684,7.727,7.711499999999999,7.84375,7.8477500000000004,7.906083333333332,7.979500000000002,7.852333333333332,8.071583333333333,8.186833333333333,8.235666666666665,8.011666666666667,7.9301666666666675,7.8045,7.946416666666665,8.104166666666668,7.69,7.911333333333334,7.915500000000001,7.9629166666666675,7.929166666666668,7.907000000000001,8.035499999999999,8.338583333333334,8.347,7.964833333333334,7.762666666666665,7.8625833333333315,8.1155,8.096083333333333,8.314166666666667,8.149416666666667,8.169083333333333,8.250000000000002,8.293666666666667,8.486166666666668,8.273166666666667,8.383583333333334,7.990666666666665,8.393916666666666,8.4815,8.456333333333335,8.095583333333334,8.388250000000003,8.279833333333332,8.310916666666667,8.45825,8.623166666666666,8.523,8.533583333333333,8.540833333333333,8.498916666666664,8.5285,8.619833333333334,8.3645,8.454500000000003,8.58,8.537166666666668,8.3785,8.178916666666668,8.4415,8.4295,8.661666666666667,8.3735,8.472666666666667,8.15875,8.5745,8.669416666666669,8.625499999999999,8.49025,8.700666666666667,8.613,8.763666666666667,8.317166666666667,8.418583333333334,8.507083333333334,8.616416666666668,8.404666666666667,8.509916666666667,8.625333333333334,8.501333333333335,8.404250000000001,8.8475,8.363,8.64775,8.246666666666664,8.765583333333332,8.588916666666664,8.647,8.873666666666665,9.078583333333334,8.5565,8.934166666666666,8.589250000000002,8.56475,8.748583333333332,8.909250000000002,9.121500000000001,8.834000000000003,9.147833333333333,9.117333333333333,8.753249999999998,8.78525,8.967833333333331,9.270666666666667,8.954166666666667,9.113999999999997,9.448749999999999,9.205833333333333,9.117666666666667,9.327166666666669,9.498,9.434916666666666,9.241166666666667,9.62575,9.442499999999999,9.642666666666667,9.352833333333335,9.419333333333334,9.619666666666665,9.434,9.423916666666667,9.508833333333332,9.4805,9.738833333333334],\"type\":\"scatter\"},{\"line\":{\"color\":\"rgb(199, 121, 093)\"},\"name\":\"Average Temperature\",\"x\":[\"1750\",\"1751\",\"1752\",\"1753\",\"1754\",\"1755\",\"1756\",\"1757\",\"1758\",\"1759\",\"1760\",\"1761\",\"1762\",\"1763\",\"1764\",\"1765\",\"1766\",\"1767\",\"1768\",\"1769\",\"1770\",\"1771\",\"1772\",\"1773\",\"1774\",\"1775\",\"1776\",\"1777\",\"1778\",\"1779\",\"1780\",\"1781\",\"1782\",\"1783\",\"1784\",\"1785\",\"1786\",\"1787\",\"1788\",\"1789\",\"1790\",\"1791\",\"1792\",\"1793\",\"1794\",\"1795\",\"1796\",\"1797\",\"1798\",\"1799\",\"1800\",\"1801\",\"1802\",\"1803\",\"1804\",\"1805\",\"1806\",\"1807\",\"1808\",\"1809\",\"1810\",\"1811\",\"1812\",\"1813\",\"1814\",\"1815\",\"1816\",\"1817\",\"1818\",\"1819\",\"1820\",\"1821\",\"1822\",\"1823\",\"1824\",\"1825\",\"1826\",\"1827\",\"1828\",\"1829\",\"1830\",\"1831\",\"1832\",\"1833\",\"1834\",\"1835\",\"1836\",\"1837\",\"1838\",\"1839\",\"1840\",\"1841\",\"1842\",\"1843\",\"1844\",\"1845\",\"1846\",\"1847\",\"1848\",\"1849\",\"1850\",\"1851\",\"1852\",\"1853\",\"1854\",\"1855\",\"1856\",\"1857\",\"1858\",\"1859\",\"1860\",\"1861\",\"1862\",\"1863\",\"1864\",\"1865\",\"1866\",\"1867\",\"1868\",\"1869\",\"1870\",\"1871\",\"1872\",\"1873\",\"1874\",\"1875\",\"1876\",\"1877\",\"1878\",\"1879\",\"1880\",\"1881\",\"1882\",\"1883\",\"1884\",\"1885\",\"1886\",\"1887\",\"1888\",\"1889\",\"1890\",\"1891\",\"1892\",\"1893\",\"1894\",\"1895\",\"1896\",\"1897\",\"1898\",\"1899\",\"1900\",\"1901\",\"1902\",\"1903\",\"1904\",\"1905\",\"1906\",\"1907\",\"1908\",\"1909\",\"1910\",\"1911\",\"1912\",\"1913\",\"1914\",\"1915\",\"1916\",\"1917\",\"1918\",\"1919\",\"1920\",\"1921\",\"1922\",\"1923\",\"1924\",\"1925\",\"1926\",\"1927\",\"1928\",\"1929\",\"1930\",\"1931\",\"1932\",\"1933\",\"1934\",\"1935\",\"1936\",\"1937\",\"1938\",\"1939\",\"1940\",\"1941\",\"1942\",\"1943\",\"1944\",\"1945\",\"1946\",\"1947\",\"1948\",\"1949\",\"1950\",\"1951\",\"1952\",\"1953\",\"1954\",\"1955\",\"1956\",\"1957\",\"1958\",\"1959\",\"1960\",\"1961\",\"1962\",\"1963\",\"1964\",\"1965\",\"1966\",\"1967\",\"1968\",\"1969\",\"1970\",\"1971\",\"1972\",\"1973\",\"1974\",\"1975\",\"1976\",\"1977\",\"1978\",\"1979\",\"1980\",\"1981\",\"1982\",\"1983\",\"1984\",\"1985\",\"1986\",\"1987\",\"1988\",\"1989\",\"1990\",\"1991\",\"1992\",\"1993\",\"1994\",\"1995\",\"1996\",\"1997\",\"1998\",\"1999\",\"2000\",\"2001\",\"2002\",\"2003\",\"2004\",\"2005\",\"2006\",\"2007\",\"2008\",\"2009\",\"2010\",\"2011\",\"2012\",\"2013\",\"2014\",\"2015\"],\"y\":[8.719363636363637,7.9761428571428565,5.7798333333333325,8.388083333333334,8.469333333333333,8.355583333333334,8.849583333333333,9.022,6.7435833333333335,7.985083333333333,7.185166666666667,8.772499999999999,8.606500000000002,7.496749999999999,8.400333333333334,8.251916666666665,8.405666666666667,8.2215,6.781333333333333,7.694583333333334,7.691916666666667,7.8531666666666675,8.1935,8.2215,8.772166666666669,9.183083333333334,8.304,8.256250000000001,8.54225,8.98325,9.432916666666667,8.102583333333333,7.90125,7.680833333333333,7.862000000000001,7.3629999999999995,8.258166666666666,8.031833333333333,8.447166666666666,8.334166666666667,7.982333333333333,8.23425,8.089,8.229166666666666,8.526000000000002,8.350333333333333,8.270999999999999,8.510583333333335,8.670250000000001,8.505749999999999,8.484250000000001,8.589666666666668,8.578166666666666,8.503,8.844833333333334,8.56275,8.434083333333332,8.281416666666665,7.626833333333333,7.076416666666667,6.922666666666667,6.8595,7.04625,7.739916666666667,7.591750000000001,7.239333333333334,6.9375,6.975666666666668,7.828916666666667,7.3691666666666675,7.616249999999998,8.090083333333332,8.188333333333334,7.7186666666666675,8.547166666666667,8.389333333333333,8.356583333333335,8.80875,8.165333333333331,7.9418333333333315,8.51675,7.639166666666667,7.450166666666667,8.013000000000002,8.14675,7.392499999999999,7.695833333333334,7.3756666666666675,7.514916666666665,7.632249999999998,7.796250000000001,7.688166666666667,8.02275,8.173666666666668,7.646333333333334,7.851166666666668,8.55275,8.086,7.979500000000001,7.984416666666667,7.900666666666666,8.178583333333332,8.100166666666667,8.041833333333333,8.2105,8.110749999999998,7.995916666666666,7.758166666666668,8.10025,8.252,7.9608333333333325,7.846500000000002,7.558583333333335,8.111833333333333,7.983583333333335,8.177833333333334,8.292166666666667,8.436333333333334,8.247916666666667,8.432083333333333,8.201333333333332,8.115083333333333,8.193833333333332,8.351083333333333,8.4335,7.859583333333334,8.080083333333333,8.539583333333333,8.82975,8.165833333333332,8.118749999999999,8.270916666666666,8.128916666666667,7.976916666666665,7.773666666666667,7.919666666666668,7.954499999999999,7.914916666666667,8.0905,8.318999999999999,7.971666666666667,8.019333333333334,8.065833333333334,8.05675,8.161,8.147,8.214916666666666,8.293333333333335,8.177999999999999,8.396333333333333,8.501583333333333,8.541916666666665,8.304416666666667,8.220166666666668,8.090916666666667,8.225166666666665,8.379083333333334,7.947166666666667,8.186083333333334,8.17825,8.223,8.177000000000001,8.165416666666667,8.297749999999999,8.5905,8.593166666666667,8.22525,8.023333333333332,8.130833333333332,8.38225,8.358749999999999,8.571,8.408000000000001,8.422166666666666,8.506833333333335,8.534416666666667,8.728833333333334,8.522083333333333,8.632166666666667,8.242416666666665,8.633583333333332,8.71925,8.705250000000001,8.33825,8.628333333333336,8.515749999999999,8.554,8.698333333333332,8.863666666666667,8.760333333333334,8.764666666666667,8.768666666666666,8.728416666666664,8.755083333333333,8.845,8.584833333333332,8.676916666666669,8.797083333333333,8.74675,8.58675,8.365250000000001,8.625666666666666,8.638250000000001,8.873750000000001,8.560666666666666,8.62625,8.279583333333333,8.7325,8.773750000000001,8.732666666666665,8.58375,8.797666666666666,8.745916666666666,8.856,8.409666666666666,8.527416666666667,8.599333333333334,8.700083333333334,8.516333333333334,8.595083333333333,8.700916666666666,8.599250000000001,8.499583333333334,8.94825,8.4675,8.744833333333334,8.347249999999997,8.850249999999999,8.692749999999998,8.733416666666667,8.980333333333332,9.165833333333333,8.639166666666666,9.028166666666666,8.691833333333335,8.658,8.833583333333333,8.994416666666668,9.201583333333334,8.922000000000002,9.234166666666667,9.179416666666667,8.836583333333332,8.866583333333333,9.038749999999999,9.347083333333334,9.038916666666667,9.202583333333331,9.522666666666666,9.285083333333333,9.201166666666667,9.414583333333335,9.570416666666667,9.525583333333334,9.324583333333333,9.700916666666666,9.532499999999999,9.732166666666666,9.431750000000001,9.50525,9.703083333333332,9.516,9.507333333333333,9.606499999999999,9.570666666666666,9.831000000000001],\"type\":\"scatter\"}],                        {\"showlegend\":false,\"template\":{\"data\":{\"barpolar\":[{\"marker\":{\"line\":{\"color\":\"#E5ECF6\",\"width\":0.5},\"pattern\":{\"fillmode\":\"overlay\",\"size\":10,\"solidity\":0.2}},\"type\":\"barpolar\"}],\"bar\":[{\"error_x\":{\"color\":\"#2a3f5f\"},\"error_y\":{\"color\":\"#2a3f5f\"},\"marker\":{\"line\":{\"color\":\"#E5ECF6\",\"width\":0.5},\"pattern\":{\"fillmode\":\"overlay\",\"size\":10,\"solidity\":0.2}},\"type\":\"bar\"}],\"carpet\":[{\"aaxis\":{\"endlinecolor\":\"#2a3f5f\",\"gridcolor\":\"white\",\"linecolor\":\"white\",\"minorgridcolor\":\"white\",\"startlinecolor\":\"#2a3f5f\"},\"baxis\":{\"endlinecolor\":\"#2a3f5f\",\"gridcolor\":\"white\",\"linecolor\":\"white\",\"minorgridcolor\":\"white\",\"startlinecolor\":\"#2a3f5f\"},\"type\":\"carpet\"}],\"choropleth\":[{\"colorbar\":{\"outlinewidth\":0,\"ticks\":\"\"},\"type\":\"choropleth\"}],\"contourcarpet\":[{\"colorbar\":{\"outlinewidth\":0,\"ticks\":\"\"},\"type\":\"contourcarpet\"}],\"contour\":[{\"colorbar\":{\"outlinewidth\":0,\"ticks\":\"\"},\"colorscale\":[[0.0,\"#0d0887\"],[0.1111111111111111,\"#46039f\"],[0.2222222222222222,\"#7201a8\"],[0.3333333333333333,\"#9c179e\"],[0.4444444444444444,\"#bd3786\"],[0.5555555555555556,\"#d8576b\"],[0.6666666666666666,\"#ed7953\"],[0.7777777777777778,\"#fb9f3a\"],[0.8888888888888888,\"#fdca26\"],[1.0,\"#f0f921\"]],\"type\":\"contour\"}],\"heatmapgl\":[{\"colorbar\":{\"outlinewidth\":0,\"ticks\":\"\"},\"colorscale\":[[0.0,\"#0d0887\"],[0.1111111111111111,\"#46039f\"],[0.2222222222222222,\"#7201a8\"],[0.3333333333333333,\"#9c179e\"],[0.4444444444444444,\"#bd3786\"],[0.5555555555555556,\"#d8576b\"],[0.6666666666666666,\"#ed7953\"],[0.7777777777777778,\"#fb9f3a\"],[0.8888888888888888,\"#fdca26\"],[1.0,\"#f0f921\"]],\"type\":\"heatmapgl\"}],\"heatmap\":[{\"colorbar\":{\"outlinewidth\":0,\"ticks\":\"\"},\"colorscale\":[[0.0,\"#0d0887\"],[0.1111111111111111,\"#46039f\"],[0.2222222222222222,\"#7201a8\"],[0.3333333333333333,\"#9c179e\"],[0.4444444444444444,\"#bd3786\"],[0.5555555555555556,\"#d8576b\"],[0.6666666666666666,\"#ed7953\"],[0.7777777777777778,\"#fb9f3a\"],[0.8888888888888888,\"#fdca26\"],[1.0,\"#f0f921\"]],\"type\":\"heatmap\"}],\"histogram2dcontour\":[{\"colorbar\":{\"outlinewidth\":0,\"ticks\":\"\"},\"colorscale\":[[0.0,\"#0d0887\"],[0.1111111111111111,\"#46039f\"],[0.2222222222222222,\"#7201a8\"],[0.3333333333333333,\"#9c179e\"],[0.4444444444444444,\"#bd3786\"],[0.5555555555555556,\"#d8576b\"],[0.6666666666666666,\"#ed7953\"],[0.7777777777777778,\"#fb9f3a\"],[0.8888888888888888,\"#fdca26\"],[1.0,\"#f0f921\"]],\"type\":\"histogram2dcontour\"}],\"histogram2d\":[{\"colorbar\":{\"outlinewidth\":0,\"ticks\":\"\"},\"colorscale\":[[0.0,\"#0d0887\"],[0.1111111111111111,\"#46039f\"],[0.2222222222222222,\"#7201a8\"],[0.3333333333333333,\"#9c179e\"],[0.4444444444444444,\"#bd3786\"],[0.5555555555555556,\"#d8576b\"],[0.6666666666666666,\"#ed7953\"],[0.7777777777777778,\"#fb9f3a\"],[0.8888888888888888,\"#fdca26\"],[1.0,\"#f0f921\"]],\"type\":\"histogram2d\"}],\"histogram\":[{\"marker\":{\"pattern\":{\"fillmode\":\"overlay\",\"size\":10,\"solidity\":0.2}},\"type\":\"histogram\"}],\"mesh3d\":[{\"colorbar\":{\"outlinewidth\":0,\"ticks\":\"\"},\"type\":\"mesh3d\"}],\"parcoords\":[{\"line\":{\"colorbar\":{\"outlinewidth\":0,\"ticks\":\"\"}},\"type\":\"parcoords\"}],\"pie\":[{\"automargin\":true,\"type\":\"pie\"}],\"scatter3d\":[{\"line\":{\"colorbar\":{\"outlinewidth\":0,\"ticks\":\"\"}},\"marker\":{\"colorbar\":{\"outlinewidth\":0,\"ticks\":\"\"}},\"type\":\"scatter3d\"}],\"scattercarpet\":[{\"marker\":{\"colorbar\":{\"outlinewidth\":0,\"ticks\":\"\"}},\"type\":\"scattercarpet\"}],\"scattergeo\":[{\"marker\":{\"colorbar\":{\"outlinewidth\":0,\"ticks\":\"\"}},\"type\":\"scattergeo\"}],\"scattergl\":[{\"marker\":{\"colorbar\":{\"outlinewidth\":0,\"ticks\":\"\"}},\"type\":\"scattergl\"}],\"scattermapbox\":[{\"marker\":{\"colorbar\":{\"outlinewidth\":0,\"ticks\":\"\"}},\"type\":\"scattermapbox\"}],\"scatterpolargl\":[{\"marker\":{\"colorbar\":{\"outlinewidth\":0,\"ticks\":\"\"}},\"type\":\"scatterpolargl\"}],\"scatterpolar\":[{\"marker\":{\"colorbar\":{\"outlinewidth\":0,\"ticks\":\"\"}},\"type\":\"scatterpolar\"}],\"scatter\":[{\"fillpattern\":{\"fillmode\":\"overlay\",\"size\":10,\"solidity\":0.2},\"type\":\"scatter\"}],\"scatterternary\":[{\"marker\":{\"colorbar\":{\"outlinewidth\":0,\"ticks\":\"\"}},\"type\":\"scatterternary\"}],\"surface\":[{\"colorbar\":{\"outlinewidth\":0,\"ticks\":\"\"},\"colorscale\":[[0.0,\"#0d0887\"],[0.1111111111111111,\"#46039f\"],[0.2222222222222222,\"#7201a8\"],[0.3333333333333333,\"#9c179e\"],[0.4444444444444444,\"#bd3786\"],[0.5555555555555556,\"#d8576b\"],[0.6666666666666666,\"#ed7953\"],[0.7777777777777778,\"#fb9f3a\"],[0.8888888888888888,\"#fdca26\"],[1.0,\"#f0f921\"]],\"type\":\"surface\"}],\"table\":[{\"cells\":{\"fill\":{\"color\":\"#EBF0F8\"},\"line\":{\"color\":\"white\"}},\"header\":{\"fill\":{\"color\":\"#C8D4E3\"},\"line\":{\"color\":\"white\"}},\"type\":\"table\"}]},\"layout\":{\"annotationdefaults\":{\"arrowcolor\":\"#2a3f5f\",\"arrowhead\":0,\"arrowwidth\":1},\"autotypenumbers\":\"strict\",\"coloraxis\":{\"colorbar\":{\"outlinewidth\":0,\"ticks\":\"\"}},\"colorscale\":{\"diverging\":[[0,\"#8e0152\"],[0.1,\"#c51b7d\"],[0.2,\"#de77ae\"],[0.3,\"#f1b6da\"],[0.4,\"#fde0ef\"],[0.5,\"#f7f7f7\"],[0.6,\"#e6f5d0\"],[0.7,\"#b8e186\"],[0.8,\"#7fbc41\"],[0.9,\"#4d9221\"],[1,\"#276419\"]],\"sequential\":[[0.0,\"#0d0887\"],[0.1111111111111111,\"#46039f\"],[0.2222222222222222,\"#7201a8\"],[0.3333333333333333,\"#9c179e\"],[0.4444444444444444,\"#bd3786\"],[0.5555555555555556,\"#d8576b\"],[0.6666666666666666,\"#ed7953\"],[0.7777777777777778,\"#fb9f3a\"],[0.8888888888888888,\"#fdca26\"],[1.0,\"#f0f921\"]],\"sequentialminus\":[[0.0,\"#0d0887\"],[0.1111111111111111,\"#46039f\"],[0.2222222222222222,\"#7201a8\"],[0.3333333333333333,\"#9c179e\"],[0.4444444444444444,\"#bd3786\"],[0.5555555555555556,\"#d8576b\"],[0.6666666666666666,\"#ed7953\"],[0.7777777777777778,\"#fb9f3a\"],[0.8888888888888888,\"#fdca26\"],[1.0,\"#f0f921\"]]},\"colorway\":[\"#636efa\",\"#EF553B\",\"#00cc96\",\"#ab63fa\",\"#FFA15A\",\"#19d3f3\",\"#FF6692\",\"#B6E880\",\"#FF97FF\",\"#FECB52\"],\"font\":{\"color\":\"#2a3f5f\"},\"geo\":{\"bgcolor\":\"white\",\"lakecolor\":\"white\",\"landcolor\":\"#E5ECF6\",\"showlakes\":true,\"showland\":true,\"subunitcolor\":\"white\"},\"hoverlabel\":{\"align\":\"left\"},\"hovermode\":\"closest\",\"mapbox\":{\"style\":\"light\"},\"paper_bgcolor\":\"white\",\"plot_bgcolor\":\"#E5ECF6\",\"polar\":{\"angularaxis\":{\"gridcolor\":\"white\",\"linecolor\":\"white\",\"ticks\":\"\"},\"bgcolor\":\"#E5ECF6\",\"radialaxis\":{\"gridcolor\":\"white\",\"linecolor\":\"white\",\"ticks\":\"\"}},\"scene\":{\"xaxis\":{\"backgroundcolor\":\"#E5ECF6\",\"gridcolor\":\"white\",\"gridwidth\":2,\"linecolor\":\"white\",\"showbackground\":true,\"ticks\":\"\",\"zerolinecolor\":\"white\"},\"yaxis\":{\"backgroundcolor\":\"#E5ECF6\",\"gridcolor\":\"white\",\"gridwidth\":2,\"linecolor\":\"white\",\"showbackground\":true,\"ticks\":\"\",\"zerolinecolor\":\"white\"},\"zaxis\":{\"backgroundcolor\":\"#E5ECF6\",\"gridcolor\":\"white\",\"gridwidth\":2,\"linecolor\":\"white\",\"showbackground\":true,\"ticks\":\"\",\"zerolinecolor\":\"white\"}},\"shapedefaults\":{\"line\":{\"color\":\"#2a3f5f\"}},\"ternary\":{\"aaxis\":{\"gridcolor\":\"white\",\"linecolor\":\"white\",\"ticks\":\"\"},\"baxis\":{\"gridcolor\":\"white\",\"linecolor\":\"white\",\"ticks\":\"\"},\"bgcolor\":\"#E5ECF6\",\"caxis\":{\"gridcolor\":\"white\",\"linecolor\":\"white\",\"ticks\":\"\"}},\"title\":{\"x\":0.05},\"xaxis\":{\"automargin\":true,\"gridcolor\":\"white\",\"linecolor\":\"white\",\"ticks\":\"\",\"title\":{\"standoff\":15},\"zerolinecolor\":\"white\",\"zerolinewidth\":2},\"yaxis\":{\"automargin\":true,\"gridcolor\":\"white\",\"linecolor\":\"white\",\"ticks\":\"\",\"title\":{\"standoff\":15},\"zerolinecolor\":\"white\",\"zerolinewidth\":2}}},\"title\":{\"text\":\"Temperatura promedio en el mundo\"},\"xaxis\":{\"title\":{\"text\":\"A\\u00f1o\"}},\"yaxis\":{\"title\":{\"text\":\"Temperatura promedio, \\u00b0C\"}}},                        {\"responsive\": true}                    ).then(function(){\n",
       "                            \n",
       "var gd = document.getElementById('df26c1f2-d441-4877-9394-0f94aa3f2775');\n",
       "var x = new MutationObserver(function (mutations, observer) {{\n",
       "        var display = window.getComputedStyle(gd).display;\n",
       "        if (!display || display === 'none') {{\n",
       "            console.log([gd, 'removed!']);\n",
       "            Plotly.purge(gd);\n",
       "            observer.disconnect();\n",
       "        }}\n",
       "}});\n",
       "\n",
       "// Listen for the removal of the full notebook cells\n",
       "var notebookContainer = gd.closest('#notebook-container');\n",
       "if (notebookContainer) {{\n",
       "    x.observe(notebookContainer, {childList: true});\n",
       "}}\n",
       "\n",
       "// Listen for the clearing of the current output cell\n",
       "var outputEl = gd.closest('.output');\n",
       "if (outputEl) {{\n",
       "    x.observe(outputEl, {childList: true});\n",
       "}}\n",
       "\n",
       "                        })                };                });            </script>        </div>"
      ]
     },
     "metadata": {},
     "output_type": "display_data"
    }
   ],
   "source": [
    "from Modulo_2 import temperatura_promedio_global\n",
    "temperatura_promedio_global()"
   ]
  },
  {
   "cell_type": "code",
   "execution_count": 5,
   "metadata": {},
   "outputs": [
    {
     "data": {
      "image/png": "[encoded data removed]",
      "text/plain": [
       "<Figure size 800x600 with 1 Axes>"
      ]
     },
     "metadata": {},
     "output_type": "display_data"
    }
   ],
   "source": [
    "from Modulo_3 import ranking_mundial_co\n",
    "ranking_mundial_co()"
   ]
  },
  {
   "cell_type": "code",
   "execution_count": 6,
   "metadata": {},
   "outputs": [
    {
     "data": {
      "application/vnd.plotly.v1+json": {
       "config": {
        "linkText": "Export to plot.ly",
        "plotlyServerURL": "https://plot.ly",
        "showLink": false
       },
       "data": [
        {
         "line": {
          "color": "rgb(0, 255, 255)"
         },
         "name": "China",
         "type": "scatter",
         "x": [
          "1960",
          "1961",
          "1962",
          "1963",
          "1964",
          "1965",
          "1966",
          "1967",
          "1968",
          "1969",
          "1970",
          "1971",
          "1972",
          "1973",
          "1974",
          "1975",
          "1976",
          "1977",
          "1978",
          "1979",
          "1980",
          "1981",
          "1982",
          "1983",
          "1984",
          "1985",
          "1986",
          "1987",
          "1988",
          "1989",
          "1990",
          "1991",
          "1992",
          "1993",
          "1994",
          "1995",
          "1996",
          "1997",
          "1998",
          "1999",
          "2000",
          "2001",
          "2002",
          "2003",
          "2004",
          "2005",
          "2006",
          "2007",
          "2008",
          "2009",
          "2010",
          "2011",
          "2012",
          "2013",
          "2014",
          "2015",
          "2016",
          "2017",
          "2018",
          "2019",
          "2020",
          "2021",
          "2022"
         ],
         "y": [
          798.7999,
          570.6302,
          459.6181,
          456.7794,
          460.6371,
          500.2864,
          549.4593,
          460.2259,
          495.5066,
          607.6834,
          807.9526,
          909.2097,
          968.6456,
          1008.2926,
          1028.0999,
          1183.215,
          1226.4213,
          1340.8311,
          1492.7778,
          1525.6611,
          1494.4959,
          1476.4879,
          1606.585,
          1694.2168,
          1844.828,
          1998.0829,
          2104.2134,
          2257.7385,
          2425.8936,
          2463.6544,
          2484.8548,
          2606.0962,
          2730.7876,
          2921.651,
          3103.7387,
          3361.6372,
          3508.8181,
          3515.5942,
          3364.5876,
          3557.2746,
          3649.2009,
          3728.5135,
          4103.0427,
          4841.1187,
          5217.3509,
          5882.1429,
          6494.3381,
          6983.5767,
          7501.4978,
          7891.0893,
          8620.6268,
          9532.4091,
          9779.3544,
          9956.3762,
          9998.674,
          9866.9514,
          9765.0295,
          10011.1517,
          10353.9345,
          10721.042,
          10914.0122,
          11336.2339,
          11396.7774
         ]
        },
        {
         "line": {
          "color": "rgb(255, 0, 255)"
         },
         "name": "India",
         "type": "scatter",
         "x": [
          "1960",
          "1961",
          "1962",
          "1963",
          "1964",
          "1965",
          "1966",
          "1967",
          "1968",
          "1969",
          "1970",
          "1971",
          "1972",
          "1973",
          "1974",
          "1975",
          "1976",
          "1977",
          "1978",
          "1979",
          "1980",
          "1981",
          "1982",
          "1983",
          "1984",
          "1985",
          "1986",
          "1987",
          "1988",
          "1989",
          "1990",
          "1991",
          "1992",
          "1993",
          "1994",
          "1995",
          "1996",
          "1997",
          "1998",
          "1999",
          "2000",
          "2001",
          "2002",
          "2003",
          "2004",
          "2005",
          "2006",
          "2007",
          "2008",
          "2009",
          "2010",
          "2011",
          "2012",
          "2013",
          "2014",
          "2015",
          "2016",
          "2017",
          "2018",
          "2019",
          "2020",
          "2021",
          "2022"
         ],
         "y": [
          111.3251,
          120.4043,
          132.5815,
          142.4441,
          139.4883,
          153.7019,
          159.3734,
          159.5558,
          174.0693,
          177.4134,
          181.7226,
          191.9637,
          203.036,
          209.095,
          215.8532,
          234.2091,
          244.7494,
          258.9617,
          263.1496,
          276.2847,
          291.7111,
          314.9662,
          325.38,
          352.1988,
          361.5594,
          397.5921,
          426.3094,
          455.3431,
          491.6922,
          540.651,
          577.996,
          615.365,
          655.447,
          677.2992,
          714.0637,
          760.4616,
          823.6206,
          858.0112,
          875.7723,
          950.4598,
          977.5264,
          990.9695,
          1021.6644,
          1059.1595,
          1125.0963,
          1185.6742,
          1292.4846,
          1392.506,
          1489.4375,
          1612.2163,
          1677.3372,
          1764.7124,
          1925.6997,
          1995.0981,
          2148.3437,
          2234.2195,
          2354.658,
          2426.6069,
          2593.0579,
          2612.888,
          2421.5523,
          2674.2219,
          2829.6442
         ]
        },
        {
         "line": {
          "color": "rgb(255, 255,0)"
         },
         "name": "Estados Unidos",
         "type": "scatter",
         "x": [
          "1960",
          "1961",
          "1962",
          "1963",
          "1964",
          "1965",
          "1966",
          "1967",
          "1968",
          "1969",
          "1970",
          "1971",
          "1972",
          "1973",
          "1974",
          "1975",
          "1976",
          "1977",
          "1978",
          "1979",
          "1980",
          "1981",
          "1982",
          "1983",
          "1984",
          "1985",
          "1986",
          "1987",
          "1988",
          "1989",
          "1990",
          "1991",
          "1992",
          "1993",
          "1994",
          "1995",
          "1996",
          "1997",
          "1998",
          "1999",
          "2000",
          "2001",
          "2002",
          "2003",
          "2004",
          "2005",
          "2006",
          "2007",
          "2008",
          "2009",
          "2010",
          "2011",
          "2012",
          "2013",
          "2014",
          "2015",
          "2016",
          "2017",
          "2018",
          "2019",
          "2020",
          "2021",
          "2022"
         ],
         "y": [
          2897.3153,
          2886.8727,
          2993.902,
          3126.4875,
          3264.3138,
          3399.5468,
          3571.4213,
          3705.461,
          3840.9196,
          4035.1453,
          4339.686,
          4365.4653,
          4573.0154,
          4785.103,
          4621.0998,
          4478.2749,
          4747.8174,
          4889.6653,
          4941.4227,
          5008.6418,
          4808.5564,
          4686.4202,
          4447.2979,
          4429.4231,
          4662.1745,
          4652.633,
          4663.4296,
          4825.7117,
          5050.5434,
          5132.2063,
          5120.9572,
          5062.9567,
          5174.2275,
          5272.8508,
          5364.2793,
          5425.2597,
          5612.9828,
          5688.1425,
          5733.2806,
          5803.9178,
          6010.1359,
          5907.7399,
          5946.3081,
          6010.1455,
          6112.6546,
          6132.1833,
          6052.6862,
          6130.1228,
          5915.1185,
          5480.7257,
          5679.7152,
          5546.1161,
          5344.086,
          5480.1565,
          5528.6811,
          5376.4731,
          5252.9322,
          5212.1623,
          5377.7974,
          5262.1451,
          4714.628,
          5032.2128,
          5057.3038
         ]
        }
       ],
       "layout": {
        "showlegend": true,
        "template": {
         "data": {
          "bar": [
           {
            "error_x": {
             "color": "#2a3f5f"
            },
            "error_y": {
             "color": "#2a3f5f"
            },
            "marker": {
             "line": {
              "color": "#E5ECF6",
              "width": 0.5
             },
             "pattern": {
              "fillmode": "overlay",
              "size": 10,
              "solidity": 0.2
             }
            },
            "type": "bar"
           }
          ],
          "barpolar": [
           {
            "marker": {
             "line": {
              "color": "#E5ECF6",
              "width": 0.5
             },
             "pattern": {
              "fillmode": "overlay",
              "size": 10,
              "solidity": 0.2
             }
            },
            "type": "barpolar"
           }
          ],
          "carpet": [
           {
            "aaxis": {
             "endlinecolor": "#2a3f5f",
             "gridcolor": "white",
             "linecolor": "white",
             "minorgridcolor": "white",
             "startlinecolor": "#2a3f5f"
            },
            "baxis": {
             "endlinecolor": "#2a3f5f",
             "gridcolor": "white",
             "linecolor": "white",
             "minorgridcolor": "white",
             "startlinecolor": "#2a3f5f"
            },
            "type": "carpet"
           }
          ],
          "choropleth": [
           {
            "colorbar": {
             "outlinewidth": 0,
             "ticks": ""
            },
            "type": "choropleth"
           }
          ],
          "contour": [
           {
            "colorbar": {
             "outlinewidth": 0,
             "ticks": ""
            },
            "colorscale": [
             [
              0,
              "#0d0887"
             ],
             [
              0.1111111111111111,
              "#46039f"
             ],
             [
              0.2222222222222222,
              "#7201a8"
             ],
             [
              0.3333333333333333,
              "#9c179e"
             ],
             [
              0.4444444444444444,
              "#bd3786"
             ],
             [
              0.5555555555555556,
              "#d8576b"
             ],
             [
              0.6666666666666666,
              "#ed7953"
             ],
             [
              0.7777777777777778,
              "#fb9f3a"
             ],
             [
              0.8888888888888888,
              "#fdca26"
             ],
             [
              1,
              "#f0f921"
             ]
            ],
            "type": "contour"
           }
          ],
          "contourcarpet": [
           {
            "colorbar": {
             "outlinewidth": 0,
             "ticks": ""
            },
            "type": "contourcarpet"
           }
          ],
          "heatmap": [
           {
            "colorbar": {
             "outlinewidth": 0,
             "ticks": ""
            },
            "colorscale": [
             [
              0,
              "#0d0887"
             ],
             [
              0.1111111111111111,
              "#46039f"
             ],
             [
              0.2222222222222222,
              "#7201a8"
             ],
             [
              0.3333333333333333,
              "#9c179e"
             ],
             [
              0.4444444444444444,
              "#bd3786"
             ],
             [
              0.5555555555555556,
              "#d8576b"
             ],
             [
              0.6666666666666666,
              "#ed7953"
             ],
             [
              0.7777777777777778,
              "#fb9f3a"
             ],
             [
              0.8888888888888888,
              "#fdca26"
             ],
             [
              1,
              "#f0f921"
             ]
            ],
            "type": "heatmap"
           }
          ],
          "heatmapgl": [
           {
            "colorbar": {
             "outlinewidth": 0,
             "ticks": ""
            },
            "colorscale": [
             [
              0,
              "#0d0887"
             ],
             [
              0.1111111111111111,
              "#46039f"
             ],
             [
              0.2222222222222222,
              "#7201a8"
             ],
             [
              0.3333333333333333,
              "#9c179e"
             ],
             [
              0.4444444444444444,
              "#bd3786"
             ],
             [
              0.5555555555555556,
              "#d8576b"
             ],
             [
              0.6666666666666666,
              "#ed7953"
             ],
             [
              0.7777777777777778,
              "#fb9f3a"
             ],
             [
              0.8888888888888888,
              "#fdca26"
             ],
             [
              1,
              "#f0f921"
             ]
            ],
            "type": "heatmapgl"
           }
          ],
          "histogram": [
           {
            "marker": {
             "pattern": {
              "fillmode": "overlay",
              "size": 10,
              "solidity": 0.2
             }
            },
            "type": "histogram"
           }
          ],
          "histogram2d": [
           {
            "colorbar": {
             "outlinewidth": 0,
             "ticks": ""
            },
            "colorscale": [
             [
              0,
              "#0d0887"
             ],
             [
              0.1111111111111111,
              "#46039f"
             ],
             [
              0.2222222222222222,
              "#7201a8"
             ],
             [
              0.3333333333333333,
              "#9c179e"
             ],
             [
              0.4444444444444444,
              "#bd3786"
             ],
             [
              0.5555555555555556,
              "#d8576b"
             ],
             [
              0.6666666666666666,
              "#ed7953"
             ],
             [
              0.7777777777777778,
              "#fb9f3a"
             ],
             [
              0.8888888888888888,
              "#fdca26"
             ],
             [
              1,
              "#f0f921"
             ]
            ],
            "type": "histogram2d"
           }
          ],
          "histogram2dcontour": [
           {
            "colorbar": {
             "outlinewidth": 0,
             "ticks": ""
            },
            "colorscale": [
             [
              0,
              "#0d0887"
             ],
             [
              0.1111111111111111,
              "#46039f"
             ],
             [
              0.2222222222222222,
              "#7201a8"
             ],
             [
              0.3333333333333333,
              "#9c179e"
             ],
             [
              0.4444444444444444,
              "#bd3786"
             ],
             [
              0.5555555555555556,
              "#d8576b"
             ],
             [
              0.6666666666666666,
              "#ed7953"
             ],
             [
              0.7777777777777778,
              "#fb9f3a"
             ],
             [
              0.8888888888888888,
              "#fdca26"
             ],
             [
              1,
              "#f0f921"
             ]
            ],
            "type": "histogram2dcontour"
           }
          ],
          "mesh3d": [
           {
            "colorbar": {
             "outlinewidth": 0,
             "ticks": ""
            },
            "type": "mesh3d"
           }
          ],
          "parcoords": [
           {
            "line": {
             "colorbar": {
              "outlinewidth": 0,
              "ticks": ""
             }
            },
            "type": "parcoords"
           }
          ],
          "pie": [
           {
            "automargin": true,
            "type": "pie"
           }
          ],
          "scatter": [
           {
            "fillpattern": {
             "fillmode": "overlay",
             "size": 10,
             "solidity": 0.2
            },
            "type": "scatter"
           }
          ],
          "scatter3d": [
           {
            "line": {
             "colorbar": {
              "outlinewidth": 0,
              "ticks": ""
             }
            },
            "marker": {
             "colorbar": {
              "outlinewidth": 0,
              "ticks": ""
             }
            },
            "type": "scatter3d"
           }
          ],
          "scattercarpet": [
           {
            "marker": {
             "colorbar": {
              "outlinewidth": 0,
              "ticks": ""
             }
            },
            "type": "scattercarpet"
           }
          ],
          "scattergeo": [
           {
            "marker": {
             "colorbar": {
              "outlinewidth": 0,
              "ticks": ""
             }
            },
            "type": "scattergeo"
           }
          ],
          "scattergl": [
           {
            "marker": {
             "colorbar": {
              "outlinewidth": 0,
              "ticks": ""
             }
            },
            "type": "scattergl"
           }
          ],
          "scattermapbox": [
           {
            "marker": {
             "colorbar": {
              "outlinewidth": 0,
              "ticks": ""
             }
            },
            "type": "scattermapbox"
           }
          ],
          "scatterpolar": [
           {
            "marker": {
             "colorbar": {
              "outlinewidth": 0,
              "ticks": ""
             }
            },
            "type": "scatterpolar"
           }
          ],
          "scatterpolargl": [
           {
            "marker": {
             "colorbar": {
              "outlinewidth": 0,
              "ticks": ""
             }
            },
            "type": "scatterpolargl"
           }
          ],
          "scatterternary": [
           {
            "marker": {
             "colorbar": {
              "outlinewidth": 0,
              "ticks": ""
             }
            },
            "type": "scatterternary"
           }
          ],
          "surface": [
           {
            "colorbar": {
             "outlinewidth": 0,
             "ticks": ""
            },
            "colorscale": [
             [
              0,
              "#0d0887"
             ],
             [
              0.1111111111111111,
              "#46039f"
             ],
             [
              0.2222222222222222,
              "#7201a8"
             ],
             [
              0.3333333333333333,
              "#9c179e"
             ],
             [
              0.4444444444444444,
              "#bd3786"
             ],
             [
              0.5555555555555556,
              "#d8576b"
             ],
             [
              0.6666666666666666,
              "#ed7953"
             ],
             [
              0.7777777777777778,
              "#fb9f3a"
             ],
             [
              0.8888888888888888,
              "#fdca26"
             ],
             [
              1,
              "#f0f921"
             ]
            ],
            "type": "surface"
           }
          ],
          "table": [
           {
            "cells": {
             "fill": {
              "color": "#EBF0F8"
             },
             "line": {
              "color": "white"
             }
            },
            "header": {
             "fill": {
              "color": "#C8D4E3"
             },
             "line": {
              "color": "white"
             }
            },
            "type": "table"
           }
          ]
         },
         "layout": {
          "annotationdefaults": {
           "arrowcolor": "#2a3f5f",
           "arrowhead": 0,
           "arrowwidth": 1
          },
          "autotypenumbers": "strict",
          "coloraxis": {
           "colorbar": {
            "outlinewidth": 0,
            "ticks": ""
           }
          },
          "colorscale": {
           "diverging": [
            [
             0,
             "#8e0152"
            ],
            [
             0.1,
             "#c51b7d"
            ],
            [
             0.2,
             "#de77ae"
            ],
            [
             0.3,
             "#f1b6da"
            ],
            [
             0.4,
             "#fde0ef"
            ],
            [
             0.5,
             "#f7f7f7"
            ],
            [
             0.6,
             "#e6f5d0"
            ],
            [
             0.7,
             "#b8e186"
            ],
            [
             0.8,
             "#7fbc41"
            ],
            [
             0.9,
             "#4d9221"
            ],
            [
             1,
             "#276419"
            ]
           ],
           "sequential": [
            [
             0,
             "#0d0887"
            ],
            [
             0.1111111111111111,
             "#46039f"
            ],
            [
             0.2222222222222222,
             "#7201a8"
            ],
            [
             0.3333333333333333,
             "#9c179e"
            ],
            [
             0.4444444444444444,
             "#bd3786"
            ],
            [
             0.5555555555555556,
             "#d8576b"
            ],
            [
             0.6666666666666666,
             "#ed7953"
            ],
            [
             0.7777777777777778,
             "#fb9f3a"
            ],
            [
             0.8888888888888888,
             "#fdca26"
            ],
            [
             1,
             "#f0f921"
            ]
           ],
           "sequentialminus": [
            [
             0,
             "#0d0887"
            ],
            [
             0.1111111111111111,
             "#46039f"
            ],
            [
             0.2222222222222222,
             "#7201a8"
            ],
            [
             0.3333333333333333,
             "#9c179e"
            ],
            [
             0.4444444444444444,
             "#bd3786"
            ],
            [
             0.5555555555555556,
             "#d8576b"
            ],
            [
             0.6666666666666666,
             "#ed7953"
            ],
            [
             0.7777777777777778,
             "#fb9f3a"
            ],
            [
             0.8888888888888888,
             "#fdca26"
            ],
            [
             1,
             "#f0f921"
            ]
           ]
          },
          "colorway": [
           "#636efa",
           "#EF553B",
           "#00cc96",
           "#ab63fa",
           "#FFA15A",
           "#19d3f3",
           "#FF6692",
           "#B6E880",
           "#FF97FF",
           "#FECB52"
          ],
          "font": {
           "color": "#2a3f5f"
          },
          "geo": {
           "bgcolor": "white",
           "lakecolor": "white",
           "landcolor": "#E5ECF6",
           "showlakes": true,
           "showland": true,
           "subunitcolor": "white"
          },
          "hoverlabel": {
           "align": "left"
          },
          "hovermode": "closest",
          "mapbox": {
           "style": "light"
          },
          "paper_bgcolor": "white",
          "plot_bgcolor": "#E5ECF6",
          "polar": {
           "angularaxis": {
            "gridcolor": "white",
            "linecolor": "white",
            "ticks": ""
           },
           "bgcolor": "#E5ECF6",
           "radialaxis": {
            "gridcolor": "white",
            "linecolor": "white",
            "ticks": ""
           }
          },
          "scene": {
           "xaxis": {
            "backgroundcolor": "#E5ECF6",
            "gridcolor": "white",
            "gridwidth": 2,
            "linecolor": "white",
            "showbackground": true,
            "ticks": "",
            "zerolinecolor": "white"
           },
           "yaxis": {
            "backgroundcolor": "#E5ECF6",
            "gridcolor": "white",
            "gridwidth": 2,
            "linecolor": "white",
            "showbackground": true,
            "ticks": "",
            "zerolinecolor": "white"
           },
           "zaxis": {
            "backgroundcolor": "#E5ECF6",
            "gridcolor": "white",
            "gridwidth": 2,
            "linecolor": "white",
            "showbackground": true,
            "ticks": "",
            "zerolinecolor": "white"
           }
          },
          "shapedefaults": {
           "line": {
            "color": "#2a3f5f"
           }
          },
          "ternary": {
           "aaxis": {
            "gridcolor": "white",
            "linecolor": "white",
            "ticks": ""
           },
           "baxis": {
            "gridcolor": "white",
            "linecolor": "white",
            "ticks": ""
           },
           "bgcolor": "#E5ECF6",
           "caxis": {
            "gridcolor": "white",
            "linecolor": "white",
            "ticks": ""
           }
          },
          "title": {
           "x": 0.05
          },
          "xaxis": {
           "automargin": true,
           "gridcolor": "white",
           "linecolor": "white",
           "ticks": "",
           "title": {
            "standoff": 15
           },
           "zerolinecolor": "white",
           "zerolinewidth": 2
          },
          "yaxis": {
           "automargin": true,
           "gridcolor": "white",
           "linecolor": "white",
           "ticks": "",
           "title": {
            "standoff": 15
           },
           "zerolinecolor": "white",
           "zerolinewidth": 2
          }
         }
        },
        "title": {
         "text": "CO2 producidos por China, India y Estados Unidos"
        },
        "xaxis": {
         "title": {
          "text": "Año"
         }
        },
        "yaxis": {
         "title": {
          "text": "Medicion en Toneladas de CO2"
         }
        }
       }
      },
      "text/html": [
       "<div>                            <div id=\"5d8e657a-d03d-420a-9470-1bd53437f13c\" class=\"plotly-graph-div\" style=\"height:525px; width:100%;\"></div>            <script type=\"text/javascript\">                require([\"plotly\"], function(Plotly) {                    window.PLOTLYENV=window.PLOTLYENV || {};                                    if (document.getElementById(\"5d8e657a-d03d-420a-9470-1bd53437f13c\")) {                    Plotly.newPlot(                        \"5d8e657a-d03d-420a-9470-1bd53437f13c\",                        [{\"line\":{\"color\":\"rgb(0, 255, 255)\"},\"name\":\"China\",\"x\":[\"1960\",\"1961\",\"1962\",\"1963\",\"1964\",\"1965\",\"1966\",\"1967\",\"1968\",\"1969\",\"1970\",\"1971\",\"1972\",\"1973\",\"1974\",\"1975\",\"1976\",\"1977\",\"1978\",\"1979\",\"1980\",\"1981\",\"1982\",\"1983\",\"1984\",\"1985\",\"1986\",\"1987\",\"1988\",\"1989\",\"1990\",\"1991\",\"1992\",\"1993\",\"1994\",\"1995\",\"1996\",\"1997\",\"1998\",\"1999\",\"2000\",\"2001\",\"2002\",\"2003\",\"2004\",\"2005\",\"2006\",\"2007\",\"2008\",\"2009\",\"2010\",\"2011\",\"2012\",\"2013\",\"2014\",\"2015\",\"2016\",\"2017\",\"2018\",\"2019\",\"2020\",\"2021\",\"2022\"],\"y\":[798.7999,570.6302,459.6181,456.7794,460.6371,500.2864,549.4593,460.2259,495.5066,607.6834,807.9526,909.2097,968.6456,1008.2926,1028.0999,1183.215,1226.4213,1340.8311,1492.7778,1525.6611,1494.4959,1476.4879,1606.585,1694.2168,1844.828,1998.0829,2104.2134,2257.7385,2425.8936,2463.6544,2484.8548,2606.0962,2730.7876,2921.651,3103.7387,3361.6372,3508.8181,3515.5942,3364.5876,3557.2746,3649.2009,3728.5135,4103.0427,4841.1187,5217.3509,5882.1429,6494.3381,6983.5767,7501.4978,7891.0893,8620.6268,9532.4091,9779.3544,9956.3762,9998.674,9866.9514,9765.0295,10011.1517,10353.9345,10721.042,10914.0122,11336.2339,11396.7774],\"type\":\"scatter\"},{\"line\":{\"color\":\"rgb(255, 0, 255)\"},\"name\":\"India\",\"x\":[\"1960\",\"1961\",\"1962\",\"1963\",\"1964\",\"1965\",\"1966\",\"1967\",\"1968\",\"1969\",\"1970\",\"1971\",\"1972\",\"1973\",\"1974\",\"1975\",\"1976\",\"1977\",\"1978\",\"1979\",\"1980\",\"1981\",\"1982\",\"1983\",\"1984\",\"1985\",\"1986\",\"1987\",\"1988\",\"1989\",\"1990\",\"1991\",\"1992\",\"1993\",\"1994\",\"1995\",\"1996\",\"1997\",\"1998\",\"1999\",\"2000\",\"2001\",\"2002\",\"2003\",\"2004\",\"2005\",\"2006\",\"2007\",\"2008\",\"2009\",\"2010\",\"2011\",\"2012\",\"2013\",\"2014\",\"2015\",\"2016\",\"2017\",\"2018\",\"2019\",\"2020\",\"2021\",\"2022\"],\"y\":[111.3251,120.4043,132.5815,142.4441,139.4883,153.7019,159.3734,159.5558,174.0693,177.4134,181.7226,191.9637,203.036,209.095,215.8532,234.2091,244.7494,258.9617,263.1496,276.2847,291.7111,314.9662,325.38,352.1988,361.5594,397.5921,426.3094,455.3431,491.6922,540.651,577.996,615.365,655.447,677.2992,714.0637,760.4616,823.6206,858.0112,875.7723,950.4598,977.5264,990.9695,1021.6644,1059.1595,1125.0963,1185.6742,1292.4846,1392.506,1489.4375,1612.2163,1677.3372,1764.7124,1925.6997,1995.0981,2148.3437,2234.2195,2354.658,2426.6069,2593.0579,2612.888,2421.5523,2674.2219,2829.6442],\"type\":\"scatter\"},{\"line\":{\"color\":\"rgb(255, 255,0)\"},\"name\":\"Estados Unidos\",\"x\":[\"1960\",\"1961\",\"1962\",\"1963\",\"1964\",\"1965\",\"1966\",\"1967\",\"1968\",\"1969\",\"1970\",\"1971\",\"1972\",\"1973\",\"1974\",\"1975\",\"1976\",\"1977\",\"1978\",\"1979\",\"1980\",\"1981\",\"1982\",\"1983\",\"1984\",\"1985\",\"1986\",\"1987\",\"1988\",\"1989\",\"1990\",\"1991\",\"1992\",\"1993\",\"1994\",\"1995\",\"1996\",\"1997\",\"1998\",\"1999\",\"2000\",\"2001\",\"2002\",\"2003\",\"2004\",\"2005\",\"2006\",\"2007\",\"2008\",\"2009\",\"2010\",\"2011\",\"2012\",\"2013\",\"2014\",\"2015\",\"2016\",\"2017\",\"2018\",\"2019\",\"2020\",\"2021\",\"2022\"],\"y\":[2897.3153,2886.8727,2993.902,3126.4875,3264.3138,3399.5468,3571.4213,3705.461,3840.9196,4035.1453,4339.686,4365.4653,4573.0154,4785.103,4621.0998,4478.2749,4747.8174,4889.6653,4941.4227,5008.6418,4808.5564,4686.4202,4447.2979,4429.4231,4662.1745,4652.633,4663.4296,4825.7117,5050.5434,5132.2063,5120.9572,5062.9567,5174.2275,5272.8508,5364.2793,5425.2597,5612.9828,5688.1425,5733.2806,5803.9178,6010.1359,5907.7399,5946.3081,6010.1455,6112.6546,6132.1833,6052.6862,6130.1228,5915.1185,5480.7257,5679.7152,5546.1161,5344.086,5480.1565,5528.6811,5376.4731,5252.9322,5212.1623,5377.7974,5262.1451,4714.628,5032.2128,5057.3038],\"type\":\"scatter\"}],                        {\"showlegend\":true,\"template\":{\"data\":{\"barpolar\":[{\"marker\":{\"line\":{\"color\":\"#E5ECF6\",\"width\":0.5},\"pattern\":{\"fillmode\":\"overlay\",\"size\":10,\"solidity\":0.2}},\"type\":\"barpolar\"}],\"bar\":[{\"error_x\":{\"color\":\"#2a3f5f\"},\"error_y\":{\"color\":\"#2a3f5f\"},\"marker\":{\"line\":{\"color\":\"#E5ECF6\",\"width\":0.5},\"pattern\":{\"fillmode\":\"overlay\",\"size\":10,\"solidity\":0.2}},\"type\":\"bar\"}],\"carpet\":[{\"aaxis\":{\"endlinecolor\":\"#2a3f5f\",\"gridcolor\":\"white\",\"linecolor\":\"white\",\"minorgridcolor\":\"white\",\"startlinecolor\":\"#2a3f5f\"},\"baxis\":{\"endlinecolor\":\"#2a3f5f\",\"gridcolor\":\"white\",\"linecolor\":\"white\",\"minorgridcolor\":\"white\",\"startlinecolor\":\"#2a3f5f\"},\"type\":\"carpet\"}],\"choropleth\":[{\"colorbar\":{\"outlinewidth\":0,\"ticks\":\"\"},\"type\":\"choropleth\"}],\"contourcarpet\":[{\"colorbar\":{\"outlinewidth\":0,\"ticks\":\"\"},\"type\":\"contourcarpet\"}],\"contour\":[{\"colorbar\":{\"outlinewidth\":0,\"ticks\":\"\"},\"colorscale\":[[0.0,\"#0d0887\"],[0.1111111111111111,\"#46039f\"],[0.2222222222222222,\"#7201a8\"],[0.3333333333333333,\"#9c179e\"],[0.4444444444444444,\"#bd3786\"],[0.5555555555555556,\"#d8576b\"],[0.6666666666666666,\"#ed7953\"],[0.7777777777777778,\"#fb9f3a\"],[0.8888888888888888,\"#fdca26\"],[1.0,\"#f0f921\"]],\"type\":\"contour\"}],\"heatmapgl\":[{\"colorbar\":{\"outlinewidth\":0,\"ticks\":\"\"},\"colorscale\":[[0.0,\"#0d0887\"],[0.1111111111111111,\"#46039f\"],[0.2222222222222222,\"#7201a8\"],[0.3333333333333333,\"#9c179e\"],[0.4444444444444444,\"#bd3786\"],[0.5555555555555556,\"#d8576b\"],[0.6666666666666666,\"#ed7953\"],[0.7777777777777778,\"#fb9f3a\"],[0.8888888888888888,\"#fdca26\"],[1.0,\"#f0f921\"]],\"type\":\"heatmapgl\"}],\"heatmap\":[{\"colorbar\":{\"outlinewidth\":0,\"ticks\":\"\"},\"colorscale\":[[0.0,\"#0d0887\"],[0.1111111111111111,\"#46039f\"],[0.2222222222222222,\"#7201a8\"],[0.3333333333333333,\"#9c179e\"],[0.4444444444444444,\"#bd3786\"],[0.5555555555555556,\"#d8576b\"],[0.6666666666666666,\"#ed7953\"],[0.7777777777777778,\"#fb9f3a\"],[0.8888888888888888,\"#fdca26\"],[1.0,\"#f0f921\"]],\"type\":\"heatmap\"}],\"histogram2dcontour\":[{\"colorbar\":{\"outlinewidth\":0,\"ticks\":\"\"},\"colorscale\":[[0.0,\"#0d0887\"],[0.1111111111111111,\"#46039f\"],[0.2222222222222222,\"#7201a8\"],[0.3333333333333333,\"#9c179e\"],[0.4444444444444444,\"#bd3786\"],[0.5555555555555556,\"#d8576b\"],[0.6666666666666666,\"#ed7953\"],[0.7777777777777778,\"#fb9f3a\"],[0.8888888888888888,\"#fdca26\"],[1.0,\"#f0f921\"]],\"type\":\"histogram2dcontour\"}],\"histogram2d\":[{\"colorbar\":{\"outlinewidth\":0,\"ticks\":\"\"},\"colorscale\":[[0.0,\"#0d0887\"],[0.1111111111111111,\"#46039f\"],[0.2222222222222222,\"#7201a8\"],[0.3333333333333333,\"#9c179e\"],[0.4444444444444444,\"#bd3786\"],[0.5555555555555556,\"#d8576b\"],[0.6666666666666666,\"#ed7953\"],[0.7777777777777778,\"#fb9f3a\"],[0.8888888888888888,\"#fdca26\"],[1.0,\"#f0f921\"]],\"type\":\"histogram2d\"}],\"histogram\":[{\"marker\":{\"pattern\":{\"fillmode\":\"overlay\",\"size\":10,\"solidity\":0.2}},\"type\":\"histogram\"}],\"mesh3d\":[{\"colorbar\":{\"outlinewidth\":0,\"ticks\":\"\"},\"type\":\"mesh3d\"}],\"parcoords\":[{\"line\":{\"colorbar\":{\"outlinewidth\":0,\"ticks\":\"\"}},\"type\":\"parcoords\"}],\"pie\":[{\"automargin\":true,\"type\":\"pie\"}],\"scatter3d\":[{\"line\":{\"colorbar\":{\"outlinewidth\":0,\"ticks\":\"\"}},\"marker\":{\"colorbar\":{\"outlinewidth\":0,\"ticks\":\"\"}},\"type\":\"scatter3d\"}],\"scattercarpet\":[{\"marker\":{\"colorbar\":{\"outlinewidth\":0,\"ticks\":\"\"}},\"type\":\"scattercarpet\"}],\"scattergeo\":[{\"marker\":{\"colorbar\":{\"outlinewidth\":0,\"ticks\":\"\"}},\"type\":\"scattergeo\"}],\"scattergl\":[{\"marker\":{\"colorbar\":{\"outlinewidth\":0,\"ticks\":\"\"}},\"type\":\"scattergl\"}],\"scattermapbox\":[{\"marker\":{\"colorbar\":{\"outlinewidth\":0,\"ticks\":\"\"}},\"type\":\"scattermapbox\"}],\"scatterpolargl\":[{\"marker\":{\"colorbar\":{\"outlinewidth\":0,\"ticks\":\"\"}},\"type\":\"scatterpolargl\"}],\"scatterpolar\":[{\"marker\":{\"colorbar\":{\"outlinewidth\":0,\"ticks\":\"\"}},\"type\":\"scatterpolar\"}],\"scatter\":[{\"fillpattern\":{\"fillmode\":\"overlay\",\"size\":10,\"solidity\":0.2},\"type\":\"scatter\"}],\"scatterternary\":[{\"marker\":{\"colorbar\":{\"outlinewidth\":0,\"ticks\":\"\"}},\"type\":\"scatterternary\"}],\"surface\":[{\"colorbar\":{\"outlinewidth\":0,\"ticks\":\"\"},\"colorscale\":[[0.0,\"#0d0887\"],[0.1111111111111111,\"#46039f\"],[0.2222222222222222,\"#7201a8\"],[0.3333333333333333,\"#9c179e\"],[0.4444444444444444,\"#bd3786\"],[0.5555555555555556,\"#d8576b\"],[0.6666666666666666,\"#ed7953\"],[0.7777777777777778,\"#fb9f3a\"],[0.8888888888888888,\"#fdca26\"],[1.0,\"#f0f921\"]],\"type\":\"surface\"}],\"table\":[{\"cells\":{\"fill\":{\"color\":\"#EBF0F8\"},\"line\":{\"color\":\"white\"}},\"header\":{\"fill\":{\"color\":\"#C8D4E3\"},\"line\":{\"color\":\"white\"}},\"type\":\"table\"}]},\"layout\":{\"annotationdefaults\":{\"arrowcolor\":\"#2a3f5f\",\"arrowhead\":0,\"arrowwidth\":1},\"autotypenumbers\":\"strict\",\"coloraxis\":{\"colorbar\":{\"outlinewidth\":0,\"ticks\":\"\"}},\"colorscale\":{\"diverging\":[[0,\"#8e0152\"],[0.1,\"#c51b7d\"],[0.2,\"#de77ae\"],[0.3,\"#f1b6da\"],[0.4,\"#fde0ef\"],[0.5,\"#f7f7f7\"],[0.6,\"#e6f5d0\"],[0.7,\"#b8e186\"],[0.8,\"#7fbc41\"],[0.9,\"#4d9221\"],[1,\"#276419\"]],\"sequential\":[[0.0,\"#0d0887\"],[0.1111111111111111,\"#46039f\"],[0.2222222222222222,\"#7201a8\"],[0.3333333333333333,\"#9c179e\"],[0.4444444444444444,\"#bd3786\"],[0.5555555555555556,\"#d8576b\"],[0.6666666666666666,\"#ed7953\"],[0.7777777777777778,\"#fb9f3a\"],[0.8888888888888888,\"#fdca26\"],[1.0,\"#f0f921\"]],\"sequentialminus\":[[0.0,\"#0d0887\"],[0.1111111111111111,\"#46039f\"],[0.2222222222222222,\"#7201a8\"],[0.3333333333333333,\"#9c179e\"],[0.4444444444444444,\"#bd3786\"],[0.5555555555555556,\"#d8576b\"],[0.6666666666666666,\"#ed7953\"],[0.7777777777777778,\"#fb9f3a\"],[0.8888888888888888,\"#fdca26\"],[1.0,\"#f0f921\"]]},\"colorway\":[\"#636efa\",\"#EF553B\",\"#00cc96\",\"#ab63fa\",\"#FFA15A\",\"#19d3f3\",\"#FF6692\",\"#B6E880\",\"#FF97FF\",\"#FECB52\"],\"font\":{\"color\":\"#2a3f5f\"},\"geo\":{\"bgcolor\":\"white\",\"lakecolor\":\"white\",\"landcolor\":\"#E5ECF6\",\"showlakes\":true,\"showland\":true,\"subunitcolor\":\"white\"},\"hoverlabel\":{\"align\":\"left\"},\"hovermode\":\"closest\",\"mapbox\":{\"style\":\"light\"},\"paper_bgcolor\":\"white\",\"plot_bgcolor\":\"#E5ECF6\",\"polar\":{\"angularaxis\":{\"gridcolor\":\"white\",\"linecolor\":\"white\",\"ticks\":\"\"},\"bgcolor\":\"#E5ECF6\",\"radialaxis\":{\"gridcolor\":\"white\",\"linecolor\":\"white\",\"ticks\":\"\"}},\"scene\":{\"xaxis\":{\"backgroundcolor\":\"#E5ECF6\",\"gridcolor\":\"white\",\"gridwidth\":2,\"linecolor\":\"white\",\"showbackground\":true,\"ticks\":\"\",\"zerolinecolor\":\"white\"},\"yaxis\":{\"backgroundcolor\":\"#E5ECF6\",\"gridcolor\":\"white\",\"gridwidth\":2,\"linecolor\":\"white\",\"showbackground\":true,\"ticks\":\"\",\"zerolinecolor\":\"white\"},\"zaxis\":{\"backgroundcolor\":\"#E5ECF6\",\"gridcolor\":\"white\",\"gridwidth\":2,\"linecolor\":\"white\",\"showbackground\":true,\"ticks\":\"\",\"zerolinecolor\":\"white\"}},\"shapedefaults\":{\"line\":{\"color\":\"#2a3f5f\"}},\"ternary\":{\"aaxis\":{\"gridcolor\":\"white\",\"linecolor\":\"white\",\"ticks\":\"\"},\"baxis\":{\"gridcolor\":\"white\",\"linecolor\":\"white\",\"ticks\":\"\"},\"bgcolor\":\"#E5ECF6\",\"caxis\":{\"gridcolor\":\"white\",\"linecolor\":\"white\",\"ticks\":\"\"}},\"title\":{\"x\":0.05},\"xaxis\":{\"automargin\":true,\"gridcolor\":\"white\",\"linecolor\":\"white\",\"ticks\":\"\",\"title\":{\"standoff\":15},\"zerolinecolor\":\"white\",\"zerolinewidth\":2},\"yaxis\":{\"automargin\":true,\"gridcolor\":\"white\",\"linecolor\":\"white\",\"ticks\":\"\",\"title\":{\"standoff\":15},\"zerolinecolor\":\"white\",\"zerolinewidth\":2}}},\"title\":{\"text\":\"CO2 producidos por China, India y Estados Unidos\"},\"xaxis\":{\"title\":{\"text\":\"A\\u00f1o\"}},\"yaxis\":{\"title\":{\"text\":\"Medicion en Toneladas de CO2\"}}},                        {\"responsive\": true}                    ).then(function(){\n",
       "                            \n",
       "var gd = document.getElementById('5d8e657a-d03d-420a-9470-1bd53437f13c');\n",
       "var x = new MutationObserver(function (mutations, observer) {{\n",
       "        var display = window.getComputedStyle(gd).display;\n",
       "        if (!display || display === 'none') {{\n",
       "            console.log([gd, 'removed!']);\n",
       "            Plotly.purge(gd);\n",
       "            observer.disconnect();\n",
       "        }}\n",
       "}});\n",
       "\n",
       "// Listen for the removal of the full notebook cells\n",
       "var notebookContainer = gd.closest('#notebook-container');\n",
       "if (notebookContainer) {{\n",
       "    x.observe(notebookContainer, {childList: true});\n",
       "}}\n",
       "\n",
       "// Listen for the clearing of the current output cell\n",
       "var outputEl = gd.closest('.output');\n",
       "if (outputEl) {{\n",
       "    x.observe(outputEl, {childList: true});\n",
       "}}\n",
       "\n",
       "                        })                };                });            </script>        </div>"
      ]
     },
     "metadata": {},
     "output_type": "display_data"
    }
   ],
   "source": [
    "from Modulo_3 import co2_top3\n",
    "co2_top3()"
   ]
  },
  {
   "cell_type": "code",
   "execution_count": 1,
   "metadata": {},
   "outputs": [
    {
     "data": {
      "text/html": [
       "        <script type=\"text/javascript\">\n",
       "        window.PlotlyConfig = {MathJaxConfig: 'local'};\n",
       "        if (window.MathJax && window.MathJax.Hub && window.MathJax.Hub.Config) {window.MathJax.Hub.Config({SVG: {font: \"STIX-Web\"}});}\n",
       "        if (typeof require !== 'undefined') {\n",
       "        require.undef(\"plotly\");\n",
       "        requirejs.config({\n",
       "            paths: {\n",
       "                'plotly': ['https://cdn.plot.ly/plotly-2.30.0.min']\n",
       "            }\n",
       "        });\n",
       "        require(['plotly'], function(Plotly) {\n",
       "            window._Plotly = Plotly;\n",
       "        });\n",
       "        }\n",
       "        </script>\n",
       "        "
      ]
     },
     "metadata": {},
     "output_type": "display_data"
    },
    {
     "data": {
      "image/png": "[encoded data removed]",
      "text/plain": [
       "<Figure size 1500x600 with 1 Axes>"
      ]
     },
     "metadata": {},
     "output_type": "display_data"
    },
    {
     "ename": "PlotlyError",
     "evalue": "The `figure_or_data` positional argument must be `dict`-like, `list`-like, or an instance of plotly.graph_objs.Figure",
     "output_type": "error",
     "traceback": [
      "\u001b[1;31m---------------------------------------------------------------------------\u001b[0m",
      "\u001b[1;31mPlotlyError\u001b[0m                               Traceback (most recent call last)",
      "Cell \u001b[1;32mIn[1], line 2\u001b[0m\n\u001b[0;32m      1\u001b[0m \u001b[38;5;28;01mfrom\u001b[39;00m \u001b[38;5;21;01mModulo_4\u001b[39;00m \u001b[38;5;28;01mimport\u001b[39;00m origen_co2\n\u001b[1;32m----> 2\u001b[0m \u001b[43morigen_co2\u001b[49m\u001b[43m(\u001b[49m\u001b[43m)\u001b[49m\n",
      "File \u001b[1;32mc:\\Users\\josue\\OneDrive\\Escritorio\\Josue\\programas Python\\PROYECTO_1\\Modulo_4.py:43\u001b[0m, in \u001b[0;36morigen_co2\u001b[1;34m()\u001b[0m\n\u001b[0;32m     36\u001b[0m plt\u001b[38;5;241m.\u001b[39mgrid(\u001b[38;5;28;01mTrue\u001b[39;00m) \u001b[38;5;66;03m# Mostrar la cuadrícula\u001b[39;00m\n\u001b[0;32m     38\u001b[0m \u001b[38;5;66;03m#nombre_archivo_barras = 'grafico_barras_2.png'\u001b[39;00m\n\u001b[0;32m     39\u001b[0m \u001b[38;5;66;03m#ruta_archivo_barras = os.path.join('C:/Users/josue/OneDrive/Escritorio/Josue/programas Python/PROYECTO_1/static' , nombre_archivo_barras)\u001b[39;00m\n\u001b[0;32m     40\u001b[0m \u001b[38;5;66;03m#plt.savefig(ruta_archivo_barras)\u001b[39;00m\n\u001b[0;32m     41\u001b[0m \u001b[38;5;66;03m#plt.close()\u001b[39;00m\n\u001b[1;32m---> 43\u001b[0m \u001b[38;5;28;01mreturn\u001b[39;00m \u001b[43mpy\u001b[49m\u001b[38;5;241;43m.\u001b[39;49m\u001b[43mplot\u001b[49m\u001b[43m(\u001b[49m\u001b[43mplt\u001b[49m\u001b[38;5;241;43m.\u001b[39;49m\u001b[43mshow\u001b[49m\u001b[43m(\u001b[49m\u001b[43m)\u001b[49m\u001b[43m)\u001b[49m\n",
      "File \u001b[1;32mc:\\Users\\josue\\AppData\\Local\\Programs\\Python\\Python312\\Lib\\site-packages\\plotly\\offline\\offline.py:568\u001b[0m, in \u001b[0;36mplot\u001b[1;34m(figure_or_data, show_link, link_text, validate, output_type, include_plotlyjs, filename, auto_open, image, image_filename, image_width, image_height, config, include_mathjax, auto_play, animation_opts)\u001b[0m\n\u001b[0;32m    565\u001b[0m config\u001b[38;5;241m.\u001b[39msetdefault(\u001b[38;5;124m\"\u001b[39m\u001b[38;5;124mshowLink\u001b[39m\u001b[38;5;124m\"\u001b[39m, show_link)\n\u001b[0;32m    566\u001b[0m config\u001b[38;5;241m.\u001b[39msetdefault(\u001b[38;5;124m\"\u001b[39m\u001b[38;5;124mlinkText\u001b[39m\u001b[38;5;124m\"\u001b[39m, link_text)\n\u001b[1;32m--> 568\u001b[0m figure \u001b[38;5;241m=\u001b[39m \u001b[43mtools\u001b[49m\u001b[38;5;241;43m.\u001b[39;49m\u001b[43mreturn_figure_from_figure_or_data\u001b[49m\u001b[43m(\u001b[49m\u001b[43mfigure_or_data\u001b[49m\u001b[43m,\u001b[49m\u001b[43m \u001b[49m\u001b[43mvalidate\u001b[49m\u001b[43m)\u001b[49m\n\u001b[0;32m    569\u001b[0m width \u001b[38;5;241m=\u001b[39m figure\u001b[38;5;241m.\u001b[39mget(\u001b[38;5;124m\"\u001b[39m\u001b[38;5;124mlayout\u001b[39m\u001b[38;5;124m\"\u001b[39m, {})\u001b[38;5;241m.\u001b[39mget(\u001b[38;5;124m\"\u001b[39m\u001b[38;5;124mwidth\u001b[39m\u001b[38;5;124m\"\u001b[39m, \u001b[38;5;124m\"\u001b[39m\u001b[38;5;124m100\u001b[39m\u001b[38;5;124m%\u001b[39m\u001b[38;5;124m\"\u001b[39m)\n\u001b[0;32m    570\u001b[0m height \u001b[38;5;241m=\u001b[39m figure\u001b[38;5;241m.\u001b[39mget(\u001b[38;5;124m\"\u001b[39m\u001b[38;5;124mlayout\u001b[39m\u001b[38;5;124m\"\u001b[39m, {})\u001b[38;5;241m.\u001b[39mget(\u001b[38;5;124m\"\u001b[39m\u001b[38;5;124mheight\u001b[39m\u001b[38;5;124m\"\u001b[39m, \u001b[38;5;124m\"\u001b[39m\u001b[38;5;124m100\u001b[39m\u001b[38;5;124m%\u001b[39m\u001b[38;5;124m\"\u001b[39m)\n",
      "File \u001b[1;32mc:\\Users\\josue\\AppData\\Local\\Programs\\Python\\Python312\\Lib\\site-packages\\plotly\\tools.py:538\u001b[0m, in \u001b[0;36mreturn_figure_from_figure_or_data\u001b[1;34m(figure_or_data, validate_figure)\u001b[0m\n\u001b[0;32m    536\u001b[0m     validated \u001b[38;5;241m=\u001b[39m \u001b[38;5;28;01mTrue\u001b[39;00m\n\u001b[0;32m    537\u001b[0m \u001b[38;5;28;01melse\u001b[39;00m:\n\u001b[1;32m--> 538\u001b[0m     \u001b[38;5;28;01mraise\u001b[39;00m exceptions\u001b[38;5;241m.\u001b[39mPlotlyError(\n\u001b[0;32m    539\u001b[0m         \u001b[38;5;124m\"\u001b[39m\u001b[38;5;124mThe `figure_or_data` positional \u001b[39m\u001b[38;5;124m\"\u001b[39m\n\u001b[0;32m    540\u001b[0m         \u001b[38;5;124m\"\u001b[39m\u001b[38;5;124margument must be \u001b[39m\u001b[38;5;124m\"\u001b[39m\n\u001b[0;32m    541\u001b[0m         \u001b[38;5;124m\"\u001b[39m\u001b[38;5;124m`dict`-like, `list`-like, or an instance of plotly.graph_objs.Figure\u001b[39m\u001b[38;5;124m\"\u001b[39m\n\u001b[0;32m    542\u001b[0m     )\n\u001b[0;32m    544\u001b[0m \u001b[38;5;28;01mif\u001b[39;00m validate_figure \u001b[38;5;129;01mand\u001b[39;00m \u001b[38;5;129;01mnot\u001b[39;00m validated:\n\u001b[0;32m    546\u001b[0m     \u001b[38;5;28;01mtry\u001b[39;00m:\n",
      "\u001b[1;31mPlotlyError\u001b[0m: The `figure_or_data` positional argument must be `dict`-like, `list`-like, or an instance of plotly.graph_objs.Figure"
     ]
    }
   ],
   "source": [
    "from Modulo_4 import origen_co2\n",
    "origen_co2()"
   ]
  }
 ],
 "metadata": {
  "kernelspec": {
   "display_name": "Python 3",
   "language": "python",
   "name": "python3"
  },
  "language_info": {
   "codemirror_mode": {
    "name": "ipython",
    "version": 3
   },
   "file_extension": ".py",
   "mimetype": "text/x-python",
   "name": "python",
   "nbconvert_exporter": "python",
   "pygments_lexer": "ipython3",
   "version": "3.12.2"
  }
 },
 "nbformat": 4,
 "nbformat_minor": 2
}
